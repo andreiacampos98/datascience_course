{
 "cells": [
  {
   "cell_type": "markdown",
   "id": "d19c1b88",
   "metadata": {},
   "source": [
    "# Building a predictive model - Part II\n",
    "\n",
    "[4. Model & Assess (Modelling and Assessment)](#1st-bullet)<br>\n",
    "- [4.1. Model Selection](#2nd-bullet)<br>\n",
    "    - [4.1.1. Compare different algorithms and select the most promising ones](#3rd-bullet)<br>\n",
    "- [4.2. Model Optimization](#4th-bullet)<br>\n",
    "    - [4.2.1. K-Nearest Neighbors](#5th-bullet)<br>\n",
    "    - [4.2.2. Decision Trees](#6th-bullet)<br>\n",
    "        - [4.2.2.1. RandomizedSearchCV](#7th-bullet)<br>\n",
    "        - [4.2.2.2. GridSearchCV](#8th-bullet)<br>\n",
    "    - [4.2.3. Select the winner model](#10th-bullet)<br>\n",
    "        - [4.2.3.1. Compare the performance](#11th-bullet)<br>\n",
    "        - [4.2.3.2. Plot a ROC Curve](#12th-bullet)<br>\n",
    "        - [4.2.3.3. Change the threshold](#13th-bullet)<br>\n",
    "        \n",
    "[5. Deploy](#14th-bullet)<br>\n",
    "- [5.1. Import your test data and apply transformations](#15th-bullet)<br>\n",
    "- [5.2. Obtain Predictions on the test data from your final model](#16th-bullet)<br>\n",
    "- [5.3. Create a Dataframe containing the index of each row and its intended prediction and export it to a csv file](#17th-bullet)<br>"
   ]
  },
  {
   "cell_type": "markdown",
   "id": "2800040f",
   "metadata": {},
   "source": [
    "<a class=\"anchor\" id=\"1st-bullet\">\n",
    "\n",
    "# 4. Model & Assess (Modelling and Assessment)\n",
    "\n",
    "</a>\n",
    "<img src=\"Images/step4.png\" style=\"height:70px\">"
   ]
  },
  {
   "cell_type": "markdown",
   "id": "4be5ef49",
   "metadata": {},
   "source": [
    "<div class=\"alert alert-block alert-success\">\n",
    "\n",
    "<a class=\"anchor\" id=\"2nd-bullet\">\n",
    "\n",
    "## 4.1. Model Selection\n",
    "    \n",
    "</div></a>\n",
    "\n",
    "__`Step 01`__ Import all the needed libraries:\n",
    "\n",
    "- MinMaxScaler from sklearn.preprocessing\n",
    "\n",
    "- LogisticRegression from sklearn.linear_model\n",
    "- KNeighborsClassifier from sklearn.neighbors\n",
    "- DecisionTreeClassifier from sklearn.tree <br><br>\n",
    "\n",
    "- f1_score from sklearn.metrics\n",
    "- roc_curve from sklearn.metrics\n",
    "- precision_recall_curve from sklearn.metrics <br><br>\n",
    "\n",
    "- StratifiedKFold from sklearn.model_selection\n",
    "- train_test_split from sklearn.model_selection\n",
    "- GridSearchCV from sklearn.model_selection\n",
    "- RandomizedSearchCV from sklearn.model_selection \n"
   ]
  },
  {
   "cell_type": "code",
   "execution_count": 25,
   "id": "0cb01fc3",
   "metadata": {},
   "outputs": [],
   "source": [
    "import pandas as pd\n",
    "import numpy as np\n",
    "import matplotlib.pyplot as plt\n",
    "import seaborn as sns\n",
    "import warnings\n",
    "warnings.filterwarnings('ignore')\n",
    "\n",
    "############################################## PREPROCESSING ##############################################\n",
    "from sklearn.preprocessing import MinMaxScaler\n",
    "\n",
    "################################################# MODELS ##################################################\n",
    "from sklearn.linear_model import LogisticRegression\n",
    "from sklearn.neighbors import KNeighborsClassifier\n",
    "from sklearn.tree import DecisionTreeClassifier\n",
    "from sklearn.neural_network import MLPClassifier\n",
    "\n",
    "################################################# METRICS #################################################\n",
    "from sklearn.metrics import f1_score\n",
    "from sklearn.metrics import roc_curve\n",
    "from sklearn.metrics import precision_recall_curve\n",
    "\n",
    "################################### MODEL SELECTION & OPTIMIZATION ########################################\n",
    "from sklearn.model_selection import StratifiedKFold\n",
    "from sklearn.model_selection import train_test_split\n",
    "from sklearn.model_selection import GridSearchCV\n",
    "from sklearn.model_selection import RandomizedSearchCV"
   ]
  },
  {
   "cell_type": "markdown",
   "id": "5cedfd48",
   "metadata": {},
   "source": [
    "__`Step 02`__ From the feature selection steps on the previous class, we obtained two different data sets, one called `keep_data` and another named as `all_data`. Import those data sets."
   ]
  },
  {
   "cell_type": "code",
   "execution_count": 3,
   "id": "6ad5c51c",
   "metadata": {},
   "outputs": [],
   "source": [
    "keep_data = pd.read_csv(r'Data/keep_data.csv', index_col=0)\n",
    "X_keep_data = keep_data.iloc[:,:-1]\n",
    "y_keep_data = keep_data.iloc[:,-1]\n",
    "\n",
    "X, X_test, y, y_test = train_test_split(X_keep_data, y_keep_data, \n",
    "                                        train_size = 0.9, \n",
    "                                        random_state = 99, \n",
    "                                        stratify = y_keep_data)\n",
    "keep_data = pd.concat([X, y], axis=1)"
   ]
  },
  {
   "cell_type": "code",
   "execution_count": 6,
   "id": "3685ca0c",
   "metadata": {},
   "outputs": [],
   "source": [
    "all_data = pd.read_csv(r'Data/all_data.csv', index_col=0)\n",
    "X_all_data = all_data.iloc[:,:-1]\n",
    "y_all_data = all_data.iloc[:,-1]\n",
    "X, X_test, y, y_test = train_test_split(X_all_data, y_all_data,           \n",
    "                                        train_size = 0.9, \n",
    "                                        random_state = 99, \n",
    "                                        stratify = y_all_data)\n",
    "all_data = pd.concat([X, y], axis=1)"
   ]
  },
  {
   "cell_type": "markdown",
   "id": "a1547827",
   "metadata": {},
   "source": [
    "At this point, we have two data sets to test:\n",
    "- `keep_data`- This dataset is composed by the most important variables defined by the feature selection techniques applied previously. It is composed by: <br><br>\n",
    "    - Mnt, Clothes, NetPurchase, Marital_status, DepVar<br><br>\n",
    "- `all_data` - This dataset is composed by the most important variables defined by the feature selection techniques applied previously, but also with the variables that we are in doubt to use. It is composed by:<br><br>\n",
    "    - Mnt, Clothes, NetPurchase, Marital_status, Rcn, SmallAppliances, Recomendation, DepVar"
   ]
  },
  {
   "cell_type": "markdown",
   "id": "2de1fad0",
   "metadata": {},
   "source": [
    "__NOTE ABOUT PREPROCESSING:__ <br>\n",
    "Concerning the variable `Marital_Status`:\n",
    "- It has misclassifications\n",
    "- It has missing values\n",
    "- Is a categorical variable and we need to convert it to a numerical one\n",
    "\n",
    "Furthermore, the models we are going to apply (except decision trees) are sensible to scaling issues. We need to scale our data accordingly."
   ]
  },
  {
   "cell_type": "markdown",
   "id": "8329f9a7",
   "metadata": {},
   "source": [
    "__`Step 03`__ Create a function called `transform_data` that will receive one or two datasets and make the following changes in the categorical data:\n",
    "\n",
    "In the training data:\n",
    "- Fill missing data in Marital_status with the mode from the training data\n",
    "- Replace 'BigConfusion' to the most frequent value from the training data\n",
    "- Replace 'Together' to 'Married'\n",
    "- Create dummies on your data set, and drop one possible column (for example 'Marital_Status_widow')\n",
    "\n",
    "If you have a second data set (validation or test):\n",
    "- Fill missing data in your second data set in Marital_Status with the mode from the training data\n",
    "- Replace 'BigConfusion' in your second data set to the most frequent value on the training data\n",
    "- Replace 'Together' to 'Married'\n",
    "- Create dummies on your data set, and drop the same column that you dropped on the training data set.\n",
    "\n",
    "__NOTE ABOUT USING DUMMIES WITH pandas.dummies__ <br>\n",
    "When you are creating dummies in your data, it is possible that one class appears on your training data, but not on your second data set (or on the other way around).\n",
    "Take as example:\n",
    "- In your training data, you have a column named 'Animals' with the possible values 'Cat','Dog','Turtle','Goat'. When applying dummies, you are going to create 4 new columns and you should drop one of those to avoid multicollinearity, like for example 'Turtle'.\n",
    "- In your second data set, you have also a column named 'Animals', but this time with the possible values 'Cat','Dog','Turtle'. When applying dummies, you are just going to create 3 new columns and remove 'Turtle'. In this data set, you are not going to have a column named as 'Goat', and this is going to generate an error.\n",
    "\n",
    "One possible way to solve this is to understand wich columns are different from your training data and your second data set. All the columns that are missing are going to be created and filled with zeros. Then, you just need to ensure that the order of the columns is the same in both data sets.\n"
   ]
  },
  {
   "cell_type": "code",
   "execution_count": 11,
   "id": "fff4b72c",
   "metadata": {},
   "outputs": [],
   "source": [
    "def transform_data(X_train, X_2nd_df = False, X_2nd_df_flag = False):\n",
    "    \n",
    "    ####################################### FILL MISSING DATA #################################################\n",
    "    # Fill missing values (mode in categorical data)\n",
    "    X_train['Marital_Status'].fillna(X_train['Marital_Status'].mode(), inplace = True)\n",
    "    \n",
    "    #################################### CORRECT MISCLASSIFICAIONS ############################################\n",
    "    # Correct misclassifications in the Marital Status in training data\n",
    "    X_train['Marital_Status'] = X_train['Marital_Status'].replace('BigConfusion',X_train['Marital_Status'].mode()[0])\n",
    "    X_train['Marital_Status'] = X_train['Marital_Status'].replace('Together','Married')\n",
    "    \n",
    "    ########################################## CREATE DUMMIES #################################################    \n",
    "    # Create dummies and remove one of the variables (to avoid multicollinearity)\n",
    "    X_train_dummies = pd.get_dummies(X_train)\n",
    "    X_train_dummies.drop('Marital_Status_Widow', axis = 1, inplace = True)\n",
    "   \n",
    "    ############################################ SCALE DATA ###################################################    \n",
    "    scaler = MinMaxScaler().fit(X_train_dummies)\n",
    "    X_train_scaled = scaler.transform(X_train_dummies)\n",
    "    X_train_scaled = pd.DataFrame(X_train_scaled , columns = X_train_dummies.columns)\n",
    "    \n",
    "    if X_2nd_df_flag == True:\n",
    "        ####################################### FILL MISSING DATA ############################################# \n",
    "        # Now we fill the missing values in validation data set, using the information available in train\n",
    "        X_2nd_df['Marital_Status'].fillna(X_train['Marital_Status'].mode(), inplace = True)\n",
    "        \n",
    "        #################################### CORRECT MISCLASSIFICAIONS ########################################\n",
    "        # Correct misclassifications in the Marital Status in validation data\n",
    "        X_2nd_df['Marital_Status'] = X_2nd_df['Marital_Status'].replace('BigConfusion',X_train['Marital_Status'].mode()[0])\n",
    "        X_2nd_df['Marital_Status'] = X_2nd_df['Marital_Status'].replace('Together','Married')\n",
    "        \n",
    "        ########################################## CREATE DUMMIES #############################################\n",
    "        X_2nd_df_dummies = pd.get_dummies(X_2nd_df)\n",
    "        X_2nd_df_dummies.drop('Marital_Status_Widow', axis = 1, inplace = True)\n",
    "        \n",
    "        # If we don't have all the values in the validation dataset that we have in the train, that column will not be created\n",
    "        # We should assure that all columns in train are also present in validation\n",
    "        # Get missing columns from the training dataset\n",
    "        missing_cols = set(X_train_dummies.columns ) - set(X_2nd_df_dummies.columns )\n",
    "        # Add a missing column in test set with default value equal to 0\n",
    "        for c in missing_cols:\n",
    "            X_2nd_df_dummies[c] = 0\n",
    "        # Ensure the order of column in the test set is in the same order than in train set\n",
    "        X_2nd_df_dummies = X_2nd_df_dummies[X_train_dummies.columns]\n",
    "        \n",
    "        if 'DepVar' in X_2nd_df_dummies.columns:\n",
    "            X_2nd_df_dummies.drop(['DepVar'], axis=1, inplace=True)\n",
    "        else:\n",
    "            pass\n",
    "        \n",
    "        ############################################ SCALE DATA ###################################################    \n",
    "        X_2nd_df_scaled = scaler.transform(X_2nd_df_dummies) # Scaling with 'scaler' from train data\n",
    "        X_2nd_df_scaled = pd.DataFrame(X_2nd_df_scaled , columns = X_2nd_df_dummies.columns, index = X_2nd_df_dummies.index )\n",
    "        \n",
    "   \n",
    "    if X_2nd_df_flag == False:\n",
    "        return X_train_scaled\n",
    "    else:\n",
    "        return X_train_scaled, X_2nd_df_scaled"
   ]
  },
  {
   "cell_type": "markdown",
   "id": "b88bf7cb",
   "metadata": {},
   "source": [
    "__`Step 04`__ Create a function named as `select_best_models` that will receive as arguments your data set and an instance of a model and:\n",
    "- Create an instance of StratifiedKFold with 5 splits, `random_state = 99` and `shuffle = True` named as `skf`.\n",
    "- Define as `X` your independent variables and `y`your target.\n",
    "- Create two empty lists named as `score_train` and `score_val` that will receive the performances of the model for train and for validation.\n",
    "\n",
    "- Inside the loop of the StratifiedKFold:\n",
    "    - Create the dataframes that will correspond to your training data and your validation data at each iteration.\n",
    "    - Call the function defined previously named `transform_data` to do all the needed changes on the data.\n",
    "    - Fit your model to the training data.\n",
    "    - Obtain the predictions of your model in the training data and save those in an object named as `predictions_train`\n",
    "    - Obtain the predictions of your model in the validation data and save those in an object named as `predictions_val`\n",
    "    - Append to the list `score_train` the f1-score obtained in your training data set.\n",
    "    - Append to the list `score_val` the f1-score obtained in your validation data set.\n",
    "\n",
    "- After all the iterations on the StratifiedKFold:\n",
    "    - Calculate the mean and the standard deviation of the performance of the models in the training data.\n",
    "    - Calculate the mean and the standard deviation of the performance of the models in the validation data.\n",
    "\n",
    "- Return those results.\n",
    "\n"
   ]
  },
  {
   "cell_type": "code",
   "execution_count": 14,
   "id": "ce6da061",
   "metadata": {},
   "outputs": [],
   "source": [
    "def select_best_models(data, model):\n",
    "    skf = StratifiedKFold(n_splits = 5, random_state = 99, shuffle = True)\n",
    "    X = data.drop('DepVar', axis = 1)\n",
    "    y = data['DepVar'].copy()\n",
    "    score_train, score_val = [],[]\n",
    "        \n",
    "    # perform the cross-validation    \n",
    "    for train_index, val_index in skf.split(X,y):\n",
    "        X_train, X_val = X.iloc[train_index], X.iloc[val_index]\n",
    "        y_train, y_val = y.iloc[train_index], y.iloc[val_index]\n",
    "        \n",
    "        # Change categorical data - call function \"transform_data\"\n",
    "        X_train, X_val = transform_data(X_train, X_val, X_2nd_df_flag = True)\n",
    "        \n",
    "        # Apply model\n",
    "        model.fit(X_train, y_train)\n",
    "        predictions_train = model.predict(X_train)\n",
    "        predictions_val = model.predict(X_val)\n",
    "        score_train.append(f1_score(y_train, predictions_train))\n",
    "        score_val.append(f1_score(y_val, predictions_val))\n",
    "\n",
    "    avg_train = round(np.mean(score_train),3)\n",
    "    avg_val = round(np.mean(score_val),3)\n",
    "    std_train = round(np.std(score_train),2)\n",
    "    std_val = round(np.std(score_val),2)\n",
    "\n",
    "    return avg_train, std_train, avg_val, std_val"
   ]
  },
  {
   "cell_type": "markdown",
   "id": "eb62f9ba",
   "metadata": {},
   "source": [
    "__`Step 05`__ Create a function called `show_results` that will receive as arguments:\n",
    "- A dataframe to be filled with the results\n",
    "- Your data set\n",
    "- One or more instances of models.\n",
    "\n",
    "Inside this function, you are going to create a loop where for each model you receive as argument:\n",
    "- you are going to obtain the average and the standard deviation of the performance in train and in validation by calling the function `select_best models`, passing as arguments your data and the instance of your model.\n",
    "- Fill the dataframe with those values."
   ]
  },
  {
   "cell_type": "code",
   "execution_count": 17,
   "id": "6b48cc4f",
   "metadata": {},
   "outputs": [],
   "source": [
    "def show_results(df, data, *args):\n",
    "    count = 0\n",
    "    # for each instance of model passed as argument\n",
    "    for arg in args:\n",
    "        avg_train, std_train, avg_val, std_val = select_best_models(data, arg)\n",
    "        # store the results in the right row\n",
    "        df.iloc[count] = str(avg_train) + '+/-' + str(std_train), str(avg_val) + '+/-' + str(std_val)\n",
    "        count+=1\n",
    "    return df"
   ]
  },
  {
   "cell_type": "markdown",
   "id": "f610eae6",
   "metadata": {},
   "source": [
    "<a class=\"anchor\" id=\"3rd-bullet\">\n",
    "\n",
    "<div class=\"alert alert-block alert-warning\">\n",
    "\n",
    "### 4.1.1. Compare different algorithms and select the most promising ones  \n",
    "    \n",
    "</div></a>\n",
    "\n",
    "\n",
    "__`Step 06`__ The first thing we are going to do is to compare the performance of different algorithms with the default parameters. The only exceptions on the hyperparameters are:\n",
    "- The decision tree will be tested with max_depth = 3 <br>\n",
    "        - __*Why?*__ Decision Trees by default are going to grow until full depth on the training data set. This will lead to situations of overfitting. <br>\n",
    "         \n",
    "- __`Step 6.1.`__ Create an instance of a LogisticRegression named as `model_LR`\n",
    "- __`Step 6.2.`__ Create an instance of a KNeighborsClassifier named as `model_KNN`\n",
    "- __`Step 6.3.`__ Create an instance of a DecisionTreeClassifier named as `model_DT`. Define `max_depth = 3` and `random_state = 99`\n"
   ]
  },
  {
   "cell_type": "code",
   "execution_count": 131,
   "id": "b9987ee3",
   "metadata": {},
   "outputs": [],
   "source": [
    "model_LR = LogisticRegression()\n",
    "model_KNN = KNeighborsClassifier()\n",
    "model_DT = DecisionTreeClassifier(max_depth = 3, random_state = 99)"
   ]
  },
  {
   "cell_type": "markdown",
   "id": "bef63c86",
   "metadata": {},
   "source": [
    "__`Step 07`__ Create a Dataframe with the columns `['Train', 'Validation]` and the index `['Logistic Regression','KNN','DT']` named as `df_all`."
   ]
  },
  {
   "cell_type": "code",
   "execution_count": 134,
   "id": "7f8f7676",
   "metadata": {},
   "outputs": [],
   "source": [
    "df_all = pd.DataFrame(columns = ['Train','Validation'], index = ['Logistic Regression','KNN','DT'])"
   ]
  },
  {
   "cell_type": "markdown",
   "id": "f4056fcb",
   "metadata": {},
   "source": [
    "__`Step 08`__ Call the function `show_results` and pass as arguments:\n",
    "- The dataframe `df_all` - This will store the results from the different models;\n",
    "- The data set `all_data`- This is the data we are going to use to train and validate the different models;\n",
    "- The models `model_LR`, `model_KNN` and `model_DT`."
   ]
  },
  {
   "cell_type": "code",
   "execution_count": 137,
   "id": "c34e4acf",
   "metadata": {},
   "outputs": [
    {
     "data": {
      "text/html": [
       "<div>\n",
       "<style scoped>\n",
       "    .dataframe tbody tr th:only-of-type {\n",
       "        vertical-align: middle;\n",
       "    }\n",
       "\n",
       "    .dataframe tbody tr th {\n",
       "        vertical-align: top;\n",
       "    }\n",
       "\n",
       "    .dataframe thead th {\n",
       "        text-align: right;\n",
       "    }\n",
       "</style>\n",
       "<table border=\"1\" class=\"dataframe\">\n",
       "  <thead>\n",
       "    <tr style=\"text-align: right;\">\n",
       "      <th></th>\n",
       "      <th>Train</th>\n",
       "      <th>Validation</th>\n",
       "    </tr>\n",
       "  </thead>\n",
       "  <tbody>\n",
       "    <tr>\n",
       "      <th>Logistic Regression</th>\n",
       "      <td>0.228+/-0.03</td>\n",
       "      <td>0.213+/-0.06</td>\n",
       "    </tr>\n",
       "    <tr>\n",
       "      <th>KNN</th>\n",
       "      <td>0.412+/-0.03</td>\n",
       "      <td>0.296+/-0.05</td>\n",
       "    </tr>\n",
       "    <tr>\n",
       "      <th>DT</th>\n",
       "      <td>0.359+/-0.05</td>\n",
       "      <td>0.313+/-0.09</td>\n",
       "    </tr>\n",
       "  </tbody>\n",
       "</table>\n",
       "</div>"
      ],
      "text/plain": [
       "                            Train    Validation\n",
       "Logistic Regression  0.228+/-0.03  0.213+/-0.06\n",
       "KNN                  0.412+/-0.03  0.296+/-0.05\n",
       "DT                   0.359+/-0.05  0.313+/-0.09"
      ]
     },
     "execution_count": 137,
     "metadata": {},
     "output_type": "execute_result"
    }
   ],
   "source": [
    "show_results(df_all, all_data, model_LR, model_KNN, model_DT)"
   ]
  },
  {
   "cell_type": "markdown",
   "id": "f6ebbd29",
   "metadata": {},
   "source": [
    "__`Step 09`__ Similarly to what you have done on Step 07, now create a Dataframe called `df_keep`. "
   ]
  },
  {
   "cell_type": "code",
   "execution_count": 140,
   "id": "2154bc34",
   "metadata": {},
   "outputs": [],
   "source": [
    "df_keep = pd.DataFrame(columns = ['Train','Validation'], index = ['Logistic Regression','KNN','DT'])"
   ]
  },
  {
   "cell_type": "markdown",
   "id": "6a813103",
   "metadata": {},
   "source": [
    "__`Step 10`__ Call the function `show_results` and pass as arguments:\n",
    "- The dataframe `df_keep` - This will store the results from the different models;\n",
    "- The data set `keep_data`- This is the data we are going to use to train and validate the different models;\n",
    "- The models `model_LR`, `model_KNN` and `model_DT`."
   ]
  },
  {
   "cell_type": "code",
   "execution_count": 143,
   "id": "34b89924",
   "metadata": {},
   "outputs": [
    {
     "data": {
      "text/html": [
       "<div>\n",
       "<style scoped>\n",
       "    .dataframe tbody tr th:only-of-type {\n",
       "        vertical-align: middle;\n",
       "    }\n",
       "\n",
       "    .dataframe tbody tr th {\n",
       "        vertical-align: top;\n",
       "    }\n",
       "\n",
       "    .dataframe thead th {\n",
       "        text-align: right;\n",
       "    }\n",
       "</style>\n",
       "<table border=\"1\" class=\"dataframe\">\n",
       "  <thead>\n",
       "    <tr style=\"text-align: right;\">\n",
       "      <th></th>\n",
       "      <th>Train</th>\n",
       "      <th>Validation</th>\n",
       "    </tr>\n",
       "  </thead>\n",
       "  <tbody>\n",
       "    <tr>\n",
       "      <th>Logistic Regression</th>\n",
       "      <td>0.225+/-0.02</td>\n",
       "      <td>0.222+/-0.08</td>\n",
       "    </tr>\n",
       "    <tr>\n",
       "      <th>KNN</th>\n",
       "      <td>0.434+/-0.04</td>\n",
       "      <td>0.3+/-0.03</td>\n",
       "    </tr>\n",
       "    <tr>\n",
       "      <th>DT</th>\n",
       "      <td>0.381+/-0.02</td>\n",
       "      <td>0.351+/-0.03</td>\n",
       "    </tr>\n",
       "  </tbody>\n",
       "</table>\n",
       "</div>"
      ],
      "text/plain": [
       "                            Train    Validation\n",
       "Logistic Regression  0.225+/-0.02  0.222+/-0.08\n",
       "KNN                  0.434+/-0.04    0.3+/-0.03\n",
       "DT                   0.381+/-0.02  0.351+/-0.03"
      ]
     },
     "execution_count": 143,
     "metadata": {},
     "output_type": "execute_result"
    }
   ],
   "source": [
    "show_results(df_keep, keep_data, model_LR, model_KNN, model_DT)"
   ]
  },
  {
   "cell_type": "markdown",
   "id": "8ec1e12f",
   "metadata": {},
   "source": [
    "__CONCLUSION:__\n",
    "- By comparing the results when using the dataset `all_data` and `keep_data`, it seems that the last one leads to better results on validation data set, except on the KNN. <br><br>\n",
    "- The __best models__ in validation are, in descending order:\n",
    "    - Decision Tree, with an f1-score of 0.351\n",
    "    - K-Nearest Neighbors, with an f1-score of 0.3\n",
    "    - Logistic Regression, with an f1-score of 0.222\n",
    "    <br><br>\n",
    "    \n",
    "- Considering __overfitting__:\n",
    "    - K-Nearest Neighbors is the model with more overfitting, with a difference between train and validation of around 0.134;\n",
    "    - Decision Tree has a difference between train and validation of around 0.03;\n",
    "    - Logistic Regression is the model that suffers less from overfitting, with a difference between train and validation of around 0.003;\n",
    "\n",
    "    \n",
    "Decision Trees seems to be the most promising model, followed by K-Nearest Neighbors.\n",
    "    \n",
    "Usually in this phase, after testing several algorithms, we choose the most promising ones and try to optimize them, in order to select the winner model. <br>\n",
    "\n",
    "As so, we are going to reject at this point the Logistic Regression and try to improve the remaining ones."
   ]
  },
  {
   "cell_type": "markdown",
   "id": "89421085",
   "metadata": {},
   "source": [
    "<div class=\"alert alert-block alert-success\">\n",
    "\n",
    "<a class=\"anchor\" id=\"4th-bullet\">\n",
    "\n",
    "## 4.2. Model Optimization\n",
    "    \n",
    "</div></a>\n",
    "\n",
    "After selecting the best algorithm (set of algorithms), you can try to optimize the performance of your model by fiddling with the algorithms' hyper-parameters and select the options that result on the best overall performance.\n",
    "\n",
    "Possible ways of doing this can be through:\n",
    "1. Manual optimization\n",
    "2. [GridSearch](https://scikit-learn.org/stable/modules/generated/sklearn.model_selection.GridSearchCV.html)\n",
    "3. [RandomSearch](https://scikit-learn.org/stable/modules/generated/sklearn.model_selection.RandomizedSearchCV.html)\n"
   ]
  },
  {
   "cell_type": "markdown",
   "id": "b6b73e9c",
   "metadata": {},
   "source": [
    "We are going to compare the f1-score for different algorithms with different hyperparameters in train and validation dataset. We can use a pointplot from seaborn to plot the results. <br>\n",
    "\n",
    "__`Step 11`__ Create a function called `point_plot` that receives as arguments: <br>\n",
    "- The results from the training data (`train`)<br>\n",
    "- The results from the validation data (`validation`)<br>\n",
    "- A list of the different values tested as hyperparameters (`values_try`). <br> <br>\n",
    "    \n",
    "Inside the function, we are going to create two pointplots (`sns.pointplot`):<br>\n",
    "- One where the x axis will be equal to the `values_try`, the y will represent the training results, the `color = teal` and the `label = Train`.<br>\n",
    "- One where the x axis will be equal to the `values_try`, the y will represent the validation results, the `color = goldenrod` and the `label = Validation`.<br>\n",
    "- Call the command plt.legend() to add a legend to the plot.\n",
    "    "
   ]
  },
  {
   "cell_type": "code",
   "execution_count": 49,
   "id": "9dc0a67b",
   "metadata": {},
   "outputs": [],
   "source": [
    "def point_plot(train, validation, values_try):\n",
    "    sns.pointplot(x=values_try, y=train, color = 'teal', label = 'Train')\n",
    "    sns.pointplot(x=values_try, y=validation, color = 'goldenrod', label = 'Validation')\n",
    "    plt.legend()"
   ]
  },
  {
   "cell_type": "markdown",
   "id": "d71030d1",
   "metadata": {},
   "source": [
    "<div class=\"alert alert-block alert-info\">\n",
    "    \n",
    "<a class=\"anchor\" id=\"5th-bullet\">\n",
    "\n",
    "### 4.2.1. K-Nearest Neighbor\n",
    "    \n",
    "</a>\n",
    "    \n",
    "<b>class sklearn.neighbors.KNeighborsClassifier</b>(n_neighbors=5, *, weights='uniform', algorithm='auto', leaf_size=30, p=2, metric='minkowski', metric_params=None, n_jobs=None)\n",
    "</div>"
   ]
  },
  {
   "cell_type": "markdown",
   "id": "80b3af4f",
   "metadata": {},
   "source": [
    "In K-Nearest Neighbor, the hyperparameter `n_neighbors` define the number of neighbors to take into consideration. \n",
    "Having a small value of neighbors in k-nearest neighbors (KNN) algorithm typically leads to overfitting and using a large value of k in KNN tends to result in smoother decision boundaries and can lead to underfitting.\n",
    "\n",
    "__`Step 12`__ Create a function called `get_models_knn` that receives as parameters the data set you want to use and a list of values of different number of neighbors. <br>\n",
    "Inside this function you will:\n",
    "- create an empty dictionary called `models` that will receive several instances of models.\n",
    "- create two empty lists: `results_train` and `results_val`\n",
    "\n",
    "For each value of neighbors:\n",
    "- Create an instance of a KNeighborsClassifier with `n_neighbors = value`. This will be an element on the dictionary, where the key is the name of the model and the value is the instance itself.\n",
    "\n",
    "For each entry / instance of model you have in your dictionary:\n",
    "- run the function select_best_models and get the average value of the performance for train, validation, and the name of the model."
   ]
  },
  {
   "cell_type": "code",
   "execution_count": 101,
   "id": "30dc6d25",
   "metadata": {},
   "outputs": [],
   "source": [
    "def get_models_knn(data, values):\n",
    "    models = dict()\n",
    "    results_train, results_val = [],[]\n",
    "    \n",
    "    # create the instances of each model with different values\n",
    "    for value in values:\n",
    "        models['neighbors_' + str(value)] = KNeighborsClassifier(n_neighbors = value)\n",
    "        \n",
    "    for i, model in models.items():\n",
    "        avg_train, std_train, avg_val, std_val = select_best_models(data, model)\n",
    "        results_train.append(avg_train)\n",
    "        results_val.append(avg_val)\n",
    "\n",
    "    print(results_train)\n",
    "    print(results_val)\n",
    "        \n",
    "        \n",
    "    return results_train, results_val"
   ]
  },
  {
   "cell_type": "markdown",
   "id": "93de10e0",
   "metadata": {},
   "source": [
    "__`Step 13`__ In this step:\n",
    "- Define a list of number of neighbors to test, namely [1,3,5,7,9,11]. \n",
    "- Call the function previously defined `get_models_knn` passing as arguments your data set and the list of neighbors.\n",
    "- Call the function `point_plot`passing as arguments the results of the training data set, the results of the validation data set and the values of neighbors that you try."
   ]
  },
  {
   "cell_type": "code",
   "execution_count": 104,
   "id": "d64d5a34",
   "metadata": {},
   "outputs": [
    {
     "name": "stdout",
     "output_type": "stream",
     "text": [
      "[1.0, 0.54, 0.434, 0.348, 0.289, 0.228]\n",
      "[0.342, 0.354, 0.3, 0.23, 0.257, 0.154]\n"
     ]
    },
    {
     "data": {
      "image/png": "[encoded data removed]",
      "text/plain": [
       "<Figure size 640x480 with 1 Axes>"
      ]
     },
     "metadata": {},
     "output_type": "display_data"
    }
   ],
   "source": [
    "values_try = [1,3,5,7,9,11]\n",
    "results_train, results_val = get_models_knn(keep_data, values_try)\n",
    "point_plot(results_train, results_val, values_try)"
   ]
  },
  {
   "cell_type": "markdown",
   "id": "376c89af",
   "metadata": {},
   "source": [
    "__CONCLUSION__: <br>\n",
    "It seems that the best value of number of neighbors to keep is 5 neighbors."
   ]
  },
  {
   "cell_type": "markdown",
   "id": "9a4308c4",
   "metadata": {},
   "source": [
    "__`Step 14`__ - Create an instance of the model chosen for the algorithm KNN named as `final_model_knn`."
   ]
  },
  {
   "cell_type": "code",
   "execution_count": 110,
   "id": "035d4851",
   "metadata": {},
   "outputs": [],
   "source": [
    "final_model_knn = KNeighborsClassifier(n_neighbors = 5)"
   ]
  },
  {
   "cell_type": "markdown",
   "id": "644013d7",
   "metadata": {},
   "source": [
    "__OTHER IMPORTANT HYPERPARAMETERS:__\n",
    "\n",
    "|Parameter| Definition | Options | Default | \n",
    "|---|---|---|---|\n",
    "| weights| Weight function used in prediction. | Uniform, Distance | Uniform |\n",
    "| algorithm | Algorithm used to compute the nearest neighbors. | ball_tree, kd_tree, brute, auto | auto |\n",
    "| metric | Metric to use for distance computation. | Callable | Euclidean Distance |"
   ]
  },
  {
   "attachments": {},
   "cell_type": "markdown",
   "id": "a61f39ed-47bf-4cfc-a754-8a6f68798be5",
   "metadata": {},
   "source": [
    "<div class=\"alert alert-block alert-info\">\n",
    "    \n",
    "<a class=\"anchor\" id=\"6th-bullet\">\n",
    "\n",
    "### 4.2.2. Decision Tree\n",
    "\n",
    "<a class=\"anchor\" id=\"7th-bullet\">"
   ]
  },
  {
   "cell_type": "markdown",
   "id": "292d0e00-b546-477a-a29d-c2fcf5d9a281",
   "metadata": {},
   "source": [
    "\n",
    "#### 4.2.2.1 RandomSearch\n",
    "    \n",
    "</a>\n",
    "\n",
    "RandomizedSearchCV is a function provided by Scikit-learn (sklearn) that is used for hyperparameter tuning. While GridSearchCV exhaustively explores all possible combinations of hyperparameters, RandomizedSearchCV randomly samples a specified number of combinations from the parameter grid.\n",
    "\n",
    "The random sampling of parameter combinations makes RandomizedSearchCV more efficient than GridSearchCV for large hyperparameter spaces.\n",
    "\n",
    "Similar to GridSearchCV, RandomizedSearchCV returns the best set of hyperparameters based on a specified performance metric. The best hyperparameters can then be used to train a final model on the full dataset for making predictions.\n",
    "\n",
    "__NOTE:__ RandomizedSearch do the process of cross validation inside the method itself. In this way, we are going to use the full data set and do all the needed changes and transformations on the data before applying the RandomizedSearch."
   ]
  },
  {
   "cell_type": "markdown",
   "id": "9972cd37",
   "metadata": {},
   "source": [
    "__`Step 15`__ Create a copy of keep_data named as `data` and define the independent variables as `X_data` and the target as `y_data`. Transform the data as needed by calling the function `transform_data`. "
   ]
  },
  {
   "cell_type": "code",
   "execution_count": 147,
   "id": "cae482b7",
   "metadata": {},
   "outputs": [],
   "source": [
    "data = keep_data.copy()\n",
    "\n",
    "X_data = data.drop(['DepVar'], axis = 1)\n",
    "y_data = data['DepVar'].copy()\n",
    "\n",
    "X_data = transform_data(X_train = X_data, X_2nd_df_flag = False)"
   ]
  },
  {
   "cell_type": "markdown",
   "id": "011607b9",
   "metadata": {},
   "source": [
    "__`Step 16`__ Create an instance of DecisionTreeClassifier named as `dr` with `max_depth = 2`."
   ]
  },
  {
   "cell_type": "code",
   "execution_count": 150,
   "id": "0cc7c089",
   "metadata": {},
   "outputs": [],
   "source": [
    "dt = DecisionTreeClassifier(max_depth = 3, random_state = 99)"
   ]
  },
  {
   "cell_type": "markdown",
   "id": "28c8a6d9",
   "metadata": {},
   "source": [
    "__IMPORTANT HYPERPARAMETERS:__\n",
    "\n",
    "|Parameter| Definition | Options | Default |\n",
    "|---|---|---|---|\n",
    "| criterion| The function to measure the quality of a split. | gini, entropy, log_loss | gini |\n",
    "| max_depth| The maximum depth of the tree. . |  _int_ or _float_ | None |\n",
    "| min_samples_split | The minimum number of samples required to split an internal node. | _int_ or _float_ | 2 |\n",
    "| min_samples_leaf | The minimum number of samples required to be at a leaf node.  | _int_ or _float_ | 1 |\n",
    "| max_leaf_nodes | The maximum number of leafs the tree can have.   | _int_ | None |\n",
    "| min_impurity_decrease | A node will be split if it induces a decrease of the impurity greater than or equal to this value. | _float_ | 0.0 |\n",
    "| splitter | The strategy used to choose the split at each node. If random,  the algorithm selects a random subset of features and finds the best split among them. | _best_ or _random_ | _best_|\n",
    "| max_features | The number of features to consider when looking for the best split. | _int_, _float_, _sqrt_, ... | None |01 |"
   ]
  },
  {
   "cell_type": "markdown",
   "id": "d93a73d8",
   "metadata": {},
   "source": [
    "__`Step 17`__ Define a dictionary named as __parameter_space_random__ and define the following options to be considered during modelling:\n",
    "- 'criterion': ['gini', 'entropy'],\n",
    "- 'max_depth': [2, 3, 4, 5],\n",
    "- 'min_samples_split': [2, 4, 6, 8, 10],"
   ]
  },
  {
   "cell_type": "code",
   "execution_count": 152,
   "id": "ddb74c8d",
   "metadata": {},
   "outputs": [],
   "source": [
    "parameter_space_random  = {\n",
    "    'criterion': ['gini', 'entropy'],\n",
    "    'max_depth': [2, 3, 4, 5],\n",
    "    'min_samples_split': [2, 4, 6, 8, 10],\n",
    "}"
   ]
  },
  {
   "cell_type": "markdown",
   "id": "0c84d155",
   "metadata": {},
   "source": [
    "__`Step 18`__ Create an instance of RandomizedSearchCV named as __random_search__ and pass as parameters the model __nn__, the __parameter_space_random__, define `scoring = f1`, `cv = 5` and `random_state = 42`."
   ]
  },
  {
   "cell_type": "code",
   "execution_count": 155,
   "id": "dbc0f545",
   "metadata": {},
   "outputs": [],
   "source": [
    "random_search = RandomizedSearchCV(dt, param_distributions=parameter_space_random, \n",
    "                                   scoring = 'f1', cv=5, random_state = 42)"
   ]
  },
  {
   "cell_type": "markdown",
   "id": "51a75b9c",
   "metadata": {},
   "source": [
    "__`Step 19`__ Fit your instance to __X_data__ and __y_data__. <br>\n",
    "Call the attribute __best_params___ to check which is the best combination of parameters<br>\n",
    "Call the attribute __best_score___ to obtain the mean cross-validated score of the best_estimator."
   ]
  },
  {
   "cell_type": "code",
   "execution_count": 158,
   "id": "81d19a24",
   "metadata": {},
   "outputs": [
    {
     "name": "stdout",
     "output_type": "stream",
     "text": [
      "Best Hyperparameters:  {'min_samples_split': 4, 'max_depth': 3, 'criterion': 'gini'}\n",
      "Best Score:  0.3436489277985441\n"
     ]
    }
   ],
   "source": [
    "random_search.fit(X_data, y_data)\n",
    "\n",
    "# Print the best hyperparameters and corresponding score\n",
    "print(\"Best Hyperparameters: \", random_search.best_params_)\n",
    "print(\"Best Score: \", random_search.best_score_)"
   ]
  },
  {
   "cell_type": "markdown",
   "id": "8174b83c",
   "metadata": {},
   "source": [
    "<a class=\"anchor\" id=\"8th-bullet\">\n",
    "\n",
    "#### 4.2.2.2. GridSearch\n",
    "    \n",
    "</a>"
   ]
  },
  {
   "cell_type": "code",
   "execution_count": 84,
   "id": "92e7dd29",
   "metadata": {},
   "outputs": [],
   "source": [
    "parameter_space_grid = {\n",
    "    'criterion': ['gini', 'entropy'],\n",
    "    'max_depth': [2, 3, 4, 5],\n",
    "    'min_samples_split': [2, 4, 6, 8, 10],\n",
    "}"
   ]
  },
  {
   "cell_type": "markdown",
   "id": "f66db126",
   "metadata": {},
   "source": [
    "__`Step 20`__ Create an instance of GridSearchCV named as __grid_search__ and pass as parameters the model __nn__, the __parameter_space_grid__, define `scoring = f1` and `cv = 5`."
   ]
  },
  {
   "cell_type": "code",
   "execution_count": 87,
   "id": "fc0872ee",
   "metadata": {},
   "outputs": [],
   "source": [
    "grid_search = GridSearchCV(dt, parameter_space_grid, scoring = 'f1', return_train_score = True, cv = 5)"
   ]
  },
  {
   "cell_type": "markdown",
   "id": "a1d4b22d",
   "metadata": {},
   "source": [
    "__`Step 21`__ Fit your instance to __X_data__ and __y_data__. <br>\n",
    "Call the attribute __best_params___ to check which is the best combination of parameters<br>\n",
    "Call the attribute __best_score___ to obtain the mean cross-validated score of the best_estimator."
   ]
  },
  {
   "cell_type": "code",
   "execution_count": 90,
   "id": "92f5f083",
   "metadata": {},
   "outputs": [
    {
     "name": "stdout",
     "output_type": "stream",
     "text": [
      "Best Hyperparameters:  {'criterion': 'gini', 'max_depth': 3, 'min_samples_split': 2}\n",
      "Best Score:  0.3436489277985441\n"
     ]
    }
   ],
   "source": [
    "grid_search.fit(X_data, y_data)\n",
    "\n",
    "# Print the best hyperparameters and corresponding score\n",
    "print(\"Best Hyperparameters: \", grid_search.best_params_)\n",
    "print(\"Best Score: \", grid_search.best_score_)"
   ]
  },
  {
   "cell_type": "markdown",
   "id": "bda859b9",
   "metadata": {},
   "source": [
    "__`Step 22`__ Create an instance of the model chosen for the algorithm DecisionTreeClassifier named as `final_model_dt`."
   ]
  },
  {
   "cell_type": "code",
   "execution_count": 92,
   "id": "2f37db25",
   "metadata": {},
   "outputs": [],
   "source": [
    "final_model_dt = DecisionTreeClassifier(criterion = 'gini', max_depth = 3, min_samples_split = 2)"
   ]
  },
  {
   "cell_type": "markdown",
   "id": "19507eca",
   "metadata": {},
   "source": [
    "<div class=\"alert alert-block alert-info\">\n",
    "\n",
    "<a class=\"anchor\" id=\"10th-bullet\">\n",
    "\n",
    "### 4.2.3. Select the winner model"
   ]
  },
  {
   "cell_type": "markdown",
   "id": "48b67202",
   "metadata": {},
   "source": [
    "\n",
    "<a class=\"anchor\" id=\"11th-bullet\">\n",
    "\n",
    "#### 4.2.3.1. COMPARE THE PERFORMANCE\n",
    "    \n",
    "</a>\n",
    "\n",
    "Let's compare our final models:\n",
    "\n",
    "__`Step 23`__ Compare the models using the function defined previoulsy `show_results`."
   ]
  },
  {
   "cell_type": "code",
   "execution_count": 165,
   "id": "c9af2536",
   "metadata": {},
   "outputs": [
    {
     "data": {
      "text/html": [
       "<div>\n",
       "<style scoped>\n",
       "    .dataframe tbody tr th:only-of-type {\n",
       "        vertical-align: middle;\n",
       "    }\n",
       "\n",
       "    .dataframe tbody tr th {\n",
       "        vertical-align: top;\n",
       "    }\n",
       "\n",
       "    .dataframe thead th {\n",
       "        text-align: right;\n",
       "    }\n",
       "</style>\n",
       "<table border=\"1\" class=\"dataframe\">\n",
       "  <thead>\n",
       "    <tr style=\"text-align: right;\">\n",
       "      <th></th>\n",
       "      <th>Train</th>\n",
       "      <th>Validation</th>\n",
       "    </tr>\n",
       "  </thead>\n",
       "  <tbody>\n",
       "    <tr>\n",
       "      <th>Best KNN</th>\n",
       "      <td>0.434+/-0.04</td>\n",
       "      <td>0.3+/-0.03</td>\n",
       "    </tr>\n",
       "    <tr>\n",
       "      <th>Best DT</th>\n",
       "      <td>0.381+/-0.02</td>\n",
       "      <td>0.351+/-0.03</td>\n",
       "    </tr>\n",
       "  </tbody>\n",
       "</table>\n",
       "</div>"
      ],
      "text/plain": [
       "                 Train    Validation\n",
       "Best KNN  0.434+/-0.04    0.3+/-0.03\n",
       "Best DT   0.381+/-0.02  0.351+/-0.03"
      ]
     },
     "execution_count": 165,
     "metadata": {},
     "output_type": "execute_result"
    }
   ],
   "source": [
    "df_final_models = pd.DataFrame(columns = ['Train','Validation'], index = ['Best KNN','Best DT'])\n",
    "show_results(df_final_models, keep_data, final_model_knn, final_model_dt)"
   ]
  },
  {
   "cell_type": "markdown",
   "id": "863b7332",
   "metadata": {},
   "source": [
    "<a class=\"anchor\" id=\"12th-bullet\">\n",
    "\n",
    "#### 4.2.3.2. PLOT A ROC CURVE\n",
    "    \n",
    "</a>\n",
    "\n",
    "__`Step 24`__ Now we are going to compare our models using a ROC CURVE. To plot a ROC Curve, we need to create just one single model, and not several as we have when we apply StratifiedKFold.\n",
    "\n",
    "Create a copy of `keep_data` as `data` and define your independent variables as `X_data` and your target as `y_data`."
   ]
  },
  {
   "cell_type": "code",
   "execution_count": 168,
   "id": "094b1f66",
   "metadata": {},
   "outputs": [],
   "source": [
    "data = keep_data.copy()\n",
    "\n",
    "X_data = data.iloc[:,:-1]\n",
    "y_data = data.iloc[:,-1]"
   ]
  },
  {
   "cell_type": "markdown",
   "id": "f4433350",
   "metadata": {},
   "source": [
    "__`Step 25`__ Split your dataset into train and validation using train_test_split, where `train_size = 0.8`, `random_state = 99` and `stratify = y_data`."
   ]
  },
  {
   "cell_type": "code",
   "execution_count": 171,
   "id": "81706e94",
   "metadata": {},
   "outputs": [],
   "source": [
    "X_train, X_val, y_train, y_val = train_test_split(X_data, y_data, \n",
    "                                                  train_size = 0.8, \n",
    "                                                  random_state = 99, \n",
    "                                                  stratify = y_data)"
   ]
  },
  {
   "cell_type": "markdown",
   "id": "d8f1b3f9",
   "metadata": {},
   "source": [
    "__`Step 26`__ Apply the needed transformations by calling the `transform_data` function and fit your three models in the training data."
   ]
  },
  {
   "cell_type": "code",
   "execution_count": 174,
   "id": "0db9a17f",
   "metadata": {},
   "outputs": [],
   "source": [
    "X_train, X_val = transform_data(X_train, X_val, X_2nd_df_flag = True)\n",
    "\n",
    "model_knn = final_model_knn.fit(X_train, y_train)\n",
    "model_dt = final_model_dt.fit(X_train, y_train)"
   ]
  },
  {
   "cell_type": "markdown",
   "id": "5c3ebe99",
   "metadata": {},
   "source": [
    "__`Step 27`__ Use the `.predict_proba()` method of `modelknn` to obtain the probability estimates for the `X_val` and assign it to the object `prob_modelKNN`. Do the same for the other models, and assign it to `prob_modelDT` and `prob_modelNN`."
   ]
  },
  {
   "cell_type": "code",
   "execution_count": 177,
   "id": "8fad6264",
   "metadata": {},
   "outputs": [],
   "source": [
    "prob_modelKNN = model_knn.predict_proba(X_val)\n",
    "prob_modelDT =  model_dt.predict_proba(X_val)"
   ]
  },
  {
   "cell_type": "markdown",
   "id": "fff8e2b0",
   "metadata": {},
   "source": [
    "__`Step 28`__ Call roc_curve() for the three different models. In this way, you should: <br>\n",
    "1) For the first roc curve, call the roc_curve metric and define the arguments `y_true` equal to `y_val` and `y_score` equal to `prob_modelKNN[:, 1]`. Assign the results to `fpr_modelKNN`, `tpr_modelKNN` and `thresholds_modelKNN`. <br>\n",
    "2) Repeat the same procedure to the remaining models, changing the names of the objects accordingly."
   ]
  },
  {
   "cell_type": "code",
   "execution_count": 180,
   "id": "ba9cc5d3",
   "metadata": {},
   "outputs": [],
   "source": [
    "fpr_modelKNN, tpr_modelKNN, thresholds_modelKNN = roc_curve(y_true = y_val, y_score = prob_modelKNN[:,1])\n",
    "fpr_modelDT, tpr_modelDT, thresholds_modelDT = roc_curve(y_val, prob_modelDT[:,1])"
   ]
  },
  {
   "cell_type": "markdown",
   "id": "80b57628",
   "metadata": {},
   "source": [
    "__`Step 29`__ The purpose of this step is to plot the roc curve associated to each model. Do the following instructions in only one single cell, so the three roc curves appear in the same visualization. <br>\n",
    "1) Create a plot using the function `plt.plot()`, where the data to be represented is going to be the `fpr_modelKNN`, `tpr_modelKNN`, and `label=\"ROC Curve KNN\"` <br>\n",
    "2) Similarly to the previous step, plot now the values regarding `modelDT` <br>\n",
    "3) Similarly to the previous step, plot now the values regarding `modelNN` <br>\n",
    "4) call the function plt.legend()\n",
    "5) Call the function plt.show()"
   ]
  },
  {
   "cell_type": "code",
   "execution_count": 183,
   "id": "8282be33",
   "metadata": {},
   "outputs": [
    {
     "data": {
      "image/png": "[encoded data removed]",
      "text/plain": [
       "<Figure size 640x480 with 1 Axes>"
      ]
     },
     "metadata": {},
     "output_type": "display_data"
    }
   ],
   "source": [
    "plt.plot(fpr_modelKNN, tpr_modelKNN,label=\"ROC Curve KNN\")\n",
    "plt.plot(fpr_modelDT, tpr_modelDT, label=\"ROC Curve DT\")\n",
    "plt.xlabel('FPR')\n",
    "plt.ylabel('TPR')\n",
    "plt.legend()\n",
    "plt.show()"
   ]
  },
  {
   "cell_type": "markdown",
   "id": "9f50748b",
   "metadata": {},
   "source": [
    "__CONCLUSION__ <br>\n",
    "- The decision tree seems to be the better model among the three tested algorithms."
   ]
  },
  {
   "cell_type": "markdown",
   "id": "00505289",
   "metadata": {},
   "source": [
    "<a class=\"anchor\" id=\"13th-bullet\">\n",
    "\n",
    "#### 4.2.3.3. CHANGE THE THRESHOLD\n",
    "    \n",
    "</a>"
   ]
  },
  {
   "cell_type": "markdown",
   "id": "452405b7",
   "metadata": {},
   "source": [
    "At this point, you already know which are the best hyperparameters of your best model. <br>\n",
    "The last thing you can try out to improve the performance of your model is to change the threshold of what you consider a positive prediction vs a negative prediction. <br>\n",
    "By default, that threshold is 0.5, i.e., observations where the probability of being 1 is equal or higher to 0.5 are considered positive, otherwise negative.\n",
    "\n",
    "Like we did to plot the ROC Curve, in this case we are just going to use one partition, provided by the train_test_split on `Step 31.`\n"
   ]
  },
  {
   "cell_type": "markdown",
   "id": "c3c8877a",
   "metadata": {},
   "source": [
    "__`Step 30`__ Fit your final model to the training data."
   ]
  },
  {
   "cell_type": "code",
   "execution_count": 189,
   "id": "8a5660eb",
   "metadata": {},
   "outputs": [],
   "source": [
    "final_model = final_model_dt.fit(X_train, y_train)"
   ]
  },
  {
   "cell_type": "markdown",
   "id": "f429101c",
   "metadata": {},
   "source": [
    "__`Step 31`__ Calculate the probabilities associated with each observation in X_val being of class 0 or 1."
   ]
  },
  {
   "cell_type": "code",
   "execution_count": 192,
   "id": "7b4bb472",
   "metadata": {},
   "outputs": [
    {
     "data": {
      "text/plain": [
       "array([[0.85365854, 0.14634146],\n",
       "       [0.38461538, 0.61538462],\n",
       "       [0.98484848, 0.01515152],\n",
       "       [0.98484848, 0.01515152],\n",
       "       [0.98484848, 0.01515152],\n",
       "       [0.98484848, 0.01515152],\n",
       "       [0.98484848, 0.01515152],\n",
       "       [0.98484848, 0.01515152],\n",
       "       [0.98484848, 0.01515152],\n",
       "       [0.98484848, 0.01515152],\n",
       "       [0.98484848, 0.01515152],\n",
       "       [0.98484848, 0.01515152],\n",
       "       [0.98484848, 0.01515152],\n",
       "       [0.98484848, 0.01515152],\n",
       "       [0.98484848, 0.01515152],\n",
       "       [0.98484848, 0.01515152],\n",
       "       [0.85365854, 0.14634146],\n",
       "       [0.98484848, 0.01515152],\n",
       "       [0.7260274 , 0.2739726 ],\n",
       "       [0.98484848, 0.01515152],\n",
       "       [0.98484848, 0.01515152],\n",
       "       [0.98484848, 0.01515152],\n",
       "       [0.7260274 , 0.2739726 ],\n",
       "       [0.98484848, 0.01515152],\n",
       "       [0.875     , 0.125     ],\n",
       "       [0.98484848, 0.01515152],\n",
       "       [0.98484848, 0.01515152],\n",
       "       [0.98484848, 0.01515152],\n",
       "       [0.98484848, 0.01515152],\n",
       "       [0.98484848, 0.01515152],\n",
       "       [0.98484848, 0.01515152],\n",
       "       [0.98484848, 0.01515152],\n",
       "       [0.98484848, 0.01515152],\n",
       "       [0.98484848, 0.01515152],\n",
       "       [0.98484848, 0.01515152],\n",
       "       [0.98484848, 0.01515152],\n",
       "       [0.98484848, 0.01515152],\n",
       "       [0.98484848, 0.01515152],\n",
       "       [0.98484848, 0.01515152],\n",
       "       [0.85365854, 0.14634146],\n",
       "       [0.98484848, 0.01515152],\n",
       "       [0.98484848, 0.01515152],\n",
       "       [0.85365854, 0.14634146],\n",
       "       [0.98484848, 0.01515152],\n",
       "       [0.98484848, 0.01515152],\n",
       "       [0.7260274 , 0.2739726 ],\n",
       "       [0.98484848, 0.01515152],\n",
       "       [0.98484848, 0.01515152],\n",
       "       [0.98484848, 0.01515152],\n",
       "       [0.98484848, 0.01515152],\n",
       "       [0.98484848, 0.01515152],\n",
       "       [0.98484848, 0.01515152],\n",
       "       [0.875     , 0.125     ],\n",
       "       [0.98484848, 0.01515152],\n",
       "       [0.8125    , 0.1875    ],\n",
       "       [0.98484848, 0.01515152],\n",
       "       [0.98484848, 0.01515152],\n",
       "       [0.98484848, 0.01515152],\n",
       "       [0.98484848, 0.01515152],\n",
       "       [0.98484848, 0.01515152],\n",
       "       [0.85365854, 0.14634146],\n",
       "       [0.98484848, 0.01515152],\n",
       "       [0.98484848, 0.01515152],\n",
       "       [0.98484848, 0.01515152],\n",
       "       [0.98484848, 0.01515152],\n",
       "       [0.38461538, 0.61538462],\n",
       "       [0.98484848, 0.01515152],\n",
       "       [0.98484848, 0.01515152],\n",
       "       [0.98484848, 0.01515152],\n",
       "       [0.38461538, 0.61538462],\n",
       "       [0.98484848, 0.01515152],\n",
       "       [0.98484848, 0.01515152],\n",
       "       [0.98484848, 0.01515152],\n",
       "       [0.98484848, 0.01515152],\n",
       "       [0.98484848, 0.01515152],\n",
       "       [0.98484848, 0.01515152],\n",
       "       [0.98484848, 0.01515152],\n",
       "       [0.98484848, 0.01515152],\n",
       "       [0.98484848, 0.01515152],\n",
       "       [0.98484848, 0.01515152],\n",
       "       [0.98484848, 0.01515152],\n",
       "       [0.98484848, 0.01515152],\n",
       "       [0.7260274 , 0.2739726 ],\n",
       "       [0.85365854, 0.14634146],\n",
       "       [0.875     , 0.125     ],\n",
       "       [0.98484848, 0.01515152],\n",
       "       [0.98484848, 0.01515152],\n",
       "       [0.98484848, 0.01515152],\n",
       "       [0.42857143, 0.57142857],\n",
       "       [0.98484848, 0.01515152],\n",
       "       [0.98484848, 0.01515152],\n",
       "       [0.98484848, 0.01515152],\n",
       "       [0.85365854, 0.14634146],\n",
       "       [0.98484848, 0.01515152],\n",
       "       [0.98484848, 0.01515152],\n",
       "       [0.98484848, 0.01515152],\n",
       "       [0.98484848, 0.01515152],\n",
       "       [0.98484848, 0.01515152],\n",
       "       [0.98484848, 0.01515152],\n",
       "       [0.98484848, 0.01515152],\n",
       "       [0.85365854, 0.14634146],\n",
       "       [0.98484848, 0.01515152],\n",
       "       [0.98484848, 0.01515152],\n",
       "       [0.98484848, 0.01515152],\n",
       "       [0.98484848, 0.01515152],\n",
       "       [0.98484848, 0.01515152],\n",
       "       [0.98484848, 0.01515152],\n",
       "       [0.98484848, 0.01515152],\n",
       "       [0.98484848, 0.01515152],\n",
       "       [0.98484848, 0.01515152],\n",
       "       [0.98484848, 0.01515152],\n",
       "       [0.98484848, 0.01515152],\n",
       "       [0.7260274 , 0.2739726 ],\n",
       "       [0.98484848, 0.01515152],\n",
       "       [0.42857143, 0.57142857],\n",
       "       [0.98484848, 0.01515152],\n",
       "       [0.98484848, 0.01515152],\n",
       "       [0.98484848, 0.01515152],\n",
       "       [0.875     , 0.125     ],\n",
       "       [0.98484848, 0.01515152],\n",
       "       [0.98484848, 0.01515152],\n",
       "       [0.85365854, 0.14634146],\n",
       "       [0.98484848, 0.01515152],\n",
       "       [0.98484848, 0.01515152],\n",
       "       [0.98484848, 0.01515152],\n",
       "       [0.98484848, 0.01515152],\n",
       "       [0.98484848, 0.01515152],\n",
       "       [0.98484848, 0.01515152],\n",
       "       [0.        , 1.        ],\n",
       "       [0.875     , 0.125     ],\n",
       "       [0.98484848, 0.01515152],\n",
       "       [0.98484848, 0.01515152],\n",
       "       [0.98484848, 0.01515152],\n",
       "       [0.98484848, 0.01515152],\n",
       "       [0.98484848, 0.01515152],\n",
       "       [0.85365854, 0.14634146],\n",
       "       [0.98484848, 0.01515152],\n",
       "       [0.7260274 , 0.2739726 ],\n",
       "       [0.98484848, 0.01515152],\n",
       "       [0.98484848, 0.01515152],\n",
       "       [0.98484848, 0.01515152],\n",
       "       [0.98484848, 0.01515152],\n",
       "       [0.98484848, 0.01515152],\n",
       "       [0.98484848, 0.01515152],\n",
       "       [0.98484848, 0.01515152],\n",
       "       [0.98484848, 0.01515152],\n",
       "       [0.98484848, 0.01515152],\n",
       "       [0.98484848, 0.01515152],\n",
       "       [0.38461538, 0.61538462],\n",
       "       [0.98484848, 0.01515152],\n",
       "       [0.98484848, 0.01515152],\n",
       "       [0.85365854, 0.14634146],\n",
       "       [0.98484848, 0.01515152],\n",
       "       [0.98484848, 0.01515152],\n",
       "       [0.38461538, 0.61538462],\n",
       "       [0.98484848, 0.01515152],\n",
       "       [0.98484848, 0.01515152],\n",
       "       [0.7260274 , 0.2739726 ],\n",
       "       [0.98484848, 0.01515152],\n",
       "       [0.98484848, 0.01515152],\n",
       "       [0.98484848, 0.01515152],\n",
       "       [0.98484848, 0.01515152],\n",
       "       [0.98484848, 0.01515152],\n",
       "       [0.85365854, 0.14634146],\n",
       "       [0.98484848, 0.01515152],\n",
       "       [0.98484848, 0.01515152],\n",
       "       [0.98484848, 0.01515152],\n",
       "       [0.98484848, 0.01515152],\n",
       "       [0.38461538, 0.61538462],\n",
       "       [0.98484848, 0.01515152],\n",
       "       [0.98484848, 0.01515152],\n",
       "       [0.98484848, 0.01515152],\n",
       "       [0.98484848, 0.01515152],\n",
       "       [0.85365854, 0.14634146],\n",
       "       [0.98484848, 0.01515152],\n",
       "       [0.98484848, 0.01515152],\n",
       "       [0.85365854, 0.14634146],\n",
       "       [0.42857143, 0.57142857],\n",
       "       [0.98484848, 0.01515152],\n",
       "       [0.98484848, 0.01515152],\n",
       "       [0.98484848, 0.01515152],\n",
       "       [0.98484848, 0.01515152],\n",
       "       [0.98484848, 0.01515152],\n",
       "       [0.98484848, 0.01515152],\n",
       "       [0.85365854, 0.14634146],\n",
       "       [0.98484848, 0.01515152],\n",
       "       [0.98484848, 0.01515152],\n",
       "       [0.98484848, 0.01515152],\n",
       "       [0.85365854, 0.14634146],\n",
       "       [0.98484848, 0.01515152],\n",
       "       [0.98484848, 0.01515152],\n",
       "       [0.98484848, 0.01515152],\n",
       "       [0.98484848, 0.01515152],\n",
       "       [0.98484848, 0.01515152],\n",
       "       [0.875     , 0.125     ],\n",
       "       [0.7260274 , 0.2739726 ],\n",
       "       [0.98484848, 0.01515152],\n",
       "       [0.98484848, 0.01515152],\n",
       "       [0.98484848, 0.01515152],\n",
       "       [0.98484848, 0.01515152],\n",
       "       [0.98484848, 0.01515152],\n",
       "       [0.98484848, 0.01515152],\n",
       "       [0.98484848, 0.01515152],\n",
       "       [0.98484848, 0.01515152],\n",
       "       [0.98484848, 0.01515152],\n",
       "       [0.98484848, 0.01515152],\n",
       "       [0.98484848, 0.01515152],\n",
       "       [0.98484848, 0.01515152],\n",
       "       [0.85365854, 0.14634146],\n",
       "       [0.98484848, 0.01515152],\n",
       "       [0.98484848, 0.01515152],\n",
       "       [0.98484848, 0.01515152],\n",
       "       [0.7260274 , 0.2739726 ],\n",
       "       [0.875     , 0.125     ],\n",
       "       [0.7260274 , 0.2739726 ],\n",
       "       [0.98484848, 0.01515152],\n",
       "       [0.98484848, 0.01515152],\n",
       "       [0.98484848, 0.01515152],\n",
       "       [0.98484848, 0.01515152],\n",
       "       [0.98484848, 0.01515152],\n",
       "       [0.98484848, 0.01515152],\n",
       "       [0.98484848, 0.01515152],\n",
       "       [0.98484848, 0.01515152],\n",
       "       [0.98484848, 0.01515152],\n",
       "       [0.98484848, 0.01515152],\n",
       "       [0.98484848, 0.01515152],\n",
       "       [0.98484848, 0.01515152],\n",
       "       [0.85365854, 0.14634146],\n",
       "       [0.98484848, 0.01515152],\n",
       "       [0.98484848, 0.01515152],\n",
       "       [0.98484848, 0.01515152],\n",
       "       [0.8125    , 0.1875    ],\n",
       "       [0.85365854, 0.14634146],\n",
       "       [0.98484848, 0.01515152],\n",
       "       [0.98484848, 0.01515152],\n",
       "       [0.98484848, 0.01515152],\n",
       "       [0.38461538, 0.61538462],\n",
       "       [0.875     , 0.125     ],\n",
       "       [0.7260274 , 0.2739726 ],\n",
       "       [0.98484848, 0.01515152],\n",
       "       [0.98484848, 0.01515152],\n",
       "       [0.7260274 , 0.2739726 ],\n",
       "       [0.98484848, 0.01515152],\n",
       "       [0.98484848, 0.01515152],\n",
       "       [0.98484848, 0.01515152],\n",
       "       [0.98484848, 0.01515152],\n",
       "       [0.98484848, 0.01515152],\n",
       "       [0.875     , 0.125     ],\n",
       "       [0.98484848, 0.01515152],\n",
       "       [0.98484848, 0.01515152],\n",
       "       [0.98484848, 0.01515152],\n",
       "       [0.98484848, 0.01515152],\n",
       "       [0.98484848, 0.01515152],\n",
       "       [0.98484848, 0.01515152],\n",
       "       [0.98484848, 0.01515152],\n",
       "       [0.98484848, 0.01515152],\n",
       "       [0.98484848, 0.01515152],\n",
       "       [0.7260274 , 0.2739726 ],\n",
       "       [0.98484848, 0.01515152],\n",
       "       [0.98484848, 0.01515152],\n",
       "       [0.98484848, 0.01515152],\n",
       "       [0.98484848, 0.01515152],\n",
       "       [0.98484848, 0.01515152],\n",
       "       [0.98484848, 0.01515152],\n",
       "       [0.98484848, 0.01515152],\n",
       "       [0.98484848, 0.01515152],\n",
       "       [0.98484848, 0.01515152],\n",
       "       [0.98484848, 0.01515152],\n",
       "       [0.98484848, 0.01515152],\n",
       "       [0.98484848, 0.01515152],\n",
       "       [0.98484848, 0.01515152],\n",
       "       [0.98484848, 0.01515152],\n",
       "       [0.98484848, 0.01515152],\n",
       "       [0.98484848, 0.01515152],\n",
       "       [0.85365854, 0.14634146],\n",
       "       [0.98484848, 0.01515152],\n",
       "       [0.7260274 , 0.2739726 ],\n",
       "       [0.7260274 , 0.2739726 ],\n",
       "       [0.98484848, 0.01515152],\n",
       "       [0.98484848, 0.01515152],\n",
       "       [0.98484848, 0.01515152],\n",
       "       [0.98484848, 0.01515152],\n",
       "       [0.98484848, 0.01515152],\n",
       "       [0.98484848, 0.01515152],\n",
       "       [0.98484848, 0.01515152],\n",
       "       [0.85365854, 0.14634146],\n",
       "       [0.85365854, 0.14634146],\n",
       "       [0.98484848, 0.01515152],\n",
       "       [0.98484848, 0.01515152],\n",
       "       [0.98484848, 0.01515152],\n",
       "       [0.98484848, 0.01515152],\n",
       "       [0.85365854, 0.14634146],\n",
       "       [0.98484848, 0.01515152],\n",
       "       [0.98484848, 0.01515152],\n",
       "       [0.98484848, 0.01515152],\n",
       "       [0.42857143, 0.57142857],\n",
       "       [0.98484848, 0.01515152],\n",
       "       [0.98484848, 0.01515152],\n",
       "       [0.98484848, 0.01515152],\n",
       "       [0.98484848, 0.01515152],\n",
       "       [0.98484848, 0.01515152],\n",
       "       [0.98484848, 0.01515152],\n",
       "       [0.98484848, 0.01515152],\n",
       "       [0.85365854, 0.14634146],\n",
       "       [0.98484848, 0.01515152],\n",
       "       [0.98484848, 0.01515152],\n",
       "       [0.98484848, 0.01515152],\n",
       "       [0.98484848, 0.01515152],\n",
       "       [0.98484848, 0.01515152],\n",
       "       [0.98484848, 0.01515152],\n",
       "       [0.98484848, 0.01515152],\n",
       "       [0.98484848, 0.01515152],\n",
       "       [0.98484848, 0.01515152],\n",
       "       [0.98484848, 0.01515152],\n",
       "       [0.98484848, 0.01515152],\n",
       "       [0.98484848, 0.01515152],\n",
       "       [0.98484848, 0.01515152],\n",
       "       [0.98484848, 0.01515152],\n",
       "       [0.42857143, 0.57142857],\n",
       "       [0.98484848, 0.01515152],\n",
       "       [0.85365854, 0.14634146],\n",
       "       [0.98484848, 0.01515152],\n",
       "       [0.98484848, 0.01515152],\n",
       "       [0.98484848, 0.01515152],\n",
       "       [0.98484848, 0.01515152],\n",
       "       [0.98484848, 0.01515152],\n",
       "       [0.98484848, 0.01515152],\n",
       "       [0.98484848, 0.01515152],\n",
       "       [0.85365854, 0.14634146],\n",
       "       [0.38461538, 0.61538462],\n",
       "       [0.98484848, 0.01515152],\n",
       "       [0.875     , 0.125     ],\n",
       "       [0.98484848, 0.01515152],\n",
       "       [0.98484848, 0.01515152],\n",
       "       [0.38461538, 0.61538462],\n",
       "       [0.85365854, 0.14634146],\n",
       "       [0.98484848, 0.01515152],\n",
       "       [0.98484848, 0.01515152],\n",
       "       [0.98484848, 0.01515152],\n",
       "       [0.7260274 , 0.2739726 ],\n",
       "       [0.98484848, 0.01515152],\n",
       "       [0.98484848, 0.01515152],\n",
       "       [0.98484848, 0.01515152],\n",
       "       [0.98484848, 0.01515152],\n",
       "       [0.38461538, 0.61538462],\n",
       "       [0.98484848, 0.01515152],\n",
       "       [0.98484848, 0.01515152],\n",
       "       [0.42857143, 0.57142857],\n",
       "       [0.8125    , 0.1875    ],\n",
       "       [0.875     , 0.125     ],\n",
       "       [0.98484848, 0.01515152],\n",
       "       [0.98484848, 0.01515152],\n",
       "       [0.98484848, 0.01515152],\n",
       "       [0.85365854, 0.14634146],\n",
       "       [0.98484848, 0.01515152],\n",
       "       [0.98484848, 0.01515152],\n",
       "       [0.7260274 , 0.2739726 ],\n",
       "       [0.98484848, 0.01515152],\n",
       "       [0.7260274 , 0.2739726 ],\n",
       "       [0.98484848, 0.01515152]])"
      ]
     },
     "execution_count": 192,
     "metadata": {},
     "output_type": "execute_result"
    }
   ],
   "source": [
    "predict_proba = final_model.predict_proba(X_val)\n",
    "predict_proba"
   ]
  },
  {
   "cell_type": "markdown",
   "id": "35d072b5",
   "metadata": {},
   "source": [
    "__`Step 32`__ The purpose of this step is to plot the precision recall curve associated to the best model. <br>\n",
    "1) Import precision_recall_curve from sklearn.metrics<br>\n",
    "2) Get the precision, the recall and the thresholds from your precision recall curve<br>\n",
    "3) Check what is the threshold for the best f1 score<br>\n",
    "4) Plot the precision recall curve and the best threshold.<br>"
   ]
  },
  {
   "cell_type": "code",
   "execution_count": 195,
   "id": "669476c5",
   "metadata": {},
   "outputs": [
    {
     "name": "stdout",
     "output_type": "stream",
     "text": [
      "Best Threshold=0.146341, F-Score=0.396\n"
     ]
    },
    {
     "data": {
      "image/png": "[encoded data removed]",
      "text/plain": [
       "<Figure size 640x480 with 1 Axes>"
      ]
     },
     "metadata": {},
     "output_type": "display_data"
    }
   ],
   "source": [
    "precision, recall, thresholds = precision_recall_curve(y_val, predict_proba[:,1])\n",
    "\n",
    "# apply f1 score\n",
    "fscore = (2 * precision * recall) / (precision + recall)\n",
    "# locate the index of the largest f score\n",
    "ix = np.argmax(fscore)\n",
    "print('Best Threshold=%f, F-Score=%.3f' % (thresholds[ix], fscore[ix]))\n",
    "\n",
    "plt.plot(recall, precision, marker='.', label='DT')\n",
    "plt.scatter(recall[ix], precision[ix], marker='o', color='black', label='Best')\n",
    "plt.xlabel('Recall')\n",
    "plt.ylabel('Precision')\n",
    "plt.legend()\n",
    "plt.show()"
   ]
  },
  {
   "cell_type": "markdown",
   "id": "0c7b47ce",
   "metadata": {},
   "source": [
    "__CONCLUSION__ <br>\n",
    "- By changing the threshold to 0.146341, we are able to improve the f1-score of our final model."
   ]
  },
  {
   "cell_type": "markdown",
   "id": "856db498",
   "metadata": {},
   "source": [
    "<div class=\"alert alert-block alert-info\">\n",
    "\n",
    "<a class=\"anchor\" id=\"13th-bullet\">\n",
    "\n",
    "### 4.2.4. TEST THE MODEL"
   ]
  },
  {
   "cell_type": "markdown",
   "id": "46eefd79",
   "metadata": {},
   "source": [
    "__`Step 33`__ We will now train the model with all available train data (not splitting into train and validation)."
   ]
  },
  {
   "cell_type": "code",
   "execution_count": 200,
   "id": "0713dbf3",
   "metadata": {},
   "outputs": [],
   "source": [
    "train = keep_data.copy()\n",
    "\n",
    "X_train = keep_data.drop(['DepVar'], axis = 1)\n",
    "y_train = keep_data['DepVar']"
   ]
  },
  {
   "cell_type": "markdown",
   "id": "f6f9cde2",
   "metadata": {},
   "source": [
    "__`Step 34`__ Apply all the needed transformations in your training data and your test data."
   ]
  },
  {
   "cell_type": "code",
   "execution_count": 203,
   "id": "6f2f0580",
   "metadata": {},
   "outputs": [],
   "source": [
    "X_train, X_test = transform_data(X_train, X_test, X_2nd_df_flag = True)"
   ]
  },
  {
   "cell_type": "markdown",
   "id": "f5cd1f3a",
   "metadata": {},
   "source": [
    "__`Step 35`__ Train your final model in the training data."
   ]
  },
  {
   "cell_type": "code",
   "execution_count": 206,
   "id": "ca466134",
   "metadata": {},
   "outputs": [],
   "source": [
    "final_model = final_model_dt.fit(X_train, y_train)"
   ]
  },
  {
   "cell_type": "markdown",
   "id": "051ddfe6",
   "metadata": {},
   "source": [
    "__`Step 36`__ Obtain the predictions of the probabilities of your final model in the test data by calling the method `predict()` and corresponding probabilities with `predict_proba()`."
   ]
  },
  {
   "cell_type": "code",
   "execution_count": 209,
   "id": "49899c68",
   "metadata": {},
   "outputs": [
    {
     "data": {
      "text/plain": [
       "array([0, 0, 0, 0, 0, 0, 0, 0, 0, 0, 0, 0, 0, 0, 0, 0, 0, 0, 0, 0, 0, 0,\n",
       "       0, 0, 0, 0, 0, 0, 0, 0, 0, 0, 0, 0, 0, 0, 0, 0, 0, 0, 0, 0, 0, 1,\n",
       "       0, 0, 0, 0, 0, 0, 0, 0, 0, 0, 0, 0, 0, 0, 0, 0, 0, 0, 0, 0, 0, 0,\n",
       "       0, 0, 0, 0, 0, 0, 0, 0, 0, 0, 0, 0, 0, 0, 0, 0, 0, 0, 0, 0, 0, 0,\n",
       "       0, 0, 0, 0, 0, 0, 0, 0, 0, 0, 0, 0, 0, 0, 0, 0, 0, 0, 0, 0, 0, 1,\n",
       "       0, 0, 0, 0, 0, 0, 0, 0, 0, 0, 0, 0, 0, 0, 0, 0, 0, 0, 0, 0, 0, 0,\n",
       "       0, 0, 0, 0, 0, 0, 0, 0, 0, 0, 0, 0, 0, 0, 0, 0, 0, 0, 0, 0, 0, 0,\n",
       "       0, 0, 0, 0, 0, 0, 0, 0, 0, 0, 0, 0, 0, 0, 0, 0, 0, 0, 0, 0, 0, 0,\n",
       "       0, 0, 0, 0, 0, 0, 0, 0, 0, 1, 0, 0, 0, 0, 0, 0, 0, 0, 0, 0, 0, 0,\n",
       "       0, 0], dtype=int64)"
      ]
     },
     "execution_count": 209,
     "metadata": {},
     "output_type": "execute_result"
    }
   ],
   "source": [
    "final_model.predict(X_test) # the method predict() will predict the classes of your target when the threshold = 0.5"
   ]
  },
  {
   "cell_type": "code",
   "execution_count": 211,
   "id": "817daa40",
   "metadata": {},
   "outputs": [
    {
     "data": {
      "text/plain": [
       "array([[0.96585366, 0.03414634],\n",
       "       [0.7704918 , 0.2295082 ],\n",
       "       [1.        , 0.        ],\n",
       "       [0.60784314, 0.39215686],\n",
       "       [1.        , 0.        ],\n",
       "       [0.96585366, 0.03414634],\n",
       "       [1.        , 0.        ],\n",
       "       [0.60784314, 0.39215686],\n",
       "       [1.        , 0.        ],\n",
       "       [1.        , 0.        ],\n",
       "       [1.        , 0.        ],\n",
       "       [1.        , 0.        ],\n",
       "       [0.96585366, 0.03414634],\n",
       "       [0.96585366, 0.03414634],\n",
       "       [1.        , 0.        ],\n",
       "       [0.96585366, 0.03414634],\n",
       "       [0.60784314, 0.39215686],\n",
       "       [0.96585366, 0.03414634],\n",
       "       [0.7704918 , 0.2295082 ],\n",
       "       [0.85714286, 0.14285714],\n",
       "       [1.        , 0.        ],\n",
       "       [1.        , 0.        ],\n",
       "       [0.96585366, 0.03414634],\n",
       "       [0.96585366, 0.03414634],\n",
       "       [0.96585366, 0.03414634],\n",
       "       [0.96585366, 0.03414634],\n",
       "       [1.        , 0.        ],\n",
       "       [0.7704918 , 0.2295082 ],\n",
       "       [1.        , 0.        ],\n",
       "       [1.        , 0.        ],\n",
       "       [1.        , 0.        ],\n",
       "       [0.96585366, 0.03414634],\n",
       "       [0.96585366, 0.03414634],\n",
       "       [1.        , 0.        ],\n",
       "       [0.85714286, 0.14285714],\n",
       "       [1.        , 0.        ],\n",
       "       [0.96585366, 0.03414634],\n",
       "       [0.96585366, 0.03414634],\n",
       "       [1.        , 0.        ],\n",
       "       [0.96585366, 0.03414634],\n",
       "       [0.96585366, 0.03414634],\n",
       "       [0.7704918 , 0.2295082 ],\n",
       "       [1.        , 0.        ],\n",
       "       [0.07692308, 0.92307692],\n",
       "       [0.85714286, 0.14285714],\n",
       "       [1.        , 0.        ],\n",
       "       [1.        , 0.        ],\n",
       "       [0.96585366, 0.03414634],\n",
       "       [1.        , 0.        ],\n",
       "       [1.        , 0.        ],\n",
       "       [1.        , 0.        ],\n",
       "       [1.        , 0.        ],\n",
       "       [1.        , 0.        ],\n",
       "       [0.96585366, 0.03414634],\n",
       "       [1.        , 0.        ],\n",
       "       [0.85714286, 0.14285714],\n",
       "       [1.        , 0.        ],\n",
       "       [1.        , 0.        ],\n",
       "       [1.        , 0.        ],\n",
       "       [0.96585366, 0.03414634],\n",
       "       [1.        , 0.        ],\n",
       "       [0.96585366, 0.03414634],\n",
       "       [1.        , 0.        ],\n",
       "       [0.85714286, 0.14285714],\n",
       "       [0.96585366, 0.03414634],\n",
       "       [0.85714286, 0.14285714],\n",
       "       [1.        , 0.        ],\n",
       "       [1.        , 0.        ],\n",
       "       [0.96585366, 0.03414634],\n",
       "       [0.96585366, 0.03414634],\n",
       "       [0.96585366, 0.03414634],\n",
       "       [1.        , 0.        ],\n",
       "       [0.96585366, 0.03414634],\n",
       "       [1.        , 0.        ],\n",
       "       [1.        , 0.        ],\n",
       "       [1.        , 0.        ],\n",
       "       [0.96585366, 0.03414634],\n",
       "       [0.96585366, 0.03414634],\n",
       "       [0.7704918 , 0.2295082 ],\n",
       "       [1.        , 0.        ],\n",
       "       [0.96585366, 0.03414634],\n",
       "       [1.        , 0.        ],\n",
       "       [1.        , 0.        ],\n",
       "       [0.96585366, 0.03414634],\n",
       "       [0.96585366, 0.03414634],\n",
       "       [1.        , 0.        ],\n",
       "       [0.96585366, 0.03414634],\n",
       "       [1.        , 0.        ],\n",
       "       [1.        , 0.        ],\n",
       "       [1.        , 0.        ],\n",
       "       [1.        , 0.        ],\n",
       "       [0.85714286, 0.14285714],\n",
       "       [1.        , 0.        ],\n",
       "       [1.        , 0.        ],\n",
       "       [1.        , 0.        ],\n",
       "       [0.96585366, 0.03414634],\n",
       "       [1.        , 0.        ],\n",
       "       [1.        , 0.        ],\n",
       "       [1.        , 0.        ],\n",
       "       [1.        , 0.        ],\n",
       "       [0.96585366, 0.03414634],\n",
       "       [0.96585366, 0.03414634],\n",
       "       [0.96585366, 0.03414634],\n",
       "       [0.96585366, 0.03414634],\n",
       "       [1.        , 0.        ],\n",
       "       [0.85714286, 0.14285714],\n",
       "       [1.        , 0.        ],\n",
       "       [0.96585366, 0.03414634],\n",
       "       [0.85714286, 0.14285714],\n",
       "       [0.07692308, 0.92307692],\n",
       "       [0.96585366, 0.03414634],\n",
       "       [1.        , 0.        ],\n",
       "       [1.        , 0.        ],\n",
       "       [1.        , 0.        ],\n",
       "       [0.85714286, 0.14285714],\n",
       "       [0.96585366, 0.03414634],\n",
       "       [1.        , 0.        ],\n",
       "       [1.        , 0.        ],\n",
       "       [1.        , 0.        ],\n",
       "       [1.        , 0.        ],\n",
       "       [0.96585366, 0.03414634],\n",
       "       [0.96585366, 0.03414634],\n",
       "       [1.        , 0.        ],\n",
       "       [0.7704918 , 0.2295082 ],\n",
       "       [1.        , 0.        ],\n",
       "       [0.96585366, 0.03414634],\n",
       "       [1.        , 0.        ],\n",
       "       [0.85714286, 0.14285714],\n",
       "       [0.96585366, 0.03414634],\n",
       "       [0.96585366, 0.03414634],\n",
       "       [1.        , 0.        ],\n",
       "       [0.96585366, 0.03414634],\n",
       "       [0.7704918 , 0.2295082 ],\n",
       "       [0.96585366, 0.03414634],\n",
       "       [1.        , 0.        ],\n",
       "       [0.96585366, 0.03414634],\n",
       "       [1.        , 0.        ],\n",
       "       [1.        , 0.        ],\n",
       "       [0.96585366, 0.03414634],\n",
       "       [0.85714286, 0.14285714],\n",
       "       [1.        , 0.        ],\n",
       "       [1.        , 0.        ],\n",
       "       [1.        , 0.        ],\n",
       "       [1.        , 0.        ],\n",
       "       [0.96585366, 0.03414634],\n",
       "       [0.96585366, 0.03414634],\n",
       "       [0.85714286, 0.14285714],\n",
       "       [1.        , 0.        ],\n",
       "       [0.96585366, 0.03414634],\n",
       "       [0.85714286, 0.14285714],\n",
       "       [0.96585366, 0.03414634],\n",
       "       [1.        , 0.        ],\n",
       "       [1.        , 0.        ],\n",
       "       [0.85714286, 0.14285714],\n",
       "       [0.96585366, 0.03414634],\n",
       "       [1.        , 0.        ],\n",
       "       [0.96585366, 0.03414634],\n",
       "       [1.        , 0.        ],\n",
       "       [1.        , 0.        ],\n",
       "       [0.96585366, 0.03414634],\n",
       "       [1.        , 0.        ],\n",
       "       [1.        , 0.        ],\n",
       "       [1.        , 0.        ],\n",
       "       [1.        , 0.        ],\n",
       "       [1.        , 0.        ],\n",
       "       [1.        , 0.        ],\n",
       "       [0.96585366, 0.03414634],\n",
       "       [0.60784314, 0.39215686],\n",
       "       [0.96585366, 0.03414634],\n",
       "       [0.60784314, 0.39215686],\n",
       "       [0.7704918 , 0.2295082 ],\n",
       "       [0.96585366, 0.03414634],\n",
       "       [1.        , 0.        ],\n",
       "       [1.        , 0.        ],\n",
       "       [1.        , 0.        ],\n",
       "       [0.7704918 , 0.2295082 ],\n",
       "       [1.        , 0.        ],\n",
       "       [1.        , 0.        ],\n",
       "       [1.        , 0.        ],\n",
       "       [1.        , 0.        ],\n",
       "       [0.85714286, 0.14285714],\n",
       "       [0.85714286, 0.14285714],\n",
       "       [0.96585366, 0.03414634],\n",
       "       [1.        , 0.        ],\n",
       "       [0.96585366, 0.03414634],\n",
       "       [0.36666667, 0.63333333],\n",
       "       [1.        , 0.        ],\n",
       "       [1.        , 0.        ],\n",
       "       [0.85714286, 0.14285714],\n",
       "       [1.        , 0.        ],\n",
       "       [0.96585366, 0.03414634],\n",
       "       [1.        , 0.        ],\n",
       "       [1.        , 0.        ],\n",
       "       [0.7704918 , 0.2295082 ],\n",
       "       [0.96585366, 0.03414634],\n",
       "       [0.96585366, 0.03414634],\n",
       "       [0.96585366, 0.03414634],\n",
       "       [1.        , 0.        ],\n",
       "       [0.96585366, 0.03414634],\n",
       "       [0.96585366, 0.03414634]])"
      ]
     },
     "execution_count": 211,
     "metadata": {},
     "output_type": "execute_result"
    }
   ],
   "source": [
    "predict_proba_test = final_model.predict_proba(X_test)\n",
    "predict_proba_test"
   ]
  },
  {
   "cell_type": "markdown",
   "id": "8ef85aed",
   "metadata": {},
   "source": [
    "__`Step 37`__ Define your final predictions, by changing the threshold of what is accepted as 1 and as 0. "
   ]
  },
  {
   "cell_type": "code",
   "execution_count": 214,
   "id": "431c42ba",
   "metadata": {},
   "outputs": [],
   "source": [
    "test_pred = []\n",
    "\n",
    "for value in predict_proba_test[:,1]:\n",
    "    if (value>=0.146341):\n",
    "        test_pred.append(1)\n",
    "    else:\n",
    "        test_pred.append(0)"
   ]
  },
  {
   "cell_type": "markdown",
   "id": "31fa98cb",
   "metadata": {},
   "source": [
    "__`Step 38`__ Compute model final score. "
   ]
  },
  {
   "cell_type": "code",
   "execution_count": 217,
   "id": "3683abdf",
   "metadata": {},
   "outputs": [
    {
     "data": {
      "text/plain": [
       "0.5625"
      ]
     },
     "execution_count": 217,
     "metadata": {},
     "output_type": "execute_result"
    }
   ],
   "source": [
    "f1_score(y_test, test_pred)"
   ]
  },
  {
   "cell_type": "markdown",
   "id": "05381828",
   "metadata": {},
   "source": [
    "<a class=\"anchor\" id=\"14th-bullet\">\n",
    "\n",
    "# 5. Deploy\n",
    "\n",
    "</a>\n",
    "<img src=\"Images/step5.png\" style=\"height:70px\">\n",
    "\n",
    "\n",
    "You used the previous steps of modelling and assessment to determine what would be best strategies when it comes to preprocessing, scaling, feature selection, algorithm and hyper-parameters you could find. \n",
    "\n",
    "**By this stage, all of those choices were already made**. For that reason, a split between training and validation is no longer necessary. **A good practice** would be to take the initial data and train a final model with all of the labeled data that you have available."
   ]
  },
  {
   "cell_type": "code",
   "execution_count": 116,
   "id": "2bd53841",
   "metadata": {},
   "outputs": [],
   "source": [
    "train = pd.read_csv(r'Data/keep_data.csv')\n",
    "\n",
    "X_train = train.drop(['DepVar'], axis = 1)\n",
    "y_train = train['DepVar']"
   ]
  },
  {
   "cell_type": "markdown",
   "id": "81e21a2d",
   "metadata": {},
   "source": [
    "**Everything is figured by this stage**, so, on a first level all you need to do is replicate the exact preprocessing, scaling and feature selection decisions you made before.<br>\n",
    "When it comes to the final model, all you have to do is creeate a new instance of your best algorithm with the best parameters that you uncovered (no need to try all algorithms and hyper-parameters again)."
   ]
  },
  {
   "cell_type": "markdown",
   "id": "7a2aa065",
   "metadata": {},
   "source": [
    "<div class=\"alert alert-block alert-success\">\n",
    "\n",
    "<a class=\"anchor\" id=\"15th-bullet\">\n",
    "\n",
    "## 5.1. Import your test data and apply transformations\n",
    "    \n",
    "</a>\n",
    "    \n",
    "</div>\n",
    "\n",
    "__`Step 33`__ Remember, the test data does not have the `outcome` variable."
   ]
  },
  {
   "cell_type": "code",
   "execution_count": null,
   "id": "6fa60546-f1ab-4530-94a2-48c61c5f057c",
   "metadata": {},
   "outputs": [],
   "source": [
    "test = pd.read_excel(r'Data/test.xlsx')"
   ]
  },
  {
   "cell_type": "code",
   "execution_count": null,
   "id": "7b0d4cea",
   "metadata": {},
   "outputs": [],
   "source": [
    "test = pd.read_excel(r'Data/test.xlsx')\n",
    "test = test[['Custid','Mnt','Clothes','NetPurchase','Marital_Status']].copy() # now we have all the columns needed\n",
    "test.set_index(['Custid'], inplace = True)"
   ]
  },
  {
   "cell_type": "markdown",
   "id": "3991627c",
   "metadata": {},
   "source": [
    "__`Step 34`__ Apply all the needed transformations in your training data and your test data."
   ]
  },
  {
   "cell_type": "code",
   "execution_count": null,
   "id": "0c4e8f52",
   "metadata": {},
   "outputs": [],
   "source": [
    "train, test = transform_data(X_train, test, X_2nd_df_flag = True)"
   ]
  },
  {
   "cell_type": "markdown",
   "id": "939879dd",
   "metadata": {},
   "source": [
    "__`Step 35`__ Train your final model in the training data."
   ]
  },
  {
   "cell_type": "code",
   "execution_count": null,
   "id": "f2e28ad0",
   "metadata": {},
   "outputs": [],
   "source": [
    "final_model = final_model_dt.fit(train, y_train)"
   ]
  },
  {
   "cell_type": "markdown",
   "id": "29d07b44",
   "metadata": {},
   "source": [
    "<div class=\"alert alert-block alert-success\">\n",
    "\n",
    "<a class=\"anchor\" id=\"17th-bullet\">\n",
    "\n",
    "## 5.2. Obtain Predictions on the test data from your final model\n",
    "    \n",
    "</a>\n",
    "    \n",
    "</div>"
   ]
  },
  {
   "cell_type": "markdown",
   "id": "de773822",
   "metadata": {},
   "source": [
    "__`Step 36`__ Obtain the predictions of the probabilities of your final model in the test data. by calling the method `predict_proba()`."
   ]
  },
  {
   "cell_type": "code",
   "execution_count": null,
   "id": "9b912c9c",
   "metadata": {},
   "outputs": [],
   "source": [
    "final_model.predict(test) # the method predict() will predict the classes of your target when the threshold = 0.5"
   ]
  },
  {
   "cell_type": "code",
   "execution_count": null,
   "id": "19a3096d",
   "metadata": {},
   "outputs": [],
   "source": [
    "predict_proba_test = final_model.predict_proba(test)\n",
    "predict_proba_test"
   ]
  },
  {
   "cell_type": "markdown",
   "id": "f4917b45",
   "metadata": {},
   "source": [
    "__`Step 37`__ Define your final predictions, by changing the threshold of what is accepted as 1 and as 0. "
   ]
  },
  {
   "cell_type": "code",
   "execution_count": null,
   "id": "cf0905ed",
   "metadata": {},
   "outputs": [],
   "source": [
    "final_pred = []\n",
    "\n",
    "for value in predict_proba_test[:,1]:\n",
    "    if (value>=0.146341):\n",
    "        final_pred.append(1)\n",
    "    else:\n",
    "        final_pred.append(0)\n",
    "\n",
    "final_pred"
   ]
  },
  {
   "cell_type": "markdown",
   "id": "4effcd3a",
   "metadata": {},
   "source": [
    "<div class=\"alert alert-block alert-success\">\n",
    "\n",
    "<a class=\"anchor\" id=\"18th-bullet\">\n",
    "\n",
    "## 5.3. Create a Dataframe containing the index of each row and its intended prediction and export it to a csv file\n",
    "    \n",
    "</a>\n",
    "    \n",
    "</div>"
   ]
  },
  {
   "cell_type": "markdown",
   "id": "81623199",
   "metadata": {},
   "source": [
    "__`Step 38`__ Create a new DataFrame, and add as column `Custid` the values of the `Custid` for each customer in the test data set, and a column named `DepVar` where you will store the preditions of your final model in the test data. Save those results in a .csv file."
   ]
  },
  {
   "cell_type": "code",
   "execution_count": null,
   "id": "bd0983e2",
   "metadata": {},
   "outputs": [],
   "source": [
    "answer = pd.DataFrame()\n",
    "answer['Custid'] = test.index\n",
    "answer['DepVar'] = final_pred\n",
    "answer.head(20)"
   ]
  },
  {
   "cell_type": "code",
   "execution_count": null,
   "id": "0ff44ba1",
   "metadata": {},
   "outputs": [],
   "source": [
    "answer['DepVar'].value_counts()"
   ]
  },
  {
   "cell_type": "code",
   "execution_count": null,
   "id": "551b60d4",
   "metadata": {},
   "outputs": [],
   "source": [
    "answer.to_csv('answer.csv', index = False)"
   ]
  }
 ],
 "metadata": {
  "kernelspec": {
   "display_name": "Python 3 (ipykernel)",
   "language": "python",
   "name": "python3"
  },
  "language_info": {
   "codemirror_mode": {
    "name": "ipython",
    "version": 3
   },
   "file_extension": ".py",
   "mimetype": "text/x-python",
   "name": "python",
   "nbconvert_exporter": "python",
   "pygments_lexer": "ipython3",
   "version": "3.12.4"
  }
 },
 "nbformat": 4,
 "nbformat_minor": 5
}
