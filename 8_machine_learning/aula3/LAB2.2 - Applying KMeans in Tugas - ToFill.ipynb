{
 "cells": [
  {
   "cell_type": "markdown",
   "metadata": {},
   "source": [
    "# Applying KMeans in Tugas\n",
    "\n",
    "<a id='toc'></a>\n",
    "\n",
    "### Table of Contents\n",
    "* [1. Import the libraries and the dataset](#import)<br>\n",
    "* [2. Preprocessing](#preprocessing) <br>\n",
    "* [3. Modelling](#Modelling) <br>\n",
    "    * [3.1. First perspective: Product usage](#first)<br>\n",
    "        * [3.1.1. Identify the right number of clusters](#number_clusters)<br>\n",
    "            * [3.1.1.1. The elbow method](#elbow)<br>\n",
    "            * [3.1.1.2. The dendrogram](#dendrogram)<br>\n",
    "        * [3.1.2. Explore different number of clusters](#explore)<br>\n",
    "            * [3.1.2.1. When k is equal to 2](#k2)<br>\n",
    "            * [3.1.2.2. When k is equal to 3](#k3)<br>\n",
    "            * [3.1.2.3. When k is equal to 4](#k4)<br>\n",
    "        * [3.1.3. Explore and analyse in detail the number of clusters chosen](#final_k3)\n",
    "            * [3.1.3.1. Using visualizations](#visual)<br>\n",
    "            * [3.1.3.2. Analyse further - Checking variables not used during clustering](#others)<br>\n",
    "* [4. Exercise](#exercise) <br>\n",
    "* [5. Merge different perspectives](#merge)<br>"
   ]
  },
  {
   "cell_type": "markdown",
   "metadata": {},
   "source": [
    "In this exercise, you will be applying KMeans to the Tugas Dataset. <br>\n",
    "The dataset contains historical information on the behavior of customers of a retailer company.<br>\n",
    "\n",
    "When clustering customers in cases like Tugas, two essential perspectives could be considered: <br>\n",
    "- __Product Usage:__ Divide customers based on their needs, attitudes, and interests, taking into consideration their product usage.\n",
    "    - _Possible variables to use:_ Toys, SmallAppliances, Kitchen, HouseKeeping, and Clothes.\n",
    "- __Customer value:__ Evaluate groups of customers in terms of revenue generated and the costs of maintaining relationships with them.\n",
    "    - _Possible variables to use:_ Rcn, Income, Frq, NetPurchase, Mnt, ...\n",
    "\n"
   ]
  },
  {
   "cell_type": "markdown",
   "metadata": {},
   "source": [
    "<div class=\"alert alert-block alert-success\">\n",
    "<a id='import'>\n",
    "<font color = '#006400'> \n",
    "    \n",
    "# 1. Import the libraries and the dataset</font>\n",
    "</a>\n",
    "    \n",
    "</div>"
   ]
  },
  {
   "cell_type": "code",
   "execution_count": 3,
   "metadata": {},
   "outputs": [],
   "source": [
    "import warnings\n",
    "warnings.filterwarnings('ignore')"
   ]
  },
  {
   "cell_type": "markdown",
   "metadata": {},
   "source": [
    "__Step 1:__ Import the necessary libraries:\n",
    "- pandas as pd\n",
    "- matplotlib.pyplot as plt \n",
    "- seaborn as sns "
   ]
  },
  {
   "cell_type": "code",
   "execution_count": 4,
   "metadata": {},
   "outputs": [],
   "source": [
    "# DO IT\n",
    "import pandas as pd\n",
    "import matplotlib.pyplot as plt\n",
    "import seaborn as sns"
   ]
  },
  {
   "cell_type": "markdown",
   "metadata": {},
   "source": [
    "__Step 2:__ Import the 'Tugas_Database.xlsx' dataset and assign it to the `df` object."
   ]
  },
  {
   "cell_type": "code",
   "execution_count": 5,
   "metadata": {
    "scrolled": true
   },
   "outputs": [
    {
     "data": {
      "text/html": [
       "<div>\n",
       "<style scoped>\n",
       "    .dataframe tbody tr th:only-of-type {\n",
       "        vertical-align: middle;\n",
       "    }\n",
       "\n",
       "    .dataframe tbody tr th {\n",
       "        vertical-align: top;\n",
       "    }\n",
       "\n",
       "    .dataframe thead th {\n",
       "        text-align: right;\n",
       "    }\n",
       "</style>\n",
       "<table border=\"1\" class=\"dataframe\">\n",
       "  <thead>\n",
       "    <tr style=\"text-align: right;\">\n",
       "      <th></th>\n",
       "      <th>Custid</th>\n",
       "      <th>Year_Birth</th>\n",
       "      <th>Gender</th>\n",
       "      <th>Education</th>\n",
       "      <th>Marital_Status</th>\n",
       "      <th>Dependents</th>\n",
       "      <th>Income</th>\n",
       "      <th>Dt_Customer</th>\n",
       "      <th>Rcn</th>\n",
       "      <th>Frq</th>\n",
       "      <th>Mnt</th>\n",
       "      <th>Clothes</th>\n",
       "      <th>Kitchen</th>\n",
       "      <th>SmallAppliances</th>\n",
       "      <th>HouseKeeping</th>\n",
       "      <th>Toys</th>\n",
       "      <th>NetPurchase</th>\n",
       "      <th>CatPurchase</th>\n",
       "      <th>Recomendation</th>\n",
       "    </tr>\n",
       "  </thead>\n",
       "  <tbody>\n",
       "    <tr>\n",
       "      <th>0</th>\n",
       "      <td>1001</td>\n",
       "      <td>1947</td>\n",
       "      <td>F</td>\n",
       "      <td>Graduation</td>\n",
       "      <td>Widow</td>\n",
       "      <td>0</td>\n",
       "      <td>95321.10</td>\n",
       "      <td>2013-11-02</td>\n",
       "      <td>66</td>\n",
       "      <td>33</td>\n",
       "      <td>1458.08</td>\n",
       "      <td>37</td>\n",
       "      <td>5</td>\n",
       "      <td>44</td>\n",
       "      <td>10</td>\n",
       "      <td>3</td>\n",
       "      <td>19</td>\n",
       "      <td>81</td>\n",
       "      <td>5</td>\n",
       "    </tr>\n",
       "    <tr>\n",
       "      <th>1</th>\n",
       "      <td>1002</td>\n",
       "      <td>1937</td>\n",
       "      <td>F</td>\n",
       "      <td>PhD</td>\n",
       "      <td>Widow</td>\n",
       "      <td>0</td>\n",
       "      <td>118674.15</td>\n",
       "      <td>2014-04-17</td>\n",
       "      <td>6</td>\n",
       "      <td>32</td>\n",
       "      <td>1598.48</td>\n",
       "      <td>55</td>\n",
       "      <td>1</td>\n",
       "      <td>38</td>\n",
       "      <td>4</td>\n",
       "      <td>2</td>\n",
       "      <td>9</td>\n",
       "      <td>91</td>\n",
       "      <td>5</td>\n",
       "    </tr>\n",
       "    <tr>\n",
       "      <th>2</th>\n",
       "      <td>1003</td>\n",
       "      <td>1991</td>\n",
       "      <td>M</td>\n",
       "      <td>Graduation</td>\n",
       "      <td>NaN</td>\n",
       "      <td>1</td>\n",
       "      <td>29761.20</td>\n",
       "      <td>2014-05-27</td>\n",
       "      <td>69</td>\n",
       "      <td>11</td>\n",
       "      <td>45.76</td>\n",
       "      <td>32</td>\n",
       "      <td>19</td>\n",
       "      <td>24</td>\n",
       "      <td>1</td>\n",
       "      <td>24</td>\n",
       "      <td>59</td>\n",
       "      <td>41</td>\n",
       "      <td>3</td>\n",
       "    </tr>\n",
       "    <tr>\n",
       "      <th>3</th>\n",
       "      <td>1004</td>\n",
       "      <td>1956</td>\n",
       "      <td>M</td>\n",
       "      <td>Master</td>\n",
       "      <td>Married</td>\n",
       "      <td>1</td>\n",
       "      <td>98249.55</td>\n",
       "      <td>2013-07-21</td>\n",
       "      <td>10</td>\n",
       "      <td>26</td>\n",
       "      <td>923.52</td>\n",
       "      <td>60</td>\n",
       "      <td>10</td>\n",
       "      <td>19</td>\n",
       "      <td>6</td>\n",
       "      <td>5</td>\n",
       "      <td>35</td>\n",
       "      <td>65</td>\n",
       "      <td>5</td>\n",
       "    </tr>\n",
       "    <tr>\n",
       "      <th>4</th>\n",
       "      <td>1005</td>\n",
       "      <td>1956</td>\n",
       "      <td>F</td>\n",
       "      <td>Graduation</td>\n",
       "      <td>Married</td>\n",
       "      <td>1</td>\n",
       "      <td>96444.60</td>\n",
       "      <td>2013-02-02</td>\n",
       "      <td>26</td>\n",
       "      <td>31</td>\n",
       "      <td>1183.52</td>\n",
       "      <td>59</td>\n",
       "      <td>5</td>\n",
       "      <td>28</td>\n",
       "      <td>4</td>\n",
       "      <td>4</td>\n",
       "      <td>34</td>\n",
       "      <td>66</td>\n",
       "      <td>5</td>\n",
       "    </tr>\n",
       "    <tr>\n",
       "      <th>...</th>\n",
       "      <td>...</td>\n",
       "      <td>...</td>\n",
       "      <td>...</td>\n",
       "      <td>...</td>\n",
       "      <td>...</td>\n",
       "      <td>...</td>\n",
       "      <td>...</td>\n",
       "      <td>...</td>\n",
       "      <td>...</td>\n",
       "      <td>...</td>\n",
       "      <td>...</td>\n",
       "      <td>...</td>\n",
       "      <td>...</td>\n",
       "      <td>...</td>\n",
       "      <td>...</td>\n",
       "      <td>...</td>\n",
       "      <td>...</td>\n",
       "      <td>...</td>\n",
       "      <td>...</td>\n",
       "    </tr>\n",
       "    <tr>\n",
       "      <th>9995</th>\n",
       "      <td>10996</td>\n",
       "      <td>1987</td>\n",
       "      <td>F</td>\n",
       "      <td>Graduation</td>\n",
       "      <td>Single</td>\n",
       "      <td>0</td>\n",
       "      <td>57006.60</td>\n",
       "      <td>2013-05-08</td>\n",
       "      <td>72</td>\n",
       "      <td>29</td>\n",
       "      <td>1051.44</td>\n",
       "      <td>41</td>\n",
       "      <td>11</td>\n",
       "      <td>36</td>\n",
       "      <td>1</td>\n",
       "      <td>11</td>\n",
       "      <td>31</td>\n",
       "      <td>69</td>\n",
       "      <td>4</td>\n",
       "    </tr>\n",
       "    <tr>\n",
       "      <th>9996</th>\n",
       "      <td>10997</td>\n",
       "      <td>1939</td>\n",
       "      <td>F</td>\n",
       "      <td>2n Cycle</td>\n",
       "      <td>Together</td>\n",
       "      <td>1</td>\n",
       "      <td>132260.10</td>\n",
       "      <td>2014-04-03</td>\n",
       "      <td>75</td>\n",
       "      <td>38</td>\n",
       "      <td>1734.72</td>\n",
       "      <td>61</td>\n",
       "      <td>2</td>\n",
       "      <td>25</td>\n",
       "      <td>5</td>\n",
       "      <td>6</td>\n",
       "      <td>45</td>\n",
       "      <td>55</td>\n",
       "      <td>5</td>\n",
       "    </tr>\n",
       "    <tr>\n",
       "      <th>9997</th>\n",
       "      <td>10998</td>\n",
       "      <td>1946</td>\n",
       "      <td>M</td>\n",
       "      <td>Master</td>\n",
       "      <td>Married</td>\n",
       "      <td>0</td>\n",
       "      <td>104609.40</td>\n",
       "      <td>2014-05-24</td>\n",
       "      <td>98</td>\n",
       "      <td>33</td>\n",
       "      <td>1527.76</td>\n",
       "      <td>46</td>\n",
       "      <td>0</td>\n",
       "      <td>29</td>\n",
       "      <td>11</td>\n",
       "      <td>14</td>\n",
       "      <td>18</td>\n",
       "      <td>82</td>\n",
       "      <td>6</td>\n",
       "    </tr>\n",
       "    <tr>\n",
       "      <th>9998</th>\n",
       "      <td>10999</td>\n",
       "      <td>1950</td>\n",
       "      <td>F</td>\n",
       "      <td>Basic</td>\n",
       "      <td>Married</td>\n",
       "      <td>1</td>\n",
       "      <td>116568.90</td>\n",
       "      <td>2014-05-12</td>\n",
       "      <td>4</td>\n",
       "      <td>32</td>\n",
       "      <td>1404.00</td>\n",
       "      <td>48</td>\n",
       "      <td>16</td>\n",
       "      <td>27</td>\n",
       "      <td>8</td>\n",
       "      <td>1</td>\n",
       "      <td>36</td>\n",
       "      <td>64</td>\n",
       "      <td>5</td>\n",
       "    </tr>\n",
       "    <tr>\n",
       "      <th>9999</th>\n",
       "      <td>11000</td>\n",
       "      <td>1995</td>\n",
       "      <td>M</td>\n",
       "      <td>Basic</td>\n",
       "      <td>Together</td>\n",
       "      <td>1</td>\n",
       "      <td>27704.25</td>\n",
       "      <td>2013-11-20</td>\n",
       "      <td>24</td>\n",
       "      <td>9</td>\n",
       "      <td>47.84</td>\n",
       "      <td>5</td>\n",
       "      <td>13</td>\n",
       "      <td>21</td>\n",
       "      <td>46</td>\n",
       "      <td>15</td>\n",
       "      <td>52</td>\n",
       "      <td>48</td>\n",
       "      <td>2</td>\n",
       "    </tr>\n",
       "  </tbody>\n",
       "</table>\n",
       "<p>10000 rows × 19 columns</p>\n",
       "</div>"
      ],
      "text/plain": [
       "      Custid  Year_Birth Gender   Education Marital_Status  Dependents  \\\n",
       "0       1001        1947      F  Graduation          Widow           0   \n",
       "1       1002        1937      F         PhD          Widow           0   \n",
       "2       1003        1991      M  Graduation            NaN           1   \n",
       "3       1004        1956      M      Master        Married           1   \n",
       "4       1005        1956      F  Graduation        Married           1   \n",
       "...      ...         ...    ...         ...            ...         ...   \n",
       "9995   10996        1987      F  Graduation         Single           0   \n",
       "9996   10997        1939      F    2n Cycle       Together           1   \n",
       "9997   10998        1946      M      Master        Married           0   \n",
       "9998   10999        1950      F       Basic        Married           1   \n",
       "9999   11000        1995      M       Basic       Together           1   \n",
       "\n",
       "         Income Dt_Customer  Rcn  Frq      Mnt  Clothes  Kitchen  \\\n",
       "0      95321.10  2013-11-02   66   33  1458.08       37        5   \n",
       "1     118674.15  2014-04-17    6   32  1598.48       55        1   \n",
       "2      29761.20  2014-05-27   69   11    45.76       32       19   \n",
       "3      98249.55  2013-07-21   10   26   923.52       60       10   \n",
       "4      96444.60  2013-02-02   26   31  1183.52       59        5   \n",
       "...         ...         ...  ...  ...      ...      ...      ...   \n",
       "9995   57006.60  2013-05-08   72   29  1051.44       41       11   \n",
       "9996  132260.10  2014-04-03   75   38  1734.72       61        2   \n",
       "9997  104609.40  2014-05-24   98   33  1527.76       46        0   \n",
       "9998  116568.90  2014-05-12    4   32  1404.00       48       16   \n",
       "9999   27704.25  2013-11-20   24    9    47.84        5       13   \n",
       "\n",
       "      SmallAppliances  HouseKeeping  Toys  NetPurchase  CatPurchase  \\\n",
       "0                  44            10     3           19           81   \n",
       "1                  38             4     2            9           91   \n",
       "2                  24             1    24           59           41   \n",
       "3                  19             6     5           35           65   \n",
       "4                  28             4     4           34           66   \n",
       "...               ...           ...   ...          ...          ...   \n",
       "9995               36             1    11           31           69   \n",
       "9996               25             5     6           45           55   \n",
       "9997               29            11    14           18           82   \n",
       "9998               27             8     1           36           64   \n",
       "9999               21            46    15           52           48   \n",
       "\n",
       "      Recomendation  \n",
       "0                 5  \n",
       "1                 5  \n",
       "2                 3  \n",
       "3                 5  \n",
       "4                 5  \n",
       "...             ...  \n",
       "9995              4  \n",
       "9996              5  \n",
       "9997              6  \n",
       "9998              5  \n",
       "9999              2  \n",
       "\n",
       "[10000 rows x 19 columns]"
      ]
     },
     "execution_count": 5,
     "metadata": {},
     "output_type": "execute_result"
    }
   ],
   "source": [
    "# DO IT\n",
    "df = pd.read_excel(r'tugas_database.xlsx')\n",
    "df"
   ]
  },
  {
   "cell_type": "markdown",
   "metadata": {},
   "source": [
    "[BACK TO TOC](#toc)\n",
    "\n",
    "<div class=\"alert alert-block alert-success\">\n",
    "<a id='preprocessing'>\n",
    "<font color = '#006400'> \n",
    "    \n",
    "# 2. Preprocessing </font>\n",
    "</a>\n",
    "    \n",
    "</div>\n",
    "\n",
    "In the previous practical class, we saw several methods to preprocess the available data. <br>\n",
    "We also learned that before preprocessing, we need to explore the data to gain insights and identify possible errors or problems. <br>\n",
    "Since this class is not focused on data exploration, we will simply redefine the index. <br>"
   ]
  },
  {
   "cell_type": "markdown",
   "metadata": {},
   "source": [
    "__Step 3:__ Define the index of the dataframe with the column `Custid`, using the `set_index` function, and set the `inplace` parameter to `True`."
   ]
  },
  {
   "cell_type": "code",
   "execution_count": 4,
   "metadata": {},
   "outputs": [],
   "source": [
    "#DO IT\n",
    "df.set_index('Custid', inplace = True)"
   ]
  },
  {
   "cell_type": "markdown",
   "metadata": {},
   "source": [
    "[BACK TO TOC](#toc)\n",
    "\n",
    "<div class=\"alert alert-block alert-success\">\n",
    "<a id='Modelling'>\n",
    "<font color = '#006400'> \n",
    "    \n",
    "# 3. Modelling\n",
    "</a>\n",
    "    \n",
    "</div>"
   ]
  },
  {
   "cell_type": "markdown",
   "metadata": {},
   "source": [
    "<div class=\"alert alert-block alert-warning\">\n",
    "\n",
    "<a id='first'></a>\n",
    "## 3.1. First perspective: Product usage </font>\n",
    "\n",
    "</div>"
   ]
  },
  {
   "cell_type": "markdown",
   "metadata": {},
   "source": [
    "__Step 4:__  This time, we will apply KMeans using the product usage perspective. <br> \n",
    "Create a new dataframe named `df_prod` and select only the necessary variables for product usage: <br>\n",
    "- Clothes, Kitchen, SmallAppliances, HouseKeeping, and Toys.\n"
   ]
  },
  {
   "cell_type": "code",
   "execution_count": 6,
   "metadata": {},
   "outputs": [
    {
     "data": {
      "text/html": [
       "<div>\n",
       "<style scoped>\n",
       "    .dataframe tbody tr th:only-of-type {\n",
       "        vertical-align: middle;\n",
       "    }\n",
       "\n",
       "    .dataframe tbody tr th {\n",
       "        vertical-align: top;\n",
       "    }\n",
       "\n",
       "    .dataframe thead th {\n",
       "        text-align: right;\n",
       "    }\n",
       "</style>\n",
       "<table border=\"1\" class=\"dataframe\">\n",
       "  <thead>\n",
       "    <tr style=\"text-align: right;\">\n",
       "      <th></th>\n",
       "      <th>Clothes</th>\n",
       "      <th>Kitchen</th>\n",
       "      <th>SmallAppliances</th>\n",
       "      <th>HouseKeeping</th>\n",
       "      <th>Toys</th>\n",
       "    </tr>\n",
       "    <tr>\n",
       "      <th>Custid</th>\n",
       "      <th></th>\n",
       "      <th></th>\n",
       "      <th></th>\n",
       "      <th></th>\n",
       "      <th></th>\n",
       "    </tr>\n",
       "  </thead>\n",
       "  <tbody>\n",
       "    <tr>\n",
       "      <th>1001</th>\n",
       "      <td>37</td>\n",
       "      <td>5</td>\n",
       "      <td>44</td>\n",
       "      <td>10</td>\n",
       "      <td>3</td>\n",
       "    </tr>\n",
       "    <tr>\n",
       "      <th>1002</th>\n",
       "      <td>55</td>\n",
       "      <td>1</td>\n",
       "      <td>38</td>\n",
       "      <td>4</td>\n",
       "      <td>2</td>\n",
       "    </tr>\n",
       "    <tr>\n",
       "      <th>1003</th>\n",
       "      <td>32</td>\n",
       "      <td>19</td>\n",
       "      <td>24</td>\n",
       "      <td>1</td>\n",
       "      <td>24</td>\n",
       "    </tr>\n",
       "    <tr>\n",
       "      <th>1004</th>\n",
       "      <td>60</td>\n",
       "      <td>10</td>\n",
       "      <td>19</td>\n",
       "      <td>6</td>\n",
       "      <td>5</td>\n",
       "    </tr>\n",
       "    <tr>\n",
       "      <th>1005</th>\n",
       "      <td>59</td>\n",
       "      <td>5</td>\n",
       "      <td>28</td>\n",
       "      <td>4</td>\n",
       "      <td>4</td>\n",
       "    </tr>\n",
       "    <tr>\n",
       "      <th>...</th>\n",
       "      <td>...</td>\n",
       "      <td>...</td>\n",
       "      <td>...</td>\n",
       "      <td>...</td>\n",
       "      <td>...</td>\n",
       "    </tr>\n",
       "    <tr>\n",
       "      <th>10996</th>\n",
       "      <td>41</td>\n",
       "      <td>11</td>\n",
       "      <td>36</td>\n",
       "      <td>1</td>\n",
       "      <td>11</td>\n",
       "    </tr>\n",
       "    <tr>\n",
       "      <th>10997</th>\n",
       "      <td>61</td>\n",
       "      <td>2</td>\n",
       "      <td>25</td>\n",
       "      <td>5</td>\n",
       "      <td>6</td>\n",
       "    </tr>\n",
       "    <tr>\n",
       "      <th>10998</th>\n",
       "      <td>46</td>\n",
       "      <td>0</td>\n",
       "      <td>29</td>\n",
       "      <td>11</td>\n",
       "      <td>14</td>\n",
       "    </tr>\n",
       "    <tr>\n",
       "      <th>10999</th>\n",
       "      <td>48</td>\n",
       "      <td>16</td>\n",
       "      <td>27</td>\n",
       "      <td>8</td>\n",
       "      <td>1</td>\n",
       "    </tr>\n",
       "    <tr>\n",
       "      <th>11000</th>\n",
       "      <td>5</td>\n",
       "      <td>13</td>\n",
       "      <td>21</td>\n",
       "      <td>46</td>\n",
       "      <td>15</td>\n",
       "    </tr>\n",
       "  </tbody>\n",
       "</table>\n",
       "<p>10000 rows × 5 columns</p>\n",
       "</div>"
      ],
      "text/plain": [
       "        Clothes  Kitchen  SmallAppliances  HouseKeeping  Toys\n",
       "Custid                                                       \n",
       "1001         37        5               44            10     3\n",
       "1002         55        1               38             4     2\n",
       "1003         32       19               24             1    24\n",
       "1004         60       10               19             6     5\n",
       "1005         59        5               28             4     4\n",
       "...         ...      ...              ...           ...   ...\n",
       "10996        41       11               36             1    11\n",
       "10997        61        2               25             5     6\n",
       "10998        46        0               29            11    14\n",
       "10999        48       16               27             8     1\n",
       "11000         5       13               21            46    15\n",
       "\n",
       "[10000 rows x 5 columns]"
      ]
     },
     "execution_count": 6,
     "metadata": {},
     "output_type": "execute_result"
    }
   ],
   "source": [
    "# DO IT\n",
    "df_prod = df[['Clothes','Kitchen','SmallAppliances','HouseKeeping','Toys']].copy()\n",
    "df_prod"
   ]
  },
  {
   "cell_type": "markdown",
   "metadata": {},
   "source": [
    "[BACK TO TOC](#toc)\n",
    "<div class=\"alert alert-block alert-info\">\n",
    "    \n",
    "<a id='number_clusters'></a>\n",
    "\n",
    "### 3.1.1. Identify the right number of clusters\n",
    "    \n",
    "</div>"
   ]
  },
  {
   "cell_type": "markdown",
   "metadata": {},
   "source": [
    "Now we are ready to apply KMeans."
   ]
  },
  {
   "cell_type": "markdown",
   "metadata": {},
   "source": [
    "**Step 5:** Import `KMeans` from `sklearn.cluster`."
   ]
  },
  {
   "cell_type": "code",
   "execution_count": 8,
   "metadata": {},
   "outputs": [],
   "source": [
    "# DO IT\n",
    "from sklearn.cluster import KMeans"
   ]
  },
  {
   "cell_type": "markdown",
   "metadata": {},
   "source": [
    "Usually, we do not know the right number of clusters to use beforehand. How can we determine the right number of clusters?"
   ]
  },
  {
   "cell_type": "markdown",
   "metadata": {},
   "source": [
    "<a id='elbow'></a>\n",
    "\n",
    "### 3.1.1.1. Using the elbow method"
   ]
  },
  {
   "cell_type": "markdown",
   "metadata": {},
   "source": [
    "In this phase you will try to identify the optimal number of clusters by analyzing the results of the K-means inertia graph, using the elbow method."
   ]
  },
  {
   "cell_type": "markdown",
   "metadata": {},
   "source": [
    "__Step 6:__ Measure the quality of clusterings with different numbers of clusters.  Follow these steps:\n",
    "\n",
    "  - Create a list named `ks` with values ranging from 1 to 10. This will be range of cluster numbers to be tested.\n",
    "  - Create an empty list named `inertias`. This will store the sum of squared errors (SSE) based on the number of clusters.<br><br>\n",
    "  \n",
    "  - Next, in a loop, where you will test all possible values of k:\n",
    "      - Create a `KMeans` instance called `model` with `n_clusters = k`. \n",
    "      - Fit the model to the data.\n",
    "      - Append the value of the `inertia_` attribute of each model to the list `inertias`."
   ]
  },
  {
   "cell_type": "code",
   "execution_count": 9,
   "metadata": {},
   "outputs": [],
   "source": [
    "# DO IT\n",
    "ks = range(1, 11)\n",
    "inertias = []\n",
    "\n",
    "for k in ks:\n",
    "    model = KMeans(n_clusters=k).fit(df_prod)\n",
    "    inertias.append(model.inertia_)"
   ]
  },
  {
   "cell_type": "markdown",
   "metadata": {},
   "source": [
    "**Step 7:**  Plot the inertia to identify the optimal number of clusters. Remember that lower numbers are better!"
   ]
  },
  {
   "cell_type": "code",
   "execution_count": 10,
   "metadata": {},
   "outputs": [
    {
     "data": {
      "image/png": "[encoded data removed]",
      "text/plain": [
       "<Figure size 640x480 with 1 Axes>"
      ]
     },
     "metadata": {},
     "output_type": "display_data"
    }
   ],
   "source": [
    "# Plot ks (x-axis) vs inertias (y-axis) using plt.plot(). \n",
    "plt.plot(ks, inertias)\n",
    "\n",
    "# define the label for the x axis as 'number of clusters' using matplotlib.pyplot.xlabel\n",
    "plt.xlabel('number of clusters')\n",
    "# define the label for the y axis as 'inertia' using matplotlib.pyplot.ylabel\n",
    "plt.ylabel('inertia')\n",
    "# define the ticks on the x axis using the values of ks\n",
    "plt.xticks(ks)\n",
    "# call plt.show()\n",
    "plt.show()"
   ]
  },
  {
   "cell_type": "markdown",
   "metadata": {},
   "source": [
    "From the graph, it appears that 3 is the optimal number of clusters, as this is where the inertia (or the sum of squared errors) begins to decrease more slowly. However, it is always good practice to investigate whether other values may be better solutions."
   ]
  },
  {
   "cell_type": "markdown",
   "metadata": {},
   "source": [
    "<a id='dendrogram'></a>\n",
    "\n",
    "### 3.1.1.2. Using a dendrogram\n"
   ]
  },
  {
   "cell_type": "markdown",
   "metadata": {},
   "source": [
    "**Step 8:**  You can also use a dendrogram to visualize the optimal number of clusters to use. Obtain a dendrogram to visualize the number of clusters."
   ]
  },
  {
   "cell_type": "code",
   "execution_count": 11,
   "metadata": {},
   "outputs": [
    {
     "data": {
      "image/png": "[encoded data removed]",
      "text/plain": [
       "<Figure size 800x600 with 1 Axes>"
      ]
     },
     "metadata": {},
     "output_type": "display_data"
    }
   ],
   "source": [
    "from scipy.cluster import hierarchy\n",
    "#from sklearn.cluster import AgglomerativeClustering - The option available in sklearn\n",
    "\n",
    "# Get a random sample, as hierarchical clustering can take a lot of time to run.\n",
    "df_prod_sample = df_prod.sample(n = 1000, random_state = 100)\n",
    "\n",
    "# create clusters using the \"ward method\"\n",
    "clusters = hierarchy.linkage(df_prod_sample, method=\"ward\")\n",
    "\n",
    "# create the dendrogram using the hierarchy.dendrogram() method.\n",
    "plt.figure(figsize=(8, 6))\n",
    "dendrogram = hierarchy.dendrogram(clusters)"
   ]
  },
  {
   "cell_type": "markdown",
   "metadata": {},
   "source": [
    "Looking at the dendrogram, we can also check that 2, 3 or 4 clusters seem to be the optimal number of clusters to define."
   ]
  },
  {
   "cell_type": "markdown",
   "metadata": {},
   "source": [
    "__NOTE: The following values can be different each time you run the algorithm, due to the fact that different initial seeds can lead to different solutions. However, you can define a random_state in the definition of the KMeans instance to ensure that the same initial seeds are used.__ <br>\n",
    "\n",
    "__Also note that the results may differ on computers with different versions of the packages installed ( such as jupyter notebook, scikit-learn, ...)__<br>"
   ]
  },
  {
   "cell_type": "markdown",
   "metadata": {},
   "source": [
    "[BACK TO TOC](#toc)\n",
    "\n",
    "<div class=\"alert alert-block alert-info\">\n",
    "    \n",
    "<a id='explore'></a>\n",
    "\n",
    "### 3.1.2. Explore different number of clusters\n",
    "    \n",
    "</div>"
   ]
  },
  {
   "cell_type": "markdown",
   "metadata": {},
   "source": [
    "Based on the previous steps, it was determined that the optimal number of clusters should range between 2 and 4. <br>\n",
    "How to choose the best number of clusters? __Explore the results!__"
   ]
  },
  {
   "cell_type": "markdown",
   "metadata": {},
   "source": [
    "<a id='k2'></a>\n",
    "\n",
    "### 3.1.2.1. Using K = 2"
   ]
  },
  {
   "cell_type": "markdown",
   "metadata": {},
   "source": [
    "**Step 9:** Create a KMeans instance called `model_k2` using `KMeans()` and set `n_clusters` as 2, `random_state` as 100. Then, fit the instance to your data (a copy of the original dataframe named `df_prod_k2`). "
   ]
  },
  {
   "cell_type": "code",
   "execution_count": 12,
   "metadata": {},
   "outputs": [],
   "source": [
    "df_prod_k2 = df_prod.copy()\n",
    "model_k2 = KMeans(n_clusters=2, random_state = 100).fit(df_prod_k2)"
   ]
  },
  {
   "cell_type": "markdown",
   "metadata": {},
   "source": [
    "__Step 10:__ Create a new column in the dataframe named `label`, which will store the cluster number that each observation belongs to. To obtain those values, you need to call the attribute `.labels_` in the `model_k2`."
   ]
  },
  {
   "cell_type": "code",
   "execution_count": 13,
   "metadata": {},
   "outputs": [],
   "source": [
    "# DO IT\n",
    "df_prod_k2['label'] = model_k2.labels_"
   ]
  },
  {
   "cell_type": "markdown",
   "metadata": {},
   "source": [
    "__Step 11:__ Use `.mean()` to obtain the centroid value for each cluster."
   ]
  },
  {
   "cell_type": "code",
   "execution_count": 15,
   "metadata": {},
   "outputs": [
    {
     "data": {
      "text/html": [
       "<div>\n",
       "<style scoped>\n",
       "    .dataframe tbody tr th:only-of-type {\n",
       "        vertical-align: middle;\n",
       "    }\n",
       "\n",
       "    .dataframe tbody tr th {\n",
       "        vertical-align: top;\n",
       "    }\n",
       "\n",
       "    .dataframe thead th {\n",
       "        text-align: right;\n",
       "    }\n",
       "</style>\n",
       "<table border=\"1\" class=\"dataframe\">\n",
       "  <thead>\n",
       "    <tr style=\"text-align: right;\">\n",
       "      <th>label</th>\n",
       "      <th>0</th>\n",
       "      <th>1</th>\n",
       "    </tr>\n",
       "  </thead>\n",
       "  <tbody>\n",
       "    <tr>\n",
       "      <th>Clothes</th>\n",
       "      <td>30.702272</td>\n",
       "      <td>70.205339</td>\n",
       "    </tr>\n",
       "    <tr>\n",
       "      <th>Kitchen</th>\n",
       "      <td>11.154045</td>\n",
       "      <td>2.925331</td>\n",
       "    </tr>\n",
       "    <tr>\n",
       "      <th>SmallAppliances</th>\n",
       "      <td>35.975688</td>\n",
       "      <td>21.013047</td>\n",
       "    </tr>\n",
       "    <tr>\n",
       "      <th>HouseKeeping</th>\n",
       "      <td>11.178557</td>\n",
       "      <td>2.931353</td>\n",
       "    </tr>\n",
       "    <tr>\n",
       "      <th>Toys</th>\n",
       "      <td>10.977282</td>\n",
       "      <td>2.888398</td>\n",
       "    </tr>\n",
       "  </tbody>\n",
       "</table>\n",
       "</div>"
      ],
      "text/plain": [
       "label                    0          1\n",
       "Clothes          30.702272  70.205339\n",
       "Kitchen          11.154045   2.925331\n",
       "SmallAppliances  35.975688  21.013047\n",
       "HouseKeeping     11.178557   2.931353\n",
       "Toys             10.977282   2.888398"
      ]
     },
     "execution_count": 15,
     "metadata": {},
     "output_type": "execute_result"
    }
   ],
   "source": [
    "#DO IT\n",
    "df_prod_k2.groupby(['label']).mean().transpose()"
   ]
  },
  {
   "cell_type": "markdown",
   "metadata": {},
   "source": [
    "Using two clusters, we can conclude that:\n",
    "- Cluster 0 contains the customers who spend the most on all the products except clothes.\n",
    "- Cluster 1 is the one where customers spend more money on clothes and a small value on all the other categories.\n",
    "\n",
    "Now it is time to check with 3 clusters and see if we can still get distinct clusters."
   ]
  },
  {
   "cell_type": "markdown",
   "metadata": {},
   "source": [
    "<a id='k3'></a>\n",
    "\n",
    "### 3.1.2.2. Using K = 3"
   ]
  },
  {
   "cell_type": "markdown",
   "metadata": {},
   "source": [
    "**Step 12:** Create a KMeans instance called `model_k3` using `KMeans()` and set `n_clusters` as 3, `random_state` as 100. Then, fit the instance to your data (a copy of the original dataframe named `df_prod_k3`). "
   ]
  },
  {
   "cell_type": "code",
   "execution_count": 16,
   "metadata": {},
   "outputs": [],
   "source": [
    "# DO IT\n",
    "df_prod_k3 = df_prod.copy()\n",
    "model_k3 = KMeans(n_clusters=3, random_state = 100).fit(df_prod_k3)"
   ]
  },
  {
   "cell_type": "markdown",
   "metadata": {},
   "source": [
    "__Step 13:__ Create a new column named `label` in the dataframe `df_prod_k3`. This column will store the cluster number that each observation belongs to. To do this, you should assign the result of `model_k3.labels_` to this new column."
   ]
  },
  {
   "cell_type": "code",
   "execution_count": 17,
   "metadata": {},
   "outputs": [],
   "source": [
    "# DO IT\n",
    "df_prod_k3['label'] = model_k3.labels_"
   ]
  },
  {
   "cell_type": "markdown",
   "metadata": {},
   "source": [
    "__Step 14:__ To obtain descriptive statistics that summarize the central tendency, dispersion, and shape for each cluster, use the `.describe()` method and group the data by the `label` column. Save the result in the object `descr`."
   ]
  },
  {
   "cell_type": "code",
   "execution_count": 19,
   "metadata": {},
   "outputs": [
    {
     "data": {
      "text/html": [
       "<div>\n",
       "<style scoped>\n",
       "    .dataframe tbody tr th:only-of-type {\n",
       "        vertical-align: middle;\n",
       "    }\n",
       "\n",
       "    .dataframe tbody tr th {\n",
       "        vertical-align: top;\n",
       "    }\n",
       "\n",
       "    .dataframe thead th {\n",
       "        text-align: right;\n",
       "    }\n",
       "</style>\n",
       "<table border=\"1\" class=\"dataframe\">\n",
       "  <thead>\n",
       "    <tr style=\"text-align: right;\">\n",
       "      <th>label</th>\n",
       "      <th>0</th>\n",
       "      <th>1</th>\n",
       "      <th>2</th>\n",
       "    </tr>\n",
       "  </thead>\n",
       "  <tbody>\n",
       "    <tr>\n",
       "      <th>Clothes</th>\n",
       "      <td>46.711062</td>\n",
       "      <td>75.934807</td>\n",
       "      <td>19.504098</td>\n",
       "    </tr>\n",
       "    <tr>\n",
       "      <th>Kitchen</th>\n",
       "      <td>6.129960</td>\n",
       "      <td>2.240079</td>\n",
       "      <td>15.543443</td>\n",
       "    </tr>\n",
       "    <tr>\n",
       "      <th>SmallAppliances</th>\n",
       "      <td>35.012897</td>\n",
       "      <td>17.355442</td>\n",
       "      <td>33.938934</td>\n",
       "    </tr>\n",
       "    <tr>\n",
       "      <th>HouseKeeping</th>\n",
       "      <td>6.088790</td>\n",
       "      <td>2.232993</td>\n",
       "      <td>15.684426</td>\n",
       "    </tr>\n",
       "    <tr>\n",
       "      <th>Toys</th>\n",
       "      <td>6.049851</td>\n",
       "      <td>2.183390</td>\n",
       "      <td>15.318852</td>\n",
       "    </tr>\n",
       "  </tbody>\n",
       "</table>\n",
       "</div>"
      ],
      "text/plain": [
       "label                    0          1          2\n",
       "Clothes          46.711062  75.934807  19.504098\n",
       "Kitchen           6.129960   2.240079  15.543443\n",
       "SmallAppliances  35.012897  17.355442  33.938934\n",
       "HouseKeeping      6.088790   2.232993  15.684426\n",
       "Toys              6.049851   2.183390  15.318852"
      ]
     },
     "execution_count": 19,
     "metadata": {},
     "output_type": "execute_result"
    }
   ],
   "source": [
    "#DO IT\n",
    "descr = df_prod_k3.groupby(['label']).mean().transpose()\n",
    "descr"
   ]
  },
  {
   "cell_type": "markdown",
   "metadata": {},
   "source": [
    "\n",
    "By checking the above table, you can start to understand the distinct \"behaviour\" of the costumers according to the cluster they belong to. <br>\n",
    "\n",
    "__Cluster0:__ This cluster can be considered the cluster that groups individuals who spend a medium value in all categories, compared to Cluster 1 and Cluster 2, except for SmallAppliances, where this group spends the most.<br>\n",
    "\n",
    "__Cluster1:__ The customers in this cluster mainly spend money on clothes. <br>\n",
    "\n",
    "__Cluster2:__ These are the customers who spend less on clothes but more on the other categories (except for SmallAppliances where the value is quite similar to Cluster 0). <br>\n",
    "\n",
    "\n",
    "\n"
   ]
  },
  {
   "cell_type": "markdown",
   "metadata": {},
   "source": [
    "__Step 15:__ Check the distance between the different clusters using euclidean distance. To do this, use the `euclidean_distances` function from `sklearn.metrics.pairwise`."
   ]
  },
  {
   "cell_type": "code",
   "execution_count": 21,
   "metadata": {},
   "outputs": [
    {
     "data": {
      "text/plain": [
       "array([[ 0.        , 34.82349404, 31.73069474],\n",
       "       [34.82349404,  0.        , 63.14483114],\n",
       "       [31.73069474, 63.14483114,  0.        ]])"
      ]
     },
     "execution_count": 21,
     "metadata": {},
     "output_type": "execute_result"
    }
   ],
   "source": [
    "from sklearn.metrics.pairwise import euclidean_distances\n",
    "\n",
    "dists = euclidean_distances(model_k3.cluster_centers_)\n",
    "dists"
   ]
  },
  {
   "cell_type": "markdown",
   "metadata": {},
   "source": [
    "What can we conclude?\n",
    "- The nearest cluster to cluster 0 is Cluster 2 (31.75);\n",
    "- The nearest cluster to cluster 1 is Cluster 0 (34.80);\n",
    "- The nearest cluster to cluster 2 is cluster 0 (31.75);\n",
    "- Cluster 1 and Cluster 2 are the farthest away (63.17).\n",
    "\n",
    "Using the euclidean distance, we can also see that Cluster 1 and Cluster 2 are the farthest apart, while Cluster 0 is the nearest to both of them. This suggests that there is less overlap between the spending behaviors of Cluster 1 and Cluster 2, while Cluster 0 may share some similarities with both of them."
   ]
  },
  {
   "cell_type": "markdown",
   "metadata": {},
   "source": [
    "<a id='k4'></a>\n",
    "\n",
    "### 3.1.2.3. Using K = 4"
   ]
  },
  {
   "cell_type": "markdown",
   "metadata": {},
   "source": [
    "This time, we will qualitatively analyze the results for a KMeans of 4 clusters. <br><br>\n",
    "**Step 16:** Create a KMeans instance called `model_k4` using `KMeans()` and set `n_clusters` as 4, `random_state` as 100. Then, fit the instance to your data (a copy of the original dataframe named `df_prod_k4`). "
   ]
  },
  {
   "cell_type": "code",
   "execution_count": 22,
   "metadata": {},
   "outputs": [],
   "source": [
    "# DO IT\n",
    "df_prod_k4 = df_prod.copy()\n",
    "model_k4 = KMeans(n_clusters=4, random_state = 100).fit(df_prod_k4)"
   ]
  },
  {
   "cell_type": "markdown",
   "metadata": {},
   "source": [
    "**Step 17:** Create a new column in the dataframe named `label`, which will store the cluster number that each observation belongs to."
   ]
  },
  {
   "cell_type": "code",
   "execution_count": 23,
   "metadata": {},
   "outputs": [],
   "source": [
    "# DO IT\n",
    "df_prod_k4['label'] = model_k4.labels_"
   ]
  },
  {
   "cell_type": "markdown",
   "metadata": {},
   "source": [
    "**Step 18:** Find the centroid of the new clusters using `.mean()`."
   ]
  },
  {
   "cell_type": "code",
   "execution_count": 24,
   "metadata": {},
   "outputs": [
    {
     "data": {
      "text/html": [
       "<div>\n",
       "<style scoped>\n",
       "    .dataframe tbody tr th:only-of-type {\n",
       "        vertical-align: middle;\n",
       "    }\n",
       "\n",
       "    .dataframe tbody tr th {\n",
       "        vertical-align: top;\n",
       "    }\n",
       "\n",
       "    .dataframe thead th {\n",
       "        text-align: right;\n",
       "    }\n",
       "</style>\n",
       "<table border=\"1\" class=\"dataframe\">\n",
       "  <thead>\n",
       "    <tr style=\"text-align: right;\">\n",
       "      <th>label</th>\n",
       "      <th>0</th>\n",
       "      <th>1</th>\n",
       "      <th>2</th>\n",
       "      <th>3</th>\n",
       "    </tr>\n",
       "  </thead>\n",
       "  <tbody>\n",
       "    <tr>\n",
       "      <th>Clothes</th>\n",
       "      <td>31.669691</td>\n",
       "      <td>79.370235</td>\n",
       "      <td>16.847107</td>\n",
       "      <td>54.799411</td>\n",
       "    </tr>\n",
       "    <tr>\n",
       "      <th>Kitchen</th>\n",
       "      <td>8.190103</td>\n",
       "      <td>1.769428</td>\n",
       "      <td>18.950413</td>\n",
       "      <td>5.402356</td>\n",
       "    </tr>\n",
       "    <tr>\n",
       "      <th>SmallAppliances</th>\n",
       "      <td>44.027216</td>\n",
       "      <td>15.310484</td>\n",
       "      <td>26.074380</td>\n",
       "      <td>29.107511</td>\n",
       "    </tr>\n",
       "    <tr>\n",
       "      <th>HouseKeeping</th>\n",
       "      <td>8.146392</td>\n",
       "      <td>1.726173</td>\n",
       "      <td>19.263774</td>\n",
       "      <td>5.379381</td>\n",
       "    </tr>\n",
       "    <tr>\n",
       "      <th>Toys</th>\n",
       "      <td>7.961237</td>\n",
       "      <td>1.756598</td>\n",
       "      <td>18.851240</td>\n",
       "      <td>5.303093</td>\n",
       "    </tr>\n",
       "  </tbody>\n",
       "</table>\n",
       "</div>"
      ],
      "text/plain": [
       "label                    0          1          2          3\n",
       "Clothes          31.669691  79.370235  16.847107  54.799411\n",
       "Kitchen           8.190103   1.769428  18.950413   5.402356\n",
       "SmallAppliances  44.027216  15.310484  26.074380  29.107511\n",
       "HouseKeeping      8.146392   1.726173  19.263774   5.379381\n",
       "Toys              7.961237   1.756598  18.851240   5.303093"
      ]
     },
     "execution_count": 24,
     "metadata": {},
     "output_type": "execute_result"
    }
   ],
   "source": [
    "# DO IT\n",
    "df_prod_k4.groupby(['label']).mean().transpose()"
   ]
  },
  {
   "cell_type": "markdown",
   "metadata": {},
   "source": [
    "__Note:__ The label of the clusters can be assigned differently."
   ]
  },
  {
   "cell_type": "markdown",
   "metadata": {},
   "source": [
    "__Cluster 0:__<br>\n",
    "- The customers who spend more on: Small appliances (44)\n",
    "- The customers who spend moderately on: Clothes (32), Kitchen (8), Housekeeping (8), Toys (8)\n",
    "- The customers who spend less on: X\n",
    "\n",
    "__Cluster 1:__<br>\n",
    "- The customers who spend more on: Clothes (80)\n",
    "- The customers who spend moderately on: X\n",
    "- The customers who spend less on: Kitchen (2), SmallAppliances (15), HouseKeeping (2), Toys (2)\n",
    "\n",
    "__Cluster 2:__<br>\n",
    "- The customers who spend more on: Kitchen (19), HouseKeeping (19), Toys (19)\n",
    "- The customers who spend moderately on: SmallAppliances (26)\n",
    "- The customers who spend less on: Clothes (17)\n",
    "\n",
    "__Cluster 3:__<br>\n",
    "- The customers who spend more on: X <br>\n",
    "- The customers who spend moderately on: Clothes (55), Kitchen (5), SmallAppliances (28), HouseKeeping (5), Toys (5)<br>\n",
    "- The customers who spend less on: X<br>\n",
    "\n",
    "Does it make sense to keep both cluster 3 and 0? \n",
    "- Cluster 3 spends moderately on all categories, and they also spend a significant value on small appliances (28).\n",
    "- Cluster 0 are the ones who buy more small appliances, but they also spend some money on all the other products.\n",
    "\n",
    "\n",
    "Perhaps it does not make sense to keep 4 different clusters...\n",
    "\n",
    "For the remaining steps, we will keep only 3 clusters."
   ]
  },
  {
   "cell_type": "markdown",
   "metadata": {},
   "source": [
    "[BACK TO TOC](#toc)\n",
    "\n",
    "<div class=\"alert alert-block alert-info\">\n",
    "\n",
    "<a id='final_k3'></a>\n",
    "\n",
    "### 3.1.3. Explore and analyze in detail the chosen number of clusters\n",
    "    \n",
    "</div>"
   ]
  },
  {
   "cell_type": "markdown",
   "metadata": {},
   "source": [
    "We have already explored the results for k=3 in step 15, but we can delve deeper."
   ]
  },
  {
   "cell_type": "markdown",
   "metadata": {},
   "source": [
    "<a id='visual'></a>\n",
    "\n",
    "### 3.1.3.1. Using visualizations"
   ]
  },
  {
   "cell_type": "code",
   "execution_count": 25,
   "metadata": {},
   "outputs": [
    {
     "data": {
      "text/html": [
       "<div>\n",
       "<style scoped>\n",
       "    .dataframe tbody tr th:only-of-type {\n",
       "        vertical-align: middle;\n",
       "    }\n",
       "\n",
       "    .dataframe tbody tr th {\n",
       "        vertical-align: top;\n",
       "    }\n",
       "\n",
       "    .dataframe thead th {\n",
       "        text-align: right;\n",
       "    }\n",
       "</style>\n",
       "<table border=\"1\" class=\"dataframe\">\n",
       "  <thead>\n",
       "    <tr style=\"text-align: right;\">\n",
       "      <th></th>\n",
       "      <th>Clothes</th>\n",
       "      <th>Kitchen</th>\n",
       "      <th>SmallAppliances</th>\n",
       "      <th>HouseKeeping</th>\n",
       "      <th>Toys</th>\n",
       "    </tr>\n",
       "    <tr>\n",
       "      <th>label</th>\n",
       "      <th></th>\n",
       "      <th></th>\n",
       "      <th></th>\n",
       "      <th></th>\n",
       "      <th></th>\n",
       "    </tr>\n",
       "  </thead>\n",
       "  <tbody>\n",
       "    <tr>\n",
       "      <th>0</th>\n",
       "      <td>46.711062</td>\n",
       "      <td>6.129960</td>\n",
       "      <td>35.012897</td>\n",
       "      <td>6.088790</td>\n",
       "      <td>6.049851</td>\n",
       "    </tr>\n",
       "    <tr>\n",
       "      <th>1</th>\n",
       "      <td>75.934807</td>\n",
       "      <td>2.240079</td>\n",
       "      <td>17.355442</td>\n",
       "      <td>2.232993</td>\n",
       "      <td>2.183390</td>\n",
       "    </tr>\n",
       "    <tr>\n",
       "      <th>2</th>\n",
       "      <td>19.504098</td>\n",
       "      <td>15.543443</td>\n",
       "      <td>33.938934</td>\n",
       "      <td>15.684426</td>\n",
       "      <td>15.318852</td>\n",
       "    </tr>\n",
       "  </tbody>\n",
       "</table>\n",
       "</div>"
      ],
      "text/plain": [
       "         Clothes    Kitchen  SmallAppliances  HouseKeeping       Toys\n",
       "label                                                                \n",
       "0      46.711062   6.129960        35.012897      6.088790   6.049851\n",
       "1      75.934807   2.240079        17.355442      2.232993   2.183390\n",
       "2      19.504098  15.543443        33.938934     15.684426  15.318852"
      ]
     },
     "execution_count": 25,
     "metadata": {},
     "output_type": "execute_result"
    }
   ],
   "source": [
    "df_prod_k3.groupby(['label']).mean()"
   ]
  },
  {
   "cell_type": "code",
   "execution_count": 26,
   "metadata": {},
   "outputs": [],
   "source": [
    "# Create a mapping for cluster labels based on average 'Clothes' spending\n",
    "cluster_mapping = {}\n",
    "\n",
    "for cluster in range(3):\n",
    "    avg_clothes = df_prod_k3[df_prod_k3['label'] == cluster]['Clothes'].mean()\n",
    "    \n",
    "    if avg_clothes > 70:\n",
    "        cluster_mapping[cluster] = 'ClothesSpenders'\n",
    "    elif avg_clothes < 20:\n",
    "        cluster_mapping[cluster] = 'HighSpendersNoClothes'\n",
    "    else:\n",
    "        cluster_mapping[cluster] = 'MidSpenders'\n",
    "\n",
    "# Apply the mapping to assign the correct labels\n",
    "df_prod_k3['ProductUsage'] = df_prod_k3['label'].map(cluster_mapping)"
   ]
  },
  {
   "cell_type": "code",
   "execution_count": 29,
   "metadata": {},
   "outputs": [
    {
     "data": {
      "text/html": [
       "<div>\n",
       "<style scoped>\n",
       "    .dataframe tbody tr th:only-of-type {\n",
       "        vertical-align: middle;\n",
       "    }\n",
       "\n",
       "    .dataframe tbody tr th {\n",
       "        vertical-align: top;\n",
       "    }\n",
       "\n",
       "    .dataframe thead th {\n",
       "        text-align: right;\n",
       "    }\n",
       "</style>\n",
       "<table border=\"1\" class=\"dataframe\">\n",
       "  <thead>\n",
       "    <tr style=\"text-align: right;\">\n",
       "      <th></th>\n",
       "      <th>Clothes</th>\n",
       "      <th>Kitchen</th>\n",
       "      <th>SmallAppliances</th>\n",
       "      <th>HouseKeeping</th>\n",
       "      <th>Toys</th>\n",
       "      <th>label</th>\n",
       "      <th>ProductUsage</th>\n",
       "    </tr>\n",
       "    <tr>\n",
       "      <th>Custid</th>\n",
       "      <th></th>\n",
       "      <th></th>\n",
       "      <th></th>\n",
       "      <th></th>\n",
       "      <th></th>\n",
       "      <th></th>\n",
       "      <th></th>\n",
       "    </tr>\n",
       "  </thead>\n",
       "  <tbody>\n",
       "    <tr>\n",
       "      <th>1001</th>\n",
       "      <td>37</td>\n",
       "      <td>5</td>\n",
       "      <td>44</td>\n",
       "      <td>10</td>\n",
       "      <td>3</td>\n",
       "      <td>0</td>\n",
       "      <td>MidSpenders</td>\n",
       "    </tr>\n",
       "    <tr>\n",
       "      <th>1002</th>\n",
       "      <td>55</td>\n",
       "      <td>1</td>\n",
       "      <td>38</td>\n",
       "      <td>4</td>\n",
       "      <td>2</td>\n",
       "      <td>0</td>\n",
       "      <td>MidSpenders</td>\n",
       "    </tr>\n",
       "    <tr>\n",
       "      <th>1003</th>\n",
       "      <td>32</td>\n",
       "      <td>19</td>\n",
       "      <td>24</td>\n",
       "      <td>1</td>\n",
       "      <td>24</td>\n",
       "      <td>2</td>\n",
       "      <td>HighSpendersNoClothes</td>\n",
       "    </tr>\n",
       "    <tr>\n",
       "      <th>1004</th>\n",
       "      <td>60</td>\n",
       "      <td>10</td>\n",
       "      <td>19</td>\n",
       "      <td>6</td>\n",
       "      <td>5</td>\n",
       "      <td>1</td>\n",
       "      <td>ClothesSpenders</td>\n",
       "    </tr>\n",
       "    <tr>\n",
       "      <th>1005</th>\n",
       "      <td>59</td>\n",
       "      <td>5</td>\n",
       "      <td>28</td>\n",
       "      <td>4</td>\n",
       "      <td>4</td>\n",
       "      <td>0</td>\n",
       "      <td>MidSpenders</td>\n",
       "    </tr>\n",
       "    <tr>\n",
       "      <th>...</th>\n",
       "      <td>...</td>\n",
       "      <td>...</td>\n",
       "      <td>...</td>\n",
       "      <td>...</td>\n",
       "      <td>...</td>\n",
       "      <td>...</td>\n",
       "      <td>...</td>\n",
       "    </tr>\n",
       "    <tr>\n",
       "      <th>10996</th>\n",
       "      <td>41</td>\n",
       "      <td>11</td>\n",
       "      <td>36</td>\n",
       "      <td>1</td>\n",
       "      <td>11</td>\n",
       "      <td>0</td>\n",
       "      <td>MidSpenders</td>\n",
       "    </tr>\n",
       "    <tr>\n",
       "      <th>10997</th>\n",
       "      <td>61</td>\n",
       "      <td>2</td>\n",
       "      <td>25</td>\n",
       "      <td>5</td>\n",
       "      <td>6</td>\n",
       "      <td>1</td>\n",
       "      <td>ClothesSpenders</td>\n",
       "    </tr>\n",
       "    <tr>\n",
       "      <th>10998</th>\n",
       "      <td>46</td>\n",
       "      <td>0</td>\n",
       "      <td>29</td>\n",
       "      <td>11</td>\n",
       "      <td>14</td>\n",
       "      <td>0</td>\n",
       "      <td>MidSpenders</td>\n",
       "    </tr>\n",
       "    <tr>\n",
       "      <th>10999</th>\n",
       "      <td>48</td>\n",
       "      <td>16</td>\n",
       "      <td>27</td>\n",
       "      <td>8</td>\n",
       "      <td>1</td>\n",
       "      <td>0</td>\n",
       "      <td>MidSpenders</td>\n",
       "    </tr>\n",
       "    <tr>\n",
       "      <th>11000</th>\n",
       "      <td>5</td>\n",
       "      <td>13</td>\n",
       "      <td>21</td>\n",
       "      <td>46</td>\n",
       "      <td>15</td>\n",
       "      <td>2</td>\n",
       "      <td>HighSpendersNoClothes</td>\n",
       "    </tr>\n",
       "  </tbody>\n",
       "</table>\n",
       "<p>10000 rows × 7 columns</p>\n",
       "</div>"
      ],
      "text/plain": [
       "        Clothes  Kitchen  SmallAppliances  HouseKeeping  Toys  label  \\\n",
       "Custid                                                                 \n",
       "1001         37        5               44            10     3      0   \n",
       "1002         55        1               38             4     2      0   \n",
       "1003         32       19               24             1    24      2   \n",
       "1004         60       10               19             6     5      1   \n",
       "1005         59        5               28             4     4      0   \n",
       "...         ...      ...              ...           ...   ...    ...   \n",
       "10996        41       11               36             1    11      0   \n",
       "10997        61        2               25             5     6      1   \n",
       "10998        46        0               29            11    14      0   \n",
       "10999        48       16               27             8     1      0   \n",
       "11000         5       13               21            46    15      2   \n",
       "\n",
       "                 ProductUsage  \n",
       "Custid                         \n",
       "1001              MidSpenders  \n",
       "1002              MidSpenders  \n",
       "1003    HighSpendersNoClothes  \n",
       "1004          ClothesSpenders  \n",
       "1005              MidSpenders  \n",
       "...                       ...  \n",
       "10996             MidSpenders  \n",
       "10997         ClothesSpenders  \n",
       "10998             MidSpenders  \n",
       "10999             MidSpenders  \n",
       "11000   HighSpendersNoClothes  \n",
       "\n",
       "[10000 rows x 7 columns]"
      ]
     },
     "execution_count": 29,
     "metadata": {},
     "output_type": "execute_result"
    }
   ],
   "source": [
    "df_prod_k3"
   ]
  },
  {
   "cell_type": "markdown",
   "metadata": {},
   "source": [
    "__Step 19:__ Create a separate dataframe composed of individuals in each cluster."
   ]
  },
  {
   "cell_type": "code",
   "execution_count": 27,
   "metadata": {},
   "outputs": [],
   "source": [
    "# DO IT\n",
    "MidSpenders = df_prod_k3[df_prod_k3.ProductUsage=='MidSpenders']\n",
    "ClothesSpenders = df_prod_k3[df_prod_k3.ProductUsage=='ClothesSpenders']\n",
    "HighSpendersNoClothes = df_prod_k3[df_prod_k3.ProductUsage=='HighSpendersNoClothes']"
   ]
  },
  {
   "cell_type": "markdown",
   "metadata": {},
   "source": [
    "__Step 20:__ In this step, you will create three `sns.histplots()` that display the distribution of the variable 'Clothes' for each cluster. <br>\n",
    "In a single cell, using the `sns.histplot()`: <br>\n",
    "- Plot the data for `MidSpenders['Clothes']` and define parameters `color='red'` and `label='Clothes - MidSpenders'` and `bins = 20`.\n",
    "- Plot the data for `ClothesSpenders['Clothes']` and define parameters `color='yellow'` and `label='Clothes - ClothesSpenders'` and `bins = 20`.\n",
    "- Plot the data for `HighSpendersNoClothes['Clothes']` and define parameters `color='green'` and `label='Clothes - HighSpendersNoClothes'` and `bins = 20`.\n",
    "- Call the command `plt.legend()` to make the legend of the visualization visible."
   ]
  },
  {
   "cell_type": "code",
   "execution_count": 28,
   "metadata": {},
   "outputs": [
    {
     "data": {
      "image/png": "[encoded data removed]",
      "text/plain": [
       "<Figure size 640x480 with 1 Axes>"
      ]
     },
     "metadata": {},
     "output_type": "display_data"
    }
   ],
   "source": [
    "# DO IT\n",
    "sns.histplot(MidSpenders['Clothes'],color='red', label='Clothes - MidSpenders', bins = 20)\n",
    "sns.histplot(ClothesSpenders['Clothes'],color='yellow', label='Clothes - ClothesSpenders', bins = 20)\n",
    "sns.histplot(HighSpendersNoClothes['Clothes'],color='green', label='Clothes - HighSpendersNoClothes', bins = 20)\n",
    "plt.legend()\n",
    "plt.show()"
   ]
  },
  {
   "cell_type": "markdown",
   "metadata": {},
   "source": [
    "__Step 21:__ Now you are going to create a __scatterplot__ to visualize the relation between the variable `Clothes` and `Kitchen` for all three clusters."
   ]
  },
  {
   "cell_type": "markdown",
   "metadata": {},
   "source": [
    "__a)__ Obtain the coordinates of the centroids using the `.cluster_centers_` attribute of `model`.  Assign them to `centroids`.\n",
    "\n",
    "__NOTE: If you don't define a random_state in the KMeans algorithm (Step 8), the following values can be different each time you run the algorithm, due to the fact that distinct initial seeds can lead to different solutions.__ <br><br>"
   ]
  },
  {
   "cell_type": "code",
   "execution_count": 30,
   "metadata": {},
   "outputs": [
    {
     "data": {
      "text/plain": [
       "array([[46.65649044,  6.13005709, 35.05112931,  6.09779102,  6.05708613],\n",
       "       [75.90328054,  2.2446267 , 17.37952489,  2.2341629 ,  2.18523756],\n",
       "       [19.48829569, 15.5687885 , 33.89650924, 15.70020534, 15.33593429]])"
      ]
     },
     "execution_count": 30,
     "metadata": {},
     "output_type": "execute_result"
    }
   ],
   "source": [
    "# DO IT\n",
    "centroids = model_k3.cluster_centers_\n",
    "centroids"
   ]
  },
  {
   "cell_type": "code",
   "execution_count": 31,
   "metadata": {},
   "outputs": [
    {
     "data": {
      "text/plain": [
       "Index(['Clothes', 'Kitchen', 'SmallAppliances', 'HouseKeeping', 'Toys'], dtype='object')"
      ]
     },
     "execution_count": 31,
     "metadata": {},
     "output_type": "execute_result"
    }
   ],
   "source": [
    "df_prod.columns"
   ]
  },
  {
   "cell_type": "markdown",
   "metadata": {},
   "source": [
    "In the previous step, you obtained an array where you will have the centroid for each variable in each cluster. For example, 76.2 is the value of the centroid for the variable `Clothes` in cluster0 and so on..."
   ]
  },
  {
   "cell_type": "markdown",
   "metadata": {},
   "source": [
    "__b)__ By using the results stored in centroids, extract the individual values so you can plot them in a scatter plot (next step):\n",
    "- Save the centroid value of cluster0 concerning the variable Clothes in `centroid_0_Clothes` - that is, the value of `centroids[0,0]`; <br>\n",
    "- Apply the same logic to create the objects `centroid_1_Clothes`, `centroid_2_Clothes`, `centroid_0_Kitchen`, `centroid_1_Kitchen` and `centroid_2_Kitchen`. <br>"
   ]
  },
  {
   "cell_type": "code",
   "execution_count": 32,
   "metadata": {},
   "outputs": [],
   "source": [
    "centroid_0_Clothes = centroids[0,0]\n",
    "centroid_1_Clothes = centroids[1,0]\n",
    "centroid_2_Clothes = centroids[2,0]\n",
    "centroid_0_Kitchen = centroids[0,1]\n",
    "centroid_1_Kitchen = centroids[1,1]\n",
    "centroid_2_Kitchen = centroids[2,1]"
   ]
  },
  {
   "cell_type": "markdown",
   "metadata": {},
   "source": [
    "__c)__ In a single cell, create four scatter plots (this will show the four on top of each other).  Call `plt.show()` just once, at the end.\n",
    "- Firstly, make a scatter plot calling `plt.scatter` of `df_prod_k3['Clothes']` and `df_prod_k3['Kitchen']`, define the parameter `c=df_prod['label']` to color each cluster differently, and `s=10`to define the size of the points;\n",
    "- Secondly, make a scatter plot calling `plt.scatter` of `centroid_0_Clothes` and `centroid_0_Kitchen`, using `'X'` (a cross) as a marker by specifying the `marker` parameter. Set the size of the markers to be `100` using `s=100`. \n",
    "- In the same way as the previous step, create the third scatter plot but this time using the pairs `centroid_1_Clothes` and `centroid_1_Kitchen` and the fourth plot using the pairs `centroid_2_Clothes` and `centroid_2_Kitchen`.\n"
   ]
  },
  {
   "cell_type": "code",
   "execution_count": 33,
   "metadata": {},
   "outputs": [
    {
     "data": {
      "image/png": "[encoded data removed]",
      "text/plain": [
       "<Figure size 640x480 with 1 Axes>"
      ]
     },
     "metadata": {},
     "output_type": "display_data"
    }
   ],
   "source": [
    "plt.scatter(df_prod_k3.Clothes, df_prod_k3.Kitchen, c=df_prod_k3.label, s=10)\n",
    "plt.scatter(centroid_0_Clothes, centroid_0_Kitchen, marker='X', s=100)\n",
    "plt.scatter(centroid_1_Clothes, centroid_1_Kitchen, marker='X', s=100)\n",
    "plt.scatter(centroid_2_Clothes, centroid_2_Kitchen, marker='X', s=100)\n",
    "plt.xlabel('Clothes')\n",
    "plt.ylabel('Kitchen')\n",
    "plt.show()"
   ]
  },
  {
   "cell_type": "markdown",
   "metadata": {},
   "source": [
    "It can be concluded that the lower the values of `Clothes`, the higher the money spent on `Kitchen`, and vice versa. <br><br>\n",
    "It is important to note that when using KMeans, distances are used, and therefore, it is advisable to scale the dataset to a specific range rather than using the original values. However, in this case, scaling was not necessary as the variables were of the same scale (monetary units)."
   ]
  },
  {
   "cell_type": "markdown",
   "metadata": {},
   "source": [
    "<a id='others'></a>\n",
    "### 3.1.3.2. Analyze further - Checking variables not used during clustering"
   ]
  },
  {
   "cell_type": "markdown",
   "metadata": {},
   "source": [
    "__Step 22:__ You can go further and for each cluster that you have now, analyze the profile of the customers on other variables that were not used during cluster, such as demographic data.\n",
    "\n",
    "__a)__ Create a new dataframe named `df_demog` with four demographic variables - `Gender`, `Education`, `Marital Status`, and `Dependents` - and concatenate it with `df_prod_k3` to create a new dataframe named `demo_view`.\n"
   ]
  },
  {
   "cell_type": "code",
   "execution_count": 34,
   "metadata": {},
   "outputs": [],
   "source": [
    "df_demog = df[['Gender','Education','Marital_Status','Dependents']].copy()\n",
    "demo_view = pd.concat([df_prod_k3, df_demog], axis=1)"
   ]
  },
  {
   "cell_type": "markdown",
   "metadata": {},
   "source": [
    "__b)__ Create a different dataframe for each cluster, composed of the individuals belonging to that cluster only. For instance, `cluster0_demo` will be composed of the individuals belonging to cluster 0, and so on. "
   ]
  },
  {
   "cell_type": "code",
   "execution_count": 35,
   "metadata": {},
   "outputs": [],
   "source": [
    "MidSpenders_demo = demo_view[demo_view.ProductUsage=='MidSpenders']\n",
    "ClothesSpenders_demo = demo_view[demo_view.ProductUsage=='ClothesSpenders']\n",
    "HighSpendersNoClothes_demo = demo_view[demo_view.ProductUsage=='HighSpendersNoClothes']"
   ]
  },
  {
   "cell_type": "markdown",
   "metadata": {},
   "source": [
    "__c)__ Analyze the demographic data of each cluster by using various methods such as the following methods:\n",
    "- `describe()`\n",
    "- `value_counts()`\n",
    "- `mean()` <br>\n",
    "\n",
    "We can start by analyzing cluster 0, followed by the remaining clusters.\n",
    "\n",
    "__MidSpenders__"
   ]
  },
  {
   "cell_type": "code",
   "execution_count": 36,
   "metadata": {},
   "outputs": [
    {
     "name": "stdout",
     "output_type": "stream",
     "text": [
      "***Descriptive Summary of Categorical variables***\n",
      "       ProductUsage Gender   Education Marital_Status\n",
      "count          4032   4030        4016           4008\n",
      "unique            1      3           6              6\n",
      "top     MidSpenders      F  Graduation        Married\n",
      "freq           4032   3030        2212           1601\n",
      " \n",
      "***Frequency for each level of education***\n",
      "Education\n",
      "Graduation    54.86\n",
      "2n Cycle      16.39\n",
      "Master        14.86\n",
      "Basic          7.22\n",
      "PhD            5.93\n",
      "OldSchool      0.35\n",
      "Name: count, dtype: float64\n",
      " \n",
      "***Mean of Dependents***\n",
      "0.6287202380952381\n"
     ]
    }
   ],
   "source": [
    "print('***Descriptive Summary of Categorical variables***')\n",
    "print(MidSpenders_demo.describe(include = ['O']))\n",
    "\n",
    "print(' ')\n",
    "print('***Frequency for each level of education***')\n",
    "print(round(MidSpenders_demo['Education'].value_counts()/len(MidSpenders_demo)*100,2))\n",
    "\n",
    "print(' ')\n",
    "print('***Mean of Dependents***')\n",
    "print(MidSpenders_demo['Dependents'].mean())"
   ]
  },
  {
   "cell_type": "markdown",
   "metadata": {},
   "source": [
    "__ClothesSpenders__"
   ]
  },
  {
   "cell_type": "code",
   "execution_count": 37,
   "metadata": {},
   "outputs": [
    {
     "name": "stdout",
     "output_type": "stream",
     "text": [
      "***Descriptive Summary of Categorical variables***\n",
      "           ProductUsage Gender   Education Marital_Status\n",
      "count              3528   3526        3522           3514\n",
      "unique                1      3           6              6\n",
      "top     ClothesSpenders      F  Graduation        Married\n",
      "freq               3528   2681        1770           1458\n",
      " \n",
      "***Frequency for each level of education***\n",
      "Education\n",
      "Graduation    50.17\n",
      "Master        22.59\n",
      "PhD           12.02\n",
      "2n Cycle      10.94\n",
      "Basic          3.71\n",
      "OldSchool      0.40\n",
      "Name: count, dtype: float64\n",
      " \n",
      "***Mean of Dependents***\n",
      "0.8619614512471655\n"
     ]
    }
   ],
   "source": [
    "print('***Descriptive Summary of Categorical variables***')\n",
    "print(ClothesSpenders_demo.describe(include = ['O']))\n",
    "\n",
    "print(' ')\n",
    "print('***Frequency for each level of education***')\n",
    "print(round(ClothesSpenders_demo['Education'].value_counts()/len(ClothesSpenders_demo)*100,2))\n",
    "\n",
    "print(' ')\n",
    "print('***Mean of Dependents***')\n",
    "print(ClothesSpenders_demo['Dependents'].mean())"
   ]
  },
  {
   "cell_type": "markdown",
   "metadata": {},
   "source": [
    "__HighSpendersNoClothes__"
   ]
  },
  {
   "cell_type": "code",
   "execution_count": 38,
   "metadata": {},
   "outputs": [
    {
     "name": "stdout",
     "output_type": "stream",
     "text": [
      "***Descriptive Summary of Categorical variables***\n",
      "                 ProductUsage Gender   Education Marital_Status\n",
      "count                    2440   2437        2428           2430\n",
      "unique                      1      3           6              6\n",
      "top     HighSpendersNoClothes      F  Graduation         Single\n",
      "freq                     2440   1829         896           1023\n",
      " \n",
      "***Frequency for each level of education***\n",
      "Education\n",
      "Graduation    36.72\n",
      "Basic         32.91\n",
      "2n Cycle      26.43\n",
      "Master         2.34\n",
      "OldSchool      0.57\n",
      "PhD            0.53\n",
      "Name: count, dtype: float64\n",
      " \n",
      "***Mean of Dependents***\n",
      "0.6057377049180328\n"
     ]
    }
   ],
   "source": [
    "print('***Descriptive Summary of Categorical variables***')\n",
    "print(HighSpendersNoClothes_demo.describe(include = ['O']))\n",
    "\n",
    "print(' ')\n",
    "print('***Frequency for each level of education***')\n",
    "print(round(HighSpendersNoClothes_demo['Education'].value_counts()/len(HighSpendersNoClothes_demo)*100,2))\n",
    "\n",
    "print(' ')\n",
    "print('***Mean of Dependents***')\n",
    "print(HighSpendersNoClothes_demo['Dependents'].mean())"
   ]
  },
  {
   "cell_type": "markdown",
   "metadata": {},
   "source": [
    "__SOME CONCLUSIONS__\n",
    "\n",
    "Based on our analysis, we can conclude that:\n",
    "\n",
    "- The most frequent gender in all clusters is female.<br>\n",
    "- Graduation is the most frequent Education level across all clusters. <br>\n",
    "- Married is the most frequent Marital Status for clusters MidSpenders and ClothesSpenders, while Single is the most frequent for HighSpendersNoClothes.\n",
    "<br>\n",
    "\n",
    "- With regards to __Education__:\n",
    "    - ClothesSpenders comprises customers with higher levels of education:\n",
    "        - 50% have Graduation\n",
    "        - 23% have Master's degree\n",
    "        - 12% have PhD.\n",
    "    - HighSpendersNoClothes comprises customers with lower levels of education:\n",
    "        - 37% have Graduation\n",
    "        - 32% have Basic education\n",
    "        - 27% have 2nd Cycle.\n",
    "<br>\n",
    "\n",
    "\n",
    "- Regarding __dependents__:\n",
    "    - Cluster 1 includes customers with the highest average number of dependents (0.86), followed by cluster 0 (0.63) and cluster 2 (0.60).\n",
    "    \n",
    "    \n",
    "    ..."
   ]
  },
  {
   "cell_type": "markdown",
   "metadata": {},
   "source": [
    "[BACK TO TOC](#toc)\n",
    "\n",
    "<div class=\"alert alert-block alert-success\">\n",
    "<a id='Exercise'>\n",
    "<font color = '#006400'> \n",
    "    \n",
    "# 4. Exercise\n",
    "</a>\n",
    "    \n",
    "</div>\n",
    "\n",
    ">><font color='Orange'> __Practice__ </font>"
   ]
  },
  {
   "cell_type": "markdown",
   "metadata": {},
   "source": [
    "In this exercise, you will be applying KMeans to analyze customer value."
   ]
  },
  {
   "cell_type": "code",
   "execution_count": 6,
   "metadata": {},
   "outputs": [
    {
     "data": {
      "text/html": [
       "<div>\n",
       "<style scoped>\n",
       "    .dataframe tbody tr th:only-of-type {\n",
       "        vertical-align: middle;\n",
       "    }\n",
       "\n",
       "    .dataframe tbody tr th {\n",
       "        vertical-align: top;\n",
       "    }\n",
       "\n",
       "    .dataframe thead th {\n",
       "        text-align: right;\n",
       "    }\n",
       "</style>\n",
       "<table border=\"1\" class=\"dataframe\">\n",
       "  <thead>\n",
       "    <tr style=\"text-align: right;\">\n",
       "      <th></th>\n",
       "      <th>Custid</th>\n",
       "      <th>Year_Birth</th>\n",
       "      <th>Gender</th>\n",
       "      <th>Education</th>\n",
       "      <th>Marital_Status</th>\n",
       "      <th>Dependents</th>\n",
       "      <th>Income</th>\n",
       "      <th>Dt_Customer</th>\n",
       "      <th>Rcn</th>\n",
       "      <th>Frq</th>\n",
       "      <th>Mnt</th>\n",
       "      <th>Clothes</th>\n",
       "      <th>Kitchen</th>\n",
       "      <th>SmallAppliances</th>\n",
       "      <th>HouseKeeping</th>\n",
       "      <th>Toys</th>\n",
       "      <th>NetPurchase</th>\n",
       "      <th>CatPurchase</th>\n",
       "      <th>Recomendation</th>\n",
       "    </tr>\n",
       "  </thead>\n",
       "  <tbody>\n",
       "    <tr>\n",
       "      <th>0</th>\n",
       "      <td>1001</td>\n",
       "      <td>1947</td>\n",
       "      <td>F</td>\n",
       "      <td>Graduation</td>\n",
       "      <td>Widow</td>\n",
       "      <td>0</td>\n",
       "      <td>95321.10</td>\n",
       "      <td>2013-11-02</td>\n",
       "      <td>66</td>\n",
       "      <td>33</td>\n",
       "      <td>1458.08</td>\n",
       "      <td>37</td>\n",
       "      <td>5</td>\n",
       "      <td>44</td>\n",
       "      <td>10</td>\n",
       "      <td>3</td>\n",
       "      <td>19</td>\n",
       "      <td>81</td>\n",
       "      <td>5</td>\n",
       "    </tr>\n",
       "    <tr>\n",
       "      <th>1</th>\n",
       "      <td>1002</td>\n",
       "      <td>1937</td>\n",
       "      <td>F</td>\n",
       "      <td>PhD</td>\n",
       "      <td>Widow</td>\n",
       "      <td>0</td>\n",
       "      <td>118674.15</td>\n",
       "      <td>2014-04-17</td>\n",
       "      <td>6</td>\n",
       "      <td>32</td>\n",
       "      <td>1598.48</td>\n",
       "      <td>55</td>\n",
       "      <td>1</td>\n",
       "      <td>38</td>\n",
       "      <td>4</td>\n",
       "      <td>2</td>\n",
       "      <td>9</td>\n",
       "      <td>91</td>\n",
       "      <td>5</td>\n",
       "    </tr>\n",
       "    <tr>\n",
       "      <th>2</th>\n",
       "      <td>1003</td>\n",
       "      <td>1991</td>\n",
       "      <td>M</td>\n",
       "      <td>Graduation</td>\n",
       "      <td>NaN</td>\n",
       "      <td>1</td>\n",
       "      <td>29761.20</td>\n",
       "      <td>2014-05-27</td>\n",
       "      <td>69</td>\n",
       "      <td>11</td>\n",
       "      <td>45.76</td>\n",
       "      <td>32</td>\n",
       "      <td>19</td>\n",
       "      <td>24</td>\n",
       "      <td>1</td>\n",
       "      <td>24</td>\n",
       "      <td>59</td>\n",
       "      <td>41</td>\n",
       "      <td>3</td>\n",
       "    </tr>\n",
       "    <tr>\n",
       "      <th>3</th>\n",
       "      <td>1004</td>\n",
       "      <td>1956</td>\n",
       "      <td>M</td>\n",
       "      <td>Master</td>\n",
       "      <td>Married</td>\n",
       "      <td>1</td>\n",
       "      <td>98249.55</td>\n",
       "      <td>2013-07-21</td>\n",
       "      <td>10</td>\n",
       "      <td>26</td>\n",
       "      <td>923.52</td>\n",
       "      <td>60</td>\n",
       "      <td>10</td>\n",
       "      <td>19</td>\n",
       "      <td>6</td>\n",
       "      <td>5</td>\n",
       "      <td>35</td>\n",
       "      <td>65</td>\n",
       "      <td>5</td>\n",
       "    </tr>\n",
       "    <tr>\n",
       "      <th>4</th>\n",
       "      <td>1005</td>\n",
       "      <td>1956</td>\n",
       "      <td>F</td>\n",
       "      <td>Graduation</td>\n",
       "      <td>Married</td>\n",
       "      <td>1</td>\n",
       "      <td>96444.60</td>\n",
       "      <td>2013-02-02</td>\n",
       "      <td>26</td>\n",
       "      <td>31</td>\n",
       "      <td>1183.52</td>\n",
       "      <td>59</td>\n",
       "      <td>5</td>\n",
       "      <td>28</td>\n",
       "      <td>4</td>\n",
       "      <td>4</td>\n",
       "      <td>34</td>\n",
       "      <td>66</td>\n",
       "      <td>5</td>\n",
       "    </tr>\n",
       "    <tr>\n",
       "      <th>...</th>\n",
       "      <td>...</td>\n",
       "      <td>...</td>\n",
       "      <td>...</td>\n",
       "      <td>...</td>\n",
       "      <td>...</td>\n",
       "      <td>...</td>\n",
       "      <td>...</td>\n",
       "      <td>...</td>\n",
       "      <td>...</td>\n",
       "      <td>...</td>\n",
       "      <td>...</td>\n",
       "      <td>...</td>\n",
       "      <td>...</td>\n",
       "      <td>...</td>\n",
       "      <td>...</td>\n",
       "      <td>...</td>\n",
       "      <td>...</td>\n",
       "      <td>...</td>\n",
       "      <td>...</td>\n",
       "    </tr>\n",
       "    <tr>\n",
       "      <th>9995</th>\n",
       "      <td>10996</td>\n",
       "      <td>1987</td>\n",
       "      <td>F</td>\n",
       "      <td>Graduation</td>\n",
       "      <td>Single</td>\n",
       "      <td>0</td>\n",
       "      <td>57006.60</td>\n",
       "      <td>2013-05-08</td>\n",
       "      <td>72</td>\n",
       "      <td>29</td>\n",
       "      <td>1051.44</td>\n",
       "      <td>41</td>\n",
       "      <td>11</td>\n",
       "      <td>36</td>\n",
       "      <td>1</td>\n",
       "      <td>11</td>\n",
       "      <td>31</td>\n",
       "      <td>69</td>\n",
       "      <td>4</td>\n",
       "    </tr>\n",
       "    <tr>\n",
       "      <th>9996</th>\n",
       "      <td>10997</td>\n",
       "      <td>1939</td>\n",
       "      <td>F</td>\n",
       "      <td>2n Cycle</td>\n",
       "      <td>Together</td>\n",
       "      <td>1</td>\n",
       "      <td>132260.10</td>\n",
       "      <td>2014-04-03</td>\n",
       "      <td>75</td>\n",
       "      <td>38</td>\n",
       "      <td>1734.72</td>\n",
       "      <td>61</td>\n",
       "      <td>2</td>\n",
       "      <td>25</td>\n",
       "      <td>5</td>\n",
       "      <td>6</td>\n",
       "      <td>45</td>\n",
       "      <td>55</td>\n",
       "      <td>5</td>\n",
       "    </tr>\n",
       "    <tr>\n",
       "      <th>9997</th>\n",
       "      <td>10998</td>\n",
       "      <td>1946</td>\n",
       "      <td>M</td>\n",
       "      <td>Master</td>\n",
       "      <td>Married</td>\n",
       "      <td>0</td>\n",
       "      <td>104609.40</td>\n",
       "      <td>2014-05-24</td>\n",
       "      <td>98</td>\n",
       "      <td>33</td>\n",
       "      <td>1527.76</td>\n",
       "      <td>46</td>\n",
       "      <td>0</td>\n",
       "      <td>29</td>\n",
       "      <td>11</td>\n",
       "      <td>14</td>\n",
       "      <td>18</td>\n",
       "      <td>82</td>\n",
       "      <td>6</td>\n",
       "    </tr>\n",
       "    <tr>\n",
       "      <th>9998</th>\n",
       "      <td>10999</td>\n",
       "      <td>1950</td>\n",
       "      <td>F</td>\n",
       "      <td>Basic</td>\n",
       "      <td>Married</td>\n",
       "      <td>1</td>\n",
       "      <td>116568.90</td>\n",
       "      <td>2014-05-12</td>\n",
       "      <td>4</td>\n",
       "      <td>32</td>\n",
       "      <td>1404.00</td>\n",
       "      <td>48</td>\n",
       "      <td>16</td>\n",
       "      <td>27</td>\n",
       "      <td>8</td>\n",
       "      <td>1</td>\n",
       "      <td>36</td>\n",
       "      <td>64</td>\n",
       "      <td>5</td>\n",
       "    </tr>\n",
       "    <tr>\n",
       "      <th>9999</th>\n",
       "      <td>11000</td>\n",
       "      <td>1995</td>\n",
       "      <td>M</td>\n",
       "      <td>Basic</td>\n",
       "      <td>Together</td>\n",
       "      <td>1</td>\n",
       "      <td>27704.25</td>\n",
       "      <td>2013-11-20</td>\n",
       "      <td>24</td>\n",
       "      <td>9</td>\n",
       "      <td>47.84</td>\n",
       "      <td>5</td>\n",
       "      <td>13</td>\n",
       "      <td>21</td>\n",
       "      <td>46</td>\n",
       "      <td>15</td>\n",
       "      <td>52</td>\n",
       "      <td>48</td>\n",
       "      <td>2</td>\n",
       "    </tr>\n",
       "  </tbody>\n",
       "</table>\n",
       "<p>10000 rows × 19 columns</p>\n",
       "</div>"
      ],
      "text/plain": [
       "      Custid  Year_Birth Gender   Education Marital_Status  Dependents  \\\n",
       "0       1001        1947      F  Graduation          Widow           0   \n",
       "1       1002        1937      F         PhD          Widow           0   \n",
       "2       1003        1991      M  Graduation            NaN           1   \n",
       "3       1004        1956      M      Master        Married           1   \n",
       "4       1005        1956      F  Graduation        Married           1   \n",
       "...      ...         ...    ...         ...            ...         ...   \n",
       "9995   10996        1987      F  Graduation         Single           0   \n",
       "9996   10997        1939      F    2n Cycle       Together           1   \n",
       "9997   10998        1946      M      Master        Married           0   \n",
       "9998   10999        1950      F       Basic        Married           1   \n",
       "9999   11000        1995      M       Basic       Together           1   \n",
       "\n",
       "         Income Dt_Customer  Rcn  Frq      Mnt  Clothes  Kitchen  \\\n",
       "0      95321.10  2013-11-02   66   33  1458.08       37        5   \n",
       "1     118674.15  2014-04-17    6   32  1598.48       55        1   \n",
       "2      29761.20  2014-05-27   69   11    45.76       32       19   \n",
       "3      98249.55  2013-07-21   10   26   923.52       60       10   \n",
       "4      96444.60  2013-02-02   26   31  1183.52       59        5   \n",
       "...         ...         ...  ...  ...      ...      ...      ...   \n",
       "9995   57006.60  2013-05-08   72   29  1051.44       41       11   \n",
       "9996  132260.10  2014-04-03   75   38  1734.72       61        2   \n",
       "9997  104609.40  2014-05-24   98   33  1527.76       46        0   \n",
       "9998  116568.90  2014-05-12    4   32  1404.00       48       16   \n",
       "9999   27704.25  2013-11-20   24    9    47.84        5       13   \n",
       "\n",
       "      SmallAppliances  HouseKeeping  Toys  NetPurchase  CatPurchase  \\\n",
       "0                  44            10     3           19           81   \n",
       "1                  38             4     2            9           91   \n",
       "2                  24             1    24           59           41   \n",
       "3                  19             6     5           35           65   \n",
       "4                  28             4     4           34           66   \n",
       "...               ...           ...   ...          ...          ...   \n",
       "9995               36             1    11           31           69   \n",
       "9996               25             5     6           45           55   \n",
       "9997               29            11    14           18           82   \n",
       "9998               27             8     1           36           64   \n",
       "9999               21            46    15           52           48   \n",
       "\n",
       "      Recomendation  \n",
       "0                 5  \n",
       "1                 5  \n",
       "2                 3  \n",
       "3                 5  \n",
       "4                 5  \n",
       "...             ...  \n",
       "9995              4  \n",
       "9996              5  \n",
       "9997              6  \n",
       "9998              5  \n",
       "9999              2  \n",
       "\n",
       "[10000 rows x 19 columns]"
      ]
     },
     "execution_count": 6,
     "metadata": {},
     "output_type": "execute_result"
    }
   ],
   "source": [
    "df"
   ]
  },
  {
   "cell_type": "markdown",
   "metadata": {},
   "source": [
    "__`Step 1`__ - Create a new dataframe called `df_value` and select only certain variables related to customer value, such as Rcn, Income, Frq, NetPurchase, and Mnt. It is important to note that the data should be scaled uniformly for KMeans analysis."
   ]
  },
  {
   "cell_type": "code",
   "execution_count": 7,
   "metadata": {},
   "outputs": [
    {
     "data": {
      "text/html": [
       "<div>\n",
       "<style scoped>\n",
       "    .dataframe tbody tr th:only-of-type {\n",
       "        vertical-align: middle;\n",
       "    }\n",
       "\n",
       "    .dataframe tbody tr th {\n",
       "        vertical-align: top;\n",
       "    }\n",
       "\n",
       "    .dataframe thead th {\n",
       "        text-align: right;\n",
       "    }\n",
       "</style>\n",
       "<table border=\"1\" class=\"dataframe\">\n",
       "  <thead>\n",
       "    <tr style=\"text-align: right;\">\n",
       "      <th></th>\n",
       "      <th>Rcn</th>\n",
       "      <th>Income</th>\n",
       "      <th>Frq</th>\n",
       "      <th>NetPurchase</th>\n",
       "      <th>Mnt</th>\n",
       "    </tr>\n",
       "  </thead>\n",
       "  <tbody>\n",
       "    <tr>\n",
       "      <th>0</th>\n",
       "      <td>66</td>\n",
       "      <td>95321.10</td>\n",
       "      <td>33</td>\n",
       "      <td>19</td>\n",
       "      <td>1458.08</td>\n",
       "    </tr>\n",
       "    <tr>\n",
       "      <th>1</th>\n",
       "      <td>6</td>\n",
       "      <td>118674.15</td>\n",
       "      <td>32</td>\n",
       "      <td>9</td>\n",
       "      <td>1598.48</td>\n",
       "    </tr>\n",
       "    <tr>\n",
       "      <th>2</th>\n",
       "      <td>69</td>\n",
       "      <td>29761.20</td>\n",
       "      <td>11</td>\n",
       "      <td>59</td>\n",
       "      <td>45.76</td>\n",
       "    </tr>\n",
       "    <tr>\n",
       "      <th>3</th>\n",
       "      <td>10</td>\n",
       "      <td>98249.55</td>\n",
       "      <td>26</td>\n",
       "      <td>35</td>\n",
       "      <td>923.52</td>\n",
       "    </tr>\n",
       "    <tr>\n",
       "      <th>4</th>\n",
       "      <td>26</td>\n",
       "      <td>96444.60</td>\n",
       "      <td>31</td>\n",
       "      <td>34</td>\n",
       "      <td>1183.52</td>\n",
       "    </tr>\n",
       "    <tr>\n",
       "      <th>...</th>\n",
       "      <td>...</td>\n",
       "      <td>...</td>\n",
       "      <td>...</td>\n",
       "      <td>...</td>\n",
       "      <td>...</td>\n",
       "    </tr>\n",
       "    <tr>\n",
       "      <th>9995</th>\n",
       "      <td>72</td>\n",
       "      <td>57006.60</td>\n",
       "      <td>29</td>\n",
       "      <td>31</td>\n",
       "      <td>1051.44</td>\n",
       "    </tr>\n",
       "    <tr>\n",
       "      <th>9996</th>\n",
       "      <td>75</td>\n",
       "      <td>132260.10</td>\n",
       "      <td>38</td>\n",
       "      <td>45</td>\n",
       "      <td>1734.72</td>\n",
       "    </tr>\n",
       "    <tr>\n",
       "      <th>9997</th>\n",
       "      <td>98</td>\n",
       "      <td>104609.40</td>\n",
       "      <td>33</td>\n",
       "      <td>18</td>\n",
       "      <td>1527.76</td>\n",
       "    </tr>\n",
       "    <tr>\n",
       "      <th>9998</th>\n",
       "      <td>4</td>\n",
       "      <td>116568.90</td>\n",
       "      <td>32</td>\n",
       "      <td>36</td>\n",
       "      <td>1404.00</td>\n",
       "    </tr>\n",
       "    <tr>\n",
       "      <th>9999</th>\n",
       "      <td>24</td>\n",
       "      <td>27704.25</td>\n",
       "      <td>9</td>\n",
       "      <td>52</td>\n",
       "      <td>47.84</td>\n",
       "    </tr>\n",
       "  </tbody>\n",
       "</table>\n",
       "<p>10000 rows × 5 columns</p>\n",
       "</div>"
      ],
      "text/plain": [
       "      Rcn     Income  Frq  NetPurchase      Mnt\n",
       "0      66   95321.10   33           19  1458.08\n",
       "1       6  118674.15   32            9  1598.48\n",
       "2      69   29761.20   11           59    45.76\n",
       "3      10   98249.55   26           35   923.52\n",
       "4      26   96444.60   31           34  1183.52\n",
       "...   ...        ...  ...          ...      ...\n",
       "9995   72   57006.60   29           31  1051.44\n",
       "9996   75  132260.10   38           45  1734.72\n",
       "9997   98  104609.40   33           18  1527.76\n",
       "9998    4  116568.90   32           36  1404.00\n",
       "9999   24   27704.25    9           52    47.84\n",
       "\n",
       "[10000 rows x 5 columns]"
      ]
     },
     "execution_count": 7,
     "metadata": {},
     "output_type": "execute_result"
    }
   ],
   "source": [
    "df_value=df[['Rcn', 'Income','Frq', 'NetPurchase', 'Mnt']]\n",
    "df_value"
   ]
  },
  {
   "cell_type": "code",
   "execution_count": 46,
   "metadata": {},
   "outputs": [
    {
     "name": "stdout",
     "output_type": "stream",
     "text": [
      "<class 'pandas.core.frame.DataFrame'>\n",
      "Index: 10000 entries, 1001 to 11000\n",
      "Data columns (total 5 columns):\n",
      " #   Column       Non-Null Count  Dtype  \n",
      "---  ------       --------------  -----  \n",
      " 0   Rcn          10000 non-null  int64  \n",
      " 1   Income       9724 non-null   float64\n",
      " 2   Frq          10000 non-null  int64  \n",
      " 3   NetPurchase  10000 non-null  int64  \n",
      " 4   Mnt          10000 non-null  float64\n",
      "dtypes: float64(2), int64(3)\n",
      "memory usage: 468.8 KB\n"
     ]
    }
   ],
   "source": [
    "df_value.info()"
   ]
  },
  {
   "cell_type": "code",
   "execution_count": 47,
   "metadata": {},
   "outputs": [
    {
     "data": {
      "text/html": [
       "<div>\n",
       "<style scoped>\n",
       "    .dataframe tbody tr th:only-of-type {\n",
       "        vertical-align: middle;\n",
       "    }\n",
       "\n",
       "    .dataframe tbody tr th {\n",
       "        vertical-align: top;\n",
       "    }\n",
       "\n",
       "    .dataframe thead th {\n",
       "        text-align: right;\n",
       "    }\n",
       "</style>\n",
       "<table border=\"1\" class=\"dataframe\">\n",
       "  <thead>\n",
       "    <tr style=\"text-align: right;\">\n",
       "      <th></th>\n",
       "      <th>Rcn</th>\n",
       "      <th>Income</th>\n",
       "      <th>Frq</th>\n",
       "      <th>NetPurchase</th>\n",
       "      <th>Mnt</th>\n",
       "    </tr>\n",
       "  </thead>\n",
       "  <tbody>\n",
       "    <tr>\n",
       "      <th>count</th>\n",
       "      <td>10000.000000</td>\n",
       "      <td>9724.000000</td>\n",
       "      <td>10000.000000</td>\n",
       "      <td>10000.000000</td>\n",
       "      <td>10000.000000</td>\n",
       "    </tr>\n",
       "    <tr>\n",
       "      <th>mean</th>\n",
       "      <td>62.406800</td>\n",
       "      <td>73395.862330</td>\n",
       "      <td>19.844700</td>\n",
       "      <td>42.376200</td>\n",
       "      <td>647.457408</td>\n",
       "    </tr>\n",
       "    <tr>\n",
       "      <th>std</th>\n",
       "      <td>69.874255</td>\n",
       "      <td>29007.008048</td>\n",
       "      <td>10.912318</td>\n",
       "      <td>18.522062</td>\n",
       "      <td>673.020736</td>\n",
       "    </tr>\n",
       "    <tr>\n",
       "      <th>min</th>\n",
       "      <td>0.000000</td>\n",
       "      <td>10500.000000</td>\n",
       "      <td>3.000000</td>\n",
       "      <td>4.000000</td>\n",
       "      <td>6.240000</td>\n",
       "    </tr>\n",
       "    <tr>\n",
       "      <th>25%</th>\n",
       "      <td>26.000000</td>\n",
       "      <td>50066.362500</td>\n",
       "      <td>10.000000</td>\n",
       "      <td>28.000000</td>\n",
       "      <td>65.520000</td>\n",
       "    </tr>\n",
       "    <tr>\n",
       "      <th>50%</th>\n",
       "      <td>52.000000</td>\n",
       "      <td>73519.950000</td>\n",
       "      <td>17.000000</td>\n",
       "      <td>45.000000</td>\n",
       "      <td>398.320000</td>\n",
       "    </tr>\n",
       "    <tr>\n",
       "      <th>75%</th>\n",
       "      <td>78.250000</td>\n",
       "      <td>96752.512500</td>\n",
       "      <td>28.000000</td>\n",
       "      <td>57.000000</td>\n",
       "      <td>1120.080000</td>\n",
       "    </tr>\n",
       "    <tr>\n",
       "      <th>max</th>\n",
       "      <td>549.000000</td>\n",
       "      <td>147659.400000</td>\n",
       "      <td>59.000000</td>\n",
       "      <td>88.000000</td>\n",
       "      <td>3174.080000</td>\n",
       "    </tr>\n",
       "  </tbody>\n",
       "</table>\n",
       "</div>"
      ],
      "text/plain": [
       "                Rcn         Income           Frq   NetPurchase           Mnt\n",
       "count  10000.000000    9724.000000  10000.000000  10000.000000  10000.000000\n",
       "mean      62.406800   73395.862330     19.844700     42.376200    647.457408\n",
       "std       69.874255   29007.008048     10.912318     18.522062    673.020736\n",
       "min        0.000000   10500.000000      3.000000      4.000000      6.240000\n",
       "25%       26.000000   50066.362500     10.000000     28.000000     65.520000\n",
       "50%       52.000000   73519.950000     17.000000     45.000000    398.320000\n",
       "75%       78.250000   96752.512500     28.000000     57.000000   1120.080000\n",
       "max      549.000000  147659.400000     59.000000     88.000000   3174.080000"
      ]
     },
     "execution_count": 47,
     "metadata": {},
     "output_type": "execute_result"
    }
   ],
   "source": [
    "df_value.describe()"
   ]
  },
  {
   "cell_type": "code",
   "execution_count": 45,
   "metadata": {},
   "outputs": [
    {
     "data": {
      "text/plain": [
       "Rcn              0\n",
       "Income         276\n",
       "Frq              0\n",
       "NetPurchase      0\n",
       "Mnt              0\n",
       "dtype: int64"
      ]
     },
     "execution_count": 45,
     "metadata": {},
     "output_type": "execute_result"
    }
   ],
   "source": [
    "df_value.isnull().sum()"
   ]
  },
  {
   "cell_type": "markdown",
   "metadata": {},
   "source": [
    "Outliers"
   ]
  },
  {
   "cell_type": "code",
   "execution_count": 56,
   "metadata": {},
   "outputs": [
    {
     "data": {
      "image/png": "[encoded data removed]",
      "text/plain": [
       "<Figure size 2000x2500 with 6 Axes>"
      ]
     },
     "metadata": {},
     "output_type": "display_data"
    }
   ],
   "source": [
    "fig, ((ax1, ax2), (ax3, ax4), (ax5, ax6)) = plt.subplots(3, 2, figsize=(20, 25))\n",
    "\n",
    "sns.boxplot(ax=ax1, data=df_value, x='Rcn')\n",
    "sns.boxplot(ax=ax2, data=df_value, x='Income')\n",
    "sns.boxplot(ax=ax3, data=df_value, x='Frq')\n",
    "sns.boxplot(ax=ax4, data=df_value, x='NetPurchase')\n",
    "sns.boxplot(ax=ax5, data=df_value, x='Mnt')\n",
    "\n",
    "plt.tight_layout() \n",
    "plt.show()\n"
   ]
  },
  {
   "cell_type": "code",
   "execution_count": 58,
   "metadata": {},
   "outputs": [
    {
     "data": {
      "text/html": [
       "<div>\n",
       "<style scoped>\n",
       "    .dataframe tbody tr th:only-of-type {\n",
       "        vertical-align: middle;\n",
       "    }\n",
       "\n",
       "    .dataframe tbody tr th {\n",
       "        vertical-align: top;\n",
       "    }\n",
       "\n",
       "    .dataframe thead th {\n",
       "        text-align: right;\n",
       "    }\n",
       "</style>\n",
       "<table border=\"1\" class=\"dataframe\">\n",
       "  <thead>\n",
       "    <tr style=\"text-align: right;\">\n",
       "      <th></th>\n",
       "      <th>Rcn</th>\n",
       "      <th>Income</th>\n",
       "      <th>Frq</th>\n",
       "      <th>NetPurchase</th>\n",
       "      <th>Mnt</th>\n",
       "    </tr>\n",
       "    <tr>\n",
       "      <th>Custid</th>\n",
       "      <th></th>\n",
       "      <th></th>\n",
       "      <th></th>\n",
       "      <th></th>\n",
       "      <th></th>\n",
       "    </tr>\n",
       "  </thead>\n",
       "  <tbody>\n",
       "    <tr>\n",
       "      <th>1001</th>\n",
       "      <td>66</td>\n",
       "      <td>95321.10</td>\n",
       "      <td>33</td>\n",
       "      <td>19</td>\n",
       "      <td>1458.08</td>\n",
       "    </tr>\n",
       "    <tr>\n",
       "      <th>1002</th>\n",
       "      <td>6</td>\n",
       "      <td>118674.15</td>\n",
       "      <td>32</td>\n",
       "      <td>9</td>\n",
       "      <td>1598.48</td>\n",
       "    </tr>\n",
       "    <tr>\n",
       "      <th>1003</th>\n",
       "      <td>69</td>\n",
       "      <td>29761.20</td>\n",
       "      <td>11</td>\n",
       "      <td>59</td>\n",
       "      <td>45.76</td>\n",
       "    </tr>\n",
       "    <tr>\n",
       "      <th>1004</th>\n",
       "      <td>10</td>\n",
       "      <td>98249.55</td>\n",
       "      <td>26</td>\n",
       "      <td>35</td>\n",
       "      <td>923.52</td>\n",
       "    </tr>\n",
       "    <tr>\n",
       "      <th>1005</th>\n",
       "      <td>26</td>\n",
       "      <td>96444.60</td>\n",
       "      <td>31</td>\n",
       "      <td>34</td>\n",
       "      <td>1183.52</td>\n",
       "    </tr>\n",
       "    <tr>\n",
       "      <th>...</th>\n",
       "      <td>...</td>\n",
       "      <td>...</td>\n",
       "      <td>...</td>\n",
       "      <td>...</td>\n",
       "      <td>...</td>\n",
       "    </tr>\n",
       "    <tr>\n",
       "      <th>10996</th>\n",
       "      <td>72</td>\n",
       "      <td>57006.60</td>\n",
       "      <td>29</td>\n",
       "      <td>31</td>\n",
       "      <td>1051.44</td>\n",
       "    </tr>\n",
       "    <tr>\n",
       "      <th>10997</th>\n",
       "      <td>75</td>\n",
       "      <td>132260.10</td>\n",
       "      <td>38</td>\n",
       "      <td>45</td>\n",
       "      <td>1734.72</td>\n",
       "    </tr>\n",
       "    <tr>\n",
       "      <th>10998</th>\n",
       "      <td>98</td>\n",
       "      <td>104609.40</td>\n",
       "      <td>33</td>\n",
       "      <td>18</td>\n",
       "      <td>1527.76</td>\n",
       "    </tr>\n",
       "    <tr>\n",
       "      <th>10999</th>\n",
       "      <td>4</td>\n",
       "      <td>116568.90</td>\n",
       "      <td>32</td>\n",
       "      <td>36</td>\n",
       "      <td>1404.00</td>\n",
       "    </tr>\n",
       "    <tr>\n",
       "      <th>11000</th>\n",
       "      <td>24</td>\n",
       "      <td>27704.25</td>\n",
       "      <td>9</td>\n",
       "      <td>52</td>\n",
       "      <td>47.84</td>\n",
       "    </tr>\n",
       "  </tbody>\n",
       "</table>\n",
       "<p>9975 rows × 5 columns</p>\n",
       "</div>"
      ],
      "text/plain": [
       "        Rcn     Income  Frq  NetPurchase      Mnt\n",
       "Custid                                           \n",
       "1001     66   95321.10   33           19  1458.08\n",
       "1002      6  118674.15   32            9  1598.48\n",
       "1003     69   29761.20   11           59    45.76\n",
       "1004     10   98249.55   26           35   923.52\n",
       "1005     26   96444.60   31           34  1183.52\n",
       "...     ...        ...  ...          ...      ...\n",
       "10996    72   57006.60   29           31  1051.44\n",
       "10997    75  132260.10   38           45  1734.72\n",
       "10998    98  104609.40   33           18  1527.76\n",
       "10999     4  116568.90   32           36  1404.00\n",
       "11000    24   27704.25    9           52    47.84\n",
       "\n",
       "[9975 rows x 5 columns]"
      ]
     },
     "execution_count": 58,
     "metadata": {},
     "output_type": "execute_result"
    }
   ],
   "source": [
    "df_value = df_value.drop(df_value[(df_value['Frq'] > 55)].index)\n",
    "df_value = df_value.drop(df_value[(df['Mnt'] > 2700)].index)\n",
    "df_value"
   ]
  },
  {
   "cell_type": "markdown",
   "metadata": {},
   "source": [
    "### Missing values\n",
    "\n"
   ]
  },
  {
   "cell_type": "code",
   "execution_count": 59,
   "metadata": {},
   "outputs": [
    {
     "data": {
      "text/plain": [
       "np.float64(73255.32369316425)"
      ]
     },
     "execution_count": 59,
     "metadata": {},
     "output_type": "execute_result"
    }
   ],
   "source": [
    "income_mean =df_value['Income'].mean()\n",
    "income_mean"
   ]
  },
  {
   "cell_type": "code",
   "execution_count": 63,
   "metadata": {},
   "outputs": [],
   "source": [
    "df_value['Income'] = df_value['Income'].fillna(income_mean)"
   ]
  },
  {
   "cell_type": "code",
   "execution_count": 64,
   "metadata": {},
   "outputs": [
    {
     "data": {
      "text/plain": [
       "Rcn            0\n",
       "Income         0\n",
       "Frq            0\n",
       "NetPurchase    0\n",
       "Mnt            0\n",
       "dtype: int64"
      ]
     },
     "execution_count": 64,
     "metadata": {},
     "output_type": "execute_result"
    }
   ],
   "source": [
    "df_value.isnull().sum()"
   ]
  },
  {
   "cell_type": "code",
   "execution_count": 66,
   "metadata": {},
   "outputs": [
    {
     "data": {
      "text/html": [
       "<div>\n",
       "<style scoped>\n",
       "    .dataframe tbody tr th:only-of-type {\n",
       "        vertical-align: middle;\n",
       "    }\n",
       "\n",
       "    .dataframe tbody tr th {\n",
       "        vertical-align: top;\n",
       "    }\n",
       "\n",
       "    .dataframe thead th {\n",
       "        text-align: right;\n",
       "    }\n",
       "</style>\n",
       "<table border=\"1\" class=\"dataframe\">\n",
       "  <thead>\n",
       "    <tr style=\"text-align: right;\">\n",
       "      <th></th>\n",
       "      <th>Rcn</th>\n",
       "      <th>Income</th>\n",
       "      <th>Frq</th>\n",
       "      <th>NetPurchase</th>\n",
       "      <th>Mnt</th>\n",
       "    </tr>\n",
       "  </thead>\n",
       "  <tbody>\n",
       "    <tr>\n",
       "      <th>0</th>\n",
       "      <td>0.120219</td>\n",
       "      <td>0.618413</td>\n",
       "      <td>0.576923</td>\n",
       "      <td>0.168675</td>\n",
       "      <td>0.540457</td>\n",
       "    </tr>\n",
       "    <tr>\n",
       "      <th>1</th>\n",
       "      <td>0.010929</td>\n",
       "      <td>0.788675</td>\n",
       "      <td>0.557692</td>\n",
       "      <td>0.048193</td>\n",
       "      <td>0.592722</td>\n",
       "    </tr>\n",
       "    <tr>\n",
       "      <th>2</th>\n",
       "      <td>0.125683</td>\n",
       "      <td>0.140429</td>\n",
       "      <td>0.153846</td>\n",
       "      <td>0.650602</td>\n",
       "      <td>0.014712</td>\n",
       "    </tr>\n",
       "    <tr>\n",
       "      <th>3</th>\n",
       "      <td>0.018215</td>\n",
       "      <td>0.639763</td>\n",
       "      <td>0.442308</td>\n",
       "      <td>0.361446</td>\n",
       "      <td>0.341463</td>\n",
       "    </tr>\n",
       "    <tr>\n",
       "      <th>4</th>\n",
       "      <td>0.047359</td>\n",
       "      <td>0.626604</td>\n",
       "      <td>0.538462</td>\n",
       "      <td>0.349398</td>\n",
       "      <td>0.438250</td>\n",
       "    </tr>\n",
       "    <tr>\n",
       "      <th>...</th>\n",
       "      <td>...</td>\n",
       "      <td>...</td>\n",
       "      <td>...</td>\n",
       "      <td>...</td>\n",
       "      <td>...</td>\n",
       "    </tr>\n",
       "    <tr>\n",
       "      <th>9970</th>\n",
       "      <td>0.131148</td>\n",
       "      <td>0.339070</td>\n",
       "      <td>0.500000</td>\n",
       "      <td>0.313253</td>\n",
       "      <td>0.389082</td>\n",
       "    </tr>\n",
       "    <tr>\n",
       "      <th>9971</th>\n",
       "      <td>0.136612</td>\n",
       "      <td>0.887727</td>\n",
       "      <td>0.673077</td>\n",
       "      <td>0.481928</td>\n",
       "      <td>0.643438</td>\n",
       "    </tr>\n",
       "    <tr>\n",
       "      <th>9972</th>\n",
       "      <td>0.178506</td>\n",
       "      <td>0.686132</td>\n",
       "      <td>0.576923</td>\n",
       "      <td>0.156627</td>\n",
       "      <td>0.566396</td>\n",
       "    </tr>\n",
       "    <tr>\n",
       "      <th>9973</th>\n",
       "      <td>0.007286</td>\n",
       "      <td>0.773326</td>\n",
       "      <td>0.557692</td>\n",
       "      <td>0.373494</td>\n",
       "      <td>0.520325</td>\n",
       "    </tr>\n",
       "    <tr>\n",
       "      <th>9974</th>\n",
       "      <td>0.043716</td>\n",
       "      <td>0.125433</td>\n",
       "      <td>0.115385</td>\n",
       "      <td>0.566265</td>\n",
       "      <td>0.015486</td>\n",
       "    </tr>\n",
       "  </tbody>\n",
       "</table>\n",
       "<p>9975 rows × 5 columns</p>\n",
       "</div>"
      ],
      "text/plain": [
       "           Rcn    Income       Frq  NetPurchase       Mnt\n",
       "0     0.120219  0.618413  0.576923     0.168675  0.540457\n",
       "1     0.010929  0.788675  0.557692     0.048193  0.592722\n",
       "2     0.125683  0.140429  0.153846     0.650602  0.014712\n",
       "3     0.018215  0.639763  0.442308     0.361446  0.341463\n",
       "4     0.047359  0.626604  0.538462     0.349398  0.438250\n",
       "...        ...       ...       ...          ...       ...\n",
       "9970  0.131148  0.339070  0.500000     0.313253  0.389082\n",
       "9971  0.136612  0.887727  0.673077     0.481928  0.643438\n",
       "9972  0.178506  0.686132  0.576923     0.156627  0.566396\n",
       "9973  0.007286  0.773326  0.557692     0.373494  0.520325\n",
       "9974  0.043716  0.125433  0.115385     0.566265  0.015486\n",
       "\n",
       "[9975 rows x 5 columns]"
      ]
     },
     "execution_count": 66,
     "metadata": {},
     "output_type": "execute_result"
    }
   ],
   "source": [
    "from sklearn.preprocessing import MinMaxScaler\n",
    "\n",
    "scaler = MinMaxScaler()\n",
    "scaled_df_value = scaler.fit_transform(df_value)\n",
    "scaled_df_value\n",
    "cols = df_value.columns\n",
    "scaled_df = pd.DataFrame(scaled_df_value, columns = cols)\n",
    "scaled_df\n"
   ]
  },
  {
   "cell_type": "markdown",
   "metadata": {},
   "source": [
    "__`Step 2`__ - Determine the optimal number of clusters by using the elbow method."
   ]
  },
  {
   "cell_type": "code",
   "execution_count": 67,
   "metadata": {},
   "outputs": [],
   "source": [
    "ks = range(1, 11)\n",
    "inertias = []\n",
    "\n",
    "for k in ks:\n",
    "    model = KMeans(n_clusters=k).fit(scaled_df)\n",
    "    inertias.append(model.inertia_)"
   ]
  },
  {
   "cell_type": "code",
   "execution_count": 68,
   "metadata": {},
   "outputs": [
    {
     "data": {
      "image/png": "[encoded data removed]",
      "text/plain": [
       "<Figure size 640x480 with 1 Axes>"
      ]
     },
     "metadata": {},
     "output_type": "display_data"
    }
   ],
   "source": [
    "# Plot ks (x-axis) vs inertias (y-axis) using plt.plot(). \n",
    "plt.plot(ks, inertias)\n",
    "\n",
    "# define the label for the x axis as 'number of clusters' using matplotlib.pyplot.xlabel\n",
    "plt.xlabel('number of clusters')\n",
    "# define the label for the y axis as 'inertia' using matplotlib.pyplot.ylabel\n",
    "plt.ylabel('inertia')\n",
    "# define the ticks on the x axis using the values of ks\n",
    "plt.xticks(ks)\n",
    "# call plt.show()\n",
    "plt.show()"
   ]
  },
  {
   "cell_type": "markdown",
   "metadata": {},
   "source": [
    "__`Step 3`__ - Apply KMeans to the data using the number of clusters determined in the previous step."
   ]
  },
  {
   "cell_type": "markdown",
   "metadata": {},
   "source": [
    "K=3"
   ]
  },
  {
   "cell_type": "code",
   "execution_count": 1,
   "metadata": {},
   "outputs": [
    {
     "ename": "NameError",
     "evalue": "name 'df_value' is not defined",
     "output_type": "error",
     "traceback": [
      "\u001b[1;31m---------------------------------------------------------------------------\u001b[0m",
      "\u001b[1;31mNameError\u001b[0m                                 Traceback (most recent call last)",
      "Cell \u001b[1;32mIn[1], line 1\u001b[0m\n\u001b[1;32m----> 1\u001b[0m df_prod_k3 \u001b[38;5;241m=\u001b[39m \u001b[43mdf_value\u001b[49m\u001b[38;5;241m.\u001b[39mcopy()\n\u001b[0;32m      2\u001b[0m model_k3 \u001b[38;5;241m=\u001b[39m KMeans(n_clusters\u001b[38;5;241m=\u001b[39m\u001b[38;5;241m3\u001b[39m, random_state \u001b[38;5;241m=\u001b[39m \u001b[38;5;241m100\u001b[39m)\u001b[38;5;241m.\u001b[39mfit(df_prod_k3)\n",
      "\u001b[1;31mNameError\u001b[0m: name 'df_value' is not defined"
     ]
    }
   ],
   "source": [
    "df_prod_k3 = df_value.copy()\n",
    "model_k3 = KMeans(n_clusters=3, random_state = 100).fit(df_prod_k3)"
   ]
  },
  {
   "cell_type": "markdown",
   "metadata": {},
   "source": [
    "__`Step 4`__- Create a new dataframe called `df_value_kx`, where x is number of clusters. Then, assign a label to each observation based on its cluster and assign a name to each label, storing it in a variable called `CustomerValue`."
   ]
  },
  {
   "cell_type": "code",
   "execution_count": null,
   "metadata": {},
   "outputs": [],
   "source": []
  },
  {
   "cell_type": "markdown",
   "metadata": {},
   "source": [
    "__`Step 5`__- Use the `describe()` method to view the descriptive statistics for each cluster."
   ]
  },
  {
   "cell_type": "code",
   "execution_count": null,
   "metadata": {},
   "outputs": [],
   "source": []
  },
  {
   "cell_type": "markdown",
   "metadata": {},
   "source": [
    "[BACK TO TOC](#toc)\n",
    "\n",
    "<div class=\"alert alert-block alert-success\">\n",
    "<a id='merge'>\n",
    "<font color = '#006400'> \n",
    "\n",
    "## 5. Merge different perspectives </font>\n",
    "</a>\n",
    "    \n",
    "</div>"
   ]
  },
  {
   "cell_type": "markdown",
   "metadata": {},
   "source": [
    "__Step 23:__ When applying different perspectives, you need at the end to concatenate them in order to obtain a \"full-overview\" of each customer."
   ]
  },
  {
   "cell_type": "code",
   "execution_count": null,
   "metadata": {},
   "outputs": [],
   "source": [
    "merge_pespectives_df = pd.concat([df_prod_k3, df_value_k3['CostumerValue']], axis = 1)\n",
    "merge_pespectives_df.head(3)"
   ]
  },
  {
   "cell_type": "markdown",
   "metadata": {},
   "source": [
    "__Step 24:__ Create a new column named `concat` that contains the information of each cluster for both perspectives for each customer."
   ]
  },
  {
   "cell_type": "code",
   "execution_count": null,
   "metadata": {},
   "outputs": [],
   "source": [
    "merge_pespectives_df['concat'] = merge_pespectives_df['ProductUsage'].astype(str) \\\n",
    "                                 + ' AND ' + merge_pespectives_df['CostumerValue'].astype(str)"
   ]
  },
  {
   "cell_type": "markdown",
   "metadata": {},
   "source": [
    "__Step 25:__ Check how many customers you have in each group using the method `value_counts()`."
   ]
  },
  {
   "cell_type": "code",
   "execution_count": null,
   "metadata": {},
   "outputs": [],
   "source": [
    "merge_pespectives_df['concat'].value_counts()"
   ]
  },
  {
   "cell_type": "markdown",
   "metadata": {},
   "source": [
    "__Step 26:__ Check how many customers you have in each group using a crosstable."
   ]
  },
  {
   "cell_type": "code",
   "execution_count": null,
   "metadata": {},
   "outputs": [],
   "source": [
    "# create a crosstable using pandas\n",
    "resp = pd.crosstab(index = merge_pespectives_df['ProductUsage'], columns = merge_pespectives_df['CostumerValue'])\n",
    "\n",
    "fig, ax = plt.subplots(figsize = (6, 3), dpi = 80, facecolor = 'w', edgecolor = 'k', constrained_layout = False)\n",
    "\n",
    "# plot the crosstable as a heatmap\n",
    "sns.heatmap(resp,  annot = True, fmt = '.0f', cmap = 'GnBu', vmin = 0, linewidths = .5,\\\n",
    "                     cbar_kws = {'shrink': .75, 'label': 'Customer Counts'})\n",
    "ax.set_xticklabels(ax.get_xticklabels(), rotation = 20, horizontalalignment = \"right\")\n",
    "\n",
    "ax.invert_yaxis()\n",
    "ax.xaxis.set_ticks_position('bottom')\n",
    "ax.xaxis.set_label_position('bottom')"
   ]
  }
 ],
 "metadata": {
  "kernelspec": {
   "display_name": "nome_do_ambiente",
   "language": "python",
   "name": "python3"
  },
  "language_info": {
   "codemirror_mode": {
    "name": "ipython",
    "version": 3
   },
   "file_extension": ".py",
   "mimetype": "text/x-python",
   "name": "python",
   "nbconvert_exporter": "python",
   "pygments_lexer": "ipython3",
   "version": "3.11.9"
  },
  "varInspector": {
   "cols": {
    "lenName": 16,
    "lenType": 16,
    "lenVar": 40
   },
   "kernels_config": {
    "python": {
     "delete_cmd_postfix": "",
     "delete_cmd_prefix": "del ",
     "library": "var_list.py",
     "varRefreshCmd": "print(var_dic_list())"
    },
    "r": {
     "delete_cmd_postfix": ") ",
     "delete_cmd_prefix": "rm(",
     "library": "var_list.r",
     "varRefreshCmd": "cat(var_dic_list()) "
    }
   },
   "position": {
    "height": "144.716px",
    "left": "1328.09px",
    "right": "20px",
    "top": "77px",
    "width": "350px"
   },
   "types_to_exclude": [
    "module",
    "function",
    "builtin_function_or_method",
    "instance",
    "_Feature"
   ],
   "window_display": false
  }
 },
 "nbformat": 4,
 "nbformat_minor": 4
}
