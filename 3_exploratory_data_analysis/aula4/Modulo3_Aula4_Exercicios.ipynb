{
 "cells": [
  {
   "cell_type": "markdown",
   "id": "082da1d8-b945-469f-94dd-5fe9c9f85d1d",
   "metadata": {},
   "source": [
    "# <p style=\"text-align: center;\"> MÓDULO 3 - EXPLORATORY DATA ANALYTICS </p>\n",
    "## Aula 4\n",
    "\n",
    "### <span style=\"color: blue;\"> * **Exercicio 1**</span>\n"
   ]
  },
  {
   "attachments": {},
   "cell_type": "markdown",
   "id": "8ab133a9-2ff7-4b47-8de2-66a7033cba29",
   "metadata": {},
   "source": [
    "**Passo 1** - **Importar** os dados do ficheiro Carros4 para uma DataFrame chamada **Carros4** e **apagar** colunas criadas via **transformações** das variáveis originais."
   ]
  },
  {
   "cell_type": "code",
   "execution_count": 132,
   "id": "717e0fa2-a24f-4d8d-a34d-7b4f56cac9fd",
   "metadata": {},
   "outputs": [],
   "source": [
    "import pandas as pd\n",
    "Carros4 = pd.read_csv('C:/Users/basketa/EDIT/MODULO3/AULA4/Carros4.csv')"
   ]
  },
  {
   "cell_type": "code",
   "execution_count": 133,
   "id": "1af52608-dc64-4870-ace4-06326cc929cd",
   "metadata": {},
   "outputs": [
    {
     "name": "stdout",
     "output_type": "stream",
     "text": [
      "<class 'pandas.core.frame.DataFrame'>\n",
      "RangeIndex: 200 entries, 0 to 199\n",
      "Data columns (total 19 columns):\n",
      " #   Column           Non-Null Count  Dtype  \n",
      "---  ------           --------------  -----  \n",
      " 0   make             200 non-null    object \n",
      " 1   fuel-type        200 non-null    object \n",
      " 2   aspiration       200 non-null    object \n",
      " 3   num-of-doors     200 non-null    object \n",
      " 4   body-style       200 non-null    object \n",
      " 5   drive-wheels     200 non-null    object \n",
      " 6   engine-location  200 non-null    object \n",
      " 7   wheel-base       200 non-null    float64\n",
      " 8   length           200 non-null    float64\n",
      " 9   width            200 non-null    float64\n",
      " 10  height           200 non-null    float64\n",
      " 11  curb-weight      200 non-null    int64  \n",
      " 12  engine-size      200 non-null    int64  \n",
      " 13  horsepower       200 non-null    int64  \n",
      " 14  price            200 non-null    int64  \n",
      " 15  length_min_max   200 non-null    float64\n",
      " 16  width_std        200 non-null    float64\n",
      " 17  height_log       200 non-null    float64\n",
      " 18  price_decile     200 non-null    float64\n",
      "dtypes: float64(8), int64(4), object(7)\n",
      "memory usage: 29.8+ KB\n"
     ]
    }
   ],
   "source": [
    "Carros4.info()"
   ]
  },
  {
   "cell_type": "code",
   "execution_count": 134,
   "id": "b1b16e38-b571-47c5-b851-4e970d06fac2",
   "metadata": {},
   "outputs": [],
   "source": [
    "Carros4 = Carros4.drop(['length_min_max','width_std','height_log','price_decile'], axis = 1)"
   ]
  },
  {
   "cell_type": "code",
   "execution_count": 135,
   "id": "32108585-8d5c-4ac8-9c0a-658262dfabf7",
   "metadata": {},
   "outputs": [
    {
     "name": "stdout",
     "output_type": "stream",
     "text": [
      "<class 'pandas.core.frame.DataFrame'>\n",
      "RangeIndex: 200 entries, 0 to 199\n",
      "Data columns (total 15 columns):\n",
      " #   Column           Non-Null Count  Dtype  \n",
      "---  ------           --------------  -----  \n",
      " 0   make             200 non-null    object \n",
      " 1   fuel-type        200 non-null    object \n",
      " 2   aspiration       200 non-null    object \n",
      " 3   num-of-doors     200 non-null    object \n",
      " 4   body-style       200 non-null    object \n",
      " 5   drive-wheels     200 non-null    object \n",
      " 6   engine-location  200 non-null    object \n",
      " 7   wheel-base       200 non-null    float64\n",
      " 8   length           200 non-null    float64\n",
      " 9   width            200 non-null    float64\n",
      " 10  height           200 non-null    float64\n",
      " 11  curb-weight      200 non-null    int64  \n",
      " 12  engine-size      200 non-null    int64  \n",
      " 13  horsepower       200 non-null    int64  \n",
      " 14  price            200 non-null    int64  \n",
      "dtypes: float64(4), int64(4), object(7)\n",
      "memory usage: 23.6+ KB\n"
     ]
    }
   ],
   "source": [
    "Carros4.info()"
   ]
  },
  {
   "attachments": {},
   "cell_type": "markdown",
   "id": "2b269829-3241-4b5f-9556-22a2e96e556e",
   "metadata": {},
   "source": [
    "**Passo 2** - Analisar as variáveis quantitativas e calcular o **número de outliers**, segundo o **IQR**,\n",
    "que cada uma tem."
   ]
  },
  {
   "cell_type": "code",
   "execution_count": 137,
   "id": "4a76c088-7c6f-41dd-b548-9bc2e57bf47f",
   "metadata": {},
   "outputs": [],
   "source": [
    "lista = list(Carros4.describe().columns)"
   ]
  },
  {
   "cell_type": "code",
   "execution_count": 138,
   "id": "f440635e-4c3f-4ed3-96db-99c731297913",
   "metadata": {},
   "outputs": [
    {
     "data": {
      "text/plain": [
       "['wheel-base',\n",
       " 'length',\n",
       " 'width',\n",
       " 'height',\n",
       " 'curb-weight',\n",
       " 'engine-size',\n",
       " 'horsepower',\n",
       " 'price']"
      ]
     },
     "execution_count": 138,
     "metadata": {},
     "output_type": "execute_result"
    }
   ],
   "source": [
    "lista"
   ]
  },
  {
   "cell_type": "code",
   "execution_count": 139,
   "id": "29a8b81c-ea89-46e6-8591-8b0cab72fd56",
   "metadata": {},
   "outputs": [
    {
     "name": "stdout",
     "output_type": "stream",
     "text": [
      "outliers wheel-base: 3\n",
      "outliers length: 1\n",
      "outliers width: 9\n",
      "outliers height: 0\n",
      "outliers curb-weight: 0\n",
      "outliers engine-size: 10\n",
      "outliers horsepower: 5\n",
      "outliers price: 14\n"
     ]
    }
   ],
   "source": [
    "for i in lista:\n",
    "    q1 = Carros4[i].quantile(0.25)\n",
    "    q3 = Carros4[i].quantile(0.75)\n",
    "    IQR = q3 - q1\n",
    "    limite_inf = q1 - 1.5 * IQR\n",
    "    limite_sup = q3 + 1.5 *IQR   \n",
    "    print (\"outliers \" + i + \": \" + str(len(Carros4)-len(Carros4[(Carros4[i] >= limite_inf) & (Carros4[i] <= limite_sup)])))"
   ]
  },
  {
   "attachments": {},
   "cell_type": "markdown",
   "id": "2018c427-6476-4983-9281-228ed49063da",
   "metadata": {},
   "source": [
    "**Passo 3** - Considerar a variável quantitativa com **menor número de outliers** segundo os cálculos do passo anterior e **eliminar** os registos classificados como **outliers**."
   ]
  },
  {
   "cell_type": "code",
   "execution_count": 141,
   "id": "f69e89f4-c6aa-48fa-b59f-29eb4ef1ec0a",
   "metadata": {},
   "outputs": [],
   "source": [
    "q1 = Carros4['length'].quantile(0.25)\n",
    "q3 = Carros4['length'].quantile(0.75)\n",
    "\n",
    "IQR = q3 - q1\n",
    "\n",
    "limite_inf = q1 - 1.5 * IQR\n",
    "limite_sup = q3 + 1.5 * IQR\n",
    "\n",
    "Carros4 = Carros4[(Carros4['length'] >= limite_inf) & (Carros4['length'] <= limite_sup)]"
   ]
  },
  {
   "attachments": {},
   "cell_type": "markdown",
   "id": "7d665565-a25d-40c4-8b1f-5ed8ac3fb3a7",
   "metadata": {},
   "source": [
    "**Passo 4** - Verificar que **já não existem outliers**, segundo o IQR, na variável em questão."
   ]
  },
  {
   "cell_type": "code",
   "execution_count": 143,
   "id": "06b9c79d-f2e4-4e87-bc30-10bb360fd504",
   "metadata": {},
   "outputs": [
    {
     "name": "stdout",
     "output_type": "stream",
     "text": [
      "0\n"
     ]
    }
   ],
   "source": [
    "\n",
    "outliers_length = Carros4[(Carros4['length'] < limite_inf) | (Carros4['length'] > limite_sup)]\n",
    "\n",
    "num_outliers_length = outliers_length.shape[0]\n",
    "\n",
    "print(num_outliers_length)\n"
   ]
  },
  {
   "attachments": {},
   "cell_type": "markdown",
   "id": "bf0aecc7-be68-45b7-8fcf-b2d313c67e0a",
   "metadata": {},
   "source": [
    "**Passo 5** - Analisar novamente as variáveis quantitativas e, calcular o **número de outliers**, agora segundo o método de **Estandardização**, que cada uma tem."
   ]
  },
  {
   "cell_type": "code",
   "execution_count": 145,
   "id": "c358628a-6107-4630-b410-3da3be084c7c",
   "metadata": {},
   "outputs": [
    {
     "name": "stdout",
     "output_type": "stream",
     "text": [
      "wheel-base     1\n",
      "length         0\n",
      "width          0\n",
      "height         0\n",
      "curb-weight    0\n",
      "engine-size    5\n",
      "horsepower     1\n",
      "price          3\n",
      "dtype: int64\n"
     ]
    }
   ],
   "source": [
    "import numpy as np\n",
    "\n",
    "var_quant = Carros4.select_dtypes(include=np.number)\n",
    "\n",
    "standard = (var_quant - var_quant.mean()) / var_quant.std()\n",
    "\n",
    "outliers_standard = ((standard < -3) | (standard > 3)).sum()\n",
    "\n",
    "print(outliers_standard)"
   ]
  },
  {
   "attachments": {},
   "cell_type": "markdown",
   "id": "aefb2737-f3d5-4a7c-bce1-4e42f2c47964",
   "metadata": {},
   "source": [
    "**Passo 6** - Considerar as duas variáveis quantitativas com **menor número de outliers** segundo os cálculos do passo anterior, e criar uma **nova variável** com base nessas, como o **sufixo “_lim”**, onde se **restringe os seus valores** com base nos limites inferior e superior calculados no método\n",
    "de **Estandardização**."
   ]
  },
  {
   "cell_type": "code",
   "execution_count": 157,
   "id": "774f003c-3875-422d-aa4c-8e1b0cca2204",
   "metadata": {},
   "outputs": [],
   "source": [
    "var_quant2 = ['wheel-base', 'horsepower']\n",
    "\n",
    "for column in var_quant2:\n",
    "    \n",
    "    avg = Carros4[column].mean()\n",
    "    std = Carros4[column].std()\n",
    "    \n",
    "    concat = column + '_lim'\n",
    "    \n",
    "    Carros4[concat] = [x if abs((x - avg) / std) <= 3 else\n",
    "                        avg - 3 * std if (x - avg) / std < -3 else\n",
    "                        avg + 3 * std\n",
    "                        for x in Carros4[column]\n",
    "                      ]"
   ]
  },
  {
   "attachments": {},
   "cell_type": "markdown",
   "id": "05776981-3ab3-47ea-a06c-4c7badd1b74e",
   "metadata": {},
   "source": [
    "**Passo 7** - Validar em que **observações** as variáveis originais e as “_lim” tomam **valores diferentes**"
   ]
  },
  {
   "cell_type": "code",
   "execution_count": 163,
   "id": "0700f2e4-e19e-49dd-9536-007bef76b6e8",
   "metadata": {},
   "outputs": [
    {
     "data": {
      "text/html": [
       "<div>\n",
       "<style scoped>\n",
       "    .dataframe tbody tr th:only-of-type {\n",
       "        vertical-align: middle;\n",
       "    }\n",
       "\n",
       "    .dataframe tbody tr th {\n",
       "        vertical-align: top;\n",
       "    }\n",
       "\n",
       "    .dataframe thead th {\n",
       "        text-align: right;\n",
       "    }\n",
       "</style>\n",
       "<table border=\"1\" class=\"dataframe\">\n",
       "  <thead>\n",
       "    <tr style=\"text-align: right;\">\n",
       "      <th></th>\n",
       "      <th>make</th>\n",
       "      <th>fuel-type</th>\n",
       "      <th>aspiration</th>\n",
       "      <th>num-of-doors</th>\n",
       "      <th>body-style</th>\n",
       "      <th>drive-wheels</th>\n",
       "      <th>engine-location</th>\n",
       "      <th>wheel-base</th>\n",
       "      <th>length</th>\n",
       "      <th>width</th>\n",
       "      <th>height</th>\n",
       "      <th>curb-weight</th>\n",
       "      <th>engine-size</th>\n",
       "      <th>horsepower</th>\n",
       "      <th>price</th>\n",
       "      <th>wheel-base_lim</th>\n",
       "      <th>horsepower_lim</th>\n",
       "    </tr>\n",
       "  </thead>\n",
       "  <tbody>\n",
       "    <tr>\n",
       "      <th>130</th>\n",
       "      <td>honda</td>\n",
       "      <td>gas</td>\n",
       "      <td>std</td>\n",
       "      <td>two</td>\n",
       "      <td>hatchback</td>\n",
       "      <td>fwd</td>\n",
       "      <td>front</td>\n",
       "      <td>86.6</td>\n",
       "      <td>144.6</td>\n",
       "      <td>63.9</td>\n",
       "      <td>50.8</td>\n",
       "      <td>1819</td>\n",
       "      <td>92</td>\n",
       "      <td>76</td>\n",
       "      <td>6855</td>\n",
       "      <td>86.600000</td>\n",
       "      <td>76.0</td>\n",
       "    </tr>\n",
       "    <tr>\n",
       "      <th>118</th>\n",
       "      <td>honda</td>\n",
       "      <td>gas</td>\n",
       "      <td>std</td>\n",
       "      <td>two</td>\n",
       "      <td>hatchback</td>\n",
       "      <td>fwd</td>\n",
       "      <td>front</td>\n",
       "      <td>86.6</td>\n",
       "      <td>144.6</td>\n",
       "      <td>63.9</td>\n",
       "      <td>50.8</td>\n",
       "      <td>1713</td>\n",
       "      <td>92</td>\n",
       "      <td>58</td>\n",
       "      <td>6479</td>\n",
       "      <td>86.600000</td>\n",
       "      <td>58.0</td>\n",
       "    </tr>\n",
       "    <tr>\n",
       "      <th>51</th>\n",
       "      <td>alfa-romero</td>\n",
       "      <td>gas</td>\n",
       "      <td>std</td>\n",
       "      <td>two</td>\n",
       "      <td>convertible</td>\n",
       "      <td>rwd</td>\n",
       "      <td>front</td>\n",
       "      <td>88.6</td>\n",
       "      <td>168.8</td>\n",
       "      <td>64.1</td>\n",
       "      <td>48.8</td>\n",
       "      <td>2548</td>\n",
       "      <td>130</td>\n",
       "      <td>111</td>\n",
       "      <td>16500</td>\n",
       "      <td>88.600000</td>\n",
       "      <td>111.0</td>\n",
       "    </tr>\n",
       "    <tr>\n",
       "      <th>31</th>\n",
       "      <td>alfa-romero</td>\n",
       "      <td>gas</td>\n",
       "      <td>std</td>\n",
       "      <td>two</td>\n",
       "      <td>convertible</td>\n",
       "      <td>rwd</td>\n",
       "      <td>front</td>\n",
       "      <td>88.6</td>\n",
       "      <td>168.8</td>\n",
       "      <td>64.1</td>\n",
       "      <td>48.8</td>\n",
       "      <td>2548</td>\n",
       "      <td>130</td>\n",
       "      <td>111</td>\n",
       "      <td>13495</td>\n",
       "      <td>88.600000</td>\n",
       "      <td>111.0</td>\n",
       "    </tr>\n",
       "    <tr>\n",
       "      <th>91</th>\n",
       "      <td>porsche</td>\n",
       "      <td>gas</td>\n",
       "      <td>std</td>\n",
       "      <td>two</td>\n",
       "      <td>hardtop</td>\n",
       "      <td>rwd</td>\n",
       "      <td>rear</td>\n",
       "      <td>89.5</td>\n",
       "      <td>168.9</td>\n",
       "      <td>65.0</td>\n",
       "      <td>51.6</td>\n",
       "      <td>2756</td>\n",
       "      <td>194</td>\n",
       "      <td>207</td>\n",
       "      <td>32528</td>\n",
       "      <td>89.500000</td>\n",
       "      <td>207.0</td>\n",
       "    </tr>\n",
       "    <tr>\n",
       "      <th>...</th>\n",
       "      <td>...</td>\n",
       "      <td>...</td>\n",
       "      <td>...</td>\n",
       "      <td>...</td>\n",
       "      <td>...</td>\n",
       "      <td>...</td>\n",
       "      <td>...</td>\n",
       "      <td>...</td>\n",
       "      <td>...</td>\n",
       "      <td>...</td>\n",
       "      <td>...</td>\n",
       "      <td>...</td>\n",
       "      <td>...</td>\n",
       "      <td>...</td>\n",
       "      <td>...</td>\n",
       "      <td>...</td>\n",
       "      <td>...</td>\n",
       "    </tr>\n",
       "    <tr>\n",
       "      <th>60</th>\n",
       "      <td>peugot</td>\n",
       "      <td>diesel</td>\n",
       "      <td>turbo</td>\n",
       "      <td>four</td>\n",
       "      <td>wagon</td>\n",
       "      <td>rwd</td>\n",
       "      <td>front</td>\n",
       "      <td>114.2</td>\n",
       "      <td>198.9</td>\n",
       "      <td>68.4</td>\n",
       "      <td>58.7</td>\n",
       "      <td>3485</td>\n",
       "      <td>152</td>\n",
       "      <td>95</td>\n",
       "      <td>17075</td>\n",
       "      <td>114.200000</td>\n",
       "      <td>95.0</td>\n",
       "    </tr>\n",
       "    <tr>\n",
       "      <th>36</th>\n",
       "      <td>peugot</td>\n",
       "      <td>diesel</td>\n",
       "      <td>turbo</td>\n",
       "      <td>four</td>\n",
       "      <td>wagon</td>\n",
       "      <td>rwd</td>\n",
       "      <td>front</td>\n",
       "      <td>114.2</td>\n",
       "      <td>198.9</td>\n",
       "      <td>68.4</td>\n",
       "      <td>58.7</td>\n",
       "      <td>3430</td>\n",
       "      <td>152</td>\n",
       "      <td>95</td>\n",
       "      <td>13860</td>\n",
       "      <td>114.200000</td>\n",
       "      <td>95.0</td>\n",
       "    </tr>\n",
       "    <tr>\n",
       "      <th>93</th>\n",
       "      <td>mercedes-benz</td>\n",
       "      <td>gas</td>\n",
       "      <td>std</td>\n",
       "      <td>four</td>\n",
       "      <td>sedan</td>\n",
       "      <td>rwd</td>\n",
       "      <td>front</td>\n",
       "      <td>115.6</td>\n",
       "      <td>202.6</td>\n",
       "      <td>71.7</td>\n",
       "      <td>56.5</td>\n",
       "      <td>3740</td>\n",
       "      <td>234</td>\n",
       "      <td>155</td>\n",
       "      <td>34184</td>\n",
       "      <td>115.600000</td>\n",
       "      <td>155.0</td>\n",
       "    </tr>\n",
       "    <tr>\n",
       "      <th>89</th>\n",
       "      <td>mercedes-benz</td>\n",
       "      <td>diesel</td>\n",
       "      <td>turbo</td>\n",
       "      <td>four</td>\n",
       "      <td>sedan</td>\n",
       "      <td>rwd</td>\n",
       "      <td>front</td>\n",
       "      <td>115.6</td>\n",
       "      <td>202.6</td>\n",
       "      <td>71.7</td>\n",
       "      <td>56.3</td>\n",
       "      <td>3770</td>\n",
       "      <td>183</td>\n",
       "      <td>123</td>\n",
       "      <td>31600</td>\n",
       "      <td>115.600000</td>\n",
       "      <td>123.0</td>\n",
       "    </tr>\n",
       "    <tr>\n",
       "      <th>99</th>\n",
       "      <td>mercedes-benz</td>\n",
       "      <td>gas</td>\n",
       "      <td>std</td>\n",
       "      <td>four</td>\n",
       "      <td>sedan</td>\n",
       "      <td>rwd</td>\n",
       "      <td>front</td>\n",
       "      <td>120.9</td>\n",
       "      <td>208.1</td>\n",
       "      <td>71.7</td>\n",
       "      <td>56.7</td>\n",
       "      <td>3900</td>\n",
       "      <td>308</td>\n",
       "      <td>184</td>\n",
       "      <td>40960</td>\n",
       "      <td>116.998373</td>\n",
       "      <td>184.0</td>\n",
       "    </tr>\n",
       "  </tbody>\n",
       "</table>\n",
       "<p>199 rows × 17 columns</p>\n",
       "</div>"
      ],
      "text/plain": [
       "              make fuel-type aspiration num-of-doors   body-style  \\\n",
       "130          honda       gas        std          two    hatchback   \n",
       "118          honda       gas        std          two    hatchback   \n",
       "51     alfa-romero       gas        std          two  convertible   \n",
       "31     alfa-romero       gas        std          two  convertible   \n",
       "91         porsche       gas        std          two      hardtop   \n",
       "..             ...       ...        ...          ...          ...   \n",
       "60          peugot    diesel      turbo         four        wagon   \n",
       "36          peugot    diesel      turbo         four        wagon   \n",
       "93   mercedes-benz       gas        std         four        sedan   \n",
       "89   mercedes-benz    diesel      turbo         four        sedan   \n",
       "99   mercedes-benz       gas        std         four        sedan   \n",
       "\n",
       "    drive-wheels engine-location  wheel-base  length  width  height  \\\n",
       "130          fwd           front        86.6   144.6   63.9    50.8   \n",
       "118          fwd           front        86.6   144.6   63.9    50.8   \n",
       "51           rwd           front        88.6   168.8   64.1    48.8   \n",
       "31           rwd           front        88.6   168.8   64.1    48.8   \n",
       "91           rwd            rear        89.5   168.9   65.0    51.6   \n",
       "..           ...             ...         ...     ...    ...     ...   \n",
       "60           rwd           front       114.2   198.9   68.4    58.7   \n",
       "36           rwd           front       114.2   198.9   68.4    58.7   \n",
       "93           rwd           front       115.6   202.6   71.7    56.5   \n",
       "89           rwd           front       115.6   202.6   71.7    56.3   \n",
       "99           rwd           front       120.9   208.1   71.7    56.7   \n",
       "\n",
       "     curb-weight  engine-size  horsepower  price  wheel-base_lim  \\\n",
       "130         1819           92          76   6855       86.600000   \n",
       "118         1713           92          58   6479       86.600000   \n",
       "51          2548          130         111  16500       88.600000   \n",
       "31          2548          130         111  13495       88.600000   \n",
       "91          2756          194         207  32528       89.500000   \n",
       "..           ...          ...         ...    ...             ...   \n",
       "60          3485          152          95  17075      114.200000   \n",
       "36          3430          152          95  13860      114.200000   \n",
       "93          3740          234         155  34184      115.600000   \n",
       "89          3770          183         123  31600      115.600000   \n",
       "99          3900          308         184  40960      116.998373   \n",
       "\n",
       "     horsepower_lim  \n",
       "130            76.0  \n",
       "118            58.0  \n",
       "51            111.0  \n",
       "31            111.0  \n",
       "91            207.0  \n",
       "..              ...  \n",
       "60             95.0  \n",
       "36             95.0  \n",
       "93            155.0  \n",
       "89            123.0  \n",
       "99            184.0  \n",
       "\n",
       "[199 rows x 17 columns]"
      ]
     },
     "execution_count": 163,
     "metadata": {},
     "output_type": "execute_result"
    }
   ],
   "source": [
    "Carros4.sort_values(by = 'wheel-base')"
   ]
  },
  {
   "cell_type": "code",
   "execution_count": 165,
   "id": "3daa16a9-19f9-420e-b77a-4ac2d3e23091",
   "metadata": {},
   "outputs": [
    {
     "data": {
      "text/html": [
       "<div>\n",
       "<style scoped>\n",
       "    .dataframe tbody tr th:only-of-type {\n",
       "        vertical-align: middle;\n",
       "    }\n",
       "\n",
       "    .dataframe tbody tr th {\n",
       "        vertical-align: top;\n",
       "    }\n",
       "\n",
       "    .dataframe thead th {\n",
       "        text-align: right;\n",
       "    }\n",
       "</style>\n",
       "<table border=\"1\" class=\"dataframe\">\n",
       "  <thead>\n",
       "    <tr style=\"text-align: right;\">\n",
       "      <th></th>\n",
       "      <th>make</th>\n",
       "      <th>fuel-type</th>\n",
       "      <th>aspiration</th>\n",
       "      <th>num-of-doors</th>\n",
       "      <th>body-style</th>\n",
       "      <th>drive-wheels</th>\n",
       "      <th>engine-location</th>\n",
       "      <th>wheel-base</th>\n",
       "      <th>length</th>\n",
       "      <th>width</th>\n",
       "      <th>height</th>\n",
       "      <th>curb-weight</th>\n",
       "      <th>engine-size</th>\n",
       "      <th>horsepower</th>\n",
       "      <th>price</th>\n",
       "      <th>wheel-base_lim</th>\n",
       "      <th>horsepower_lim</th>\n",
       "    </tr>\n",
       "  </thead>\n",
       "  <tbody>\n",
       "    <tr>\n",
       "      <th>151</th>\n",
       "      <td>volkswagen</td>\n",
       "      <td>diesel</td>\n",
       "      <td>std</td>\n",
       "      <td>two</td>\n",
       "      <td>sedan</td>\n",
       "      <td>fwd</td>\n",
       "      <td>front</td>\n",
       "      <td>97.3</td>\n",
       "      <td>171.7</td>\n",
       "      <td>65.5</td>\n",
       "      <td>55.7</td>\n",
       "      <td>2261</td>\n",
       "      <td>97</td>\n",
       "      <td>52</td>\n",
       "      <td>7775</td>\n",
       "      <td>97.3</td>\n",
       "      <td>52.000000</td>\n",
       "    </tr>\n",
       "    <tr>\n",
       "      <th>161</th>\n",
       "      <td>volkswagen</td>\n",
       "      <td>diesel</td>\n",
       "      <td>std</td>\n",
       "      <td>four</td>\n",
       "      <td>sedan</td>\n",
       "      <td>fwd</td>\n",
       "      <td>front</td>\n",
       "      <td>97.3</td>\n",
       "      <td>171.7</td>\n",
       "      <td>65.5</td>\n",
       "      <td>55.7</td>\n",
       "      <td>2264</td>\n",
       "      <td>97</td>\n",
       "      <td>52</td>\n",
       "      <td>7995</td>\n",
       "      <td>97.3</td>\n",
       "      <td>52.000000</td>\n",
       "    </tr>\n",
       "    <tr>\n",
       "      <th>135</th>\n",
       "      <td>nissan</td>\n",
       "      <td>diesel</td>\n",
       "      <td>std</td>\n",
       "      <td>two</td>\n",
       "      <td>sedan</td>\n",
       "      <td>fwd</td>\n",
       "      <td>front</td>\n",
       "      <td>94.5</td>\n",
       "      <td>165.3</td>\n",
       "      <td>63.8</td>\n",
       "      <td>54.5</td>\n",
       "      <td>2017</td>\n",
       "      <td>103</td>\n",
       "      <td>55</td>\n",
       "      <td>7099</td>\n",
       "      <td>94.5</td>\n",
       "      <td>55.000000</td>\n",
       "    </tr>\n",
       "    <tr>\n",
       "      <th>157</th>\n",
       "      <td>toyota</td>\n",
       "      <td>diesel</td>\n",
       "      <td>std</td>\n",
       "      <td>four</td>\n",
       "      <td>sedan</td>\n",
       "      <td>fwd</td>\n",
       "      <td>front</td>\n",
       "      <td>95.7</td>\n",
       "      <td>166.3</td>\n",
       "      <td>64.4</td>\n",
       "      <td>53.0</td>\n",
       "      <td>2275</td>\n",
       "      <td>110</td>\n",
       "      <td>56</td>\n",
       "      <td>7898</td>\n",
       "      <td>95.7</td>\n",
       "      <td>56.000000</td>\n",
       "    </tr>\n",
       "    <tr>\n",
       "      <th>153</th>\n",
       "      <td>toyota</td>\n",
       "      <td>diesel</td>\n",
       "      <td>std</td>\n",
       "      <td>four</td>\n",
       "      <td>hatchback</td>\n",
       "      <td>fwd</td>\n",
       "      <td>front</td>\n",
       "      <td>95.7</td>\n",
       "      <td>166.3</td>\n",
       "      <td>64.4</td>\n",
       "      <td>52.8</td>\n",
       "      <td>2275</td>\n",
       "      <td>110</td>\n",
       "      <td>56</td>\n",
       "      <td>7788</td>\n",
       "      <td>95.7</td>\n",
       "      <td>56.000000</td>\n",
       "    </tr>\n",
       "    <tr>\n",
       "      <th>...</th>\n",
       "      <td>...</td>\n",
       "      <td>...</td>\n",
       "      <td>...</td>\n",
       "      <td>...</td>\n",
       "      <td>...</td>\n",
       "      <td>...</td>\n",
       "      <td>...</td>\n",
       "      <td>...</td>\n",
       "      <td>...</td>\n",
       "      <td>...</td>\n",
       "      <td>...</td>\n",
       "      <td>...</td>\n",
       "      <td>...</td>\n",
       "      <td>...</td>\n",
       "      <td>...</td>\n",
       "      <td>...</td>\n",
       "      <td>...</td>\n",
       "    </tr>\n",
       "    <tr>\n",
       "      <th>76</th>\n",
       "      <td>nissan</td>\n",
       "      <td>gas</td>\n",
       "      <td>turbo</td>\n",
       "      <td>two</td>\n",
       "      <td>hatchback</td>\n",
       "      <td>rwd</td>\n",
       "      <td>front</td>\n",
       "      <td>91.3</td>\n",
       "      <td>170.7</td>\n",
       "      <td>67.9</td>\n",
       "      <td>49.7</td>\n",
       "      <td>3139</td>\n",
       "      <td>181</td>\n",
       "      <td>200</td>\n",
       "      <td>19699</td>\n",
       "      <td>91.3</td>\n",
       "      <td>200.000000</td>\n",
       "    </tr>\n",
       "    <tr>\n",
       "      <th>91</th>\n",
       "      <td>porsche</td>\n",
       "      <td>gas</td>\n",
       "      <td>std</td>\n",
       "      <td>two</td>\n",
       "      <td>hardtop</td>\n",
       "      <td>rwd</td>\n",
       "      <td>rear</td>\n",
       "      <td>89.5</td>\n",
       "      <td>168.9</td>\n",
       "      <td>65.0</td>\n",
       "      <td>51.6</td>\n",
       "      <td>2756</td>\n",
       "      <td>194</td>\n",
       "      <td>207</td>\n",
       "      <td>32528</td>\n",
       "      <td>89.5</td>\n",
       "      <td>207.000000</td>\n",
       "    </tr>\n",
       "    <tr>\n",
       "      <th>92</th>\n",
       "      <td>porsche</td>\n",
       "      <td>gas</td>\n",
       "      <td>std</td>\n",
       "      <td>two</td>\n",
       "      <td>hardtop</td>\n",
       "      <td>rwd</td>\n",
       "      <td>rear</td>\n",
       "      <td>89.5</td>\n",
       "      <td>168.9</td>\n",
       "      <td>65.0</td>\n",
       "      <td>51.6</td>\n",
       "      <td>2756</td>\n",
       "      <td>194</td>\n",
       "      <td>207</td>\n",
       "      <td>34028</td>\n",
       "      <td>89.5</td>\n",
       "      <td>207.000000</td>\n",
       "    </tr>\n",
       "    <tr>\n",
       "      <th>98</th>\n",
       "      <td>porsche</td>\n",
       "      <td>gas</td>\n",
       "      <td>std</td>\n",
       "      <td>two</td>\n",
       "      <td>convertible</td>\n",
       "      <td>rwd</td>\n",
       "      <td>rear</td>\n",
       "      <td>89.5</td>\n",
       "      <td>168.9</td>\n",
       "      <td>65.0</td>\n",
       "      <td>51.6</td>\n",
       "      <td>2800</td>\n",
       "      <td>194</td>\n",
       "      <td>207</td>\n",
       "      <td>37028</td>\n",
       "      <td>89.5</td>\n",
       "      <td>207.000000</td>\n",
       "    </tr>\n",
       "    <tr>\n",
       "      <th>96</th>\n",
       "      <td>jaguar</td>\n",
       "      <td>gas</td>\n",
       "      <td>std</td>\n",
       "      <td>two</td>\n",
       "      <td>sedan</td>\n",
       "      <td>rwd</td>\n",
       "      <td>front</td>\n",
       "      <td>102.0</td>\n",
       "      <td>191.7</td>\n",
       "      <td>70.6</td>\n",
       "      <td>47.8</td>\n",
       "      <td>3950</td>\n",
       "      <td>326</td>\n",
       "      <td>262</td>\n",
       "      <td>36000</td>\n",
       "      <td>102.0</td>\n",
       "      <td>215.715605</td>\n",
       "    </tr>\n",
       "  </tbody>\n",
       "</table>\n",
       "<p>199 rows × 17 columns</p>\n",
       "</div>"
      ],
      "text/plain": [
       "           make fuel-type aspiration num-of-doors   body-style drive-wheels  \\\n",
       "151  volkswagen    diesel        std          two        sedan          fwd   \n",
       "161  volkswagen    diesel        std         four        sedan          fwd   \n",
       "135      nissan    diesel        std          two        sedan          fwd   \n",
       "157      toyota    diesel        std         four        sedan          fwd   \n",
       "153      toyota    diesel        std         four    hatchback          fwd   \n",
       "..          ...       ...        ...          ...          ...          ...   \n",
       "76       nissan       gas      turbo          two    hatchback          rwd   \n",
       "91      porsche       gas        std          two      hardtop          rwd   \n",
       "92      porsche       gas        std          two      hardtop          rwd   \n",
       "98      porsche       gas        std          two  convertible          rwd   \n",
       "96       jaguar       gas        std          two        sedan          rwd   \n",
       "\n",
       "    engine-location  wheel-base  length  width  height  curb-weight  \\\n",
       "151           front        97.3   171.7   65.5    55.7         2261   \n",
       "161           front        97.3   171.7   65.5    55.7         2264   \n",
       "135           front        94.5   165.3   63.8    54.5         2017   \n",
       "157           front        95.7   166.3   64.4    53.0         2275   \n",
       "153           front        95.7   166.3   64.4    52.8         2275   \n",
       "..              ...         ...     ...    ...     ...          ...   \n",
       "76            front        91.3   170.7   67.9    49.7         3139   \n",
       "91             rear        89.5   168.9   65.0    51.6         2756   \n",
       "92             rear        89.5   168.9   65.0    51.6         2756   \n",
       "98             rear        89.5   168.9   65.0    51.6         2800   \n",
       "96            front       102.0   191.7   70.6    47.8         3950   \n",
       "\n",
       "     engine-size  horsepower  price  wheel-base_lim  horsepower_lim  \n",
       "151           97          52   7775            97.3       52.000000  \n",
       "161           97          52   7995            97.3       52.000000  \n",
       "135          103          55   7099            94.5       55.000000  \n",
       "157          110          56   7898            95.7       56.000000  \n",
       "153          110          56   7788            95.7       56.000000  \n",
       "..           ...         ...    ...             ...             ...  \n",
       "76           181         200  19699            91.3      200.000000  \n",
       "91           194         207  32528            89.5      207.000000  \n",
       "92           194         207  34028            89.5      207.000000  \n",
       "98           194         207  37028            89.5      207.000000  \n",
       "96           326         262  36000           102.0      215.715605  \n",
       "\n",
       "[199 rows x 17 columns]"
      ]
     },
     "execution_count": 165,
     "metadata": {},
     "output_type": "execute_result"
    }
   ],
   "source": [
    "Carros4.sort_values(by = 'horsepower')"
   ]
  },
  {
   "attachments": {},
   "cell_type": "markdown",
   "id": "700e056e-2f9a-4f7e-9235-9327a33a1637",
   "metadata": {},
   "source": [
    "**Passo 8** - Considerando as variáveis do passo anterior, original e a limitada, **comparar os seus histogramas**."
   ]
  },
  {
   "cell_type": "code",
   "execution_count": 170,
   "id": "2cf0c724-a7af-4af1-8471-a98b46f19564",
   "metadata": {},
   "outputs": [
    {
     "data": {
      "text/plain": [
       "<Axes: >"
      ]
     },
     "execution_count": 170,
     "metadata": {},
     "output_type": "execute_result"
    },
    {
     "data": {
      "image/png": "[encoded data removed]",
      "text/plain": [
       "<Figure size 640x480 with 1 Axes>"
      ]
     },
     "metadata": {},
     "output_type": "display_data"
    }
   ],
   "source": [
    "Carros4['wheel-base'].hist(bins=15, edgecolor='black')\n",
    "Carros4['wheel-base_lim'].hist(bins=15, edgecolor='black')"
   ]
  },
  {
   "cell_type": "code",
   "execution_count": 172,
   "id": "3f3711fd-8be3-4ac4-a328-abe75543f6b7",
   "metadata": {},
   "outputs": [
    {
     "data": {
      "text/plain": [
       "<Axes: >"
      ]
     },
     "execution_count": 172,
     "metadata": {},
     "output_type": "execute_result"
    },
    {
     "data": {
      "image/png": "[encoded data removed]",
      "text/plain": [
       "<Figure size 640x480 with 1 Axes>"
      ]
     },
     "metadata": {},
     "output_type": "display_data"
    }
   ],
   "source": [
    "Carros4['horsepower'].hist(bins=15, edgecolor='black')\n",
    "Carros4['horsepower_lim'].hist(bins=15, edgecolor='black')"
   ]
  },
  {
   "attachments": {},
   "cell_type": "markdown",
   "id": "a89360a5-3943-4ff7-ab3d-70dae2de8189",
   "metadata": {},
   "source": [
    "**Passo 9** - Calcular a **correlação** entre as variáveis do passo 7, original e a limitada, e a variável **price**. Que podemos **concluir**?"
   ]
  },
  {
   "cell_type": "code",
   "execution_count": 177,
   "id": "5755abf5-c1e9-45ea-9cd5-3c2a3a163f0b",
   "metadata": {},
   "outputs": [
    {
     "name": "stdout",
     "output_type": "stream",
     "text": [
      "Correlação horsepower com price: 80.877\n",
      "Correlação horsepower_lim com price: 80.946\n"
     ]
    }
   ],
   "source": [
    "Corr_horsepower_price = Carros4['horsepower'].corr(Carros4['price'])\n",
    "Corr_horsepower_lim_price = Carros4['horsepower_lim'].corr(Carros4['price'])\n",
    "\n",
    "print(\"Correlação horsepower com price: \" + str(round(Corr_horsepower_price*100,3)))\n",
    "print(\"Correlação horsepower_lim com price: \" + str(round(Corr_horsepower_lim_price*100,3)))"
   ]
  },
  {
   "cell_type": "code",
   "execution_count": 179,
   "id": "0802b0da-ab0f-4e02-bbbb-8849454b9b96",
   "metadata": {},
   "outputs": [
    {
     "name": "stdout",
     "output_type": "stream",
     "text": [
      "Correlação Corr_wheel_base_price com price: 58.169\n",
      "Correlação Corr_wheel_base_lim_price com price: 57.664\n"
     ]
    }
   ],
   "source": [
    "Corr_wheel_base_price = Carros4['wheel-base'].corr(Carros4['price'])\n",
    "Corr_wheel_base_lim_price = Carros4['wheel-base_lim'].corr(Carros4['price'])\n",
    "\n",
    "print(\"Correlação Corr_wheel_base_price com price: \" + str(round(Corr_wheel_base_price*100,3)))\n",
    "print(\"Correlação Corr_wheel_base_lim_price com price: \" + str(round(Corr_wheel_base_lim_price*100,3)))"
   ]
  },
  {
   "cell_type": "code",
   "execution_count": 181,
   "id": "79f06574-610a-427e-8c04-0b006f322bc1",
   "metadata": {},
   "outputs": [
    {
     "name": "stdout",
     "output_type": "stream",
     "text": [
      "Correlação horsepower_lim com price: 80.946\n"
     ]
    }
   ],
   "source": [
    "# calculo da correlação PASSO A PASSO para a variável horsepower_lim:\n",
    "\n",
    "mean_horsepower_lim = Carros4['horsepower_lim'].mean()\n",
    "mean_price = Carros4['price'].mean()\n",
    "\n",
    "Carros4['diff_horsepower_lim'] = Carros4['horsepower_lim'] - mean_horsepower_lim\n",
    "Carros4['diff_price'] = Carros4['price'] - mean_price\n",
    "\n",
    "numerador = (Carros4['diff_horsepower_lim'] * Carros4['diff_price']).sum()\n",
    "\n",
    "denominador_horsepower_lim = (Carros4['diff_horsepower_lim'] ** 2).sum()\n",
    "denominador_price = (Carros4['diff_price'] ** 2).sum()\n",
    "\n",
    "correlação_horsepower_lim = numerador / np.sqrt(denominador_horsepower_lim * denominador_price)\n",
    "\n",
    "print(\"Correlação horsepower_lim com price: \" + str(round(correlação_horsepower_lim*100,3)))"
   ]
  },
  {
   "attachments": {},
   "cell_type": "markdown",
   "id": "789b566b-a7b0-4eeb-9e1b-ad475cc8da46",
   "metadata": {},
   "source": [
    "**Passo 10** - Considerando a variável quantitativa com **maior número de outliers** segundo os cálculos do passo 4, criar uma nova variável com base nessa, como o **sufixo “_decil”**, que corresponde ao valor da variável quando **agrupada em 10 decis**."
   ]
  },
  {
   "cell_type": "code",
   "execution_count": 184,
   "id": "1045f464-fe3b-4822-9b2f-f94ec974a170",
   "metadata": {
    "scrolled": true
   },
   "outputs": [
    {
     "name": "stdout",
     "output_type": "stream",
     "text": [
      "engine-size_decil\n",
      "1     20\n",
      "2     29\n",
      "3     14\n",
      "4     21\n",
      "5     21\n",
      "6     21\n",
      "7     14\n",
      "8     23\n",
      "9     19\n",
      "10    17\n",
      "Name: count, dtype: int64\n"
     ]
    }
   ],
   "source": [
    "Carros4['engine-size_decil'] = pd.qcut(Carros4['engine-size'], q=10, labels=False) + 1\n",
    "\n",
    "print(Carros4['engine-size_decil'].value_counts().sort_index())"
   ]
  },
  {
   "cell_type": "markdown",
   "id": "e5011214-69e9-4d88-a40d-3274fa6bbb65",
   "metadata": {},
   "source": [
    "**Nota** : O motivo para os bins **não terem dimensões iguais** está relacionado com o facto dos **pontos de corte** dos bins serem definidos em função dos **valores da variável**, e como existem vários **valores repetidos**, faz com que os registos com o valor igual tenham de ficar no mesmo bin, distorcendo um pouco a distribuição da variável\n",
    "\n",
    "Podem verificar abaixo que as mudanças de **bin** estão sempre associadas a **alterações do valor da variável**."
   ]
  },
  {
   "cell_type": "code",
   "execution_count": 186,
   "id": "cd8797e7-923b-4c73-9477-81fd2f7621e0",
   "metadata": {},
   "outputs": [
    {
     "name": "stdout",
     "output_type": "stream",
     "text": [
      "     engine-size  engine-size_decil\n",
      "8             70                  1\n",
      "34            70                  1\n",
      "17            70                  1\n",
      "107           79                  1\n",
      "44            80                  1\n",
      "124           90                  1\n",
      "109           90                  1\n",
      "110           90                  1\n",
      "121           90                  1\n",
      "117           90                  1\n",
      "147           90                  1\n",
      "113           90                  1\n",
      "125           90                  1\n",
      "115           90                  1\n",
      "114           90                  1\n",
      "104           91                  1\n",
      "128           91                  1\n",
      "143           91                  1\n",
      "111           91                  1\n",
      "126           91                  1\n",
      "130           92                  2\n",
      "137           92                  2\n",
      "139           92                  2\n",
      "156           92                  2\n",
      "140           92                  2\n",
      "131           92                  2\n",
      "120           92                  2\n",
      "119           92                  2\n",
      "118           92                  2\n",
      "116           92                  2\n",
      "112           92                  2\n",
      "175           92                  2\n",
      "106           92                  2\n",
      "105           92                  2\n",
      "123           92                  2\n",
      "122           97                  2\n",
      "129           97                  2\n",
      "108           97                  2\n",
      "141           97                  2\n",
      "142           97                  2\n",
      "102           97                  2\n",
      "145           97                  2\n",
      "189           97                  2\n",
      "168           97                  2\n",
      "162           97                  2\n",
      "154           97                  2\n",
      "151           97                  2\n",
      "161           97                  2\n",
      "35            97                  2\n",
      "169           98                  3\n",
      "164           98                  3\n",
      "174           98                  3\n",
      "148           98                  3\n",
      "184           98                  3\n",
      "188           98                  3\n",
      "167           98                  3\n",
      "159           98                  3\n",
      "138           98                  3\n",
      "149           98                  3\n",
      "150           98                  3\n",
      "132           98                  3\n",
      "190           98                  3\n",
      "158           98                  3\n",
      "135          103                  4\n",
      "146          108                  4\n",
      "183          108                  4\n",
      "195          108                  4\n",
      "13           108                  4\n",
      "0            108                  4\n",
      "136          108                  4\n",
      "163          108                  4\n",
      "144          108                  4\n",
      "59           108                  4\n",
      "152          108                  4\n",
      "134          108                  4\n",
      "49           108                  4\n",
      "16           108                  4\n",
      "172          109                  4\n",
      "160          109                  4\n",
      "196          109                  4\n",
      "166          109                  4\n",
      "199          109                  4\n",
      "15           109                  4\n",
      "21           109                  4\n",
      "176          110                  5\n",
      "157          110                  5\n",
      "2            110                  5\n",
      "194          110                  5\n",
      "26           110                  5\n",
      "155          110                  5\n",
      "3            110                  5\n",
      "153          110                  5\n",
      "5            110                  5\n",
      "182          110                  5\n",
      "186          110                  5\n",
      "185          110                  5\n",
      "127          111                  5\n",
      "9            119                  5\n",
      "43           120                  5\n",
      "181          120                  5\n",
      "19           120                  5\n",
      "191          120                  5\n",
      "56           120                  5\n",
      "22           120                  5\n",
      "55           120                  5\n",
      "72           121                  6\n",
      "40           121                  6\n",
      "42           121                  6\n",
      "20           121                  6\n",
      "18           121                  6\n",
      "67           121                  6\n",
      "197          122                  6\n",
      "165          122                  6\n",
      "12           122                  6\n",
      "7            122                  6\n",
      "133          122                  6\n",
      "1            122                  6\n",
      "6            122                  6\n",
      "4            122                  6\n",
      "11           122                  6\n",
      "173          122                  6\n",
      "177          122                  6\n",
      "178          122                  6\n",
      "179          122                  6\n",
      "180          122                  6\n",
      "171          122                  6\n",
      "51           130                  7\n",
      "31           130                  7\n",
      "71           130                  7\n",
      "74           130                  7\n",
      "83           131                  7\n",
      "187          132                  7\n",
      "193          132                  7\n",
      "66           134                  7\n",
      "69           134                  7\n",
      "64           136                  7\n",
      "73           136                  7\n",
      "29           136                  7\n",
      "62           136                  7\n",
      "41           136                  7\n",
      "52           140                  8\n",
      "68           140                  8\n",
      "25           141                  8\n",
      "30           141                  8\n",
      "82           141                  8\n",
      "75           141                  8\n",
      "47           141                  8\n",
      "57           141                  8\n",
      "53           141                  8\n",
      "81           145                  8\n",
      "192          146                  8\n",
      "198          146                  8\n",
      "10           146                  8\n",
      "170          146                  8\n",
      "14           146                  8\n",
      "63           146                  8\n",
      "80           151                  8\n",
      "65           152                  8\n",
      "60           152                  8\n",
      "58           152                  8\n",
      "36           152                  8\n",
      "50           152                  8\n",
      "28           152                  8\n",
      "24           156                  9\n",
      "23           156                  9\n",
      "27           156                  9\n",
      "38           156                  9\n",
      "39           156                  9\n",
      "46           161                  9\n",
      "78           164                  9\n",
      "84           164                  9\n",
      "77           164                  9\n",
      "54           171                  9\n",
      "45           171                  9\n",
      "48           171                  9\n",
      "79           173                  9\n",
      "37           181                  9\n",
      "70           181                  9\n",
      "33           181                  9\n",
      "61           181                  9\n",
      "32           181                  9\n",
      "76           181                  9\n",
      "87           183                 10\n",
      "89           183                 10\n",
      "85           183                 10\n",
      "86           183                 10\n",
      "91           194                 10\n",
      "92           194                 10\n",
      "98           194                 10\n",
      "88           209                 10\n",
      "100          209                 10\n",
      "97           209                 10\n",
      "93           234                 10\n",
      "94           234                 10\n",
      "95           258                 10\n",
      "90           258                 10\n",
      "101          304                 10\n",
      "99           308                 10\n",
      "96           326                 10\n"
     ]
    }
   ],
   "source": [
    "#Motivo para os bins não terem tamanhos igua\n",
    "\n",
    "Carros4.sort_values(by='engine-size', inplace = True)\n",
    "\n",
    "pd.set_option('display.max_rows', None)  # Remove row limit\n",
    "\n",
    "print(Carros4[['engine-size','engine-size_decil']])"
   ]
  },
  {
   "attachments": {},
   "cell_type": "markdown",
   "id": "1266eed3-8e2b-4d24-a91d-136b84c5447a",
   "metadata": {},
   "source": [
    "**Passo 11** - Considerando as variáveis do passo anterior, original e a limitada, **comparar os seus histogramas**."
   ]
  },
  {
   "cell_type": "code",
   "execution_count": 190,
   "id": "7d4c0404-411a-4324-abc3-6c928c898510",
   "metadata": {},
   "outputs": [
    {
     "data": {
      "text/plain": [
       "<Axes: >"
      ]
     },
     "execution_count": 190,
     "metadata": {},
     "output_type": "execute_result"
    },
    {
     "data": {
      "image/png": "[encoded data removed]",
      "text/plain": [
       "<Figure size 640x480 with 1 Axes>"
      ]
     },
     "metadata": {},
     "output_type": "display_data"
    }
   ],
   "source": [
    "Carros4['engine-size'].hist(bins=10, edgecolor='black')"
   ]
  },
  {
   "cell_type": "code",
   "execution_count": 192,
   "id": "477c4f97-d03d-4f96-998d-a4aad6c6a33c",
   "metadata": {},
   "outputs": [
    {
     "data": {
      "text/plain": [
       "<Axes: >"
      ]
     },
     "execution_count": 192,
     "metadata": {},
     "output_type": "execute_result"
    },
    {
     "data": {
      "image/png": "[encoded data removed]",
      "text/plain": [
       "<Figure size 640x480 with 1 Axes>"
      ]
     },
     "metadata": {},
     "output_type": "display_data"
    }
   ],
   "source": [
    "Carros4['engine-size_decil'].hist(bins=10, edgecolor='black')"
   ]
  },
  {
   "attachments": {},
   "cell_type": "markdown",
   "id": "2c98e19b-dab1-4496-b3c3-a198cb74ee23",
   "metadata": {},
   "source": [
    "**Passo 12** - Calcular a **correlação** entre as variáveis do passo 7, original e a limitada, e a variável **price**. Que podemos **concluir**?"
   ]
  },
  {
   "cell_type": "code",
   "execution_count": 194,
   "id": "f850f4c2-541a-4185-a1e8-66105c3bdcd2",
   "metadata": {},
   "outputs": [
    {
     "name": "stdout",
     "output_type": "stream",
     "text": [
      "Correlação engine_size: 87.266\n",
      "Correlação engine_size_decil: 75.794\n"
     ]
    }
   ],
   "source": [
    "Corr_engine_size_decil = Carros4['engine-size_decil'].corr(Carros4['price'])\n",
    "Corr_engine_size = Carros4['engine-size'].corr(Carros4['price'])\n",
    "\n",
    "print(\"Correlação engine_size: \" + str(round(Corr_engine_size*100,3)))\n",
    "print(\"Correlação engine_size_decil: \" + str(round(Corr_engine_size_decil*100,3)))"
   ]
  },
  {
   "cell_type": "markdown",
   "id": "feecb59a-3275-4eb8-804a-7676a2172491",
   "metadata": {},
   "source": [
    "**Passo 13** - Exportar os dados de **Carros4** num ficheiro csv com o nome **Carros5**"
   ]
  },
  {
   "cell_type": "code",
   "execution_count": 197,
   "id": "94399af9-44a2-4f29-b78d-e2f9b70a64d4",
   "metadata": {},
   "outputs": [],
   "source": [
    "Carros4.to_csv('C:/Users/basketa/EDIT/MODULO3/AULA4/Carros5.csv')"
   ]
  }
 ],
 "metadata": {
  "kernelspec": {
   "display_name": "Python 3 (ipykernel)",
   "language": "python",
   "name": "python3"
  },
  "language_info": {
   "codemirror_mode": {
    "name": "ipython",
    "version": 3
   },
   "file_extension": ".py",
   "mimetype": "text/x-python",
   "name": "python",
   "nbconvert_exporter": "python",
   "pygments_lexer": "ipython3",
   "version": "3.12.7"
  }
 },
 "nbformat": 4,
 "nbformat_minor": 5
}
