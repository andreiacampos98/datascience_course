{
 "cells": [
  {
   "cell_type": "markdown",
   "id": "082da1d8-b945-469f-94dd-5fe9c9f85d1d",
   "metadata": {},
   "source": [
    "# <p style=\"text-align: center;\"> MÓDULO 3 - EXPLORATORY DATA ANALYTICS </p>\n",
    "## Aula 2\n",
    "\n",
    "### <span style=\"color: blue;\"> * **Exercicio 1**</span>\n"
   ]
  },
  {
   "attachments": {},
   "cell_type": "markdown",
   "id": "2b269829-3241-4b5f-9556-22a2e96e556e",
   "metadata": {},
   "source": [
    "**Passo 1** - Importar a biblioteca Pandas para o Python com o alias **pd**"
   ]
  },
  {
   "cell_type": "code",
   "execution_count": 1,
   "id": "29a8b81c-ea89-46e6-8591-8b0cab72fd56",
   "metadata": {},
   "outputs": [],
   "source": [
    "import pandas as pd"
   ]
  },
  {
   "attachments": {},
   "cell_type": "markdown",
   "id": "f2eb6fb6-83a1-4a56-b62b-d40119c58a18",
   "metadata": {},
   "source": [
    "**Passo 2** - Criar uma lista chamada **a** com os valores: Renault, Fiat e BMW"
   ]
  },
  {
   "cell_type": "code",
   "execution_count": 3,
   "id": "41cbdf94-ea9a-4437-b14d-5dad7c9d7347",
   "metadata": {},
   "outputs": [],
   "source": [
    "a = ['Renault', 'Fiat', 'BMW']"
   ]
  },
  {
   "attachments": {},
   "cell_type": "markdown",
   "id": "2018c427-6476-4983-9281-228ed49063da",
   "metadata": {},
   "source": [
    "**Passo 3** - Imprimir **a**"
   ]
  },
  {
   "cell_type": "code",
   "execution_count": 5,
   "id": "b803e3ed-7413-4a10-973b-08ef86ccd9c7",
   "metadata": {},
   "outputs": [
    {
     "name": "stdout",
     "output_type": "stream",
     "text": [
      "['Renault', 'Fiat', 'BMW']\n"
     ]
    }
   ],
   "source": [
    "print(a)"
   ]
  },
  {
   "attachments": {},
   "cell_type": "markdown",
   "id": "7d665565-a25d-40c4-8b1f-5ed8ac3fb3a7",
   "metadata": {},
   "source": [
    "**Passo 4** - Imprimir tipologia de **a**"
   ]
  },
  {
   "cell_type": "code",
   "execution_count": 7,
   "id": "06b9c79d-f2e4-4e87-bc30-10bb360fd504",
   "metadata": {},
   "outputs": [
    {
     "name": "stdout",
     "output_type": "stream",
     "text": [
      "<class 'list'>\n"
     ]
    }
   ],
   "source": [
    "print(type(a))"
   ]
  },
  {
   "attachments": {},
   "cell_type": "markdown",
   "id": "bf0aecc7-be68-45b7-8fcf-b2d313c67e0a",
   "metadata": {},
   "source": [
    "**Passo 5** - Criar uma lista chamada **b** com os valores: Twingo, 600 e X5"
   ]
  },
  {
   "cell_type": "code",
   "execution_count": 9,
   "id": "c358628a-6107-4630-b410-3da3be084c7c",
   "metadata": {},
   "outputs": [],
   "source": [
    "b = ['Twingo', '600', 'X5']"
   ]
  },
  {
   "cell_type": "markdown",
   "id": "981bc11a-1147-42a0-bfd8-ff2d8781b658",
   "metadata": {},
   "source": [
    "**Passo 6** - Imprimir **b**"
   ]
  },
  {
   "cell_type": "code",
   "execution_count": 11,
   "id": "351eb07e-1538-4cb0-9e0d-d7f114069543",
   "metadata": {},
   "outputs": [
    {
     "name": "stdout",
     "output_type": "stream",
     "text": [
      "['Twingo', '600', 'X5']\n"
     ]
    }
   ],
   "source": [
    "print(b)"
   ]
  },
  {
   "cell_type": "markdown",
   "id": "aefb2737-f3d5-4a7c-bce1-4e42f2c47964",
   "metadata": {},
   "source": [
    "**Passo 7** - Imprimir tipologia de **b**"
   ]
  },
  {
   "cell_type": "code",
   "execution_count": 13,
   "id": "c787eba8-1bc0-4a41-89c6-8e8b7e7d34df",
   "metadata": {},
   "outputs": [
    {
     "name": "stdout",
     "output_type": "stream",
     "text": [
      "<class 'list'>\n"
     ]
    }
   ],
   "source": [
    "print(type(b))"
   ]
  },
  {
   "attachments": {},
   "cell_type": "markdown",
   "id": "5bf0e366-dd79-486a-a10b-6a29e1823238",
   "metadata": {},
   "source": [
    "**Passo 8** - Criar um dicionário chamado **dicionario** com:\n",
    "* **marca** - lista de valores presentes em **a**\n",
    "* **modelo** - lista de valores presentes em **b**"
   ]
  },
  {
   "cell_type": "code",
   "execution_count": 15,
   "id": "9c2ae79a-9d53-4093-a675-9a47ea15a84b",
   "metadata": {},
   "outputs": [],
   "source": [
    "dicionario = {'marca': a,\n",
    "\t\t\t   'modelo':b}"
   ]
  },
  {
   "cell_type": "markdown",
   "id": "a47f40a2-104f-4a99-8641-cec631403611",
   "metadata": {},
   "source": [
    "**Passo 9** - Imprimir **dicionario**"
   ]
  },
  {
   "cell_type": "code",
   "execution_count": 17,
   "id": "938c6de3-9d55-4d40-ae7d-dd1a785f08d3",
   "metadata": {},
   "outputs": [
    {
     "name": "stdout",
     "output_type": "stream",
     "text": [
      "{'marca': ['Renault', 'Fiat', 'BMW'], 'modelo': ['Twingo', '600', 'X5']}\n"
     ]
    }
   ],
   "source": [
    "print(dicionario)"
   ]
  },
  {
   "cell_type": "markdown",
   "id": "a238d744-0633-49e6-997e-0a28b700c9d9",
   "metadata": {},
   "source": [
    "**Passo 10** - Imprimir tipologia de **dicionario**"
   ]
  },
  {
   "cell_type": "code",
   "execution_count": 19,
   "id": "1a95b09f-5e04-469d-ba92-326dca661ca0",
   "metadata": {},
   "outputs": [
    {
     "name": "stdout",
     "output_type": "stream",
     "text": [
      "<class 'dict'>\n"
     ]
    }
   ],
   "source": [
    "print(type(dicionario))"
   ]
  },
  {
   "attachments": {},
   "cell_type": "markdown",
   "id": "5e38921c-64f7-4bbc-9830-ca848df1ee93",
   "metadata": {},
   "source": [
    "**Passo 11** - Criar um DataFrame chamado **df_dicionario** com base no dicionário **dicionario**"
   ]
  },
  {
   "cell_type": "code",
   "execution_count": 21,
   "id": "1dda36a0-a6ff-4ac4-8b02-b30f95a3c45f",
   "metadata": {},
   "outputs": [],
   "source": [
    "df_dicionario = pd.DataFrame(dicionario)"
   ]
  },
  {
   "cell_type": "markdown",
   "id": "4f5df66a-a26a-45e0-8289-a5ad8bba293f",
   "metadata": {},
   "source": [
    "**Passo 12** - Imprimir **df_dicionario**"
   ]
  },
  {
   "cell_type": "code",
   "execution_count": 23,
   "id": "ab1f106d-7fe3-40f1-9192-e05f6ce80442",
   "metadata": {},
   "outputs": [
    {
     "name": "stdout",
     "output_type": "stream",
     "text": [
      "     marca  modelo\n",
      "0  Renault  Twingo\n",
      "1     Fiat     600\n",
      "2      BMW      X5\n"
     ]
    }
   ],
   "source": [
    "print(df_dicionario)"
   ]
  },
  {
   "cell_type": "markdown",
   "id": "262a86c4-0412-4a8f-a385-25597cc14999",
   "metadata": {},
   "source": [
    "**Passo 13** - Imprimir tipologia de **dicionario**"
   ]
  },
  {
   "cell_type": "code",
   "execution_count": 25,
   "id": "2c9011d9-28dd-49a8-a9d8-6e6738131fb7",
   "metadata": {},
   "outputs": [
    {
     "name": "stdout",
     "output_type": "stream",
     "text": [
      "<class 'pandas.core.frame.DataFrame'>\n"
     ]
    }
   ],
   "source": [
    "print(type(df_dicionario))"
   ]
  },
  {
   "attachments": {},
   "cell_type": "markdown",
   "id": "56835dfc-374c-470b-9050-9607bbb10b2a",
   "metadata": {},
   "source": [
    "**Passo 14** - Imprimir apenas **2ª linha** de **df_dicionario**"
   ]
  },
  {
   "cell_type": "code",
   "execution_count": 27,
   "id": "db22349c-a9dd-4c37-bcee-d4f50dd72973",
   "metadata": {},
   "outputs": [
    {
     "name": "stdout",
     "output_type": "stream",
     "text": [
      "marca     Fiat\n",
      "modelo     600\n",
      "Name: 1, dtype: object\n"
     ]
    }
   ],
   "source": [
    "print(df_dicionario.iloc[1])"
   ]
  },
  {
   "cell_type": "markdown",
   "id": "66b22eee-c5d5-4dba-9d00-0c7ceb312e92",
   "metadata": {},
   "source": [
    "### <span style=\"color: blue;\"> * **Exercicio 2**</span>"
   ]
  },
  {
   "cell_type": "markdown",
   "id": "1f9532e2-9f8a-44ee-baaa-1bb89af55941",
   "metadata": {},
   "source": [
    "**Passo 1** - Criar uma variável chamada **path** com o caminho onde guardaram ficheiro **data**"
   ]
  },
  {
   "cell_type": "code",
   "execution_count": 29,
   "id": "801b212a-6ddb-40f6-8eb6-f0c0e55994b5",
   "metadata": {},
   "outputs": [],
   "source": [
    "#path='C:/Users/basketa/EDIT/MODULO3/AULA2/data.csv'"
   ]
  },
  {
   "cell_type": "markdown",
   "id": "e38df879-93f3-49d2-b213-fdb627750647",
   "metadata": {},
   "source": [
    "**Passo 2** - Importar os dados do ficheiro **data** para uma DataFrame chamada **Dados**"
   ]
  },
  {
   "cell_type": "code",
   "execution_count": 31,
   "id": "2d24b721-1c3f-4947-b3d7-eb784a6ab785",
   "metadata": {},
   "outputs": [],
   "source": [
    "Dados = pd.read_csv(path)"
   ]
  },
  {
   "attachments": {},
   "cell_type": "markdown",
   "id": "0bf353ab-92f0-4c6a-b091-5027135738fa",
   "metadata": {},
   "source": [
    "**Passo 3** - Imprimir conteúdo total de **Dados**"
   ]
  },
  {
   "cell_type": "code",
   "execution_count": 33,
   "id": "82a93736-8469-4282-ac76-ab04fc7b8982",
   "metadata": {},
   "outputs": [
    {
     "name": "stdout",
     "output_type": "stream",
     "text": [
      "     Duration  Pulse  Maxpulse  Calories\n",
      "0          60    110       130     409.1\n",
      "1          60    117       145     479.0\n",
      "2          60    103       135     340.0\n",
      "3          45    109       175     282.4\n",
      "4          45    117       148     406.0\n",
      "..        ...    ...       ...       ...\n",
      "164        60    105       140     290.8\n",
      "165        60    110       145     300.0\n",
      "166        60    115       145     310.2\n",
      "167        75    120       150     320.4\n",
      "168        75    125       150     330.4\n",
      "\n",
      "[169 rows x 4 columns]\n"
     ]
    }
   ],
   "source": [
    "print(Dados)"
   ]
  },
  {
   "attachments": {},
   "cell_type": "markdown",
   "id": "7d0af78a-d903-46be-bf8d-38eef97a6437",
   "metadata": {},
   "source": [
    "**Passo 4** - Imprimir tipologia da **Dados**"
   ]
  },
  {
   "cell_type": "code",
   "execution_count": 35,
   "id": "b3ea5414-748a-49a4-843f-7f2a5d7fbc50",
   "metadata": {},
   "outputs": [
    {
     "name": "stdout",
     "output_type": "stream",
     "text": [
      "<class 'pandas.core.frame.DataFrame'>\n"
     ]
    }
   ],
   "source": [
    "print(type(Dados))"
   ]
  },
  {
   "attachments": {},
   "cell_type": "markdown",
   "id": "c3f0a28d-83dd-4576-8998-cab57f0f1659",
   "metadata": {},
   "source": [
    "**Passo 5** - Imprimir apenas os **3 primeiros** elementos da **Dados**"
   ]
  },
  {
   "cell_type": "code",
   "execution_count": 37,
   "id": "2eba37e6-765e-47ae-b6fc-912e851f2b09",
   "metadata": {},
   "outputs": [
    {
     "name": "stdout",
     "output_type": "stream",
     "text": [
      "   Duration  Pulse  Maxpulse  Calories\n",
      "0        60    110       130     409.1\n",
      "1        60    117       145     479.0\n",
      "2        60    103       135     340.0\n"
     ]
    }
   ],
   "source": [
    "print(Dados.head(3))"
   ]
  },
  {
   "attachments": {},
   "cell_type": "markdown",
   "id": "cf7f8d29-4a71-40ae-a5c9-cf8ec8bbe869",
   "metadata": {},
   "source": [
    "**Passo 6** -Imprimir apenas os **4 últimos** elementos da **Dados**"
   ]
  },
  {
   "cell_type": "code",
   "execution_count": 39,
   "id": "5aa92b90-3af1-4158-8f62-c8f09f1878bc",
   "metadata": {},
   "outputs": [
    {
     "data": {
      "text/html": [
       "<div>\n",
       "<style scoped>\n",
       "    .dataframe tbody tr th:only-of-type {\n",
       "        vertical-align: middle;\n",
       "    }\n",
       "\n",
       "    .dataframe tbody tr th {\n",
       "        vertical-align: top;\n",
       "    }\n",
       "\n",
       "    .dataframe thead th {\n",
       "        text-align: right;\n",
       "    }\n",
       "</style>\n",
       "<table border=\"1\" class=\"dataframe\">\n",
       "  <thead>\n",
       "    <tr style=\"text-align: right;\">\n",
       "      <th></th>\n",
       "      <th>Duration</th>\n",
       "      <th>Pulse</th>\n",
       "      <th>Maxpulse</th>\n",
       "      <th>Calories</th>\n",
       "    </tr>\n",
       "  </thead>\n",
       "  <tbody>\n",
       "    <tr>\n",
       "      <th>165</th>\n",
       "      <td>60</td>\n",
       "      <td>110</td>\n",
       "      <td>145</td>\n",
       "      <td>300.0</td>\n",
       "    </tr>\n",
       "    <tr>\n",
       "      <th>166</th>\n",
       "      <td>60</td>\n",
       "      <td>115</td>\n",
       "      <td>145</td>\n",
       "      <td>310.2</td>\n",
       "    </tr>\n",
       "    <tr>\n",
       "      <th>167</th>\n",
       "      <td>75</td>\n",
       "      <td>120</td>\n",
       "      <td>150</td>\n",
       "      <td>320.4</td>\n",
       "    </tr>\n",
       "    <tr>\n",
       "      <th>168</th>\n",
       "      <td>75</td>\n",
       "      <td>125</td>\n",
       "      <td>150</td>\n",
       "      <td>330.4</td>\n",
       "    </tr>\n",
       "  </tbody>\n",
       "</table>\n",
       "</div>"
      ],
      "text/plain": [
       "     Duration  Pulse  Maxpulse  Calories\n",
       "165        60    110       145     300.0\n",
       "166        60    115       145     310.2\n",
       "167        75    120       150     320.4\n",
       "168        75    125       150     330.4"
      ]
     },
     "execution_count": 39,
     "metadata": {},
     "output_type": "execute_result"
    }
   ],
   "source": [
    "Dados.tail(4)"
   ]
  },
  {
   "attachments": {},
   "cell_type": "markdown",
   "id": "d4d1a0af-ec8d-4fb0-8c7c-7b74efffc24a",
   "metadata": {},
   "source": [
    "**Passo 7** - Imprimir informação sobre o conteúdo de **Dados**"
   ]
  },
  {
   "cell_type": "code",
   "execution_count": 41,
   "id": "dced1e5c-cc41-4880-80a4-1ba11d902dda",
   "metadata": {},
   "outputs": [
    {
     "name": "stdout",
     "output_type": "stream",
     "text": [
      "<class 'pandas.core.frame.DataFrame'>\n",
      "RangeIndex: 169 entries, 0 to 168\n",
      "Data columns (total 4 columns):\n",
      " #   Column    Non-Null Count  Dtype  \n",
      "---  ------    --------------  -----  \n",
      " 0   Duration  169 non-null    int64  \n",
      " 1   Pulse     169 non-null    int64  \n",
      " 2   Maxpulse  169 non-null    int64  \n",
      " 3   Calories  164 non-null    float64\n",
      "dtypes: float64(1), int64(3)\n",
      "memory usage: 5.4 KB\n",
      "None\n"
     ]
    }
   ],
   "source": [
    "print(Dados.info()) "
   ]
  },
  {
   "cell_type": "markdown",
   "id": "097574b0-cbc9-4ec0-859e-48361546dcf2",
   "metadata": {},
   "source": [
    "### <span style=\"color: blue;\"> * **Exercicio 3**</span>"
   ]
  },
  {
   "cell_type": "markdown",
   "id": "d0367e39-3853-4e17-bcfe-7dd33499eefb",
   "metadata": {},
   "source": [
    "**Passo 1** - Criar uma variável chamada **path** com o caminho onde guardaram ficheiro **data2**"
   ]
  },
  {
   "cell_type": "code",
   "execution_count": 43,
   "id": "2060d8e1-57bd-4292-b412-b8306bd1924d",
   "metadata": {},
   "outputs": [],
   "source": [
    "#path='C:/Users/basketa/EDIT/MODULO3/AULA2/data2.csv'"
   ]
  },
  {
   "attachments": {},
   "cell_type": "markdown",
   "id": "700e056e-2f9a-4f7e-9235-9327a33a1637",
   "metadata": {},
   "source": [
    "**Passo 2** - Importar os dados do ficheiro **data2** para uma DataFrame chamada **Dados2**"
   ]
  },
  {
   "cell_type": "code",
   "execution_count": 67,
   "id": "2cf0c724-a7af-4af1-8471-a98b46f19564",
   "metadata": {},
   "outputs": [],
   "source": [
    "data2 = pd.read_csv(path)"
   ]
  },
  {
   "attachments": {},
   "cell_type": "markdown",
   "id": "a89360a5-3943-4ff7-ab3d-70dae2de8189",
   "metadata": {},
   "source": [
    "**Passo 3** - Explorar **conteúdo** da tabela"
   ]
  },
  {
   "cell_type": "code",
   "execution_count": 47,
   "id": "942dce4d-e63f-4ee3-b2ce-3b1dd38090a3",
   "metadata": {},
   "outputs": [
    {
     "name": "stdout",
     "output_type": "stream",
     "text": [
      "    tran_id   tran_date Store_type\n",
      "0  22454121  28/02/2014     E-Shop\n",
      "1  22454122  27/02/2014     e-Shop\n",
      "2  22454123  24/02/2014   Teleshop\n",
      "3  22454124  24/02/2014     e-Shop\n",
      "4  22454125  23/02/2014   teleshop\n"
     ]
    }
   ],
   "source": [
    "print(data2.head())"
   ]
  },
  {
   "cell_type": "code",
   "execution_count": 71,
   "id": "95b42116-483b-49bd-9deb-3e7ab6fc653b",
   "metadata": {},
   "outputs": [
    {
     "name": "stdout",
     "output_type": "stream",
     "text": [
      "<class 'pandas.core.frame.DataFrame'>\n",
      "RangeIndex: 16 entries, 0 to 15\n",
      "Data columns (total 3 columns):\n",
      " #   Column      Non-Null Count  Dtype \n",
      "---  ------      --------------  ----- \n",
      " 0   tran_id     16 non-null     int64 \n",
      " 1   tran_date   16 non-null     object\n",
      " 2   Store_type  16 non-null     object\n",
      "dtypes: int64(1), object(2)\n",
      "memory usage: 516.0+ bytes\n",
      "None\n"
     ]
    }
   ],
   "source": [
    "print(data2.info())"
   ]
  },
  {
   "cell_type": "code",
   "execution_count": 51,
   "id": "a93e62bd-292f-47f4-b8a3-e9b319fdd941",
   "metadata": {},
   "outputs": [
    {
     "name": "stdout",
     "output_type": "stream",
     "text": [
      "            tran_id\n",
      "count  1.600000e+01\n",
      "mean   2.245413e+07\n",
      "std    3.265986e+00\n",
      "min    2.245412e+07\n",
      "25%    2.245412e+07\n",
      "50%    2.245413e+07\n",
      "75%    2.245413e+07\n",
      "max    2.245413e+07\n"
     ]
    }
   ],
   "source": [
    "print(data2.describe())"
   ]
  },
  {
   "attachments": {},
   "cell_type": "markdown",
   "id": "81103023-a9b9-4afc-99e2-6c57593f9238",
   "metadata": {},
   "source": [
    "**Passo 4** - Verificar **tipologia dos campos**"
   ]
  },
  {
   "cell_type": "code",
   "execution_count": 53,
   "id": "6be80844-bfb0-4983-b6fb-17e10b944ac9",
   "metadata": {},
   "outputs": [
    {
     "data": {
      "text/plain": [
       "tran_id        int64\n",
       "tran_date     object\n",
       "Store_type    object\n",
       "dtype: object"
      ]
     },
     "execution_count": 53,
     "metadata": {},
     "output_type": "execute_result"
    }
   ],
   "source": [
    " data2.dtypes"
   ]
  },
  {
   "attachments": {},
   "cell_type": "markdown",
   "id": "51d0beac-a6b5-4cd0-942b-a82b3fda427f",
   "metadata": {},
   "source": [
    "**Passo 5** - Verificar se existem **duplicados**"
   ]
  },
  {
   "cell_type": "code",
   "execution_count": 55,
   "id": "f8afc9b6-c8d2-47bb-aa43-ebb27c181272",
   "metadata": {},
   "outputs": [
    {
     "name": "stdout",
     "output_type": "stream",
     "text": [
      "True\n"
     ]
    }
   ],
   "source": [
    "duplicados=data2.duplicated().any()\n",
    "print(duplicados)"
   ]
  },
  {
   "attachments": {},
   "cell_type": "markdown",
   "id": "093afd31-3628-407e-a097-bf042988e04f",
   "metadata": {},
   "source": [
    "**Passo 6** - **Remover** linhas **duplicadas**"
   ]
  },
  {
   "cell_type": "code",
   "execution_count": 73,
   "id": "c044b47a-5208-494c-abfa-03b22d80ebb4",
   "metadata": {},
   "outputs": [
    {
     "name": "stdout",
     "output_type": "stream",
     "text": [
      "     tran_id   tran_date Store_type\n",
      "0   22454121  28/02/2014     E-Shop\n",
      "1   22454122  27/02/2014     e-Shop\n",
      "2   22454123  24/02/2014   Teleshop\n",
      "3   22454124  24/02/2014     e-Shop\n",
      "4   22454125  23/02/2014   teleshop\n",
      "5   22454126  23.02.2014   TeleShop\n",
      "6   22454127  22/02/2014     e-Shop\n",
      "7   22454128  22/02/2014        Mbr\n",
      "8   22454129  22/02/2014        MBR\n",
      "9   22454130  21/02/2014     e-Shop\n",
      "12  22454123  27-02-2014   Teleshop\n",
      "15  22454130  22 02 2014     e-Shop\n"
     ]
    }
   ],
   "source": [
    "data2.drop_duplicates(inplace=True)\n",
    "print(data2) #para verificar"
   ]
  },
  {
   "cell_type": "code",
   "execution_count": 59,
   "id": "a93b3ce1-1fb0-4461-b4f0-50da15958508",
   "metadata": {},
   "outputs": [
    {
     "name": "stdout",
     "output_type": "stream",
     "text": [
      "<class 'pandas.core.frame.DataFrame'>\n",
      "Index: 12 entries, 0 to 15\n",
      "Data columns (total 3 columns):\n",
      " #   Column      Non-Null Count  Dtype \n",
      "---  ------      --------------  ----- \n",
      " 0   tran_id     12 non-null     int64 \n",
      " 1   tran_date   12 non-null     object\n",
      " 2   Store_type  12 non-null     object\n",
      "dtypes: int64(1), object(2)\n",
      "memory usage: 384.0+ bytes\n",
      "None\n"
     ]
    }
   ],
   "source": [
    "print(data2.info())"
   ]
  },
  {
   "attachments": {},
   "cell_type": "markdown",
   "id": "f377a6ec-8854-478e-b89b-54fe0b0376cb",
   "metadata": {},
   "source": [
    "**Passo 7** - Normalizar coluna **tran_date** para o formato **DD/MM/AAAA**"
   ]
  },
  {
   "cell_type": "code",
   "execution_count": 75,
   "id": "21a2cd4c-887d-475a-b9a8-090dea14bd41",
   "metadata": {},
   "outputs": [],
   "source": [
    "data2['tran_date'] = data2['tran_date'].str.replace('.','/')\n",
    "data2['tran_date'] = data2['tran_date'].str.replace('-','/')\n",
    "data2['tran_date'] = data2['tran_date'].str.replace(' ','/')"
   ]
  },
  {
   "attachments": {},
   "cell_type": "markdown",
   "id": "93cb4630-1123-46e0-b7f3-0b6f000872d3",
   "metadata": {},
   "source": [
    "**Passo 8** - Converter coluna **tran_date** para o tipologia **datetime**"
   ]
  },
  {
   "cell_type": "code",
   "execution_count": 77,
   "id": "c09a4ad0-0558-4a7e-94b3-bc54e07679d0",
   "metadata": {},
   "outputs": [],
   "source": [
    "data2['tran_date'] = pd.to_datetime(data2['tran_date'],dayfirst=True)"
   ]
  },
  {
   "cell_type": "code",
   "execution_count": 79,
   "id": "d02413e8-75f6-46ff-9476-3b415aa83453",
   "metadata": {},
   "outputs": [
    {
     "name": "stdout",
     "output_type": "stream",
     "text": [
      "<class 'pandas.core.frame.DataFrame'>\n",
      "Index: 12 entries, 0 to 15\n",
      "Data columns (total 3 columns):\n",
      " #   Column      Non-Null Count  Dtype         \n",
      "---  ------      --------------  -----         \n",
      " 0   tran_id     12 non-null     int64         \n",
      " 1   tran_date   12 non-null     datetime64[ns]\n",
      " 2   Store_type  12 non-null     object        \n",
      "dtypes: datetime64[ns](1), int64(1), object(1)\n",
      "memory usage: 384.0+ bytes\n",
      "None\n"
     ]
    }
   ],
   "source": [
    "print(data2.info())"
   ]
  },
  {
   "attachments": {},
   "cell_type": "markdown",
   "id": "0051046e-796e-41df-8fc0-68205026efa3",
   "metadata": {},
   "source": [
    "**Passo 9** - Criar dicionário chamado **dicio** para usar na **normalização** da coluna **store_type**"
   ]
  },
  {
   "cell_type": "code",
   "execution_count": 87,
   "id": "a2fe70d6-cec5-499e-9858-67ca69c2a46d",
   "metadata": {},
   "outputs": [],
   "source": [
    "dicio = {'E-Shop': 'e-Shop', 'teleshop': 'Teleshop', 'MBR': 'Mbr'} "
   ]
  },
  {
   "attachments": {},
   "cell_type": "markdown",
   "id": "145a2971-143a-4f76-bb28-f996126e4065",
   "metadata": {},
   "source": [
    "**Passo 10** - **Normalizar** coluna Store_type usando o **dicio**"
   ]
  },
  {
   "cell_type": "code",
   "execution_count": 89,
   "id": "0b0ca847-a7be-4e86-91ef-07da959fd587",
   "metadata": {},
   "outputs": [],
   "source": [
    "data2['Store_type'] = data2['Store_type'].replace(dicio)"
   ]
  },
  {
   "cell_type": "code",
   "execution_count": 91,
   "id": "fd05a09a-fce4-4c97-bf05-5806616871c6",
   "metadata": {},
   "outputs": [
    {
     "data": {
      "text/html": [
       "<div>\n",
       "<style scoped>\n",
       "    .dataframe tbody tr th:only-of-type {\n",
       "        vertical-align: middle;\n",
       "    }\n",
       "\n",
       "    .dataframe tbody tr th {\n",
       "        vertical-align: top;\n",
       "    }\n",
       "\n",
       "    .dataframe thead th {\n",
       "        text-align: right;\n",
       "    }\n",
       "</style>\n",
       "<table border=\"1\" class=\"dataframe\">\n",
       "  <thead>\n",
       "    <tr style=\"text-align: right;\">\n",
       "      <th></th>\n",
       "      <th>tran_id</th>\n",
       "      <th>tran_date</th>\n",
       "      <th>Store_type</th>\n",
       "    </tr>\n",
       "  </thead>\n",
       "  <tbody>\n",
       "    <tr>\n",
       "      <th>0</th>\n",
       "      <td>22454121</td>\n",
       "      <td>2014-02-28</td>\n",
       "      <td>e-Shop</td>\n",
       "    </tr>\n",
       "    <tr>\n",
       "      <th>1</th>\n",
       "      <td>22454122</td>\n",
       "      <td>2014-02-27</td>\n",
       "      <td>e-Shop</td>\n",
       "    </tr>\n",
       "    <tr>\n",
       "      <th>2</th>\n",
       "      <td>22454123</td>\n",
       "      <td>2014-02-24</td>\n",
       "      <td>Teleshop</td>\n",
       "    </tr>\n",
       "    <tr>\n",
       "      <th>3</th>\n",
       "      <td>22454124</td>\n",
       "      <td>2014-02-24</td>\n",
       "      <td>e-Shop</td>\n",
       "    </tr>\n",
       "    <tr>\n",
       "      <th>4</th>\n",
       "      <td>22454125</td>\n",
       "      <td>2014-02-23</td>\n",
       "      <td>Teleshop</td>\n",
       "    </tr>\n",
       "    <tr>\n",
       "      <th>5</th>\n",
       "      <td>22454126</td>\n",
       "      <td>2014-02-23</td>\n",
       "      <td>TeleShop</td>\n",
       "    </tr>\n",
       "    <tr>\n",
       "      <th>6</th>\n",
       "      <td>22454127</td>\n",
       "      <td>2014-02-22</td>\n",
       "      <td>e-Shop</td>\n",
       "    </tr>\n",
       "    <tr>\n",
       "      <th>7</th>\n",
       "      <td>22454128</td>\n",
       "      <td>2014-02-22</td>\n",
       "      <td>Mbr</td>\n",
       "    </tr>\n",
       "    <tr>\n",
       "      <th>8</th>\n",
       "      <td>22454129</td>\n",
       "      <td>2014-02-22</td>\n",
       "      <td>Mbr</td>\n",
       "    </tr>\n",
       "    <tr>\n",
       "      <th>9</th>\n",
       "      <td>22454130</td>\n",
       "      <td>2014-02-21</td>\n",
       "      <td>e-Shop</td>\n",
       "    </tr>\n",
       "    <tr>\n",
       "      <th>12</th>\n",
       "      <td>22454123</td>\n",
       "      <td>2014-02-27</td>\n",
       "      <td>Teleshop</td>\n",
       "    </tr>\n",
       "    <tr>\n",
       "      <th>15</th>\n",
       "      <td>22454130</td>\n",
       "      <td>2014-02-22</td>\n",
       "      <td>e-Shop</td>\n",
       "    </tr>\n",
       "  </tbody>\n",
       "</table>\n",
       "</div>"
      ],
      "text/plain": [
       "     tran_id  tran_date Store_type\n",
       "0   22454121 2014-02-28     e-Shop\n",
       "1   22454122 2014-02-27     e-Shop\n",
       "2   22454123 2014-02-24   Teleshop\n",
       "3   22454124 2014-02-24     e-Shop\n",
       "4   22454125 2014-02-23   Teleshop\n",
       "5   22454126 2014-02-23   TeleShop\n",
       "6   22454127 2014-02-22     e-Shop\n",
       "7   22454128 2014-02-22        Mbr\n",
       "8   22454129 2014-02-22        Mbr\n",
       "9   22454130 2014-02-21     e-Shop\n",
       "12  22454123 2014-02-27   Teleshop\n",
       "15  22454130 2014-02-22     e-Shop"
      ]
     },
     "execution_count": 91,
     "metadata": {},
     "output_type": "execute_result"
    }
   ],
   "source": [
    "data2"
   ]
  }
 ],
 "metadata": {
  "kernelspec": {
   "display_name": "Python 3 (ipykernel)",
   "language": "python",
   "name": "python3"
  },
  "language_info": {
   "codemirror_mode": {
    "name": "ipython",
    "version": 3
   },
   "file_extension": ".py",
   "mimetype": "text/x-python",
   "name": "python",
   "nbconvert_exporter": "python",
   "pygments_lexer": "ipython3",
   "version": "3.12.7"
  }
 },
 "nbformat": 4,
 "nbformat_minor": 5
}
