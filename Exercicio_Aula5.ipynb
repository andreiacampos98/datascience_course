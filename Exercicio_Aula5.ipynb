{
  "nbformat": 4,
  "nbformat_minor": 0,
  "metadata": {
    "colab": {
      "provenance": [],
      "include_colab_link": true
    },
    "kernelspec": {
      "name": "python3",
      "display_name": "Python 3"
    },
    "language_info": {
      "name": "python"
    }
  },
  "cells": [
    {
      "cell_type": "markdown",
      "metadata": {
        "id": "view-in-github",
        "colab_type": "text"
      },
      "source": [
        "<a href=\"https://colab.research.google.com/github/andreiacampos98/datascience_course/blob/main/Exercicio_Aula5.ipynb\" target=\"_parent\"><img src=\"https://colab.research.google.com/assets/colab-badge.svg\" alt=\"Open In Colab\"/></a>"
      ]
    },
    {
      "cell_type": "code",
      "execution_count": null,
      "metadata": {
        "colab": {
          "base_uri": "https://localhost:8080/",
          "height": 206
        },
        "id": "8eh-llKYzgxC",
        "outputId": "c8ea33d6-db7a-4f8c-c79c-e7631d13a2bf"
      },
      "outputs": [
        {
          "output_type": "execute_result",
          "data": {
            "text/plain": [
              "  Shipment ID   Origin Destination  Distance (km)  Weight (kg)  Shipment Cost  \\\n",
              "0    SHIP0001  Chicago      Dallas           1291       382.82         358.36   \n",
              "1    SHIP0002  Chicago     Atlanta           2025       485.80         193.77   \n",
              "2    SHIP0003  Chicago      Denver           1476       717.53         240.87   \n",
              "3    SHIP0004  Houston     Atlanta           1066       226.84         404.25   \n",
              "4    SHIP0005  Houston     Atlanta            498       337.23         395.83   \n",
              "\n",
              "       Status  \n",
              "0  In Transit  \n",
              "1   Cancelled  \n",
              "2  In Transit  \n",
              "3     Pending  \n",
              "4   Cancelled  "
            ],
            "text/html": [
              "\n",
              "  <div id=\"df-721b8ec3-7efd-4b92-9923-9a5f7e986871\" class=\"colab-df-container\">\n",
              "    <div>\n",
              "<style scoped>\n",
              "    .dataframe tbody tr th:only-of-type {\n",
              "        vertical-align: middle;\n",
              "    }\n",
              "\n",
              "    .dataframe tbody tr th {\n",
              "        vertical-align: top;\n",
              "    }\n",
              "\n",
              "    .dataframe thead th {\n",
              "        text-align: right;\n",
              "    }\n",
              "</style>\n",
              "<table border=\"1\" class=\"dataframe\">\n",
              "  <thead>\n",
              "    <tr style=\"text-align: right;\">\n",
              "      <th></th>\n",
              "      <th>Shipment ID</th>\n",
              "      <th>Origin</th>\n",
              "      <th>Destination</th>\n",
              "      <th>Distance (km)</th>\n",
              "      <th>Weight (kg)</th>\n",
              "      <th>Shipment Cost</th>\n",
              "      <th>Status</th>\n",
              "    </tr>\n",
              "  </thead>\n",
              "  <tbody>\n",
              "    <tr>\n",
              "      <th>0</th>\n",
              "      <td>SHIP0001</td>\n",
              "      <td>Chicago</td>\n",
              "      <td>Dallas</td>\n",
              "      <td>1291</td>\n",
              "      <td>382.82</td>\n",
              "      <td>358.36</td>\n",
              "      <td>In Transit</td>\n",
              "    </tr>\n",
              "    <tr>\n",
              "      <th>1</th>\n",
              "      <td>SHIP0002</td>\n",
              "      <td>Chicago</td>\n",
              "      <td>Atlanta</td>\n",
              "      <td>2025</td>\n",
              "      <td>485.80</td>\n",
              "      <td>193.77</td>\n",
              "      <td>Cancelled</td>\n",
              "    </tr>\n",
              "    <tr>\n",
              "      <th>2</th>\n",
              "      <td>SHIP0003</td>\n",
              "      <td>Chicago</td>\n",
              "      <td>Denver</td>\n",
              "      <td>1476</td>\n",
              "      <td>717.53</td>\n",
              "      <td>240.87</td>\n",
              "      <td>In Transit</td>\n",
              "    </tr>\n",
              "    <tr>\n",
              "      <th>3</th>\n",
              "      <td>SHIP0004</td>\n",
              "      <td>Houston</td>\n",
              "      <td>Atlanta</td>\n",
              "      <td>1066</td>\n",
              "      <td>226.84</td>\n",
              "      <td>404.25</td>\n",
              "      <td>Pending</td>\n",
              "    </tr>\n",
              "    <tr>\n",
              "      <th>4</th>\n",
              "      <td>SHIP0005</td>\n",
              "      <td>Houston</td>\n",
              "      <td>Atlanta</td>\n",
              "      <td>498</td>\n",
              "      <td>337.23</td>\n",
              "      <td>395.83</td>\n",
              "      <td>Cancelled</td>\n",
              "    </tr>\n",
              "  </tbody>\n",
              "</table>\n",
              "</div>\n",
              "    <div class=\"colab-df-buttons\">\n",
              "\n",
              "  <div class=\"colab-df-container\">\n",
              "    <button class=\"colab-df-convert\" onclick=\"convertToInteractive('df-721b8ec3-7efd-4b92-9923-9a5f7e986871')\"\n",
              "            title=\"Convert this dataframe to an interactive table.\"\n",
              "            style=\"display:none;\">\n",
              "\n",
              "  <svg xmlns=\"http://www.w3.org/2000/svg\" height=\"24px\" viewBox=\"0 -960 960 960\">\n",
              "    <path d=\"M120-120v-720h720v720H120Zm60-500h600v-160H180v160Zm220 220h160v-160H400v160Zm0 220h160v-160H400v160ZM180-400h160v-160H180v160Zm440 0h160v-160H620v160ZM180-180h160v-160H180v160Zm440 0h160v-160H620v160Z\"/>\n",
              "  </svg>\n",
              "    </button>\n",
              "\n",
              "  <style>\n",
              "    .colab-df-container {\n",
              "      display:flex;\n",
              "      gap: 12px;\n",
              "    }\n",
              "\n",
              "    .colab-df-convert {\n",
              "      background-color: #E8F0FE;\n",
              "      border: none;\n",
              "      border-radius: 50%;\n",
              "      cursor: pointer;\n",
              "      display: none;\n",
              "      fill: #1967D2;\n",
              "      height: 32px;\n",
              "      padding: 0 0 0 0;\n",
              "      width: 32px;\n",
              "    }\n",
              "\n",
              "    .colab-df-convert:hover {\n",
              "      background-color: #E2EBFA;\n",
              "      box-shadow: 0px 1px 2px rgba(60, 64, 67, 0.3), 0px 1px 3px 1px rgba(60, 64, 67, 0.15);\n",
              "      fill: #174EA6;\n",
              "    }\n",
              "\n",
              "    .colab-df-buttons div {\n",
              "      margin-bottom: 4px;\n",
              "    }\n",
              "\n",
              "    [theme=dark] .colab-df-convert {\n",
              "      background-color: #3B4455;\n",
              "      fill: #D2E3FC;\n",
              "    }\n",
              "\n",
              "    [theme=dark] .colab-df-convert:hover {\n",
              "      background-color: #434B5C;\n",
              "      box-shadow: 0px 1px 3px 1px rgba(0, 0, 0, 0.15);\n",
              "      filter: drop-shadow(0px 1px 2px rgba(0, 0, 0, 0.3));\n",
              "      fill: #FFFFFF;\n",
              "    }\n",
              "  </style>\n",
              "\n",
              "    <script>\n",
              "      const buttonEl =\n",
              "        document.querySelector('#df-721b8ec3-7efd-4b92-9923-9a5f7e986871 button.colab-df-convert');\n",
              "      buttonEl.style.display =\n",
              "        google.colab.kernel.accessAllowed ? 'block' : 'none';\n",
              "\n",
              "      async function convertToInteractive(key) {\n",
              "        const element = document.querySelector('#df-721b8ec3-7efd-4b92-9923-9a5f7e986871');\n",
              "        const dataTable =\n",
              "          await google.colab.kernel.invokeFunction('convertToInteractive',\n",
              "                                                    [key], {});\n",
              "        if (!dataTable) return;\n",
              "\n",
              "        const docLinkHtml = 'Like what you see? Visit the ' +\n",
              "          '<a target=\"_blank\" href=https://colab.research.google.com/notebooks/data_table.ipynb>data table notebook</a>'\n",
              "          + ' to learn more about interactive tables.';\n",
              "        element.innerHTML = '';\n",
              "        dataTable['output_type'] = 'display_data';\n",
              "        await google.colab.output.renderOutput(dataTable, element);\n",
              "        const docLink = document.createElement('div');\n",
              "        docLink.innerHTML = docLinkHtml;\n",
              "        element.appendChild(docLink);\n",
              "      }\n",
              "    </script>\n",
              "  </div>\n",
              "\n",
              "\n",
              "<div id=\"df-789c34aa-ed8f-4318-853e-e7277c0ee90e\">\n",
              "  <button class=\"colab-df-quickchart\" onclick=\"quickchart('df-789c34aa-ed8f-4318-853e-e7277c0ee90e')\"\n",
              "            title=\"Suggest charts\"\n",
              "            style=\"display:none;\">\n",
              "\n",
              "<svg xmlns=\"http://www.w3.org/2000/svg\" height=\"24px\"viewBox=\"0 0 24 24\"\n",
              "     width=\"24px\">\n",
              "    <g>\n",
              "        <path d=\"M19 3H5c-1.1 0-2 .9-2 2v14c0 1.1.9 2 2 2h14c1.1 0 2-.9 2-2V5c0-1.1-.9-2-2-2zM9 17H7v-7h2v7zm4 0h-2V7h2v10zm4 0h-2v-4h2v4z\"/>\n",
              "    </g>\n",
              "</svg>\n",
              "  </button>\n",
              "\n",
              "<style>\n",
              "  .colab-df-quickchart {\n",
              "      --bg-color: #E8F0FE;\n",
              "      --fill-color: #1967D2;\n",
              "      --hover-bg-color: #E2EBFA;\n",
              "      --hover-fill-color: #174EA6;\n",
              "      --disabled-fill-color: #AAA;\n",
              "      --disabled-bg-color: #DDD;\n",
              "  }\n",
              "\n",
              "  [theme=dark] .colab-df-quickchart {\n",
              "      --bg-color: #3B4455;\n",
              "      --fill-color: #D2E3FC;\n",
              "      --hover-bg-color: #434B5C;\n",
              "      --hover-fill-color: #FFFFFF;\n",
              "      --disabled-bg-color: #3B4455;\n",
              "      --disabled-fill-color: #666;\n",
              "  }\n",
              "\n",
              "  .colab-df-quickchart {\n",
              "    background-color: var(--bg-color);\n",
              "    border: none;\n",
              "    border-radius: 50%;\n",
              "    cursor: pointer;\n",
              "    display: none;\n",
              "    fill: var(--fill-color);\n",
              "    height: 32px;\n",
              "    padding: 0;\n",
              "    width: 32px;\n",
              "  }\n",
              "\n",
              "  .colab-df-quickchart:hover {\n",
              "    background-color: var(--hover-bg-color);\n",
              "    box-shadow: 0 1px 2px rgba(60, 64, 67, 0.3), 0 1px 3px 1px rgba(60, 64, 67, 0.15);\n",
              "    fill: var(--button-hover-fill-color);\n",
              "  }\n",
              "\n",
              "  .colab-df-quickchart-complete:disabled,\n",
              "  .colab-df-quickchart-complete:disabled:hover {\n",
              "    background-color: var(--disabled-bg-color);\n",
              "    fill: var(--disabled-fill-color);\n",
              "    box-shadow: none;\n",
              "  }\n",
              "\n",
              "  .colab-df-spinner {\n",
              "    border: 2px solid var(--fill-color);\n",
              "    border-color: transparent;\n",
              "    border-bottom-color: var(--fill-color);\n",
              "    animation:\n",
              "      spin 1s steps(1) infinite;\n",
              "  }\n",
              "\n",
              "  @keyframes spin {\n",
              "    0% {\n",
              "      border-color: transparent;\n",
              "      border-bottom-color: var(--fill-color);\n",
              "      border-left-color: var(--fill-color);\n",
              "    }\n",
              "    20% {\n",
              "      border-color: transparent;\n",
              "      border-left-color: var(--fill-color);\n",
              "      border-top-color: var(--fill-color);\n",
              "    }\n",
              "    30% {\n",
              "      border-color: transparent;\n",
              "      border-left-color: var(--fill-color);\n",
              "      border-top-color: var(--fill-color);\n",
              "      border-right-color: var(--fill-color);\n",
              "    }\n",
              "    40% {\n",
              "      border-color: transparent;\n",
              "      border-right-color: var(--fill-color);\n",
              "      border-top-color: var(--fill-color);\n",
              "    }\n",
              "    60% {\n",
              "      border-color: transparent;\n",
              "      border-right-color: var(--fill-color);\n",
              "    }\n",
              "    80% {\n",
              "      border-color: transparent;\n",
              "      border-right-color: var(--fill-color);\n",
              "      border-bottom-color: var(--fill-color);\n",
              "    }\n",
              "    90% {\n",
              "      border-color: transparent;\n",
              "      border-bottom-color: var(--fill-color);\n",
              "    }\n",
              "  }\n",
              "</style>\n",
              "\n",
              "  <script>\n",
              "    async function quickchart(key) {\n",
              "      const quickchartButtonEl =\n",
              "        document.querySelector('#' + key + ' button');\n",
              "      quickchartButtonEl.disabled = true;  // To prevent multiple clicks.\n",
              "      quickchartButtonEl.classList.add('colab-df-spinner');\n",
              "      try {\n",
              "        const charts = await google.colab.kernel.invokeFunction(\n",
              "            'suggestCharts', [key], {});\n",
              "      } catch (error) {\n",
              "        console.error('Error during call to suggestCharts:', error);\n",
              "      }\n",
              "      quickchartButtonEl.classList.remove('colab-df-spinner');\n",
              "      quickchartButtonEl.classList.add('colab-df-quickchart-complete');\n",
              "    }\n",
              "    (() => {\n",
              "      let quickchartButtonEl =\n",
              "        document.querySelector('#df-789c34aa-ed8f-4318-853e-e7277c0ee90e button');\n",
              "      quickchartButtonEl.style.display =\n",
              "        google.colab.kernel.accessAllowed ? 'block' : 'none';\n",
              "    })();\n",
              "  </script>\n",
              "</div>\n",
              "\n",
              "    </div>\n",
              "  </div>\n"
            ],
            "application/vnd.google.colaboratory.intrinsic+json": {
              "type": "dataframe",
              "variable_name": "df",
              "summary": "{\n  \"name\": \"df\",\n  \"rows\": 50,\n  \"fields\": [\n    {\n      \"column\": \"Shipment ID\",\n      \"properties\": {\n        \"dtype\": \"string\",\n        \"num_unique_values\": 50,\n        \"samples\": [\n          \"SHIP0014\",\n          \"SHIP0040\",\n          \"SHIP0031\"\n        ],\n        \"semantic_type\": \"\",\n        \"description\": \"\"\n      }\n    },\n    {\n      \"column\": \"Origin\",\n      \"properties\": {\n        \"dtype\": \"category\",\n        \"num_unique_values\": 5,\n        \"samples\": [\n          \"Houston\",\n          \"New York\",\n          \"Miami\"\n        ],\n        \"semantic_type\": \"\",\n        \"description\": \"\"\n      }\n    },\n    {\n      \"column\": \"Destination\",\n      \"properties\": {\n        \"dtype\": \"category\",\n        \"num_unique_values\": 5,\n        \"samples\": [\n          \"Atlanta\",\n          \"Seattle\",\n          \"Denver\"\n        ],\n        \"semantic_type\": \"\",\n        \"description\": \"\"\n      }\n    },\n    {\n      \"column\": \"Distance (km)\",\n      \"properties\": {\n        \"dtype\": \"number\",\n        \"std\": 893,\n        \"min\": 120,\n        \"max\": 2919,\n        \"num_unique_values\": 50,\n        \"samples\": [\n          603,\n          2641,\n          2785\n        ],\n        \"semantic_type\": \"\",\n        \"description\": \"\"\n      }\n    },\n    {\n      \"column\": \"Weight (kg)\",\n      \"properties\": {\n        \"dtype\": \"number\",\n        \"std\": 289.5540954094198,\n        \"min\": 9.31,\n        \"max\": 999.73,\n        \"num_unique_values\": 50,\n        \"samples\": [\n          863.19,\n          545.8,\n          299.31\n        ],\n        \"semantic_type\": \"\",\n        \"description\": \"\"\n      }\n    },\n    {\n      \"column\": \"Shipment Cost\",\n      \"properties\": {\n        \"dtype\": \"number\",\n        \"std\": 121.9517658790573,\n        \"min\": 68.16,\n        \"max\": 463.84,\n        \"num_unique_values\": 50,\n        \"samples\": [\n          405.53,\n          245.85,\n          88.24\n        ],\n        \"semantic_type\": \"\",\n        \"description\": \"\"\n      }\n    },\n    {\n      \"column\": \"Status\",\n      \"properties\": {\n        \"dtype\": \"category\",\n        \"num_unique_values\": 4,\n        \"samples\": [\n          \"Cancelled\",\n          \"Delivered\",\n          \"In Transit\"\n        ],\n        \"semantic_type\": \"\",\n        \"description\": \"\"\n      }\n    }\n  ]\n}"
            }
          },
          "metadata": {},
          "execution_count": 4
        }
      ],
      "source": [
        "import pandas as pd\n",
        "df = pd.read_csv('logistics_data.csv')\n",
        "df.head()"
      ]
    },
    {
      "cell_type": "markdown",
      "source": [
        "1.1: Qual é o total de remessas no dataset?\n"
      ],
      "metadata": {
        "id": "YKR2NyZVz9P7"
      }
    },
    {
      "cell_type": "code",
      "source": [
        "total_remessas = len(df)\n",
        "print(total_remessas)"
      ],
      "metadata": {
        "colab": {
          "base_uri": "https://localhost:8080/"
        },
        "id": "HYZ6hMhrz-mH",
        "outputId": "c1fd7291-2e80-426c-f99e-1e3b68ed5814"
      },
      "execution_count": null,
      "outputs": [
        {
          "output_type": "stream",
          "name": "stdout",
          "text": [
            "50\n"
          ]
        }
      ]
    },
    {
      "cell_type": "markdown",
      "source": [
        "1.2: Quantas remessas estão em cada status (\"In Transit\", \"Delivered\", \"Pending\", \"Cancelled\")?\n"
      ],
      "metadata": {
        "id": "WuQ4dJlx0P7p"
      }
    },
    {
      "cell_type": "code",
      "source": [
        "status_grouped = df.groupby('Status').size()\n",
        "print (status_grouped)"
      ],
      "metadata": {
        "colab": {
          "base_uri": "https://localhost:8080/"
        },
        "id": "3QDAqR3J0Sru",
        "outputId": "74172851-3af9-4980-a5a5-0d6c91223736"
      },
      "execution_count": null,
      "outputs": [
        {
          "output_type": "stream",
          "name": "stdout",
          "text": [
            "Status\n",
            "Cancelled     18\n",
            "Delivered     15\n",
            "In Transit     8\n",
            "Pending        9\n",
            "dtype: int64\n"
          ]
        }
      ]
    },
    {
      "cell_type": "markdown",
      "source": [
        "1.3: Qual é o peso médio das remessas?"
      ],
      "metadata": {
        "id": "O__6S7s50juj"
      }
    },
    {
      "cell_type": "code",
      "source": [
        "peso_medio = df['Weight (kg)'].mean()\n",
        "print(peso_medio)"
      ],
      "metadata": {
        "colab": {
          "base_uri": "https://localhost:8080/"
        },
        "id": "dAeHgEe70kY7",
        "outputId": "6fd4294c-2322-42bc-a885-383a7a0c18b8"
      },
      "execution_count": null,
      "outputs": [
        {
          "output_type": "stream",
          "name": "stdout",
          "text": [
            "465.00500000000005\n"
          ]
        }
      ]
    },
    {
      "cell_type": "markdown",
      "source": [
        "2.1: Qual é o custo médio de envio?\n"
      ],
      "metadata": {
        "id": "lzZfgvx60uTf"
      }
    },
    {
      "cell_type": "code",
      "source": [
        "custo_medio = df['Shipment Cost'].mean()\n",
        "print(custo_medio)"
      ],
      "metadata": {
        "colab": {
          "base_uri": "https://localhost:8080/"
        },
        "id": "XZX1cgfb0ut4",
        "outputId": "f6b9fd63-14c0-4f2a-98f5-7acd63394a94"
      },
      "execution_count": null,
      "outputs": [
        {
          "output_type": "stream",
          "name": "stdout",
          "text": [
            "263.957\n"
          ]
        }
      ]
    },
    {
      "cell_type": "markdown",
      "source": [
        "2.2: Qual é o envio mais caro registrado? E o mais barato?\n"
      ],
      "metadata": {
        "id": "iNsa8Rsp0-8V"
      }
    },
    {
      "cell_type": "code",
      "source": [
        "preco_barato = df['Shipment Cost'].min()\n",
        "preco_caro = df['Shipment Cost'].max()\n",
        "print('mais barato: ',preco_barato,'mais caro: ', preco_caro)"
      ],
      "metadata": {
        "colab": {
          "base_uri": "https://localhost:8080/"
        },
        "id": "sOHuaHow1An8",
        "outputId": "45eb1913-aebb-4f4b-b3ce-98623910d18a"
      },
      "execution_count": null,
      "outputs": [
        {
          "output_type": "stream",
          "name": "stdout",
          "text": [
            "mais barato:  68.16 mais caro:  463.84\n"
          ]
        }
      ]
    },
    {
      "cell_type": "markdown",
      "source": [
        "2.3: Calcule o custo total de envio para remessas \"Delivered\".\n"
      ],
      "metadata": {
        "id": "hQTdIKoX1Vg_"
      }
    },
    {
      "cell_type": "code",
      "source": [
        "custo_total = (df['Shipment Cost'][df[\"Status\"] == \"Delivered\"].sum())\n",
        "print(custo_total)"
      ],
      "metadata": {
        "colab": {
          "base_uri": "https://localhost:8080/"
        },
        "id": "Ymo48vtx1WO_",
        "outputId": "4b85ac65-956c-4a63-e21e-e66d23006343"
      },
      "execution_count": null,
      "outputs": [
        {
          "output_type": "stream",
          "name": "stdout",
          "text": [
            "4284.3099999999995\n"
          ]
        }
      ]
    },
    {
      "cell_type": "markdown",
      "source": [
        "3.1: Quais são as rotas mais comuns (combinações de origem e destino)?\n"
      ],
      "metadata": {
        "id": "eOd7MvDu3E4_"
      }
    },
    {
      "cell_type": "code",
      "source": [
        "rotas_comuns = df.groupby(['Origin','Destination']).size().sort_values(ascending=True)\n",
        "print (rotas_comuns)"
      ],
      "metadata": {
        "colab": {
          "base_uri": "https://localhost:8080/"
        },
        "id": "-oscHl_X3FRS",
        "outputId": "c3585e56-6288-4f1d-e97e-d597a5beb9a9"
      },
      "execution_count": null,
      "outputs": [
        {
          "output_type": "stream",
          "name": "stdout",
          "text": [
            "Origin       Destination  \n",
            "New York     Denver           1\n",
            "             Atlanta          1\n",
            "Miami        Seattle          1\n",
            "             Denver           1\n",
            "             Atlanta          1\n",
            "Houston      Dallas           1\n",
            "             Denver           1\n",
            "             San Francisco    1\n",
            "Los Angeles  Denver           1\n",
            "             Dallas           2\n",
            "New York     Seattle          2\n",
            "Houston      Seattle          2\n",
            "Chicago      San Francisco    2\n",
            "             Denver           2\n",
            "Miami        Dallas           3\n",
            "Chicago      Seattle          3\n",
            "             Dallas           3\n",
            "New York     San Francisco    3\n",
            "Los Angeles  San Francisco    4\n",
            "Chicago      Atlanta          4\n",
            "Houston      Atlanta          5\n",
            "Miami        San Francisco    6\n",
            "dtype: int64\n"
          ]
        }
      ]
    },
    {
      "cell_type": "markdown",
      "source": [
        "3.2: Qual é a distância média percorrida por remessa?\n"
      ],
      "metadata": {
        "id": "rTystTjp3kUk"
      }
    },
    {
      "cell_type": "code",
      "source": [
        "distancia_media = df['Distance (km)'].mean()\n",
        "print(distancia_media)"
      ],
      "metadata": {
        "colab": {
          "base_uri": "https://localhost:8080/"
        },
        "id": "HT_7n5Ku3mqn",
        "outputId": "bf609aed-e553-4c8c-97d1-23dee904d54e"
      },
      "execution_count": null,
      "outputs": [
        {
          "output_type": "stream",
          "name": "stdout",
          "text": [
            "1411.56\n"
          ]
        }
      ]
    },
    {
      "cell_type": "code",
      "source": [
        "distancia_media1 = (df['Distance (km)'][df[\"Status\"] != \"Cancelled\"].mean())\n",
        "print('sem as cancelled: ',distancia_media1)"
      ],
      "metadata": {
        "colab": {
          "base_uri": "https://localhost:8080/"
        },
        "id": "j7XDPj5q4E3a",
        "outputId": "d7b8077c-46fb-4d48-ad6a-39d185a0324d"
      },
      "execution_count": null,
      "outputs": [
        {
          "output_type": "stream",
          "name": "stdout",
          "text": [
            "sem as cancelled:  1381.96875\n"
          ]
        }
      ]
    },
    {
      "cell_type": "markdown",
      "source": [
        "3.3: Encontre a origem com o maior número de remessas."
      ],
      "metadata": {
        "id": "Fne_5_sw4Zju"
      }
    },
    {
      "cell_type": "markdown",
      "source": [
        "mais_remessas= df.groupby(['Origin']).size()"
      ],
      "metadata": {
        "id": "3JWox2IO5IQn"
      }
    },
    {
      "cell_type": "code",
      "source": [
        "mais_remessas= df.groupby(['Origin']).size().sort_values(ascending=False)\n",
        "mais_remessas.head(1)"
      ],
      "metadata": {
        "colab": {
          "base_uri": "https://localhost:8080/",
          "height": 147
        },
        "id": "5srHF6C55RrS",
        "outputId": "d3b6d7db-a7d9-44ba-ba8b-6f5733d87aa6"
      },
      "execution_count": null,
      "outputs": [
        {
          "output_type": "execute_result",
          "data": {
            "text/plain": [
              "Origin\n",
              "Chicago    14\n",
              "dtype: int64"
            ],
            "text/html": [
              "<div>\n",
              "<style scoped>\n",
              "    .dataframe tbody tr th:only-of-type {\n",
              "        vertical-align: middle;\n",
              "    }\n",
              "\n",
              "    .dataframe tbody tr th {\n",
              "        vertical-align: top;\n",
              "    }\n",
              "\n",
              "    .dataframe thead th {\n",
              "        text-align: right;\n",
              "    }\n",
              "</style>\n",
              "<table border=\"1\" class=\"dataframe\">\n",
              "  <thead>\n",
              "    <tr style=\"text-align: right;\">\n",
              "      <th></th>\n",
              "      <th>0</th>\n",
              "    </tr>\n",
              "    <tr>\n",
              "      <th>Origin</th>\n",
              "      <th></th>\n",
              "    </tr>\n",
              "  </thead>\n",
              "  <tbody>\n",
              "    <tr>\n",
              "      <th>Chicago</th>\n",
              "      <td>14</td>\n",
              "    </tr>\n",
              "  </tbody>\n",
              "</table>\n",
              "</div><br><label><b>dtype:</b> int64</label>"
            ]
          },
          "metadata": {},
          "execution_count": 42
        }
      ]
    },
    {
      "cell_type": "markdown",
      "source": [
        "4.1: Qual é a remessa mais pesada?\n"
      ],
      "metadata": {
        "id": "LvdGesz_59Gb"
      }
    },
    {
      "cell_type": "code",
      "source": [
        "mais_pesada = (df['Shipment ID'][df[\"Weight (kg)\"] == df[\"Weight (kg)\"].max()])\n",
        "print(mais_pesada)"
      ],
      "metadata": {
        "colab": {
          "base_uri": "https://localhost:8080/"
        },
        "id": "ZeLpIp4d59h5",
        "outputId": "561527ca-26c6-4d42-db8c-f3c2f42c0085"
      },
      "execution_count": null,
      "outputs": [
        {
          "output_type": "stream",
          "name": "stdout",
          "text": [
            "24    SHIP0025\n",
            "Name: Shipment ID, dtype: object\n"
          ]
        }
      ]
    },
    {
      "cell_type": "code",
      "source": [
        "mais_pesado = df[df[\"Weight (kg)\"] == df[\"Weight (kg)\"].max()]\n",
        "print(mais_pesado)"
      ],
      "metadata": {
        "colab": {
          "base_uri": "https://localhost:8080/"
        },
        "id": "1sk9gKfw7G5z",
        "outputId": "16eb9beb-2c91-412d-a11c-b853a2d4f7b6"
      },
      "execution_count": null,
      "outputs": [
        {
          "output_type": "stream",
          "name": "stdout",
          "text": [
            "   Shipment ID Origin Destination  Distance (km)  Weight (kg)  Shipment Cost  \\\n",
            "24    SHIP0025  Miami     Atlanta           1845       999.73          289.9   \n",
            "\n",
            "       Status  \n",
            "24  Delivered  \n"
          ]
        }
      ]
    },
    {
      "cell_type": "markdown",
      "source": [
        "4.2: Existe uma relação entre o peso das remessas e o custo de envio? (Sugestão: calcule a correlação entre as colunas \"Weight (kg)\" e \"Shipment Cost\").\n"
      ],
      "metadata": {
        "id": "LHUw9LDL700a"
      }
    },
    {
      "cell_type": "code",
      "source": [
        "relacao_peso_custo = df[\"Weight (kg)\"].corr(df[\"Shipment Cost\"])\n",
        "\n",
        "print(relacao_peso_custo)"
      ],
      "metadata": {
        "colab": {
          "base_uri": "https://localhost:8080/"
        },
        "id": "wLMDGjLs73gm",
        "outputId": "3c9ef238-4b63-4d9d-d6ca-02baabcccbc2"
      },
      "execution_count": null,
      "outputs": [
        {
          "output_type": "stream",
          "name": "stdout",
          "text": [
            "0.29828224704000056\n"
          ]
        }
      ]
    },
    {
      "cell_type": "code",
      "source": [
        "relacao_peso_custo = df[\"Shipment Cost\"].corr(df[\"Weight (kg)\"])\n",
        "\n",
        "print(relacao_peso_custo)"
      ],
      "metadata": {
        "colab": {
          "base_uri": "https://localhost:8080/"
        },
        "id": "UHA2Peiq8Ih4",
        "outputId": "74891874-0127-4c56-e2d4-c7791f15363e"
      },
      "execution_count": null,
      "outputs": [
        {
          "output_type": "stream",
          "name": "stdout",
          "text": [
            "0.29828224704000056\n"
          ]
        }
      ]
    },
    {
      "cell_type": "markdown",
      "source": [
        "4.3: Qual é a remessa com a maior distância percorrida?"
      ],
      "metadata": {
        "id": "c2AfcwwS8P47"
      }
    },
    {
      "cell_type": "code",
      "source": [
        "mais_percorreu = (df['Shipment ID'][df[\"Distance (km)\"] == df[\"Distance (km)\"].max()])\n",
        "print(mais_percorreu)"
      ],
      "metadata": {
        "colab": {
          "base_uri": "https://localhost:8080/"
        },
        "id": "5j4XuS5L8QbY",
        "outputId": "4e1d6c8e-701b-483c-f38f-c16bbc01a6c3"
      },
      "execution_count": null,
      "outputs": [
        {
          "output_type": "stream",
          "name": "stdout",
          "text": [
            "44    SHIP0045\n",
            "Name: Shipment ID, dtype: object\n"
          ]
        }
      ]
    },
    {
      "cell_type": "code",
      "source": [
        "remessa_maior_distancia = df.loc[df['Distance (km)'].idxmax()]\n",
        "print(f\"Shipment ID: {remessa_maior_distancia['Shipment ID']}, Peso: {remessa_maior_distancia['Weight (kg)']}\")"
      ],
      "metadata": {
        "colab": {
          "base_uri": "https://localhost:8080/"
        },
        "id": "GBTGrRyK_5wG",
        "outputId": "c18d526c-cb7c-41cb-d6a6-7b5d73d1affe"
      },
      "execution_count": null,
      "outputs": [
        {
          "output_type": "stream",
          "name": "stdout",
          "text": [
            "Shipment ID: SHIP0045, Peso: 705.04\n"
          ]
        }
      ]
    }
  ]
}