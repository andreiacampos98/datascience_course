{
 "cells": [
  {
   "cell_type": "markdown",
   "metadata": {},
   "source": [
    "# Instruções"
   ]
  },
  {
   "cell_type": "markdown",
   "metadata": {},
   "source": [
    "<div class=\"alert alert-block alert-info\">\n",
    "ℹ️ Deve responder às questões no notebook entregue. O notebook deve correr até ao final sem erros dentro da pasta enviada, junto à pasta 'data' com os dados (podem testar com *Kernel->Restart Kernel and Run All Cells...*)\n",
    "\n",
    "Responda às questões e acrescente células com o código que for necessário.\n",
    "</div>"
   ]
  },
  {
   "cell_type": "markdown",
   "metadata": {},
   "source": [
    "<div class=\"alert alert-block alert-warning\">\n",
    "    ⚠️ <b>Data de entrega:</b> 02-03-2025 23:59<br>\n",
    "    Penalização de 0.5 valores por cada dia de atraso<br>\n",
    "    <b>Data final de aceitação:</b> 12-03-2025 23:59\n",
    "</div>"
   ]
  },
  {
   "cell_type": "markdown",
   "metadata": {},
   "source": [
    "# Visualização de dados - Avaliação"
   ]
  },
  {
   "cell_type": "markdown",
   "metadata": {},
   "source": [
    "# Q1\n",
    "A imagem abaixo, retirada da publicação, SEGURANÇA CONTRA INCÊNDIO EM EDIFÍCIOS - VÍTOR MARTINS PRIMO - Universidade Lusófona do Porto (\"**FIGURA 13** - Distribuição dos incêndios de acordo com a causa.\") deve ser melhorada. Critique-a e crie uma alternativa com os dados abaixo."
   ]
  },
  {
   "cell_type": "markdown",
   "metadata": {},
   "source": [
    "![incendios](img/incendios.png)"
   ]
  },
  {
   "cell_type": "markdown",
   "metadata": {},
   "source": [
    "O gráfico apresentado acima tem os seguintes apectos a melhorar:\n",
    "    - o título do gráfico poderia ser mais claro (Ex: Causas dos incêndios em edificios);\n",
    "    - a legenda encontra-se afastada das fatias, o que dificulta a identificação das causas e a associação com as diferentes fatias;\n",
    "    - o gráfico em 3d dificulta a perceção do mesmo. Seria preferivel ter um grafico em 2d para uma visualização precisa e objetiva."
   ]
  },
  {
   "cell_type": "code",
   "execution_count": 14,
   "metadata": {},
   "outputs": [
    {
     "data": {
      "text/html": [
       "<div>\n",
       "<style scoped>\n",
       "    .dataframe tbody tr th:only-of-type {\n",
       "        vertical-align: middle;\n",
       "    }\n",
       "\n",
       "    .dataframe tbody tr th {\n",
       "        vertical-align: top;\n",
       "    }\n",
       "\n",
       "    .dataframe thead th {\n",
       "        text-align: right;\n",
       "    }\n",
       "</style>\n",
       "<table border=\"1\" class=\"dataframe\">\n",
       "  <thead>\n",
       "    <tr style=\"text-align: right;\">\n",
       "      <th></th>\n",
       "      <th>causa</th>\n",
       "      <th>perc</th>\n",
       "    </tr>\n",
       "  </thead>\n",
       "  <tbody>\n",
       "    <tr>\n",
       "      <th>0</th>\n",
       "      <td>Acidental</td>\n",
       "      <td>0.09</td>\n",
       "    </tr>\n",
       "    <tr>\n",
       "      <th>1</th>\n",
       "      <td>Descuido</td>\n",
       "      <td>0.24</td>\n",
       "    </tr>\n",
       "    <tr>\n",
       "      <th>2</th>\n",
       "      <td>Intencional</td>\n",
       "      <td>0.01</td>\n",
       "    </tr>\n",
       "    <tr>\n",
       "      <th>3</th>\n",
       "      <td>Falso Alarme</td>\n",
       "      <td>0.08</td>\n",
       "    </tr>\n",
       "    <tr>\n",
       "      <th>4</th>\n",
       "      <td>Infundada</td>\n",
       "      <td>0.05</td>\n",
       "    </tr>\n",
       "    <tr>\n",
       "      <th>5</th>\n",
       "      <td>Indeterminada</td>\n",
       "      <td>0.34</td>\n",
       "    </tr>\n",
       "    <tr>\n",
       "      <th>6</th>\n",
       "      <td>Curto Circuito</td>\n",
       "      <td>0.19</td>\n",
       "    </tr>\n",
       "  </tbody>\n",
       "</table>\n",
       "</div>"
      ],
      "text/plain": [
       "            causa  perc\n",
       "0       Acidental  0.09\n",
       "1        Descuido  0.24\n",
       "2     Intencional  0.01\n",
       "3    Falso Alarme  0.08\n",
       "4       Infundada  0.05\n",
       "5   Indeterminada  0.34\n",
       "6  Curto Circuito  0.19"
      ]
     },
     "execution_count": 14,
     "metadata": {},
     "output_type": "execute_result"
    }
   ],
   "source": [
    "import pandas as pd\n",
    "\n",
    "df = pd.DataFrame([\n",
    "    ['Acidental', .09],\n",
    "    ['Descuido', .24],\n",
    "    ['Intencional', .01],\n",
    "    ['Falso Alarme', .08],\n",
    "    ['Infundada', .05],\n",
    "    ['Indeterminada', .34],\n",
    "    ['Curto Circuito', .19],\n",
    "], columns=['causa', 'perc'])\n",
    "\n",
    "df"
   ]
  },
  {
   "cell_type": "markdown",
   "metadata": {},
   "source": [
    "**R:**\n"
   ]
  },
  {
   "cell_type": "code",
   "execution_count": 15,
   "metadata": {},
   "outputs": [
    {
     "data": {
      "application/vnd.plotly.v1+json": {
       "config": {
        "plotlyServerURL": "https://plot.ly"
       },
       "data": [
        {
         "domain": {
          "x": [
           0,
           1
          ],
          "y": [
           0,
           1
          ]
         },
         "hovertemplate": "causa=%{label}<br>perc=%{value}<extra></extra>",
         "labels": [
          "Acidental",
          "Descuido",
          "Intencional",
          "Falso Alarme",
          "Infundada",
          "Indeterminada",
          "Curto Circuito"
         ],
         "legendgroup": "",
         "name": "",
         "pull": [
          0.05,
          0,
          0,
          0
         ],
         "showlegend": true,
         "textinfo": "percent+label",
         "type": "pie",
         "values": {
          "bdata": "CtejcD0Ktz+4HoXrUbjOP3sUrkfheoQ/exSuR+F6tD+amZmZmZmpP8P1KFyPwtU/UrgehetRyD8=",
          "dtype": "f8"
         }
        }
       ],
       "layout": {
        "legend": {
         "tracegroupgap": 0
        },
        "piecolorway": [
         "rgb(102,194,165)",
         "rgb(252,141,98)",
         "rgb(141,160,203)",
         "rgb(231,138,195)",
         "rgb(166,216,84)",
         "rgb(255,217,47)",
         "rgb(229,196,148)",
         "rgb(179,179,179)"
        ],
        "template": {
         "data": {
          "bar": [
           {
            "error_x": {
             "color": "#2a3f5f"
            },
            "error_y": {
             "color": "#2a3f5f"
            },
            "marker": {
             "line": {
              "color": "#E5ECF6",
              "width": 0.5
             },
             "pattern": {
              "fillmode": "overlay",
              "size": 10,
              "solidity": 0.2
             }
            },
            "type": "bar"
           }
          ],
          "barpolar": [
           {
            "marker": {
             "line": {
              "color": "#E5ECF6",
              "width": 0.5
             },
             "pattern": {
              "fillmode": "overlay",
              "size": 10,
              "solidity": 0.2
             }
            },
            "type": "barpolar"
           }
          ],
          "carpet": [
           {
            "aaxis": {
             "endlinecolor": "#2a3f5f",
             "gridcolor": "white",
             "linecolor": "white",
             "minorgridcolor": "white",
             "startlinecolor": "#2a3f5f"
            },
            "baxis": {
             "endlinecolor": "#2a3f5f",
             "gridcolor": "white",
             "linecolor": "white",
             "minorgridcolor": "white",
             "startlinecolor": "#2a3f5f"
            },
            "type": "carpet"
           }
          ],
          "choropleth": [
           {
            "colorbar": {
             "outlinewidth": 0,
             "ticks": ""
            },
            "type": "choropleth"
           }
          ],
          "contour": [
           {
            "colorbar": {
             "outlinewidth": 0,
             "ticks": ""
            },
            "colorscale": [
             [
              0,
              "#0d0887"
             ],
             [
              0.1111111111111111,
              "#46039f"
             ],
             [
              0.2222222222222222,
              "#7201a8"
             ],
             [
              0.3333333333333333,
              "#9c179e"
             ],
             [
              0.4444444444444444,
              "#bd3786"
             ],
             [
              0.5555555555555556,
              "#d8576b"
             ],
             [
              0.6666666666666666,
              "#ed7953"
             ],
             [
              0.7777777777777778,
              "#fb9f3a"
             ],
             [
              0.8888888888888888,
              "#fdca26"
             ],
             [
              1,
              "#f0f921"
             ]
            ],
            "type": "contour"
           }
          ],
          "contourcarpet": [
           {
            "colorbar": {
             "outlinewidth": 0,
             "ticks": ""
            },
            "type": "contourcarpet"
           }
          ],
          "heatmap": [
           {
            "colorbar": {
             "outlinewidth": 0,
             "ticks": ""
            },
            "colorscale": [
             [
              0,
              "#0d0887"
             ],
             [
              0.1111111111111111,
              "#46039f"
             ],
             [
              0.2222222222222222,
              "#7201a8"
             ],
             [
              0.3333333333333333,
              "#9c179e"
             ],
             [
              0.4444444444444444,
              "#bd3786"
             ],
             [
              0.5555555555555556,
              "#d8576b"
             ],
             [
              0.6666666666666666,
              "#ed7953"
             ],
             [
              0.7777777777777778,
              "#fb9f3a"
             ],
             [
              0.8888888888888888,
              "#fdca26"
             ],
             [
              1,
              "#f0f921"
             ]
            ],
            "type": "heatmap"
           }
          ],
          "histogram": [
           {
            "marker": {
             "pattern": {
              "fillmode": "overlay",
              "size": 10,
              "solidity": 0.2
             }
            },
            "type": "histogram"
           }
          ],
          "histogram2d": [
           {
            "colorbar": {
             "outlinewidth": 0,
             "ticks": ""
            },
            "colorscale": [
             [
              0,
              "#0d0887"
             ],
             [
              0.1111111111111111,
              "#46039f"
             ],
             [
              0.2222222222222222,
              "#7201a8"
             ],
             [
              0.3333333333333333,
              "#9c179e"
             ],
             [
              0.4444444444444444,
              "#bd3786"
             ],
             [
              0.5555555555555556,
              "#d8576b"
             ],
             [
              0.6666666666666666,
              "#ed7953"
             ],
             [
              0.7777777777777778,
              "#fb9f3a"
             ],
             [
              0.8888888888888888,
              "#fdca26"
             ],
             [
              1,
              "#f0f921"
             ]
            ],
            "type": "histogram2d"
           }
          ],
          "histogram2dcontour": [
           {
            "colorbar": {
             "outlinewidth": 0,
             "ticks": ""
            },
            "colorscale": [
             [
              0,
              "#0d0887"
             ],
             [
              0.1111111111111111,
              "#46039f"
             ],
             [
              0.2222222222222222,
              "#7201a8"
             ],
             [
              0.3333333333333333,
              "#9c179e"
             ],
             [
              0.4444444444444444,
              "#bd3786"
             ],
             [
              0.5555555555555556,
              "#d8576b"
             ],
             [
              0.6666666666666666,
              "#ed7953"
             ],
             [
              0.7777777777777778,
              "#fb9f3a"
             ],
             [
              0.8888888888888888,
              "#fdca26"
             ],
             [
              1,
              "#f0f921"
             ]
            ],
            "type": "histogram2dcontour"
           }
          ],
          "mesh3d": [
           {
            "colorbar": {
             "outlinewidth": 0,
             "ticks": ""
            },
            "type": "mesh3d"
           }
          ],
          "parcoords": [
           {
            "line": {
             "colorbar": {
              "outlinewidth": 0,
              "ticks": ""
             }
            },
            "type": "parcoords"
           }
          ],
          "pie": [
           {
            "automargin": true,
            "type": "pie"
           }
          ],
          "scatter": [
           {
            "fillpattern": {
             "fillmode": "overlay",
             "size": 10,
             "solidity": 0.2
            },
            "type": "scatter"
           }
          ],
          "scatter3d": [
           {
            "line": {
             "colorbar": {
              "outlinewidth": 0,
              "ticks": ""
             }
            },
            "marker": {
             "colorbar": {
              "outlinewidth": 0,
              "ticks": ""
             }
            },
            "type": "scatter3d"
           }
          ],
          "scattercarpet": [
           {
            "marker": {
             "colorbar": {
              "outlinewidth": 0,
              "ticks": ""
             }
            },
            "type": "scattercarpet"
           }
          ],
          "scattergeo": [
           {
            "marker": {
             "colorbar": {
              "outlinewidth": 0,
              "ticks": ""
             }
            },
            "type": "scattergeo"
           }
          ],
          "scattergl": [
           {
            "marker": {
             "colorbar": {
              "outlinewidth": 0,
              "ticks": ""
             }
            },
            "type": "scattergl"
           }
          ],
          "scattermap": [
           {
            "marker": {
             "colorbar": {
              "outlinewidth": 0,
              "ticks": ""
             }
            },
            "type": "scattermap"
           }
          ],
          "scattermapbox": [
           {
            "marker": {
             "colorbar": {
              "outlinewidth": 0,
              "ticks": ""
             }
            },
            "type": "scattermapbox"
           }
          ],
          "scatterpolar": [
           {
            "marker": {
             "colorbar": {
              "outlinewidth": 0,
              "ticks": ""
             }
            },
            "type": "scatterpolar"
           }
          ],
          "scatterpolargl": [
           {
            "marker": {
             "colorbar": {
              "outlinewidth": 0,
              "ticks": ""
             }
            },
            "type": "scatterpolargl"
           }
          ],
          "scatterternary": [
           {
            "marker": {
             "colorbar": {
              "outlinewidth": 0,
              "ticks": ""
             }
            },
            "type": "scatterternary"
           }
          ],
          "surface": [
           {
            "colorbar": {
             "outlinewidth": 0,
             "ticks": ""
            },
            "colorscale": [
             [
              0,
              "#0d0887"
             ],
             [
              0.1111111111111111,
              "#46039f"
             ],
             [
              0.2222222222222222,
              "#7201a8"
             ],
             [
              0.3333333333333333,
              "#9c179e"
             ],
             [
              0.4444444444444444,
              "#bd3786"
             ],
             [
              0.5555555555555556,
              "#d8576b"
             ],
             [
              0.6666666666666666,
              "#ed7953"
             ],
             [
              0.7777777777777778,
              "#fb9f3a"
             ],
             [
              0.8888888888888888,
              "#fdca26"
             ],
             [
              1,
              "#f0f921"
             ]
            ],
            "type": "surface"
           }
          ],
          "table": [
           {
            "cells": {
             "fill": {
              "color": "#EBF0F8"
             },
             "line": {
              "color": "white"
             }
            },
            "header": {
             "fill": {
              "color": "#C8D4E3"
             },
             "line": {
              "color": "white"
             }
            },
            "type": "table"
           }
          ]
         },
         "layout": {
          "annotationdefaults": {
           "arrowcolor": "#2a3f5f",
           "arrowhead": 0,
           "arrowwidth": 1
          },
          "autotypenumbers": "strict",
          "coloraxis": {
           "colorbar": {
            "outlinewidth": 0,
            "ticks": ""
           }
          },
          "colorscale": {
           "diverging": [
            [
             0,
             "#8e0152"
            ],
            [
             0.1,
             "#c51b7d"
            ],
            [
             0.2,
             "#de77ae"
            ],
            [
             0.3,
             "#f1b6da"
            ],
            [
             0.4,
             "#fde0ef"
            ],
            [
             0.5,
             "#f7f7f7"
            ],
            [
             0.6,
             "#e6f5d0"
            ],
            [
             0.7,
             "#b8e186"
            ],
            [
             0.8,
             "#7fbc41"
            ],
            [
             0.9,
             "#4d9221"
            ],
            [
             1,
             "#276419"
            ]
           ],
           "sequential": [
            [
             0,
             "#0d0887"
            ],
            [
             0.1111111111111111,
             "#46039f"
            ],
            [
             0.2222222222222222,
             "#7201a8"
            ],
            [
             0.3333333333333333,
             "#9c179e"
            ],
            [
             0.4444444444444444,
             "#bd3786"
            ],
            [
             0.5555555555555556,
             "#d8576b"
            ],
            [
             0.6666666666666666,
             "#ed7953"
            ],
            [
             0.7777777777777778,
             "#fb9f3a"
            ],
            [
             0.8888888888888888,
             "#fdca26"
            ],
            [
             1,
             "#f0f921"
            ]
           ],
           "sequentialminus": [
            [
             0,
             "#0d0887"
            ],
            [
             0.1111111111111111,
             "#46039f"
            ],
            [
             0.2222222222222222,
             "#7201a8"
            ],
            [
             0.3333333333333333,
             "#9c179e"
            ],
            [
             0.4444444444444444,
             "#bd3786"
            ],
            [
             0.5555555555555556,
             "#d8576b"
            ],
            [
             0.6666666666666666,
             "#ed7953"
            ],
            [
             0.7777777777777778,
             "#fb9f3a"
            ],
            [
             0.8888888888888888,
             "#fdca26"
            ],
            [
             1,
             "#f0f921"
            ]
           ]
          },
          "colorway": [
           "#636efa",
           "#EF553B",
           "#00cc96",
           "#ab63fa",
           "#FFA15A",
           "#19d3f3",
           "#FF6692",
           "#B6E880",
           "#FF97FF",
           "#FECB52"
          ],
          "font": {
           "color": "#2a3f5f"
          },
          "geo": {
           "bgcolor": "white",
           "lakecolor": "white",
           "landcolor": "#E5ECF6",
           "showlakes": true,
           "showland": true,
           "subunitcolor": "white"
          },
          "hoverlabel": {
           "align": "left"
          },
          "hovermode": "closest",
          "mapbox": {
           "style": "light"
          },
          "paper_bgcolor": "white",
          "plot_bgcolor": "#E5ECF6",
          "polar": {
           "angularaxis": {
            "gridcolor": "white",
            "linecolor": "white",
            "ticks": ""
           },
           "bgcolor": "#E5ECF6",
           "radialaxis": {
            "gridcolor": "white",
            "linecolor": "white",
            "ticks": ""
           }
          },
          "scene": {
           "xaxis": {
            "backgroundcolor": "#E5ECF6",
            "gridcolor": "white",
            "gridwidth": 2,
            "linecolor": "white",
            "showbackground": true,
            "ticks": "",
            "zerolinecolor": "white"
           },
           "yaxis": {
            "backgroundcolor": "#E5ECF6",
            "gridcolor": "white",
            "gridwidth": 2,
            "linecolor": "white",
            "showbackground": true,
            "ticks": "",
            "zerolinecolor": "white"
           },
           "zaxis": {
            "backgroundcolor": "#E5ECF6",
            "gridcolor": "white",
            "gridwidth": 2,
            "linecolor": "white",
            "showbackground": true,
            "ticks": "",
            "zerolinecolor": "white"
           }
          },
          "shapedefaults": {
           "line": {
            "color": "#2a3f5f"
           }
          },
          "ternary": {
           "aaxis": {
            "gridcolor": "white",
            "linecolor": "white",
            "ticks": ""
           },
           "baxis": {
            "gridcolor": "white",
            "linecolor": "white",
            "ticks": ""
           },
           "bgcolor": "#E5ECF6",
           "caxis": {
            "gridcolor": "white",
            "linecolor": "white",
            "ticks": ""
           }
          },
          "title": {
           "x": 0.05
          },
          "xaxis": {
           "automargin": true,
           "gridcolor": "white",
           "linecolor": "white",
           "ticks": "",
           "title": {
            "standoff": 15
           },
           "zerolinecolor": "white",
           "zerolinewidth": 2
          },
          "yaxis": {
           "automargin": true,
           "gridcolor": "white",
           "linecolor": "white",
           "ticks": "",
           "title": {
            "standoff": 15
           },
           "zerolinecolor": "white",
           "zerolinewidth": 2
          }
         }
        },
        "title": {
         "text": "Causas dos incêndios em Edifícios",
         "x": 0.5
        }
       }
      }
     },
     "metadata": {},
     "output_type": "display_data"
    }
   ],
   "source": [
    "import plotly.express as px\n",
    "\n",
    "fig = px.pie(df, values='perc', names='causa', title='Causas dos incêndios em Edifícios', \n",
    "             color_discrete_sequence=px.colors.qualitative.Set2)\n",
    "fig.update_traces(textinfo='percent+label', pull=[0.05, 0, 0, 0])  \n",
    "fig.update_layout(title_x=0.5) \n",
    "fig.show()\n"
   ]
  },
  {
   "cell_type": "markdown",
   "metadata": {},
   "source": [
    "---"
   ]
  },
  {
   "cell_type": "markdown",
   "metadata": {},
   "source": [
    "# Q2\n",
    "A imagem abaixo foi retirada da página de um município brasileiro, contendo dados acerca do combate à pandemia nesse local (fonte: https://www.cristais.mg.gov.br/portal/noticias/0/3/114/grafico-de-evolucao-do-covid-no-cenario-restritivo/).\n",
    "\n",
    "Comente o gráfico, a sua representação e dê sugestões de melhoria, se as tiver."
   ]
  },
  {
   "cell_type": "markdown",
   "metadata": {},
   "source": [
    "![cristais_mg](img/sms_cristais.jpg)"
   ]
  },
  {
   "cell_type": "markdown",
   "metadata": {},
   "source": [
    "**R:**\n"
   ]
  },
  {
   "cell_type": "markdown",
   "metadata": {},
   "source": [
    "O gráfico apresentado possui alguns aspectos que podem ser aprimorados:\n",
    "    - **Título extenso**: Pode ser simplificado para algo mais direto, como \"Evolução de Casos Ativos (11 de março a 13 de abril de 2021)\".\n",
    "    - **Uso de gráfico 3D**: Não adiciona valor à análise e pode comprometer a precisão da visualização. Um gráfico 2D seria mais adequado e, considerando a natureza temporal dos dados, um gráfico de linha proporcionaria uma leitura mais clara da evolução dos casos.\n",
    "    - **Diferenciação entre ondas**: Não está evidente a distinção entre a onda vermelha e a onda roxa, o que pode dificultar a interpretação do impacto de cada fase.\n",
    "    - **Ênfase na redução dos casos**: Em vez de apresentar a redução de 65,62% apenas em texto, essa informação poderia ser destacada visualmente no próprio gráfico para reforçar o impacto da queda.\n",
    "    - **Eixo Y sem rótulo**: A inclusão do rótulo \"Casos Ativos\" ajudaria a contextualizar melhor os valores apresentados.\n",
    "    - **Posicionamento das informações institucionais**: Dados sobre as organizações responsáveis pela divulgação deveriam estar após o gráfico, evitando interferência na interpretação visual.\n",
    "\n"
   ]
  },
  {
   "cell_type": "code",
   "execution_count": 16,
   "metadata": {},
   "outputs": [
    {
     "data": {
      "text/html": [
       "<div>\n",
       "<style scoped>\n",
       "    .dataframe tbody tr th:only-of-type {\n",
       "        vertical-align: middle;\n",
       "    }\n",
       "\n",
       "    .dataframe tbody tr th {\n",
       "        vertical-align: top;\n",
       "    }\n",
       "\n",
       "    .dataframe thead th {\n",
       "        text-align: right;\n",
       "    }\n",
       "</style>\n",
       "<table border=\"1\" class=\"dataframe\">\n",
       "  <thead>\n",
       "    <tr style=\"text-align: right;\">\n",
       "      <th></th>\n",
       "      <th>data</th>\n",
       "      <th>casos</th>\n",
       "    </tr>\n",
       "  </thead>\n",
       "  <tbody>\n",
       "    <tr>\n",
       "      <th>0</th>\n",
       "      <td>2021-03-11</td>\n",
       "      <td>39</td>\n",
       "    </tr>\n",
       "    <tr>\n",
       "      <th>1</th>\n",
       "      <td>2021-03-15</td>\n",
       "      <td>51</td>\n",
       "    </tr>\n",
       "    <tr>\n",
       "      <th>2</th>\n",
       "      <td>2021-03-16</td>\n",
       "      <td>58</td>\n",
       "    </tr>\n",
       "    <tr>\n",
       "      <th>3</th>\n",
       "      <td>2021-03-17</td>\n",
       "      <td>64</td>\n",
       "    </tr>\n",
       "    <tr>\n",
       "      <th>4</th>\n",
       "      <td>2021-03-18</td>\n",
       "      <td>58</td>\n",
       "    </tr>\n",
       "    <tr>\n",
       "      <th>5</th>\n",
       "      <td>2021-03-19</td>\n",
       "      <td>51</td>\n",
       "    </tr>\n",
       "    <tr>\n",
       "      <th>6</th>\n",
       "      <td>2021-03-22</td>\n",
       "      <td>54</td>\n",
       "    </tr>\n",
       "    <tr>\n",
       "      <th>7</th>\n",
       "      <td>2021-03-23</td>\n",
       "      <td>43</td>\n",
       "    </tr>\n",
       "    <tr>\n",
       "      <th>8</th>\n",
       "      <td>2021-03-25</td>\n",
       "      <td>38</td>\n",
       "    </tr>\n",
       "    <tr>\n",
       "      <th>9</th>\n",
       "      <td>2021-03-26</td>\n",
       "      <td>37</td>\n",
       "    </tr>\n",
       "    <tr>\n",
       "      <th>10</th>\n",
       "      <td>2021-03-29</td>\n",
       "      <td>35</td>\n",
       "    </tr>\n",
       "    <tr>\n",
       "      <th>11</th>\n",
       "      <td>2021-03-30</td>\n",
       "      <td>28</td>\n",
       "    </tr>\n",
       "    <tr>\n",
       "      <th>12</th>\n",
       "      <td>2021-03-31</td>\n",
       "      <td>29</td>\n",
       "    </tr>\n",
       "    <tr>\n",
       "      <th>13</th>\n",
       "      <td>2021-04-05</td>\n",
       "      <td>25</td>\n",
       "    </tr>\n",
       "    <tr>\n",
       "      <th>14</th>\n",
       "      <td>2021-04-06</td>\n",
       "      <td>23</td>\n",
       "    </tr>\n",
       "    <tr>\n",
       "      <th>15</th>\n",
       "      <td>2021-04-07</td>\n",
       "      <td>24</td>\n",
       "    </tr>\n",
       "    <tr>\n",
       "      <th>16</th>\n",
       "      <td>2021-04-08</td>\n",
       "      <td>25</td>\n",
       "    </tr>\n",
       "    <tr>\n",
       "      <th>17</th>\n",
       "      <td>2021-04-09</td>\n",
       "      <td>24</td>\n",
       "    </tr>\n",
       "    <tr>\n",
       "      <th>18</th>\n",
       "      <td>2021-04-12</td>\n",
       "      <td>22</td>\n",
       "    </tr>\n",
       "    <tr>\n",
       "      <th>19</th>\n",
       "      <td>2021-04-13</td>\n",
       "      <td>24</td>\n",
       "    </tr>\n",
       "  </tbody>\n",
       "</table>\n",
       "</div>"
      ],
      "text/plain": [
       "         data  casos\n",
       "0  2021-03-11     39\n",
       "1  2021-03-15     51\n",
       "2  2021-03-16     58\n",
       "3  2021-03-17     64\n",
       "4  2021-03-18     58\n",
       "5  2021-03-19     51\n",
       "6  2021-03-22     54\n",
       "7  2021-03-23     43\n",
       "8  2021-03-25     38\n",
       "9  2021-03-26     37\n",
       "10 2021-03-29     35\n",
       "11 2021-03-30     28\n",
       "12 2021-03-31     29\n",
       "13 2021-04-05     25\n",
       "14 2021-04-06     23\n",
       "15 2021-04-07     24\n",
       "16 2021-04-08     25\n",
       "17 2021-04-09     24\n",
       "18 2021-04-12     22\n",
       "19 2021-04-13     24"
      ]
     },
     "execution_count": 16,
     "metadata": {},
     "output_type": "execute_result"
    }
   ],
   "source": [
    "casos_ativos = pd.DataFrame([\n",
    "    ['11-03-2021', 39],\n",
    "    ['15-03-2021', 51],\n",
    "    ['16-03-2021', 58],\n",
    "    ['17-03-2021', 64],\n",
    "    ['18-03-2021', 58],\n",
    "    ['19-03-2021', 51],\n",
    "    ['22-03-2021', 54],\n",
    "    ['23-03-2021', 43],\n",
    "    ['25-03-2021', 38],\n",
    "    ['26-03-2021', 37],\n",
    "    ['29-03-2021', 35],\n",
    "    ['30-03-2021', 28],\n",
    "    ['31-03-2021', 29],\n",
    "    ['05-04-2021', 25],\n",
    "    ['06-04-2021', 23],\n",
    "    ['07-04-2021', 24],\n",
    "    ['08-04-2021', 25],\n",
    "    ['09-04-2021', 24],\n",
    "    ['12-04-2021', 22],\n",
    "    ['13-04-2021', 24],\n",
    "], columns=['data', 'casos'])\n",
    "\n",
    "\n",
    "casos_ativos['data'] = pd.to_datetime(casos_ativos['data'], format='%d-%m-%Y')\n",
    "\n",
    "\n",
    "\n",
    "casos_ativos\n"
   ]
  },
  {
   "cell_type": "code",
   "execution_count": 17,
   "metadata": {},
   "outputs": [
    {
     "data": {
      "application/vnd.plotly.v1+json": {
       "config": {
        "plotlyServerURL": "https://plot.ly"
       },
       "data": [
        {
         "hovertemplate": "data=%{x}<br>casos=%{y}<extra></extra>",
         "legendgroup": "",
         "line": {
          "color": "#636efa",
          "dash": "solid"
         },
         "marker": {
          "symbol": "circle"
         },
         "mode": "lines+markers",
         "name": "",
         "orientation": "v",
         "showlegend": false,
         "type": "scatter",
         "x": [
          "2021-03-11T00:00:00.000000000",
          "2021-03-15T00:00:00.000000000",
          "2021-03-16T00:00:00.000000000",
          "2021-03-17T00:00:00.000000000",
          "2021-03-18T00:00:00.000000000",
          "2021-03-19T00:00:00.000000000",
          "2021-03-22T00:00:00.000000000",
          "2021-03-23T00:00:00.000000000",
          "2021-03-25T00:00:00.000000000",
          "2021-03-26T00:00:00.000000000",
          "2021-03-29T00:00:00.000000000",
          "2021-03-30T00:00:00.000000000",
          "2021-03-31T00:00:00.000000000",
          "2021-04-05T00:00:00.000000000",
          "2021-04-06T00:00:00.000000000",
          "2021-04-07T00:00:00.000000000",
          "2021-04-08T00:00:00.000000000",
          "2021-04-09T00:00:00.000000000",
          "2021-04-12T00:00:00.000000000",
          "2021-04-13T00:00:00.000000000"
         ],
         "xaxis": "x",
         "y": {
          "bdata": "JzM6QDozNismJSMcHRkXGBkYFhg=",
          "dtype": "i1"
         },
         "yaxis": "y"
        },
        {
         "line": {
          "color": "red",
          "width": 2
         },
         "marker": {
          "color": "red",
          "size": 8,
          "symbol": "circle"
         },
         "mode": "lines+markers",
         "name": "Onda Vermelha",
         "type": "scatter",
         "x": [
          "2021-03-11T00:00:00.000000000",
          "2021-03-15T00:00:00.000000000",
          "2021-03-16T00:00:00.000000000",
          "2021-03-17T00:00:00.000000000",
          "2021-03-18T00:00:00.000000000",
          "2021-03-19T00:00:00.000000000"
         ],
         "y": {
          "bdata": "JzM6QDoz",
          "dtype": "i1"
         }
        },
        {
         "line": {
          "color": "purple",
          "width": 2
         },
         "marker": {
          "color": "purple",
          "size": 8,
          "symbol": "circle"
         },
         "mode": "lines+markers",
         "name": "Onda Roxa",
         "type": "scatter",
         "x": [
          "2021-03-19T00:00:00.000000000",
          "2021-03-22T00:00:00.000000000",
          "2021-03-23T00:00:00.000000000",
          "2021-03-25T00:00:00.000000000",
          "2021-03-26T00:00:00.000000000",
          "2021-03-29T00:00:00.000000000",
          "2021-03-30T00:00:00.000000000",
          "2021-03-31T00:00:00.000000000",
          "2021-04-05T00:00:00.000000000",
          "2021-04-06T00:00:00.000000000",
          "2021-04-07T00:00:00.000000000",
          "2021-04-08T00:00:00.000000000",
          "2021-04-09T00:00:00.000000000",
          "2021-04-12T00:00:00.000000000",
          "2021-04-13T00:00:00.000000000"
         ],
         "y": {
          "bdata": "MzYrJiUjHB0ZFxgZGBYY",
          "dtype": "i1"
         }
        }
       ],
       "layout": {
        "annotations": [
         {
          "arrowcolor": "red",
          "arrowhead": 2,
          "arrowsize": 1,
          "ax": -40,
          "ay": -20,
          "font": {
           "color": "red",
           "size": 14
          },
          "showarrow": true,
          "text": "Queda de 65.62%",
          "x": "2021-04-13",
          "y": 22
         }
        ],
        "legend": {
         "tracegroupgap": 0
        },
        "shapes": [
         {
          "fillcolor": "rgba(255,0,0,0.3)",
          "line": {
           "width": 0
          },
          "type": "rect",
          "x0": "3",
          "x1": "18",
          "xref": "x",
          "y0": 0.3,
          "y1": 0.95,
          "yref": "paper"
         }
        ],
        "template": {
         "data": {
          "bar": [
           {
            "error_x": {
             "color": "#2a3f5f"
            },
            "error_y": {
             "color": "#2a3f5f"
            },
            "marker": {
             "line": {
              "color": "#E5ECF6",
              "width": 0.5
             },
             "pattern": {
              "fillmode": "overlay",
              "size": 10,
              "solidity": 0.2
             }
            },
            "type": "bar"
           }
          ],
          "barpolar": [
           {
            "marker": {
             "line": {
              "color": "#E5ECF6",
              "width": 0.5
             },
             "pattern": {
              "fillmode": "overlay",
              "size": 10,
              "solidity": 0.2
             }
            },
            "type": "barpolar"
           }
          ],
          "carpet": [
           {
            "aaxis": {
             "endlinecolor": "#2a3f5f",
             "gridcolor": "white",
             "linecolor": "white",
             "minorgridcolor": "white",
             "startlinecolor": "#2a3f5f"
            },
            "baxis": {
             "endlinecolor": "#2a3f5f",
             "gridcolor": "white",
             "linecolor": "white",
             "minorgridcolor": "white",
             "startlinecolor": "#2a3f5f"
            },
            "type": "carpet"
           }
          ],
          "choropleth": [
           {
            "colorbar": {
             "outlinewidth": 0,
             "ticks": ""
            },
            "type": "choropleth"
           }
          ],
          "contour": [
           {
            "colorbar": {
             "outlinewidth": 0,
             "ticks": ""
            },
            "colorscale": [
             [
              0,
              "#0d0887"
             ],
             [
              0.1111111111111111,
              "#46039f"
             ],
             [
              0.2222222222222222,
              "#7201a8"
             ],
             [
              0.3333333333333333,
              "#9c179e"
             ],
             [
              0.4444444444444444,
              "#bd3786"
             ],
             [
              0.5555555555555556,
              "#d8576b"
             ],
             [
              0.6666666666666666,
              "#ed7953"
             ],
             [
              0.7777777777777778,
              "#fb9f3a"
             ],
             [
              0.8888888888888888,
              "#fdca26"
             ],
             [
              1,
              "#f0f921"
             ]
            ],
            "type": "contour"
           }
          ],
          "contourcarpet": [
           {
            "colorbar": {
             "outlinewidth": 0,
             "ticks": ""
            },
            "type": "contourcarpet"
           }
          ],
          "heatmap": [
           {
            "colorbar": {
             "outlinewidth": 0,
             "ticks": ""
            },
            "colorscale": [
             [
              0,
              "#0d0887"
             ],
             [
              0.1111111111111111,
              "#46039f"
             ],
             [
              0.2222222222222222,
              "#7201a8"
             ],
             [
              0.3333333333333333,
              "#9c179e"
             ],
             [
              0.4444444444444444,
              "#bd3786"
             ],
             [
              0.5555555555555556,
              "#d8576b"
             ],
             [
              0.6666666666666666,
              "#ed7953"
             ],
             [
              0.7777777777777778,
              "#fb9f3a"
             ],
             [
              0.8888888888888888,
              "#fdca26"
             ],
             [
              1,
              "#f0f921"
             ]
            ],
            "type": "heatmap"
           }
          ],
          "histogram": [
           {
            "marker": {
             "pattern": {
              "fillmode": "overlay",
              "size": 10,
              "solidity": 0.2
             }
            },
            "type": "histogram"
           }
          ],
          "histogram2d": [
           {
            "colorbar": {
             "outlinewidth": 0,
             "ticks": ""
            },
            "colorscale": [
             [
              0,
              "#0d0887"
             ],
             [
              0.1111111111111111,
              "#46039f"
             ],
             [
              0.2222222222222222,
              "#7201a8"
             ],
             [
              0.3333333333333333,
              "#9c179e"
             ],
             [
              0.4444444444444444,
              "#bd3786"
             ],
             [
              0.5555555555555556,
              "#d8576b"
             ],
             [
              0.6666666666666666,
              "#ed7953"
             ],
             [
              0.7777777777777778,
              "#fb9f3a"
             ],
             [
              0.8888888888888888,
              "#fdca26"
             ],
             [
              1,
              "#f0f921"
             ]
            ],
            "type": "histogram2d"
           }
          ],
          "histogram2dcontour": [
           {
            "colorbar": {
             "outlinewidth": 0,
             "ticks": ""
            },
            "colorscale": [
             [
              0,
              "#0d0887"
             ],
             [
              0.1111111111111111,
              "#46039f"
             ],
             [
              0.2222222222222222,
              "#7201a8"
             ],
             [
              0.3333333333333333,
              "#9c179e"
             ],
             [
              0.4444444444444444,
              "#bd3786"
             ],
             [
              0.5555555555555556,
              "#d8576b"
             ],
             [
              0.6666666666666666,
              "#ed7953"
             ],
             [
              0.7777777777777778,
              "#fb9f3a"
             ],
             [
              0.8888888888888888,
              "#fdca26"
             ],
             [
              1,
              "#f0f921"
             ]
            ],
            "type": "histogram2dcontour"
           }
          ],
          "mesh3d": [
           {
            "colorbar": {
             "outlinewidth": 0,
             "ticks": ""
            },
            "type": "mesh3d"
           }
          ],
          "parcoords": [
           {
            "line": {
             "colorbar": {
              "outlinewidth": 0,
              "ticks": ""
             }
            },
            "type": "parcoords"
           }
          ],
          "pie": [
           {
            "automargin": true,
            "type": "pie"
           }
          ],
          "scatter": [
           {
            "fillpattern": {
             "fillmode": "overlay",
             "size": 10,
             "solidity": 0.2
            },
            "type": "scatter"
           }
          ],
          "scatter3d": [
           {
            "line": {
             "colorbar": {
              "outlinewidth": 0,
              "ticks": ""
             }
            },
            "marker": {
             "colorbar": {
              "outlinewidth": 0,
              "ticks": ""
             }
            },
            "type": "scatter3d"
           }
          ],
          "scattercarpet": [
           {
            "marker": {
             "colorbar": {
              "outlinewidth": 0,
              "ticks": ""
             }
            },
            "type": "scattercarpet"
           }
          ],
          "scattergeo": [
           {
            "marker": {
             "colorbar": {
              "outlinewidth": 0,
              "ticks": ""
             }
            },
            "type": "scattergeo"
           }
          ],
          "scattergl": [
           {
            "marker": {
             "colorbar": {
              "outlinewidth": 0,
              "ticks": ""
             }
            },
            "type": "scattergl"
           }
          ],
          "scattermap": [
           {
            "marker": {
             "colorbar": {
              "outlinewidth": 0,
              "ticks": ""
             }
            },
            "type": "scattermap"
           }
          ],
          "scattermapbox": [
           {
            "marker": {
             "colorbar": {
              "outlinewidth": 0,
              "ticks": ""
             }
            },
            "type": "scattermapbox"
           }
          ],
          "scatterpolar": [
           {
            "marker": {
             "colorbar": {
              "outlinewidth": 0,
              "ticks": ""
             }
            },
            "type": "scatterpolar"
           }
          ],
          "scatterpolargl": [
           {
            "marker": {
             "colorbar": {
              "outlinewidth": 0,
              "ticks": ""
             }
            },
            "type": "scatterpolargl"
           }
          ],
          "scatterternary": [
           {
            "marker": {
             "colorbar": {
              "outlinewidth": 0,
              "ticks": ""
             }
            },
            "type": "scatterternary"
           }
          ],
          "surface": [
           {
            "colorbar": {
             "outlinewidth": 0,
             "ticks": ""
            },
            "colorscale": [
             [
              0,
              "#0d0887"
             ],
             [
              0.1111111111111111,
              "#46039f"
             ],
             [
              0.2222222222222222,
              "#7201a8"
             ],
             [
              0.3333333333333333,
              "#9c179e"
             ],
             [
              0.4444444444444444,
              "#bd3786"
             ],
             [
              0.5555555555555556,
              "#d8576b"
             ],
             [
              0.6666666666666666,
              "#ed7953"
             ],
             [
              0.7777777777777778,
              "#fb9f3a"
             ],
             [
              0.8888888888888888,
              "#fdca26"
             ],
             [
              1,
              "#f0f921"
             ]
            ],
            "type": "surface"
           }
          ],
          "table": [
           {
            "cells": {
             "fill": {
              "color": "#EBF0F8"
             },
             "line": {
              "color": "white"
             }
            },
            "header": {
             "fill": {
              "color": "#C8D4E3"
             },
             "line": {
              "color": "white"
             }
            },
            "type": "table"
           }
          ]
         },
         "layout": {
          "annotationdefaults": {
           "arrowcolor": "#2a3f5f",
           "arrowhead": 0,
           "arrowwidth": 1
          },
          "autotypenumbers": "strict",
          "coloraxis": {
           "colorbar": {
            "outlinewidth": 0,
            "ticks": ""
           }
          },
          "colorscale": {
           "diverging": [
            [
             0,
             "#8e0152"
            ],
            [
             0.1,
             "#c51b7d"
            ],
            [
             0.2,
             "#de77ae"
            ],
            [
             0.3,
             "#f1b6da"
            ],
            [
             0.4,
             "#fde0ef"
            ],
            [
             0.5,
             "#f7f7f7"
            ],
            [
             0.6,
             "#e6f5d0"
            ],
            [
             0.7,
             "#b8e186"
            ],
            [
             0.8,
             "#7fbc41"
            ],
            [
             0.9,
             "#4d9221"
            ],
            [
             1,
             "#276419"
            ]
           ],
           "sequential": [
            [
             0,
             "#0d0887"
            ],
            [
             0.1111111111111111,
             "#46039f"
            ],
            [
             0.2222222222222222,
             "#7201a8"
            ],
            [
             0.3333333333333333,
             "#9c179e"
            ],
            [
             0.4444444444444444,
             "#bd3786"
            ],
            [
             0.5555555555555556,
             "#d8576b"
            ],
            [
             0.6666666666666666,
             "#ed7953"
            ],
            [
             0.7777777777777778,
             "#fb9f3a"
            ],
            [
             0.8888888888888888,
             "#fdca26"
            ],
            [
             1,
             "#f0f921"
            ]
           ],
           "sequentialminus": [
            [
             0,
             "#0d0887"
            ],
            [
             0.1111111111111111,
             "#46039f"
            ],
            [
             0.2222222222222222,
             "#7201a8"
            ],
            [
             0.3333333333333333,
             "#9c179e"
            ],
            [
             0.4444444444444444,
             "#bd3786"
            ],
            [
             0.5555555555555556,
             "#d8576b"
            ],
            [
             0.6666666666666666,
             "#ed7953"
            ],
            [
             0.7777777777777778,
             "#fb9f3a"
            ],
            [
             0.8888888888888888,
             "#fdca26"
            ],
            [
             1,
             "#f0f921"
            ]
           ]
          },
          "colorway": [
           "#636efa",
           "#EF553B",
           "#00cc96",
           "#ab63fa",
           "#FFA15A",
           "#19d3f3",
           "#FF6692",
           "#B6E880",
           "#FF97FF",
           "#FECB52"
          ],
          "font": {
           "color": "#2a3f5f"
          },
          "geo": {
           "bgcolor": "white",
           "lakecolor": "white",
           "landcolor": "#E5ECF6",
           "showlakes": true,
           "showland": true,
           "subunitcolor": "white"
          },
          "hoverlabel": {
           "align": "left"
          },
          "hovermode": "closest",
          "mapbox": {
           "style": "light"
          },
          "paper_bgcolor": "white",
          "plot_bgcolor": "#E5ECF6",
          "polar": {
           "angularaxis": {
            "gridcolor": "white",
            "linecolor": "white",
            "ticks": ""
           },
           "bgcolor": "#E5ECF6",
           "radialaxis": {
            "gridcolor": "white",
            "linecolor": "white",
            "ticks": ""
           }
          },
          "scene": {
           "xaxis": {
            "backgroundcolor": "#E5ECF6",
            "gridcolor": "white",
            "gridwidth": 2,
            "linecolor": "white",
            "showbackground": true,
            "ticks": "",
            "zerolinecolor": "white"
           },
           "yaxis": {
            "backgroundcolor": "#E5ECF6",
            "gridcolor": "white",
            "gridwidth": 2,
            "linecolor": "white",
            "showbackground": true,
            "ticks": "",
            "zerolinecolor": "white"
           },
           "zaxis": {
            "backgroundcolor": "#E5ECF6",
            "gridcolor": "white",
            "gridwidth": 2,
            "linecolor": "white",
            "showbackground": true,
            "ticks": "",
            "zerolinecolor": "white"
           }
          },
          "shapedefaults": {
           "line": {
            "color": "#2a3f5f"
           }
          },
          "ternary": {
           "aaxis": {
            "gridcolor": "white",
            "linecolor": "white",
            "ticks": ""
           },
           "baxis": {
            "gridcolor": "white",
            "linecolor": "white",
            "ticks": ""
           },
           "bgcolor": "#E5ECF6",
           "caxis": {
            "gridcolor": "white",
            "linecolor": "white",
            "ticks": ""
           }
          },
          "title": {
           "x": 0.05
          },
          "xaxis": {
           "automargin": true,
           "gridcolor": "white",
           "linecolor": "white",
           "ticks": "",
           "title": {
            "standoff": 15
           },
           "zerolinecolor": "white",
           "zerolinewidth": 2
          },
          "yaxis": {
           "automargin": true,
           "gridcolor": "white",
           "linecolor": "white",
           "ticks": "",
           "title": {
            "standoff": 15
           },
           "zerolinecolor": "white",
           "zerolinewidth": 2
          }
         }
        },
        "title": {
         "text": "Evolução de Casos Ativos (11 de março a 13 de abril de 2021)",
         "x": 0.5
        },
        "xaxis": {
         "anchor": "y",
         "domain": [
          0,
          1
         ],
         "tickmode": "array",
         "ticktext": [
          "11-03",
          "15-03",
          "16-03",
          "17-03",
          "18-03",
          "19-03",
          "22-03",
          "23-03",
          "25-03",
          "26-03",
          "29-03",
          "30-03",
          "31-03",
          "05-04",
          "06-04",
          "07-04",
          "08-04",
          "09-04",
          "12-04",
          "13-04"
         ],
         "tickvals": [
          "2021-03-11T00:00:00.000000000",
          "2021-03-15T00:00:00.000000000",
          "2021-03-16T00:00:00.000000000",
          "2021-03-17T00:00:00.000000000",
          "2021-03-18T00:00:00.000000000",
          "2021-03-19T00:00:00.000000000",
          "2021-03-22T00:00:00.000000000",
          "2021-03-23T00:00:00.000000000",
          "2021-03-25T00:00:00.000000000",
          "2021-03-26T00:00:00.000000000",
          "2021-03-29T00:00:00.000000000",
          "2021-03-30T00:00:00.000000000",
          "2021-03-31T00:00:00.000000000",
          "2021-04-05T00:00:00.000000000",
          "2021-04-06T00:00:00.000000000",
          "2021-04-07T00:00:00.000000000",
          "2021-04-08T00:00:00.000000000",
          "2021-04-09T00:00:00.000000000",
          "2021-04-12T00:00:00.000000000",
          "2021-04-13T00:00:00.000000000"
         ],
         "title": {
          "text": ""
         },
         "type": "category"
        },
        "yaxis": {
         "anchor": "x",
         "domain": [
          0,
          1
         ],
         "range": [
          0,
          69
         ],
         "title": {
          "text": "Número de Casos Ativos"
         }
        }
       }
      }
     },
     "metadata": {},
     "output_type": "display_data"
    }
   ],
   "source": [
    "fig = px.line(casos_ativos, x=\"data\", y=\"casos\", title=\"Evolução de Casos Ativos (11 de março a 13 de abril de 2021)\", markers=True)\n",
    "\n",
    "\n",
    "fig.update_layout(\n",
    "    title_x=0.5,\n",
    "    yaxis=dict(range=[0, max(casos_ativos['casos']) + 5]),\n",
    "    yaxis_title=\"Número de Casos Ativos\",\n",
    "    xaxis_title=\"\",\n",
    "    xaxis=dict(\n",
    "        tickmode=\"array\",\n",
    "        tickvals=casos_ativos[\"data\"],\n",
    "        ticktext=casos_ativos[\"data\"].dt.strftime(\"%d-%m\"),\n",
    "        type=\"category\"\n",
    "    ),\n",
    ")\n",
    "\n",
    "\n",
    "fig.add_scatter(\n",
    "    x=casos_ativos[(casos_ativos['data'] >= '2021-03-11') & (casos_ativos['data'] <= '2021-03-19')]['data'],\n",
    "    y=casos_ativos[(casos_ativos['data'] >= '2021-03-11') & (casos_ativos['data'] <= '2021-03-19')]['casos'],\n",
    "    mode='lines+markers',\n",
    "    line=dict(color='red', width=2),\n",
    "    marker=dict(size=8, color='red', symbol='circle'),\n",
    "    name=\"Onda Vermelha\"\n",
    ")\n",
    "\n",
    "\n",
    "fig.add_scatter(\n",
    "    x=casos_ativos[(casos_ativos['data'] >= '2021-03-19') & (casos_ativos['data'] <= '2021-04-13')]['data'],\n",
    "    y=casos_ativos[(casos_ativos['data'] >= '2021-03-19') & (casos_ativos['data'] <= '2021-04-13')]['casos'],\n",
    "    mode='lines+markers',\n",
    "    line=dict(color='purple', width=2),\n",
    "    marker=dict(size=8, color='purple', symbol='circle'),\n",
    "    name=\"Onda Roxa\"\n",
    ")\n",
    "\n",
    "casos_inicial = casos_ativos.loc[casos_ativos[\"data\"] == \"2021-03-17\", \"casos\"].values[0]\n",
    "casos_final = casos_ativos.loc[casos_ativos[\"data\"] == \"2021-04-12\", \"casos\"].values[0]\n",
    "reducao_percentual = ((casos_inicial - casos_final) / casos_inicial) * 100\n",
    "\n",
    "fig.add_annotation(\n",
    "    x=\"2021-04-13\", \n",
    "    y=casos_final, \n",
    "    text=f\"Queda de {reducao_percentual:.2f}%\", \n",
    "    showarrow=True,\n",
    "    arrowhead=2,\n",
    "    arrowsize=1,\n",
    "    arrowcolor=\"red\",\n",
    "    font=dict(size=14, color=\"red\"),\n",
    "    ax=-40, ay=-20\n",
    ")\n",
    "\n",
    "fig.add_shape(\n",
    "    type=\"rect\",\n",
    "    xref=\"x\",\n",
    "    yref=\"paper\",\n",
    "    x0=\"3\",   \n",
    "    x1=\"18\",   \n",
    "    y0=0.3,             \n",
    "    y1=0.95,\n",
    "    fillcolor=\"rgba(255,0,0,0.3)\", \n",
    "    line=dict(width=0)  \n",
    ")\n",
    "\n",
    "\n",
    "fig.show()"
   ]
  },
  {
   "cell_type": "markdown",
   "metadata": {},
   "source": [
    "---"
   ]
  },
  {
   "cell_type": "markdown",
   "metadata": {},
   "source": [
    "# Q3\n",
    "A imagem abaixo representa uma infografia publicada pelo ***Observatório das migrações***. Faça uma crítica construtiva à infografia, referindo tanto aspectos bem conseguidos como outros a melhorar, caso existam.\n",
    "Questões para ajudar a começar (mas não devem limitar-se às mesmas):\n",
    "- Qual o assunto da infografia? É facil perceber qual é?\n",
    "- A informação transmitida em cada 'parte' é clara?\n",
    "- O que funciona bem? O que mudariam?"
   ]
  },
  {
   "cell_type": "markdown",
   "metadata": {},
   "source": [
    "Original: [Infografia-OM-dez-2022](./Infografia-OM-dez-2022.pdf)"
   ]
  },
  {
   "cell_type": "markdown",
   "metadata": {},
   "source": [
    "![INS](img/Infografia.jpg)"
   ]
  },
  {
   "cell_type": "markdown",
   "metadata": {},
   "source": [
    "**R:**\n",
    "\n",
    "O título da infografia é explícito quanto ao tema abordado. Os títulos das seções ilustram claramente os aspectos analisados. A ordem da análise segue uma lógica coerente. Além disso, o esquema de cores é uniforme, facilitando a leitura.\n",
    "\n",
    "Pontos a melhorar:\n",
    "\n",
    "    No gráfico de barras, é apresentada a evolução do número de estrangeiros ao longo dos anos de 2011 a 2021. No entanto, no texto explicativo, lê-se: \"699 mil estrangeiros residentes em Portugal em 2022\". O ano correto deveria ser 2021.\n",
    "\n",
    "    A informação apresentada no texto sobre o sexo dos estrangeiros não pode ser obtida a partir do gráfico apresentado. O gráfico mostra a distribuição dos estrangeiros residentes em Portugal por sexo, enquanto o texto menciona um aumento da proporção do sexo masculino no total de estrangeiros residentes, o que não é evidenciado visualmente."
   ]
  },
  {
   "cell_type": "markdown",
   "metadata": {},
   "source": [
    "---"
   ]
  },
  {
   "cell_type": "markdown",
   "metadata": {},
   "source": [
    "# Q4\n",
    "Partindo dos dados incluídos na pasta ```rain/rain_aus.zip```), crie um dashboard simples (min: 4 a 6 elementos) que transmita alguma informação seleccionada desse dataset.\n",
    "\n",
    "---\n",
    "Comece por definir o público-alvo, que informação e nível de detalhe faz sentido incluir, como é que vai apresentar a informação e avance para a criação do dashboard. Explique as decisões que levaram à criação desse dashboard em particular: qual o público-alvo, que decisões o dashboard deve ajudar a tomar, que horizonte temporal está a ser analisado, etc.\n",
    "\n",
    "---\n",
    "Pode optar por qualquer suporte, não sendo necessário utilizar qualquer software em particular. O dashboard poderá ser uma imagem com uma \"colagem\" de vários elementos. É, ainda assim, necessário enviar o código que utilizaram para obter esses elementos, para que seja possível reproduzir da minha parte. (Exemplo: Num dashboard que tenha um \"Número Total de Pacientes: XXXXX\" e algum gráfico, deverão enviar o código que usaram para saber o número XXXX e para criar o gráfico)\n",
    "\n",
    "---"
   ]
  },
  {
   "cell_type": "markdown",
   "metadata": {},
   "source": [
    "## Dataset\n",
    "O *dataset* contém observações diárias da meteorologia de vários locais na Austrália. A variável que interessa prever é \"RainTomorrow\".\n",
    "Cada linha representa um dia, cada variável um atributo relativo ao clima ou localização.\n",
    "\n",
    "## Conteúdo\n",
    "Este conjunto de dados contém cerca de 10 anos de observações meteorológicas diárias de várias localidades da Austrália.\n",
    "*RainTomorrow* é a variável alvo a ser prevista. Significa -- choveu no dia seguinte, Sim ou Não? Esta coluna é *Yes* se a precipitação para aquele dia foi de 1mm ou mais.\n",
    "\n",
    "## Fonte\n",
    "Observações retiradas de variadas estações meteorológicas. As observações diárias estão disponíveis em http://www.bom.gov.au/climate/data.\n",
    "\n",
    "Definições das variáveis adaptadas de http://www.bom.gov.au/climate/dwo/IDCJDW0000.shtml"
   ]
  },
  {
   "cell_type": "markdown",
   "metadata": {},
   "source": [
    "---"
   ]
  },
  {
   "cell_type": "markdown",
   "metadata": {},
   "source": [
    "#### **Variáveis**:\n",
    "\n",
    "**Date:** Data de observação<br/>\n",
    "**Location:** Localidade da estação meteorológica<br/>\n",
    "**MinTemp:** Temperatura mínima (ºC)<br/>\n",
    "**MaxTemp:** Temperatura máxima (ºC)<br/>\n",
    "**Rainfall:** Precipitação em mm registada no dia<br/>\n",
    "**Evaporation:** Evaporação em tanque classe A (mm) em 24h, até às 9h<br/>\n",
    "**Sunshine:** Número de horas de sol durante o dia<br/>\n",
    "**WindGustDir:** Direção da maior rajada de vento<br/>\n",
    "**WindGustSpeed:** Velocidade da maior rajada de vento (Km/h)<br/>\n",
    "**WindDir9am:** Direção do vento às 9h<br/>\n",
    "**WindDir3pm:** Direção do vento às 15h<br/>\n",
    "**WindSpeed9am:** Velocidade do vento às 9h (média nos 10m anteriores)<br/>\n",
    "**WindSpeed3pm:** Velocidade do vento às 15h (média nos 10m anteriores)<br/>\n",
    "**Humidity9am:** Humidade às 9h (%)<br/>\n",
    "**Humidity3pm:** Humidade às 15h (%)<br/>\n",
    "**Pressure9am:** Pressão atmosférica comparável ao nível do mar às 9h (hpa)<br/>\n",
    "**Pressure3pm:** Pressão atmosférica comparável ao nível do mar às 15h (hpa)<br/>\n",
    "**Cloud9am:** Fração do céu coberta por nuvens às 9h (oktas\\*)<br/>\n",
    "**Cloud3pm:** Fração do céu coberta por nuvens às 15h (oktas\\*)<br/>\n",
    "**Temp9am:** Temperatura às 9h (ºC)<br/>\n",
    "**Temp3pm:** Temperatura às 15h (ºC)<br/>\n",
    "**RainToday:** \"Yes\" se a precipitação nas 24h anteriores às 9h exceder 1 mm. \"No\", caso contrário<br/>\n",
    "**RainTomorrow:** \"Yes\" se a precipitação no dia seguinte ao do registo for superior a 1mm. \"No\", caso contrário<br/>\n",
    "\n",
    "\\* Oktas: unidade de \"oitavos\". Mede quantos oitavos do céu estão cobertos por nuvens. 0 indica que o céu está completamente limpo e 8 que está completamente coberto."
   ]
  },
  {
   "cell_type": "markdown",
   "metadata": {},
   "source": [
    "**Explique as decisões que levaram à criação desse dashboard em particular: qual o público-alvo, que decisões o dashboard deve ajudar a tomar, que horizonte temporal está a ser analisado, etc.**\n",
    "\n",
    "**R:**\n",
    "\n",
    "O dashboard apresentado é direcionado ao Ministério do Meio Ambiente, com o objetivo de analisar as mudanças meteorológicas na Austrália ao longo dos anos de 2007 a 2017.\n",
    "\n",
    "O dashboard foi projetado para facilitar a análise dos padrões climáticos em diferentes regiões da Austrália. Ele permite uma visualização interativa das variações de temperatura, precipitação e eventos climáticos extremos, possibilitando a identificação de tendências e anomalias ao longo do período analisado.\n",
    "\n",
    "**Decisões que o Dashboard Ajuda a Tomar**\n",
    "\n",
    "Monitoramento de temperaturas extremas: Permite avaliar a frequência de dias com temperaturas acima de 35°C ou abaixo de 0°C, o que pode ajudar no desenvolvimento de políticas de mitigação contra ondas de calor e frio extremo.\n",
    "\n",
    "Análise de padrões de precipitação: Identifica tendências de chuvas intensas e períodos de seca, auxiliando na gestão de recursos hídricos e planejamento de ações contra enchentes ou secas prolongadas.\n",
    "\n",
    "Comparação anual: Facilita a comparação de indicadores climáticos entre anos consecutivos, ajudando a entender se eventos extremos estão se tornando mais frequentes e severos.\n",
    "\n",
    "Tomada de decisão para políticas públicas: A partir dos dados apresentados, o governo pode criar estratégias para adaptação climática, alertas meteorológicos e medidas de preservação ambiental.\n",
    "\n",
    "**Horizonte Temporal e Análise**\n",
    "\n",
    "O dashboard cobre um período de 11 anos (2007 a 2017), permitindo uma avaliação de médio a longo prazo das mudanças climáticas. Essa abordagem ajuda a identificar tendências sazonais e mudanças climáticas graduais que podem impactar o meio ambiente e a sociedade.\n",
    "\n",
    "**Estrutura do Dashboard**\n",
    "\n",
    "Overview: Apresenta KPIs gerais, como temperatura máxima e mínima, número de dias acima de 35°C e com precipitação intensa, além da localização geográfica dos dados analisados.\n",
    "\n",
    "Temperatura: Exibe a evolução da temperatura máxima média mensal, a diferença entre temperaturas máximas e mínimas ao longo do tempo e a frequência de eventos extremos.\n",
    "\n",
    "Precipitação: Mostra padrões de chuva e a quantidade de dias com precipitação acima de 20 mm, permitindo identificar períodos de estiagem e chuvas intensas.\n",
    "Esse dashboard fornece insights relevantes para a compreensão das mudanças climáticas, auxiliando na formulação de políticas públicas e estratégias ambientais eficazes.\n",
    "\n",
    "\n",
    "Em anexo temos o ficheiro \"1_utils.py\" que deu origem a um novo excel com a latitude e longitude das diferentes localizacoes (\"weather_update.csv\"). Posteriormente, temos o ficheiro \"2_dashboard.py\" que construi o dashboard.\n",
    "\n",
    "\n",
    "\n",
    "\n",
    "\n"
   ]
  }
 ],
 "metadata": {
  "kernelspec": {
   "display_name": ".venv",
   "language": "python",
   "name": "python3"
  },
  "language_info": {
   "codemirror_mode": {
    "name": "ipython",
    "version": 3
   },
   "file_extension": ".py",
   "mimetype": "text/x-python",
   "name": "python",
   "nbconvert_exporter": "python",
   "pygments_lexer": "ipython3",
   "version": "3.12.3"
  }
 },
 "nbformat": 4,
 "nbformat_minor": 4
}
