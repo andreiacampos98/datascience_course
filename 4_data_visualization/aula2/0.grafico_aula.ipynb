{
 "cells": [
  {
   "cell_type": "markdown",
   "metadata": {
    "colab_type": "text",
    "id": "TsUGQ8HJ70IO",
    "tags": []
   },
   "source": [
    "#  Visualização"
   ]
  },
  {
   "cell_type": "markdown",
   "metadata": {
    "colab_type": "text",
    "id": "z3eZU5gb70IQ"
   },
   "source": [
    "**Compondo gráficos, passo a passo**"
   ]
  },
  {
   "cell_type": "code",
   "execution_count": 1,
   "metadata": {
    "colab": {},
    "colab_type": "code",
    "execution": {
     "iopub.execute_input": "2025-02-18T19:14:02.034941Z",
     "iopub.status.busy": "2025-02-18T19:14:02.033774Z",
     "iopub.status.idle": "2025-02-18T19:14:04.694233Z",
     "shell.execute_reply": "2025-02-18T19:14:04.694233Z",
     "shell.execute_reply.started": "2025-02-18T19:14:02.034941Z"
    },
    "id": "U6vRIfPv70IR"
   },
   "outputs": [],
   "source": [
    "import os\n",
    "import pandas as pd\n",
    "from dateutil.relativedelta import relativedelta\n",
    "import matplotlib.pyplot as plt\n",
    "import seaborn as sns"
   ]
  },
  {
   "cell_type": "code",
   "execution_count": 2,
   "metadata": {
    "colab": {},
    "colab_type": "code",
    "execution": {
     "iopub.execute_input": "2025-02-18T19:14:13.410901Z",
     "iopub.status.busy": "2025-02-18T19:14:13.409895Z",
     "iopub.status.idle": "2025-02-18T19:14:13.534031Z",
     "shell.execute_reply": "2025-02-18T19:14:13.534031Z",
     "shell.execute_reply.started": "2025-02-18T19:14:13.410901Z"
    },
    "id": "XQQEDiS670IZ"
   },
   "outputs": [],
   "source": [
    "trans_df = pd.read_pickle(os.path.join('temp', 'df_eda.pkl'))"
   ]
  },
  {
   "cell_type": "code",
   "execution_count": 3,
   "metadata": {
    "colab": {},
    "colab_type": "code",
    "execution": {
     "iopub.execute_input": "2025-02-18T19:14:13.552893Z",
     "iopub.status.busy": "2025-02-18T19:14:13.552893Z",
     "iopub.status.idle": "2025-02-18T19:14:13.566430Z",
     "shell.execute_reply": "2025-02-18T19:14:13.565424Z",
     "shell.execute_reply.started": "2025-02-18T19:14:13.552893Z"
    },
    "id": "hxhJ2idj70Id"
   },
   "outputs": [],
   "source": [
    "cust_df = pd.read_pickle(os.path.join('temp', 'customer_eda.pkl'))"
   ]
  },
  {
   "cell_type": "code",
   "execution_count": 4,
   "metadata": {
    "colab": {},
    "colab_type": "code",
    "execution": {
     "iopub.execute_input": "2025-02-18T19:14:15.498883Z",
     "iopub.status.busy": "2025-02-18T19:14:15.497883Z",
     "iopub.status.idle": "2025-02-18T19:14:15.527241Z",
     "shell.execute_reply": "2025-02-18T19:14:15.526241Z",
     "shell.execute_reply.started": "2025-02-18T19:14:15.498883Z"
    },
    "id": "qC3mSFSe70Ii",
    "outputId": "c226afa3-3161-4071-ba5d-7fbb55e5e23b"
   },
   "outputs": [
    {
     "name": "stdout",
     "output_type": "stream",
     "text": [
      "<class 'pandas.core.frame.DataFrame'>\n",
      "Index: 22703 entries, 0 to 23052\n",
      "Data columns (total 14 columns):\n",
      " #   Column            Non-Null Count  Dtype         \n",
      "---  ------            --------------  -----         \n",
      " 0   transaction_id    22703 non-null  int64         \n",
      " 1   cust_id           22703 non-null  int64         \n",
      " 2   tran_date         22703 non-null  object        \n",
      " 3   prod_subcat_code  22703 non-null  int64         \n",
      " 4   prod_cat_code     22703 non-null  int64         \n",
      " 5   Qty               22703 non-null  int64         \n",
      " 6   Rate              22703 non-null  int64         \n",
      " 7   Tax               22703 non-null  float64       \n",
      " 8   total_amt         22703 non-null  float64       \n",
      " 9   Store_type        22703 non-null  object        \n",
      " 10  prod_cat          22703 non-null  object        \n",
      " 11  prod_subcat       22703 non-null  object        \n",
      " 12  year              22703 non-null  int64         \n",
      " 13  tran_date_dt      22703 non-null  datetime64[ns]\n",
      "dtypes: datetime64[ns](1), float64(2), int64(7), object(4)\n",
      "memory usage: 2.6+ MB\n"
     ]
    }
   ],
   "source": [
    "trans_df.info()"
   ]
  },
  {
   "cell_type": "code",
   "execution_count": 5,
   "metadata": {
    "execution": {
     "iopub.execute_input": "2025-02-18T19:14:16.392964Z",
     "iopub.status.busy": "2025-02-18T19:14:16.391964Z",
     "iopub.status.idle": "2025-02-18T19:14:16.420689Z",
     "shell.execute_reply": "2025-02-18T19:14:16.420689Z",
     "shell.execute_reply.started": "2025-02-18T19:14:16.392964Z"
    }
   },
   "outputs": [
    {
     "data": {
      "text/html": [
       "<div>\n",
       "<style scoped>\n",
       "    .dataframe tbody tr th:only-of-type {\n",
       "        vertical-align: middle;\n",
       "    }\n",
       "\n",
       "    .dataframe tbody tr th {\n",
       "        vertical-align: top;\n",
       "    }\n",
       "\n",
       "    .dataframe thead th {\n",
       "        text-align: right;\n",
       "    }\n",
       "</style>\n",
       "<table border=\"1\" class=\"dataframe\">\n",
       "  <thead>\n",
       "    <tr style=\"text-align: right;\">\n",
       "      <th></th>\n",
       "      <th>transaction_id</th>\n",
       "      <th>cust_id</th>\n",
       "      <th>tran_date</th>\n",
       "      <th>prod_subcat_code</th>\n",
       "      <th>prod_cat_code</th>\n",
       "      <th>Qty</th>\n",
       "      <th>Rate</th>\n",
       "      <th>Tax</th>\n",
       "      <th>total_amt</th>\n",
       "      <th>Store_type</th>\n",
       "      <th>prod_cat</th>\n",
       "      <th>prod_subcat</th>\n",
       "      <th>year</th>\n",
       "      <th>tran_date_dt</th>\n",
       "    </tr>\n",
       "  </thead>\n",
       "  <tbody>\n",
       "    <tr>\n",
       "      <th>0</th>\n",
       "      <td>80712190438</td>\n",
       "      <td>270351</td>\n",
       "      <td>28-02-2014</td>\n",
       "      <td>1</td>\n",
       "      <td>1</td>\n",
       "      <td>-5</td>\n",
       "      <td>-772</td>\n",
       "      <td>405.300</td>\n",
       "      <td>-4265.300</td>\n",
       "      <td>e-Shop</td>\n",
       "      <td>Clothing</td>\n",
       "      <td>Women</td>\n",
       "      <td>2014</td>\n",
       "      <td>2014-02-28</td>\n",
       "    </tr>\n",
       "    <tr>\n",
       "      <th>1</th>\n",
       "      <td>80712190438</td>\n",
       "      <td>270351</td>\n",
       "      <td>20-02-2014</td>\n",
       "      <td>1</td>\n",
       "      <td>1</td>\n",
       "      <td>5</td>\n",
       "      <td>772</td>\n",
       "      <td>405.300</td>\n",
       "      <td>4265.300</td>\n",
       "      <td>e-Shop</td>\n",
       "      <td>Clothing</td>\n",
       "      <td>Women</td>\n",
       "      <td>2014</td>\n",
       "      <td>2014-02-20</td>\n",
       "    </tr>\n",
       "    <tr>\n",
       "      <th>2</th>\n",
       "      <td>73713102191</td>\n",
       "      <td>268867</td>\n",
       "      <td>15-02-2014</td>\n",
       "      <td>1</td>\n",
       "      <td>1</td>\n",
       "      <td>1</td>\n",
       "      <td>714</td>\n",
       "      <td>74.970</td>\n",
       "      <td>788.970</td>\n",
       "      <td>MBR</td>\n",
       "      <td>Clothing</td>\n",
       "      <td>Women</td>\n",
       "      <td>2014</td>\n",
       "      <td>2014-02-15</td>\n",
       "    </tr>\n",
       "    <tr>\n",
       "      <th>3</th>\n",
       "      <td>57134739558</td>\n",
       "      <td>270625</td>\n",
       "      <td>14-02-2014</td>\n",
       "      <td>1</td>\n",
       "      <td>1</td>\n",
       "      <td>5</td>\n",
       "      <td>595</td>\n",
       "      <td>312.375</td>\n",
       "      <td>3287.375</td>\n",
       "      <td>TeleShop</td>\n",
       "      <td>Clothing</td>\n",
       "      <td>Women</td>\n",
       "      <td>2014</td>\n",
       "      <td>2014-02-14</td>\n",
       "    </tr>\n",
       "    <tr>\n",
       "      <th>4</th>\n",
       "      <td>79536458466</td>\n",
       "      <td>271944</td>\n",
       "      <td>12/2/2014</td>\n",
       "      <td>1</td>\n",
       "      <td>1</td>\n",
       "      <td>2</td>\n",
       "      <td>996</td>\n",
       "      <td>209.160</td>\n",
       "      <td>2201.160</td>\n",
       "      <td>e-Shop</td>\n",
       "      <td>Clothing</td>\n",
       "      <td>Women</td>\n",
       "      <td>2014</td>\n",
       "      <td>2014-02-12</td>\n",
       "    </tr>\n",
       "  </tbody>\n",
       "</table>\n",
       "</div>"
      ],
      "text/plain": [
       "   transaction_id  cust_id   tran_date  prod_subcat_code  prod_cat_code  Qty  \\\n",
       "0     80712190438   270351  28-02-2014                 1              1   -5   \n",
       "1     80712190438   270351  20-02-2014                 1              1    5   \n",
       "2     73713102191   268867  15-02-2014                 1              1    1   \n",
       "3     57134739558   270625  14-02-2014                 1              1    5   \n",
       "4     79536458466   271944   12/2/2014                 1              1    2   \n",
       "\n",
       "   Rate      Tax  total_amt Store_type  prod_cat prod_subcat  year  \\\n",
       "0  -772  405.300  -4265.300     e-Shop  Clothing       Women  2014   \n",
       "1   772  405.300   4265.300     e-Shop  Clothing       Women  2014   \n",
       "2   714   74.970    788.970        MBR  Clothing       Women  2014   \n",
       "3   595  312.375   3287.375   TeleShop  Clothing       Women  2014   \n",
       "4   996  209.160   2201.160     e-Shop  Clothing       Women  2014   \n",
       "\n",
       "  tran_date_dt  \n",
       "0   2014-02-28  \n",
       "1   2014-02-20  \n",
       "2   2014-02-15  \n",
       "3   2014-02-14  \n",
       "4   2014-02-12  "
      ]
     },
     "execution_count": 5,
     "metadata": {},
     "output_type": "execute_result"
    }
   ],
   "source": [
    "trans_df.head()"
   ]
  },
  {
   "cell_type": "code",
   "execution_count": 6,
   "metadata": {
    "colab": {},
    "colab_type": "code",
    "execution": {
     "iopub.execute_input": "2025-02-18T19:14:17.192176Z",
     "iopub.status.busy": "2025-02-18T19:14:17.192176Z",
     "iopub.status.idle": "2025-02-18T19:14:17.211064Z",
     "shell.execute_reply": "2025-02-18T19:14:17.209861Z",
     "shell.execute_reply.started": "2025-02-18T19:14:17.192176Z"
    },
    "id": "BCIMeqr670Ip",
    "outputId": "edeb77af-4385-4083-f87a-456031abc9ef"
   },
   "outputs": [
    {
     "data": {
      "text/html": [
       "<div>\n",
       "<style scoped>\n",
       "    .dataframe tbody tr th:only-of-type {\n",
       "        vertical-align: middle;\n",
       "    }\n",
       "\n",
       "    .dataframe tbody tr th {\n",
       "        vertical-align: top;\n",
       "    }\n",
       "\n",
       "    .dataframe thead th {\n",
       "        text-align: right;\n",
       "    }\n",
       "</style>\n",
       "<table border=\"1\" class=\"dataframe\">\n",
       "  <thead>\n",
       "    <tr style=\"text-align: right;\">\n",
       "      <th></th>\n",
       "      <th>customer_Id</th>\n",
       "      <th>DOB</th>\n",
       "      <th>Gender</th>\n",
       "      <th>city_code</th>\n",
       "    </tr>\n",
       "  </thead>\n",
       "  <tbody>\n",
       "    <tr>\n",
       "      <th>0</th>\n",
       "      <td>268408</td>\n",
       "      <td>1970-01-02</td>\n",
       "      <td>M</td>\n",
       "      <td>4.0</td>\n",
       "    </tr>\n",
       "    <tr>\n",
       "      <th>1</th>\n",
       "      <td>269696</td>\n",
       "      <td>1970-01-07</td>\n",
       "      <td>F</td>\n",
       "      <td>8.0</td>\n",
       "    </tr>\n",
       "  </tbody>\n",
       "</table>\n",
       "</div>"
      ],
      "text/plain": [
       "   customer_Id        DOB Gender city_code\n",
       "0       268408 1970-01-02      M       4.0\n",
       "1       269696 1970-01-07      F       8.0"
      ]
     },
     "execution_count": 6,
     "metadata": {},
     "output_type": "execute_result"
    }
   ],
   "source": [
    "cust_df.head(2)"
   ]
  },
  {
   "cell_type": "markdown",
   "metadata": {
    "colab_type": "text",
    "id": "7fePmq0A70Iv"
   },
   "source": [
    "Juntar informação de transações e cliente (recalcular idade à data da compra - **porquê**?)"
   ]
  },
  {
   "cell_type": "code",
   "execution_count": 7,
   "metadata": {
    "execution": {
     "iopub.execute_input": "2025-02-18T19:16:59.230017Z",
     "iopub.status.busy": "2025-02-18T19:16:59.230017Z",
     "iopub.status.idle": "2025-02-18T19:16:59.252337Z",
     "shell.execute_reply": "2025-02-18T19:16:59.251154Z",
     "shell.execute_reply.started": "2025-02-18T19:16:59.230017Z"
    }
   },
   "outputs": [
    {
     "name": "stdout",
     "output_type": "stream",
     "text": [
      "<class 'pandas.core.frame.DataFrame'>\n",
      "RangeIndex: 5647 entries, 0 to 5646\n",
      "Data columns (total 4 columns):\n",
      " #   Column       Non-Null Count  Dtype         \n",
      "---  ------       --------------  -----         \n",
      " 0   customer_Id  5647 non-null   int64         \n",
      " 1   DOB          5647 non-null   datetime64[ns]\n",
      " 2   Gender       5645 non-null   object        \n",
      " 3   city_code    5647 non-null   object        \n",
      "dtypes: datetime64[ns](1), int64(1), object(2)\n",
      "memory usage: 176.6+ KB\n"
     ]
    }
   ],
   "source": [
    "cust_df.info()"
   ]
  },
  {
   "cell_type": "code",
   "execution_count": 8,
   "metadata": {
    "execution": {
     "iopub.execute_input": "2025-02-18T19:17:01.884615Z",
     "iopub.status.busy": "2025-02-18T19:17:01.883616Z",
     "iopub.status.idle": "2025-02-18T19:17:01.892635Z",
     "shell.execute_reply": "2025-02-18T19:17:01.892635Z",
     "shell.execute_reply.started": "2025-02-18T19:17:01.884615Z"
    }
   },
   "outputs": [
    {
     "data": {
      "text/plain": [
       "(22703, 14)"
      ]
     },
     "execution_count": 8,
     "metadata": {},
     "output_type": "execute_result"
    }
   ],
   "source": [
    "trans_df.shape"
   ]
  },
  {
   "cell_type": "code",
   "execution_count": 12,
   "metadata": {
    "colab": {},
    "colab_type": "code",
    "execution": {
     "iopub.execute_input": "2025-02-18T19:21:11.512666Z",
     "iopub.status.busy": "2025-02-18T19:21:11.511658Z",
     "iopub.status.idle": "2025-02-18T19:21:11.531974Z",
     "shell.execute_reply": "2025-02-18T19:21:11.530969Z",
     "shell.execute_reply.started": "2025-02-18T19:21:11.512666Z"
    },
    "id": "CTYNjqNu70I0"
   },
   "outputs": [],
   "source": [
    "df = pd.merge(trans_df, cust_df,\n",
    "              left_on=['cust_id'],\n",
    "              right_on=['customer_Id'],\n",
    "              how='left').drop(['customer_Id', 'tran_date'], axis=1)"
   ]
  },
  {
   "cell_type": "code",
   "execution_count": 13,
   "metadata": {
    "execution": {
     "iopub.execute_input": "2025-02-18T19:21:16.700288Z",
     "iopub.status.busy": "2025-02-18T19:21:16.699716Z",
     "iopub.status.idle": "2025-02-18T19:21:16.710328Z",
     "shell.execute_reply": "2025-02-18T19:21:16.709316Z",
     "shell.execute_reply.started": "2025-02-18T19:21:16.700288Z"
    }
   },
   "outputs": [
    {
     "data": {
      "text/plain": [
       "(22703, 16)"
      ]
     },
     "execution_count": 13,
     "metadata": {},
     "output_type": "execute_result"
    }
   ],
   "source": [
    "df.shape"
   ]
  },
  {
   "cell_type": "code",
   "execution_count": 14,
   "metadata": {
    "execution": {
     "iopub.execute_input": "2025-02-18T19:21:17.702248Z",
     "iopub.status.busy": "2025-02-18T19:21:17.702248Z",
     "iopub.status.idle": "2025-02-18T19:21:17.728168Z",
     "shell.execute_reply": "2025-02-18T19:21:17.727176Z",
     "shell.execute_reply.started": "2025-02-18T19:21:17.702248Z"
    }
   },
   "outputs": [
    {
     "data": {
      "text/html": [
       "<div>\n",
       "<style scoped>\n",
       "    .dataframe tbody tr th:only-of-type {\n",
       "        vertical-align: middle;\n",
       "    }\n",
       "\n",
       "    .dataframe tbody tr th {\n",
       "        vertical-align: top;\n",
       "    }\n",
       "\n",
       "    .dataframe thead th {\n",
       "        text-align: right;\n",
       "    }\n",
       "</style>\n",
       "<table border=\"1\" class=\"dataframe\">\n",
       "  <thead>\n",
       "    <tr style=\"text-align: right;\">\n",
       "      <th></th>\n",
       "      <th>transaction_id</th>\n",
       "      <th>cust_id</th>\n",
       "      <th>prod_subcat_code</th>\n",
       "      <th>prod_cat_code</th>\n",
       "      <th>Qty</th>\n",
       "      <th>Rate</th>\n",
       "      <th>Tax</th>\n",
       "      <th>total_amt</th>\n",
       "      <th>Store_type</th>\n",
       "      <th>prod_cat</th>\n",
       "      <th>prod_subcat</th>\n",
       "      <th>year</th>\n",
       "      <th>tran_date_dt</th>\n",
       "      <th>DOB</th>\n",
       "      <th>Gender</th>\n",
       "      <th>city_code</th>\n",
       "    </tr>\n",
       "  </thead>\n",
       "  <tbody>\n",
       "    <tr>\n",
       "      <th>0</th>\n",
       "      <td>80712190438</td>\n",
       "      <td>270351</td>\n",
       "      <td>1</td>\n",
       "      <td>1</td>\n",
       "      <td>-5</td>\n",
       "      <td>-772</td>\n",
       "      <td>405.300</td>\n",
       "      <td>-4265.300</td>\n",
       "      <td>e-Shop</td>\n",
       "      <td>Clothing</td>\n",
       "      <td>Women</td>\n",
       "      <td>2014</td>\n",
       "      <td>2014-02-28</td>\n",
       "      <td>1981-09-26</td>\n",
       "      <td>M</td>\n",
       "      <td>5.0</td>\n",
       "    </tr>\n",
       "    <tr>\n",
       "      <th>1</th>\n",
       "      <td>80712190438</td>\n",
       "      <td>270351</td>\n",
       "      <td>1</td>\n",
       "      <td>1</td>\n",
       "      <td>5</td>\n",
       "      <td>772</td>\n",
       "      <td>405.300</td>\n",
       "      <td>4265.300</td>\n",
       "      <td>e-Shop</td>\n",
       "      <td>Clothing</td>\n",
       "      <td>Women</td>\n",
       "      <td>2014</td>\n",
       "      <td>2014-02-20</td>\n",
       "      <td>1981-09-26</td>\n",
       "      <td>M</td>\n",
       "      <td>5.0</td>\n",
       "    </tr>\n",
       "    <tr>\n",
       "      <th>2</th>\n",
       "      <td>73713102191</td>\n",
       "      <td>268867</td>\n",
       "      <td>1</td>\n",
       "      <td>1</td>\n",
       "      <td>1</td>\n",
       "      <td>714</td>\n",
       "      <td>74.970</td>\n",
       "      <td>788.970</td>\n",
       "      <td>MBR</td>\n",
       "      <td>Clothing</td>\n",
       "      <td>Women</td>\n",
       "      <td>2014</td>\n",
       "      <td>2014-02-15</td>\n",
       "      <td>1987-10-24</td>\n",
       "      <td>F</td>\n",
       "      <td>4.0</td>\n",
       "    </tr>\n",
       "    <tr>\n",
       "      <th>3</th>\n",
       "      <td>57134739558</td>\n",
       "      <td>270625</td>\n",
       "      <td>1</td>\n",
       "      <td>1</td>\n",
       "      <td>5</td>\n",
       "      <td>595</td>\n",
       "      <td>312.375</td>\n",
       "      <td>3287.375</td>\n",
       "      <td>TeleShop</td>\n",
       "      <td>Clothing</td>\n",
       "      <td>Women</td>\n",
       "      <td>2014</td>\n",
       "      <td>2014-02-14</td>\n",
       "      <td>1992-02-03</td>\n",
       "      <td>M</td>\n",
       "      <td>6.0</td>\n",
       "    </tr>\n",
       "    <tr>\n",
       "      <th>4</th>\n",
       "      <td>79536458466</td>\n",
       "      <td>271944</td>\n",
       "      <td>1</td>\n",
       "      <td>1</td>\n",
       "      <td>2</td>\n",
       "      <td>996</td>\n",
       "      <td>209.160</td>\n",
       "      <td>2201.160</td>\n",
       "      <td>e-Shop</td>\n",
       "      <td>Clothing</td>\n",
       "      <td>Women</td>\n",
       "      <td>2014</td>\n",
       "      <td>2014-02-12</td>\n",
       "      <td>1971-12-11</td>\n",
       "      <td>F</td>\n",
       "      <td>5.0</td>\n",
       "    </tr>\n",
       "  </tbody>\n",
       "</table>\n",
       "</div>"
      ],
      "text/plain": [
       "   transaction_id  cust_id  prod_subcat_code  prod_cat_code  Qty  Rate  \\\n",
       "0     80712190438   270351                 1              1   -5  -772   \n",
       "1     80712190438   270351                 1              1    5   772   \n",
       "2     73713102191   268867                 1              1    1   714   \n",
       "3     57134739558   270625                 1              1    5   595   \n",
       "4     79536458466   271944                 1              1    2   996   \n",
       "\n",
       "       Tax  total_amt Store_type  prod_cat prod_subcat  year tran_date_dt  \\\n",
       "0  405.300  -4265.300     e-Shop  Clothing       Women  2014   2014-02-28   \n",
       "1  405.300   4265.300     e-Shop  Clothing       Women  2014   2014-02-20   \n",
       "2   74.970    788.970        MBR  Clothing       Women  2014   2014-02-15   \n",
       "3  312.375   3287.375   TeleShop  Clothing       Women  2014   2014-02-14   \n",
       "4  209.160   2201.160     e-Shop  Clothing       Women  2014   2014-02-12   \n",
       "\n",
       "         DOB Gender city_code  \n",
       "0 1981-09-26      M       5.0  \n",
       "1 1981-09-26      M       5.0  \n",
       "2 1987-10-24      F       4.0  \n",
       "3 1992-02-03      M       6.0  \n",
       "4 1971-12-11      F       5.0  "
      ]
     },
     "execution_count": 14,
     "metadata": {},
     "output_type": "execute_result"
    }
   ],
   "source": [
    "df.head()"
   ]
  },
  {
   "cell_type": "markdown",
   "metadata": {},
   "source": [
    "---"
   ]
  },
  {
   "cell_type": "code",
   "execution_count": 19,
   "metadata": {
    "execution": {
     "iopub.execute_input": "2025-02-18T19:27:30.973105Z",
     "iopub.status.busy": "2025-02-18T19:27:30.973105Z",
     "iopub.status.idle": "2025-02-18T19:27:30.994723Z",
     "shell.execute_reply": "2025-02-18T19:27:30.993723Z",
     "shell.execute_reply.started": "2025-02-18T19:27:30.973105Z"
    }
   },
   "outputs": [
    {
     "data": {
      "text/plain": [
       "32"
      ]
     },
     "execution_count": 19,
     "metadata": {},
     "output_type": "execute_result"
    }
   ],
   "source": [
    "relativedelta(pd.to_datetime('2014-02-28'), pd.to_datetime('1981-09-26')).years"
   ]
  },
  {
   "cell_type": "code",
   "execution_count": 21,
   "metadata": {
    "execution": {
     "iopub.execute_input": "2025-02-18T19:29:08.056119Z",
     "iopub.status.busy": "2025-02-18T19:29:08.056119Z",
     "iopub.status.idle": "2025-02-18T19:29:08.090848Z",
     "shell.execute_reply": "2025-02-18T19:29:08.089848Z",
     "shell.execute_reply.started": "2025-02-18T19:29:08.056119Z"
    }
   },
   "outputs": [
    {
     "ename": "ValueError",
     "evalue": "The truth value of a Series is ambiguous. Use a.empty, a.bool(), a.item(), a.any() or a.all().",
     "output_type": "error",
     "traceback": [
      "\u001b[1;31m---------------------------------------------------------------------------\u001b[0m",
      "\u001b[1;31mValueError\u001b[0m                                Traceback (most recent call last)",
      "\u001b[1;32m~\\AppData\\Local\\Temp\\ipykernel_18000\\2534052874.py\u001b[0m in \u001b[0;36m?\u001b[1;34m()\u001b[0m\n\u001b[1;32m----> 1\u001b[1;33m \u001b[0mrelativedelta\u001b[0m\u001b[1;33m(\u001b[0m\u001b[0mdf\u001b[0m\u001b[1;33m[\u001b[0m\u001b[1;34m'tran_date_dt'\u001b[0m\u001b[1;33m]\u001b[0m\u001b[1;33m,\u001b[0m \u001b[0mdf\u001b[0m\u001b[1;33m[\u001b[0m\u001b[1;34m'DOB'\u001b[0m\u001b[1;33m]\u001b[0m\u001b[1;33m)\u001b[0m\u001b[1;33m\u001b[0m\u001b[1;33m\u001b[0m\u001b[0m\n\u001b[0m",
      "\u001b[1;32m~\\miniconda3\\envs\\edit\\lib\\site-packages\\dateutil\\relativedelta.py\u001b[0m in \u001b[0;36m?\u001b[1;34m(self, dt1, dt2, years, months, days, leapdays, weeks, hours, minutes, seconds, microseconds, year, month, day, weekday, yearday, nlyearday, hour, minute, second, microsecond)\u001b[0m\n\u001b[0;32m    108\u001b[0m                  \u001b[0myear\u001b[0m\u001b[1;33m=\u001b[0m\u001b[1;32mNone\u001b[0m\u001b[1;33m,\u001b[0m \u001b[0mmonth\u001b[0m\u001b[1;33m=\u001b[0m\u001b[1;32mNone\u001b[0m\u001b[1;33m,\u001b[0m \u001b[0mday\u001b[0m\u001b[1;33m=\u001b[0m\u001b[1;32mNone\u001b[0m\u001b[1;33m,\u001b[0m \u001b[0mweekday\u001b[0m\u001b[1;33m=\u001b[0m\u001b[1;32mNone\u001b[0m\u001b[1;33m,\u001b[0m\u001b[1;33m\u001b[0m\u001b[1;33m\u001b[0m\u001b[0m\n\u001b[0;32m    109\u001b[0m                  \u001b[0myearday\u001b[0m\u001b[1;33m=\u001b[0m\u001b[1;32mNone\u001b[0m\u001b[1;33m,\u001b[0m \u001b[0mnlyearday\u001b[0m\u001b[1;33m=\u001b[0m\u001b[1;32mNone\u001b[0m\u001b[1;33m,\u001b[0m\u001b[1;33m\u001b[0m\u001b[1;33m\u001b[0m\u001b[0m\n\u001b[0;32m    110\u001b[0m                  hour=None, minute=None, second=None, microsecond=None):\n\u001b[0;32m    111\u001b[0m \u001b[1;33m\u001b[0m\u001b[0m\n\u001b[1;32m--> 112\u001b[1;33m         \u001b[1;32mif\u001b[0m \u001b[0mdt1\u001b[0m \u001b[1;32mand\u001b[0m \u001b[0mdt2\u001b[0m\u001b[1;33m:\u001b[0m\u001b[1;33m\u001b[0m\u001b[1;33m\u001b[0m\u001b[0m\n\u001b[0m\u001b[0;32m    113\u001b[0m             \u001b[1;31m# datetime is a subclass of date. So both must be date\u001b[0m\u001b[1;33m\u001b[0m\u001b[1;33m\u001b[0m\u001b[1;33m\u001b[0m\u001b[0m\n\u001b[0;32m    114\u001b[0m             if not (isinstance(dt1, datetime.date) and\n\u001b[0;32m    115\u001b[0m                     isinstance(dt2, datetime.date)):\n",
      "\u001b[1;32m~\\miniconda3\\envs\\edit\\lib\\site-packages\\pandas\\core\\generic.py\u001b[0m in \u001b[0;36m?\u001b[1;34m(self)\u001b[0m\n\u001b[0;32m   1464\u001b[0m     \u001b[1;33m@\u001b[0m\u001b[0mfinal\u001b[0m\u001b[1;33m\u001b[0m\u001b[1;33m\u001b[0m\u001b[0m\n\u001b[0;32m   1465\u001b[0m     \u001b[1;32mdef\u001b[0m \u001b[0m__nonzero__\u001b[0m\u001b[1;33m(\u001b[0m\u001b[0mself\u001b[0m\u001b[1;33m)\u001b[0m \u001b[1;33m->\u001b[0m \u001b[0mNoReturn\u001b[0m\u001b[1;33m:\u001b[0m\u001b[1;33m\u001b[0m\u001b[1;33m\u001b[0m\u001b[0m\n\u001b[1;32m-> 1466\u001b[1;33m         raise ValueError(\n\u001b[0m\u001b[0;32m   1467\u001b[0m             \u001b[1;34mf\"The truth value of a {type(self).__name__} is ambiguous. \"\u001b[0m\u001b[1;33m\u001b[0m\u001b[1;33m\u001b[0m\u001b[0m\n\u001b[0;32m   1468\u001b[0m             \u001b[1;34m\"Use a.empty, a.bool(), a.item(), a.any() or a.all().\"\u001b[0m\u001b[1;33m\u001b[0m\u001b[1;33m\u001b[0m\u001b[0m\n\u001b[0;32m   1469\u001b[0m         )\n",
      "\u001b[1;31mValueError\u001b[0m: The truth value of a Series is ambiguous. Use a.empty, a.bool(), a.item(), a.any() or a.all()."
     ]
    }
   ],
   "source": [
    "relativedelta(df['tran_date_dt'], df['DOB'])"
   ]
  },
  {
   "cell_type": "code",
   "execution_count": 23,
   "metadata": {
    "execution": {
     "iopub.execute_input": "2025-02-18T19:31:16.286958Z",
     "iopub.status.busy": "2025-02-18T19:31:16.286015Z",
     "iopub.status.idle": "2025-02-18T19:31:16.300738Z",
     "shell.execute_reply": "2025-02-18T19:31:16.300085Z",
     "shell.execute_reply.started": "2025-02-18T19:31:16.286958Z"
    }
   },
   "outputs": [
    {
     "data": {
      "text/plain": [
       "[0, 2, 4]"
      ]
     },
     "execution_count": 23,
     "metadata": {},
     "output_type": "execute_result"
    }
   ],
   "source": [
    "l = []\n",
    "for i in range(3):\n",
    "    l.append(i*2)\n",
    "l"
   ]
  },
  {
   "cell_type": "code",
   "execution_count": 24,
   "metadata": {
    "execution": {
     "iopub.execute_input": "2025-02-18T19:32:35.061830Z",
     "iopub.status.busy": "2025-02-18T19:32:35.060828Z",
     "iopub.status.idle": "2025-02-18T19:32:35.069387Z",
     "shell.execute_reply": "2025-02-18T19:32:35.068882Z",
     "shell.execute_reply.started": "2025-02-18T19:32:35.061830Z"
    }
   },
   "outputs": [
    {
     "data": {
      "text/plain": [
       "[0, 2, 4]"
      ]
     },
     "execution_count": 24,
     "metadata": {},
     "output_type": "execute_result"
    }
   ],
   "source": [
    "[i*2 for i in range(3)]"
   ]
  },
  {
   "cell_type": "code",
   "execution_count": 25,
   "metadata": {
    "execution": {
     "iopub.execute_input": "2025-02-18T19:34:00.560373Z",
     "iopub.status.busy": "2025-02-18T19:34:00.560373Z",
     "iopub.status.idle": "2025-02-18T19:34:00.583171Z",
     "shell.execute_reply": "2025-02-18T19:34:00.582172Z",
     "shell.execute_reply.started": "2025-02-18T19:34:00.560373Z"
    }
   },
   "outputs": [
    {
     "name": "stdout",
     "output_type": "stream",
     "text": [
      "32\n",
      "32\n",
      "26\n"
     ]
    }
   ],
   "source": [
    "for i, row in df.head(3).iterrows():\n",
    "    print(relativedelta(row['tran_date_dt'], row['DOB']).years)"
   ]
  },
  {
   "cell_type": "code",
   "execution_count": 27,
   "metadata": {
    "execution": {
     "iopub.execute_input": "2025-02-18T19:35:24.824165Z",
     "iopub.status.busy": "2025-02-18T19:35:24.824165Z",
     "iopub.status.idle": "2025-02-18T19:35:26.724071Z",
     "shell.execute_reply": "2025-02-18T19:35:26.723068Z",
     "shell.execute_reply.started": "2025-02-18T19:35:24.824165Z"
    }
   },
   "outputs": [
    {
     "data": {
      "text/plain": [
       "[32,\n",
       " 32,\n",
       " 26,\n",
       " 22,\n",
       " 42,\n",
       " 23,\n",
       " 30,\n",
       " 23,\n",
       " 23,\n",
       " 23,\n",
       " 29,\n",
       " 34,\n",
       " 35,\n",
       " 23,\n",
       " 23,\n",
       " 40,\n",
       " 25,\n",
       " 33,\n",
       " 40,\n",
       " 41,\n",
       " 29,\n",
       " 23,\n",
       " 36,\n",
       " 22,\n",
       " 38,\n",
       " 27,\n",
       " 25,\n",
       " 23,\n",
       " 26,\n",
       " 28,\n",
       " 27,\n",
       " 28,\n",
       " 21,\n",
       " 38,\n",
       " 25,\n",
       " 42,\n",
       " 34,\n",
       " 38,\n",
       " 37,\n",
       " 21,\n",
       " 35,\n",
       " 34,\n",
       " 28,\n",
       " 33,\n",
       " 30,\n",
       " 25,\n",
       " 32,\n",
       " 34,\n",
       " 38,\n",
       " 35,\n",
       " 43,\n",
       " 22,\n",
       " 22,\n",
       " 36,\n",
       " 36,\n",
       " 21,\n",
       " 33,\n",
       " 42,\n",
       " 33,\n",
       " 37,\n",
       " 22,\n",
       " 42,\n",
       " 43,\n",
       " 32,\n",
       " 34,\n",
       " 38,\n",
       " 43,\n",
       " 36,\n",
       " 43,\n",
       " 34,\n",
       " 28,\n",
       " 24,\n",
       " 43,\n",
       " 32,\n",
       " 38,\n",
       " 22,\n",
       " 38,\n",
       " 33,\n",
       " 38,\n",
       " 26,\n",
       " 39,\n",
       " 41,\n",
       " 32,\n",
       " 39,\n",
       " 43,\n",
       " 36,\n",
       " 23,\n",
       " 30,\n",
       " 40,\n",
       " 31,\n",
       " 41,\n",
       " 36,\n",
       " 24,\n",
       " 32,\n",
       " 31,\n",
       " 24,\n",
       " 39,\n",
       " 43,\n",
       " 43,\n",
       " 26,\n",
       " 21,\n",
       " 31,\n",
       " 41,\n",
       " 24,\n",
       " 24,\n",
       " 29,\n",
       " 36,\n",
       " 24,\n",
       " 26,\n",
       " 37,\n",
       " 24,\n",
       " 26,\n",
       " 36,\n",
       " 32,\n",
       " 27,\n",
       " 22,\n",
       " 41,\n",
       " 40,\n",
       " 42,\n",
       " 30,\n",
       " 27,\n",
       " 24,\n",
       " 31,\n",
       " 42,\n",
       " 36,\n",
       " 25,\n",
       " 28,\n",
       " 24,\n",
       " 38,\n",
       " 43,\n",
       " 39,\n",
       " 21,\n",
       " 34,\n",
       " 35,\n",
       " 36,\n",
       " 43,\n",
       " 40,\n",
       " 26,\n",
       " 26,\n",
       " 21,\n",
       " 40,\n",
       " 34,\n",
       " 25,\n",
       " 23,\n",
       " 34,\n",
       " 27,\n",
       " 27,\n",
       " 21,\n",
       " 41,\n",
       " 33,\n",
       " 31,\n",
       " 36,\n",
       " 30,\n",
       " 25,\n",
       " 33,\n",
       " 41,\n",
       " 41,\n",
       " 25,\n",
       " 31,\n",
       " 40,\n",
       " 25,\n",
       " 23,\n",
       " 40,\n",
       " 26,\n",
       " 24,\n",
       " 28,\n",
       " 43,\n",
       " 27,\n",
       " 32,\n",
       " 35,\n",
       " 41,\n",
       " 40,\n",
       " 32,\n",
       " 28,\n",
       " 23,\n",
       " 32,\n",
       " 24,\n",
       " 40,\n",
       " 41,\n",
       " 24,\n",
       " 33,\n",
       " 26,\n",
       " 30,\n",
       " 36,\n",
       " 26,\n",
       " 37,\n",
       " 42,\n",
       " 29,\n",
       " 37,\n",
       " 30,\n",
       " 24,\n",
       " 43,\n",
       " 25,\n",
       " 40,\n",
       " 36,\n",
       " 22,\n",
       " 32,\n",
       " 34,\n",
       " 29,\n",
       " 33,\n",
       " 31,\n",
       " 37,\n",
       " 26,\n",
       " 34,\n",
       " 23,\n",
       " 33,\n",
       " 29,\n",
       " 22,\n",
       " 38,\n",
       " 36,\n",
       " 22,\n",
       " 22,\n",
       " 33,\n",
       " 22,\n",
       " 26,\n",
       " 40,\n",
       " 28,\n",
       " 25,\n",
       " 25,\n",
       " 20,\n",
       " 25,\n",
       " 37,\n",
       " 31,\n",
       " 30,\n",
       " 28,\n",
       " 21,\n",
       " 30,\n",
       " 28,\n",
       " 37,\n",
       " 24,\n",
       " 31,\n",
       " 29,\n",
       " 32,\n",
       " 23,\n",
       " 31,\n",
       " 34,\n",
       " 42,\n",
       " 25,\n",
       " 28,\n",
       " 21,\n",
       " 24,\n",
       " 36,\n",
       " 23,\n",
       " 23,\n",
       " 32,\n",
       " 35,\n",
       " 34,\n",
       " 35,\n",
       " 22,\n",
       " 21,\n",
       " 29,\n",
       " 31,\n",
       " 30,\n",
       " 38,\n",
       " 35,\n",
       " 31,\n",
       " 39,\n",
       " 33,\n",
       " 35,\n",
       " 36,\n",
       " 38,\n",
       " 38,\n",
       " 22,\n",
       " 22,\n",
       " 34,\n",
       " 32,\n",
       " 35,\n",
       " 24,\n",
       " 24,\n",
       " 42,\n",
       " 38,\n",
       " 24,\n",
       " 26,\n",
       " 30,\n",
       " 26,\n",
       " 24,\n",
       " 27,\n",
       " 32,\n",
       " 25,\n",
       " 38,\n",
       " 29,\n",
       " 25,\n",
       " 30,\n",
       " 20,\n",
       " 24,\n",
       " 27,\n",
       " 40,\n",
       " 30,\n",
       " 25,\n",
       " 30,\n",
       " 37,\n",
       " 24,\n",
       " 33,\n",
       " 24,\n",
       " 33,\n",
       " 33,\n",
       " 37,\n",
       " 39,\n",
       " 32,\n",
       " 37,\n",
       " 41,\n",
       " 31,\n",
       " 38,\n",
       " 23,\n",
       " 36,\n",
       " 23,\n",
       " 20,\n",
       " 31,\n",
       " 40,\n",
       " 21,\n",
       " 35,\n",
       " 33,\n",
       " 24,\n",
       " 41,\n",
       " 33,\n",
       " 29,\n",
       " 24,\n",
       " 27,\n",
       " 20,\n",
       " 32,\n",
       " 34,\n",
       " 34,\n",
       " 26,\n",
       " 24,\n",
       " 34,\n",
       " 41,\n",
       " 24,\n",
       " 32,\n",
       " 24,\n",
       " 26,\n",
       " 24,\n",
       " 37,\n",
       " 28,\n",
       " 21,\n",
       " 23,\n",
       " 24,\n",
       " 26,\n",
       " 41,\n",
       " 35,\n",
       " 29,\n",
       " 31,\n",
       " 30,\n",
       " 32,\n",
       " 23,\n",
       " 36,\n",
       " 39,\n",
       " 33,\n",
       " 38,\n",
       " 37,\n",
       " 37,\n",
       " 22,\n",
       " 38,\n",
       " 27,\n",
       " 23,\n",
       " 43,\n",
       " 33,\n",
       " 40,\n",
       " 28,\n",
       " 39,\n",
       " 25,\n",
       " 30,\n",
       " 28,\n",
       " 38,\n",
       " 23,\n",
       " 40,\n",
       " 28,\n",
       " 26,\n",
       " 34,\n",
       " 27,\n",
       " 32,\n",
       " 31,\n",
       " 34,\n",
       " 42,\n",
       " 39,\n",
       " 22,\n",
       " 22,\n",
       " 39,\n",
       " 22,\n",
       " 27,\n",
       " 39,\n",
       " 29,\n",
       " 23,\n",
       " 27,\n",
       " 26,\n",
       " 40,\n",
       " 25,\n",
       " 33,\n",
       " 41,\n",
       " 23,\n",
       " 25,\n",
       " 33,\n",
       " 27,\n",
       " 26,\n",
       " 37,\n",
       " 23,\n",
       " 27,\n",
       " 41,\n",
       " 22,\n",
       " 35,\n",
       " 34,\n",
       " 27,\n",
       " 34,\n",
       " 28,\n",
       " 25,\n",
       " 25,\n",
       " 40,\n",
       " 26,\n",
       " 35,\n",
       " 21,\n",
       " 20,\n",
       " 36,\n",
       " 32,\n",
       " 31,\n",
       " 33,\n",
       " 28,\n",
       " 34,\n",
       " 22,\n",
       " 31,\n",
       " 21,\n",
       " 39,\n",
       " 28,\n",
       " 29,\n",
       " 28,\n",
       " 39,\n",
       " 38,\n",
       " 35,\n",
       " 37,\n",
       " 30,\n",
       " 39,\n",
       " 21,\n",
       " 40,\n",
       " 41,\n",
       " 37,\n",
       " 40,\n",
       " 33,\n",
       " 21,\n",
       " 27,\n",
       " 39,\n",
       " 39,\n",
       " 40,\n",
       " 30,\n",
       " 41,\n",
       " 25,\n",
       " 32,\n",
       " 34,\n",
       " 21,\n",
       " 29,\n",
       " 30,\n",
       " 33,\n",
       " 20,\n",
       " 34,\n",
       " 26,\n",
       " 20,\n",
       " 28,\n",
       " 26,\n",
       " 30,\n",
       " 24,\n",
       " 40,\n",
       " 34,\n",
       " 30,\n",
       " 26,\n",
       " 26,\n",
       " 29,\n",
       " 37,\n",
       " 42,\n",
       " 38,\n",
       " 39,\n",
       " 33,\n",
       " 26,\n",
       " 22,\n",
       " 37,\n",
       " 30,\n",
       " 25,\n",
       " 34,\n",
       " 37,\n",
       " 20,\n",
       " 31,\n",
       " 26,\n",
       " 39,\n",
       " 20,\n",
       " 39,\n",
       " 23,\n",
       " 25,\n",
       " 27,\n",
       " 38,\n",
       " 20,\n",
       " 39,\n",
       " 24,\n",
       " 33,\n",
       " 34,\n",
       " 42,\n",
       " 24,\n",
       " 42,\n",
       " 38,\n",
       " 41,\n",
       " 24,\n",
       " 41,\n",
       " 20,\n",
       " 34,\n",
       " 27,\n",
       " 41,\n",
       " 26,\n",
       " 29,\n",
       " 33,\n",
       " 41,\n",
       " 29,\n",
       " 25,\n",
       " 25,\n",
       " 25,\n",
       " 25,\n",
       " 31,\n",
       " 25,\n",
       " 42,\n",
       " 20,\n",
       " 28,\n",
       " 31,\n",
       " 31,\n",
       " 29,\n",
       " 23,\n",
       " 40,\n",
       " 31,\n",
       " 41,\n",
       " 20,\n",
       " 31,\n",
       " 35,\n",
       " 27,\n",
       " 22,\n",
       " 27,\n",
       " 37,\n",
       " 26,\n",
       " 25,\n",
       " 37,\n",
       " 36,\n",
       " 32,\n",
       " 23,\n",
       " 28,\n",
       " 28,\n",
       " 31,\n",
       " 22,\n",
       " 33,\n",
       " 31,\n",
       " 28,\n",
       " 38,\n",
       " 19,\n",
       " 26,\n",
       " 29,\n",
       " 22,\n",
       " 29,\n",
       " 40,\n",
       " 38,\n",
       " 27,\n",
       " 21,\n",
       " 23,\n",
       " 40,\n",
       " 35,\n",
       " 21,\n",
       " 28,\n",
       " 37,\n",
       " 32,\n",
       " 21,\n",
       " 29,\n",
       " 20,\n",
       " 21,\n",
       " 33,\n",
       " 27,\n",
       " 32,\n",
       " 38,\n",
       " 29,\n",
       " 20,\n",
       " 33,\n",
       " 21,\n",
       " 39,\n",
       " 40,\n",
       " 41,\n",
       " 23,\n",
       " 41,\n",
       " 23,\n",
       " 35,\n",
       " 28,\n",
       " 39,\n",
       " 33,\n",
       " 32,\n",
       " 19,\n",
       " 25,\n",
       " 30,\n",
       " 22,\n",
       " 40,\n",
       " 32,\n",
       " 21,\n",
       " 28,\n",
       " 35,\n",
       " 25,\n",
       " 41,\n",
       " 22,\n",
       " 31,\n",
       " 29,\n",
       " 42,\n",
       " 30,\n",
       " 32,\n",
       " 29,\n",
       " 41,\n",
       " 35,\n",
       " 34,\n",
       " 28,\n",
       " 37,\n",
       " 27,\n",
       " 27,\n",
       " 25,\n",
       " 25,\n",
       " 24,\n",
       " 41,\n",
       " 36,\n",
       " 32,\n",
       " 22,\n",
       " 40,\n",
       " 28,\n",
       " 27,\n",
       " 42,\n",
       " 31,\n",
       " 36,\n",
       " 24,\n",
       " 24,\n",
       " 27,\n",
       " 22,\n",
       " 21,\n",
       " 41,\n",
       " 21,\n",
       " 31,\n",
       " 40,\n",
       " 35,\n",
       " 30,\n",
       " 20,\n",
       " 28,\n",
       " 39,\n",
       " 27,\n",
       " 41,\n",
       " 24,\n",
       " 33,\n",
       " 31,\n",
       " 37,\n",
       " 39,\n",
       " 37,\n",
       " 28,\n",
       " 36,\n",
       " 28,\n",
       " 22,\n",
       " 40,\n",
       " 26,\n",
       " 37,\n",
       " 22,\n",
       " 41,\n",
       " 21,\n",
       " 38,\n",
       " 39,\n",
       " 20,\n",
       " 26,\n",
       " 34,\n",
       " 25,\n",
       " 31,\n",
       " 20,\n",
       " 38,\n",
       " 39,\n",
       " 21,\n",
       " 29,\n",
       " 39,\n",
       " 24,\n",
       " 31,\n",
       " 27,\n",
       " 23,\n",
       " 20,\n",
       " 37,\n",
       " 23,\n",
       " 34,\n",
       " 22,\n",
       " 32,\n",
       " 24,\n",
       " 29,\n",
       " 19,\n",
       " 34,\n",
       " 24,\n",
       " 27,\n",
       " 30,\n",
       " 33,\n",
       " 33,\n",
       " 19,\n",
       " 32,\n",
       " 30,\n",
       " 36,\n",
       " 30,\n",
       " 22,\n",
       " 32,\n",
       " 24,\n",
       " 19,\n",
       " 21,\n",
       " 38,\n",
       " 30,\n",
       " 25,\n",
       " 37,\n",
       " 33,\n",
       " 20,\n",
       " 23,\n",
       " 36,\n",
       " 27,\n",
       " 32,\n",
       " 32,\n",
       " 19,\n",
       " 19,\n",
       " 19,\n",
       " 41,\n",
       " 22,\n",
       " 38,\n",
       " 32,\n",
       " 32,\n",
       " 19,\n",
       " 24,\n",
       " 38,\n",
       " 26,\n",
       " 40,\n",
       " 22,\n",
       " 40,\n",
       " 24,\n",
       " 26,\n",
       " 30,\n",
       " 19,\n",
       " 25,\n",
       " 24,\n",
       " 37,\n",
       " 37,\n",
       " 30,\n",
       " 20,\n",
       " 19,\n",
       " 19,\n",
       " 37,\n",
       " 27,\n",
       " 26,\n",
       " 39,\n",
       " 36,\n",
       " 34,\n",
       " 35,\n",
       " 35,\n",
       " 36,\n",
       " 37,\n",
       " 41,\n",
       " 31,\n",
       " 32,\n",
       " 40,\n",
       " 38,\n",
       " 33,\n",
       " 39,\n",
       " 32,\n",
       " 35,\n",
       " 39,\n",
       " 38,\n",
       " 39,\n",
       " 30,\n",
       " 24,\n",
       " 28,\n",
       " 20,\n",
       " 29,\n",
       " 28,\n",
       " 29,\n",
       " 28,\n",
       " 28,\n",
       " 27,\n",
       " 39,\n",
       " 23,\n",
       " 30,\n",
       " 27,\n",
       " 31,\n",
       " 41,\n",
       " 30,\n",
       " 22,\n",
       " 19,\n",
       " 38,\n",
       " 21,\n",
       " 28,\n",
       " 27,\n",
       " 25,\n",
       " 30,\n",
       " 34,\n",
       " 29,\n",
       " 30,\n",
       " 34,\n",
       " 35,\n",
       " 30,\n",
       " 28,\n",
       " 31,\n",
       " 22,\n",
       " 26,\n",
       " 36,\n",
       " 19,\n",
       " 22,\n",
       " 37,\n",
       " 34,\n",
       " 40,\n",
       " 28,\n",
       " 33,\n",
       " 26,\n",
       " 35,\n",
       " 30,\n",
       " 35,\n",
       " 34,\n",
       " 37,\n",
       " 21,\n",
       " 23,\n",
       " 21,\n",
       " 38,\n",
       " 34,\n",
       " 30,\n",
       " 21,\n",
       " 31,\n",
       " 29,\n",
       " 38,\n",
       " 27,\n",
       " 35,\n",
       " 20,\n",
       " 33,\n",
       " 20,\n",
       " 39,\n",
       " 25,\n",
       " 26,\n",
       " 34,\n",
       " 39,\n",
       " 33,\n",
       " 19,\n",
       " 24,\n",
       " 29,\n",
       " 20,\n",
       " 34,\n",
       " 31,\n",
       " 29,\n",
       " 23,\n",
       " 38,\n",
       " 40,\n",
       " 36,\n",
       " 28,\n",
       " 26,\n",
       " 35,\n",
       " 31,\n",
       " 34,\n",
       " 24,\n",
       " 19,\n",
       " 27,\n",
       " 21,\n",
       " 28,\n",
       " 29,\n",
       " 31,\n",
       " 27,\n",
       " 21,\n",
       " 32,\n",
       " 31,\n",
       " 30,\n",
       " 40,\n",
       " 25,\n",
       " 20,\n",
       " 28,\n",
       " 27,\n",
       " 21,\n",
       " 41,\n",
       " 39,\n",
       " 23,\n",
       " 21,\n",
       " 22,\n",
       " 29,\n",
       " 31,\n",
       " 23,\n",
       " 25,\n",
       " 21,\n",
       " 31,\n",
       " 24,\n",
       " 19,\n",
       " 21,\n",
       " 19,\n",
       " 24,\n",
       " 32,\n",
       " 24,\n",
       " 31,\n",
       " 32,\n",
       " 31,\n",
       " 24,\n",
       " 22,\n",
       " 24,\n",
       " 34,\n",
       " 22,\n",
       " 21,\n",
       " 35,\n",
       " 37,\n",
       " 32,\n",
       " 37,\n",
       " 27,\n",
       " 24,\n",
       " 32,\n",
       " 37,\n",
       " 21,\n",
       " 39,\n",
       " 28,\n",
       " 29,\n",
       " 21,\n",
       " 23,\n",
       " 41,\n",
       " 21,\n",
       " 29,\n",
       " 21,\n",
       " 35,\n",
       " 40,\n",
       " 31,\n",
       " 24,\n",
       " 32,\n",
       " 19,\n",
       " 20,\n",
       " 30,\n",
       " 22,\n",
       " 19,\n",
       " 23,\n",
       " 31,\n",
       " 19,\n",
       " 20,\n",
       " 29,\n",
       " 29,\n",
       " 28,\n",
       " 24,\n",
       " 37,\n",
       " 19,\n",
       " 22,\n",
       " 18,\n",
       " 32,\n",
       " 21,\n",
       " 28,\n",
       " 25,\n",
       " 39,\n",
       " 34,\n",
       " 25,\n",
       " 40,\n",
       " 39,\n",
       " 36,\n",
       " 39,\n",
       " 25,\n",
       " 32,\n",
       " 25,\n",
       " 39,\n",
       " 25,\n",
       " 40,\n",
       " 23,\n",
       " 18,\n",
       " 40,\n",
       " 36,\n",
       " 38,\n",
       " 24,\n",
       " 26,\n",
       " 22,\n",
       " 18,\n",
       " 25,\n",
       " 28,\n",
       " 28,\n",
       " 38,\n",
       " 28,\n",
       " 31,\n",
       " 21,\n",
       " 30,\n",
       " 23,\n",
       " 25,\n",
       " 38,\n",
       " 35,\n",
       " 23,\n",
       " 35,\n",
       " 23,\n",
       " 33,\n",
       " 28,\n",
       " 30,\n",
       " 34,\n",
       " 39,\n",
       " 30,\n",
       " 39,\n",
       " 30,\n",
       " 37,\n",
       " 26,\n",
       " 19,\n",
       " 31,\n",
       " 40,\n",
       " 29,\n",
       " 40,\n",
       " 23,\n",
       " 36,\n",
       " 19,\n",
       " 38,\n",
       " 20,\n",
       " 31,\n",
       " 40,\n",
       " 40,\n",
       " 36,\n",
       " 37,\n",
       " 31,\n",
       " 24,\n",
       " 38,\n",
       " 40,\n",
       " 22,\n",
       " 34,\n",
       " 25,\n",
       " 41,\n",
       " 38,\n",
       " ...]"
      ]
     },
     "execution_count": 27,
     "metadata": {},
     "output_type": "execute_result"
    }
   ],
   "source": [
    "l = []\n",
    "for i, row in df.iterrows():\n",
    "    l.append(relativedelta(row['tran_date_dt'], row['DOB']).years)\n",
    "l"
   ]
  },
  {
   "cell_type": "code",
   "execution_count": 28,
   "metadata": {
    "colab": {},
    "colab_type": "code",
    "execution": {
     "iopub.execute_input": "2025-02-18T19:37:20.259247Z",
     "iopub.status.busy": "2025-02-18T19:37:20.258731Z",
     "iopub.status.idle": "2025-02-18T19:37:22.067135Z",
     "shell.execute_reply": "2025-02-18T19:37:22.067135Z",
     "shell.execute_reply.started": "2025-02-18T19:37:20.259247Z"
    },
    "id": "x1r2CsTL70I7"
   },
   "outputs": [],
   "source": [
    "df['age'] = [relativedelta(row['tran_date_dt'], row['DOB']).years for i, row in df.iterrows()]"
   ]
  },
  {
   "cell_type": "code",
   "execution_count": 29,
   "metadata": {
    "execution": {
     "iopub.execute_input": "2025-02-18T19:37:23.678586Z",
     "iopub.status.busy": "2025-02-18T19:37:23.678586Z",
     "iopub.status.idle": "2025-02-18T19:37:23.710889Z",
     "shell.execute_reply": "2025-02-18T19:37:23.709889Z",
     "shell.execute_reply.started": "2025-02-18T19:37:23.678586Z"
    }
   },
   "outputs": [
    {
     "data": {
      "text/html": [
       "<div>\n",
       "<style scoped>\n",
       "    .dataframe tbody tr th:only-of-type {\n",
       "        vertical-align: middle;\n",
       "    }\n",
       "\n",
       "    .dataframe tbody tr th {\n",
       "        vertical-align: top;\n",
       "    }\n",
       "\n",
       "    .dataframe thead th {\n",
       "        text-align: right;\n",
       "    }\n",
       "</style>\n",
       "<table border=\"1\" class=\"dataframe\">\n",
       "  <thead>\n",
       "    <tr style=\"text-align: right;\">\n",
       "      <th></th>\n",
       "      <th>transaction_id</th>\n",
       "      <th>cust_id</th>\n",
       "      <th>prod_subcat_code</th>\n",
       "      <th>prod_cat_code</th>\n",
       "      <th>Qty</th>\n",
       "      <th>Rate</th>\n",
       "      <th>Tax</th>\n",
       "      <th>total_amt</th>\n",
       "      <th>Store_type</th>\n",
       "      <th>prod_cat</th>\n",
       "      <th>prod_subcat</th>\n",
       "      <th>year</th>\n",
       "      <th>tran_date_dt</th>\n",
       "      <th>DOB</th>\n",
       "      <th>Gender</th>\n",
       "      <th>city_code</th>\n",
       "      <th>age</th>\n",
       "    </tr>\n",
       "  </thead>\n",
       "  <tbody>\n",
       "    <tr>\n",
       "      <th>0</th>\n",
       "      <td>80712190438</td>\n",
       "      <td>270351</td>\n",
       "      <td>1</td>\n",
       "      <td>1</td>\n",
       "      <td>-5</td>\n",
       "      <td>-772</td>\n",
       "      <td>405.300</td>\n",
       "      <td>-4265.300</td>\n",
       "      <td>e-Shop</td>\n",
       "      <td>Clothing</td>\n",
       "      <td>Women</td>\n",
       "      <td>2014</td>\n",
       "      <td>2014-02-28</td>\n",
       "      <td>1981-09-26</td>\n",
       "      <td>M</td>\n",
       "      <td>5.0</td>\n",
       "      <td>32</td>\n",
       "    </tr>\n",
       "    <tr>\n",
       "      <th>1</th>\n",
       "      <td>80712190438</td>\n",
       "      <td>270351</td>\n",
       "      <td>1</td>\n",
       "      <td>1</td>\n",
       "      <td>5</td>\n",
       "      <td>772</td>\n",
       "      <td>405.300</td>\n",
       "      <td>4265.300</td>\n",
       "      <td>e-Shop</td>\n",
       "      <td>Clothing</td>\n",
       "      <td>Women</td>\n",
       "      <td>2014</td>\n",
       "      <td>2014-02-20</td>\n",
       "      <td>1981-09-26</td>\n",
       "      <td>M</td>\n",
       "      <td>5.0</td>\n",
       "      <td>32</td>\n",
       "    </tr>\n",
       "    <tr>\n",
       "      <th>2</th>\n",
       "      <td>73713102191</td>\n",
       "      <td>268867</td>\n",
       "      <td>1</td>\n",
       "      <td>1</td>\n",
       "      <td>1</td>\n",
       "      <td>714</td>\n",
       "      <td>74.970</td>\n",
       "      <td>788.970</td>\n",
       "      <td>MBR</td>\n",
       "      <td>Clothing</td>\n",
       "      <td>Women</td>\n",
       "      <td>2014</td>\n",
       "      <td>2014-02-15</td>\n",
       "      <td>1987-10-24</td>\n",
       "      <td>F</td>\n",
       "      <td>4.0</td>\n",
       "      <td>26</td>\n",
       "    </tr>\n",
       "    <tr>\n",
       "      <th>3</th>\n",
       "      <td>57134739558</td>\n",
       "      <td>270625</td>\n",
       "      <td>1</td>\n",
       "      <td>1</td>\n",
       "      <td>5</td>\n",
       "      <td>595</td>\n",
       "      <td>312.375</td>\n",
       "      <td>3287.375</td>\n",
       "      <td>TeleShop</td>\n",
       "      <td>Clothing</td>\n",
       "      <td>Women</td>\n",
       "      <td>2014</td>\n",
       "      <td>2014-02-14</td>\n",
       "      <td>1992-02-03</td>\n",
       "      <td>M</td>\n",
       "      <td>6.0</td>\n",
       "      <td>22</td>\n",
       "    </tr>\n",
       "    <tr>\n",
       "      <th>4</th>\n",
       "      <td>79536458466</td>\n",
       "      <td>271944</td>\n",
       "      <td>1</td>\n",
       "      <td>1</td>\n",
       "      <td>2</td>\n",
       "      <td>996</td>\n",
       "      <td>209.160</td>\n",
       "      <td>2201.160</td>\n",
       "      <td>e-Shop</td>\n",
       "      <td>Clothing</td>\n",
       "      <td>Women</td>\n",
       "      <td>2014</td>\n",
       "      <td>2014-02-12</td>\n",
       "      <td>1971-12-11</td>\n",
       "      <td>F</td>\n",
       "      <td>5.0</td>\n",
       "      <td>42</td>\n",
       "    </tr>\n",
       "  </tbody>\n",
       "</table>\n",
       "</div>"
      ],
      "text/plain": [
       "   transaction_id  cust_id  prod_subcat_code  prod_cat_code  Qty  Rate  \\\n",
       "0     80712190438   270351                 1              1   -5  -772   \n",
       "1     80712190438   270351                 1              1    5   772   \n",
       "2     73713102191   268867                 1              1    1   714   \n",
       "3     57134739558   270625                 1              1    5   595   \n",
       "4     79536458466   271944                 1              1    2   996   \n",
       "\n",
       "       Tax  total_amt Store_type  prod_cat prod_subcat  year tran_date_dt  \\\n",
       "0  405.300  -4265.300     e-Shop  Clothing       Women  2014   2014-02-28   \n",
       "1  405.300   4265.300     e-Shop  Clothing       Women  2014   2014-02-20   \n",
       "2   74.970    788.970        MBR  Clothing       Women  2014   2014-02-15   \n",
       "3  312.375   3287.375   TeleShop  Clothing       Women  2014   2014-02-14   \n",
       "4  209.160   2201.160     e-Shop  Clothing       Women  2014   2014-02-12   \n",
       "\n",
       "         DOB Gender city_code  age  \n",
       "0 1981-09-26      M       5.0   32  \n",
       "1 1981-09-26      M       5.0   32  \n",
       "2 1987-10-24      F       4.0   26  \n",
       "3 1992-02-03      M       6.0   22  \n",
       "4 1971-12-11      F       5.0   42  "
      ]
     },
     "execution_count": 29,
     "metadata": {},
     "output_type": "execute_result"
    }
   ],
   "source": [
    "df.head()"
   ]
  },
  {
   "cell_type": "markdown",
   "metadata": {
    "colab_type": "text",
    "id": "5s5P46A970JE"
   },
   "source": [
    "---"
   ]
  },
  {
   "cell_type": "code",
   "execution_count": 30,
   "metadata": {
    "execution": {
     "iopub.execute_input": "2025-02-18T19:38:59.389707Z",
     "iopub.status.busy": "2025-02-18T19:38:59.389707Z",
     "iopub.status.idle": "2025-02-18T19:38:59.396224Z",
     "shell.execute_reply": "2025-02-18T19:38:59.396224Z",
     "shell.execute_reply.started": "2025-02-18T19:38:59.389707Z"
    }
   },
   "outputs": [],
   "source": [
    "tmp = df.head().copy()"
   ]
  },
  {
   "cell_type": "code",
   "execution_count": 34,
   "metadata": {
    "execution": {
     "iopub.execute_input": "2025-02-18T19:41:37.021397Z",
     "iopub.status.busy": "2025-02-18T19:41:37.020397Z",
     "iopub.status.idle": "2025-02-18T19:41:37.034478Z",
     "shell.execute_reply": "2025-02-18T19:41:37.034478Z",
     "shell.execute_reply.started": "2025-02-18T19:41:37.021397Z"
    }
   },
   "outputs": [
    {
     "name": "stdout",
     "output_type": "stream",
     "text": [
      "1\n",
      "32\n",
      "2\n",
      "32\n",
      "3\n",
      "26\n",
      "4\n",
      "22\n",
      "5\n",
      "42\n"
     ]
    }
   ],
   "source": [
    "i=0\n",
    "for tr, dob in zip(tmp['tran_date_dt'], tmp['DOB']):\n",
    "    i+=1\n",
    "    print(i)\n",
    "    print(relativedelta(tr, dob).years)"
   ]
  },
  {
   "cell_type": "markdown",
   "metadata": {
    "colab_type": "text",
    "id": "5s5P46A970JE"
   },
   "source": [
    "---"
   ]
  },
  {
   "cell_type": "markdown",
   "metadata": {},
   "source": [
    "## Visualização - variáveis categóricas"
   ]
  },
  {
   "cell_type": "markdown",
   "metadata": {},
   "source": [
    "Número de transações por Categoria de produto:"
   ]
  },
  {
   "cell_type": "code",
   "execution_count": 39,
   "metadata": {
    "execution": {
     "iopub.execute_input": "2025-02-18T19:46:10.967426Z",
     "iopub.status.busy": "2025-02-18T19:46:10.967426Z",
     "iopub.status.idle": "2025-02-18T19:46:10.988796Z",
     "shell.execute_reply": "2025-02-18T19:46:10.988796Z",
     "shell.execute_reply.started": "2025-02-18T19:46:10.967426Z"
    }
   },
   "outputs": [
    {
     "data": {
      "text/plain": [
       "prod_cat\n",
       "Bags                1959\n",
       "Clothing            2918\n",
       "Footwear            2946\n",
       "Home and kitchen    4062\n",
       "Electronics         4839\n",
       "Books               5979\n",
       "Name: count, dtype: int64"
      ]
     },
     "execution_count": 39,
     "metadata": {},
     "output_type": "execute_result"
    }
   ],
   "source": [
    "df['prod_cat'].value_counts().sort_values()"
   ]
  },
  {
   "cell_type": "code",
   "execution_count": 36,
   "metadata": {
    "colab": {},
    "colab_type": "code",
    "execution": {
     "iopub.execute_input": "2025-02-18T19:43:20.024769Z",
     "iopub.status.busy": "2025-02-18T19:43:20.023778Z",
     "iopub.status.idle": "2025-02-18T19:43:20.283428Z",
     "shell.execute_reply": "2025-02-18T19:43:20.282436Z",
     "shell.execute_reply.started": "2025-02-18T19:43:20.023778Z"
    },
    "id": "-Ih_4dDK70JE",
    "outputId": "6a675045-ca08-40b3-ef90-3fcd26ecb571"
   },
   "outputs": [
    {
     "data": {
      "image/png": "[encoded data removed]",
      "text/plain": [
       "<Figure size 640x480 with 1 Axes>"
      ]
     },
     "metadata": {},
     "output_type": "display_data"
    }
   ],
   "source": [
    "df['prod_cat'].value_counts().plot.pie()\n",
    "plt.show()"
   ]
  },
  {
   "cell_type": "markdown",
   "metadata": {},
   "source": [
    "Podemos fazer melhor?"
   ]
  },
  {
   "cell_type": "code",
   "execution_count": 37,
   "metadata": {
    "colab": {},
    "colab_type": "code",
    "execution": {
     "iopub.execute_input": "2025-02-18T19:44:15.229155Z",
     "iopub.status.busy": "2025-02-18T19:44:15.229155Z",
     "iopub.status.idle": "2025-02-18T19:44:15.345852Z",
     "shell.execute_reply": "2025-02-18T19:44:15.344852Z",
     "shell.execute_reply.started": "2025-02-18T19:44:15.229155Z"
    },
    "id": "cVyHGqVc70JK",
    "outputId": "9695d721-ccb1-4f5c-9ece-27cfda3acf1c"
   },
   "outputs": [
    {
     "data": {
      "image/png": "[encoded data removed]",
      "text/plain": [
       "<Figure size 640x480 with 1 Axes>"
      ]
     },
     "metadata": {},
     "output_type": "display_data"
    }
   ],
   "source": [
    "df['prod_cat'].value_counts().sort_values().plot.pie(autopct='%.1f%%', startangle=90)\n",
    "plt.ylabel(None)\n",
    "plt.show()"
   ]
  },
  {
   "cell_type": "markdown",
   "metadata": {
    "colab_type": "text",
    "id": "yf5xqiFv70JP"
   },
   "source": [
    "Opções:\n",
    "- Colocar título, melhorar cores, cor, colocação e tamanho dos textos...\n",
    "- Fazer [ainda] melhor :)\n",
    "\n",
    "http://python-graph-gallery.com/pie-plot/\n",
    "\n",
    "https://en.wikipedia.org/wiki/Pie_chart#/media/File:Piecharts.svg"
   ]
  },
  {
   "cell_type": "code",
   "execution_count": 43,
   "metadata": {
    "execution": {
     "iopub.execute_input": "2025-02-18T19:52:55.918021Z",
     "iopub.status.busy": "2025-02-18T19:52:55.917020Z",
     "iopub.status.idle": "2025-02-18T19:52:56.120887Z",
     "shell.execute_reply": "2025-02-18T19:52:56.120887Z",
     "shell.execute_reply.started": "2025-02-18T19:52:55.918021Z"
    }
   },
   "outputs": [
    {
     "data": {
      "text/plain": [
       "<Axes: xlabel='count', ylabel='prod_cat'>"
      ]
     },
     "execution_count": 43,
     "metadata": {},
     "output_type": "execute_result"
    },
    {
     "data": {
      "image/png": "[encoded data removed]",
      "text/plain": [
       "<Figure size 640x480 with 1 Axes>"
      ]
     },
     "metadata": {},
     "output_type": "display_data"
    }
   ],
   "source": [
    "sns.countplot(data=df, y='prod_cat')"
   ]
  },
  {
   "cell_type": "code",
   "execution_count": 41,
   "metadata": {
    "colab": {},
    "colab_type": "code",
    "execution": {
     "iopub.execute_input": "2025-02-18T19:50:29.649956Z",
     "iopub.status.busy": "2025-02-18T19:50:29.649364Z",
     "iopub.status.idle": "2025-02-18T19:50:29.670069Z",
     "shell.execute_reply": "2025-02-18T19:50:29.669062Z",
     "shell.execute_reply.started": "2025-02-18T19:50:29.649956Z"
    },
    "id": "PjphHVyc70JP",
    "outputId": "66ab4a38-fde0-4e26-8336-3a4d2c24b861"
   },
   "outputs": [
    {
     "data": {
      "text/plain": [
       "prod_cat\n",
       "Books               5979\n",
       "Electronics         4839\n",
       "Home and kitchen    4062\n",
       "Footwear            2946\n",
       "Clothing            2918\n",
       "Bags                1959\n",
       "Name: count, dtype: int64"
      ]
     },
     "execution_count": 41,
     "metadata": {},
     "output_type": "execute_result"
    }
   ],
   "source": [
    "tmp = df['prod_cat'].value_counts()\n",
    "tmp#.index"
   ]
  },
  {
   "cell_type": "code",
   "execution_count": 42,
   "metadata": {
    "colab": {},
    "colab_type": "code",
    "execution": {
     "iopub.execute_input": "2025-02-18T19:50:30.017000Z",
     "iopub.status.busy": "2025-02-18T19:50:30.017000Z",
     "iopub.status.idle": "2025-02-18T19:50:30.209702Z",
     "shell.execute_reply": "2025-02-18T19:50:30.209702Z",
     "shell.execute_reply.started": "2025-02-18T19:50:30.017000Z"
    },
    "id": "kcovE2N-70JU",
    "outputId": "9949622e-c6d3-4efa-f9e0-d26993ef96d6"
   },
   "outputs": [
    {
     "data": {
      "image/png": "[encoded data removed]",
      "text/plain": [
       "<Figure size 1500x600 with 1 Axes>"
      ]
     },
     "metadata": {},
     "output_type": "display_data"
    }
   ],
   "source": [
    "plt.figure(figsize=(15, 6))\n",
    "sns.barplot(x=tmp, y=tmp.index, color='dodgerblue')\n",
    "plt.grid(axis='x', color='w', alpha=0.6)\n",
    "plt.title('Número de transacções por categoria', loc='left')\n",
    "plt.xlabel('N.º Transacções')\n",
    "plt.ylabel(None)\n",
    "plt.show()"
   ]
  },
  {
   "cell_type": "markdown",
   "metadata": {
    "colab_type": "text",
    "id": "UwWZCE2L70Jd"
   },
   "source": [
    "---"
   ]
  },
  {
   "cell_type": "code",
   "execution_count": 44,
   "metadata": {
    "execution": {
     "iopub.execute_input": "2025-02-18T20:02:20.669032Z",
     "iopub.status.busy": "2025-02-18T20:02:20.669032Z",
     "iopub.status.idle": "2025-02-18T20:02:20.683989Z",
     "shell.execute_reply": "2025-02-18T20:02:20.682992Z",
     "shell.execute_reply.started": "2025-02-18T20:02:20.669032Z"
    }
   },
   "outputs": [
    {
     "data": {
      "text/plain": [
       "count                            22703\n",
       "mean     2012-08-09 01:27:12.788618240\n",
       "min                2011-01-25 00:00:00\n",
       "25%                2011-11-02 00:00:00\n",
       "50%                2012-08-11 00:00:00\n",
       "75%                2013-05-17 00:00:00\n",
       "max                2014-02-28 00:00:00\n",
       "Name: tran_date_dt, dtype: object"
      ]
     },
     "execution_count": 44,
     "metadata": {},
     "output_type": "execute_result"
    }
   ],
   "source": [
    "df[\"tran_date_dt\"].describe()"
   ]
  },
  {
   "cell_type": "markdown",
   "metadata": {
    "colab_type": "text",
    "id": "KJwgMzHT70Js"
   },
   "source": [
    "Quantidade de artigos devolvidos por mês"
   ]
  },
  {
   "cell_type": "code",
   "execution_count": 45,
   "metadata": {
    "execution": {
     "iopub.execute_input": "2025-02-18T20:02:33.679733Z",
     "iopub.status.busy": "2025-02-18T20:02:33.679733Z",
     "iopub.status.idle": "2025-02-18T20:02:33.702955Z",
     "shell.execute_reply": "2025-02-18T20:02:33.701993Z",
     "shell.execute_reply.started": "2025-02-18T20:02:33.679733Z"
    }
   },
   "outputs": [
    {
     "data": {
      "text/html": [
       "<div>\n",
       "<style scoped>\n",
       "    .dataframe tbody tr th:only-of-type {\n",
       "        vertical-align: middle;\n",
       "    }\n",
       "\n",
       "    .dataframe tbody tr th {\n",
       "        vertical-align: top;\n",
       "    }\n",
       "\n",
       "    .dataframe thead th {\n",
       "        text-align: right;\n",
       "    }\n",
       "</style>\n",
       "<table border=\"1\" class=\"dataframe\">\n",
       "  <thead>\n",
       "    <tr style=\"text-align: right;\">\n",
       "      <th></th>\n",
       "      <th>transaction_id</th>\n",
       "      <th>cust_id</th>\n",
       "      <th>prod_subcat_code</th>\n",
       "      <th>prod_cat_code</th>\n",
       "      <th>Qty</th>\n",
       "      <th>Rate</th>\n",
       "      <th>Tax</th>\n",
       "      <th>total_amt</th>\n",
       "      <th>Store_type</th>\n",
       "      <th>prod_cat</th>\n",
       "      <th>prod_subcat</th>\n",
       "      <th>year</th>\n",
       "      <th>tran_date_dt</th>\n",
       "      <th>DOB</th>\n",
       "      <th>Gender</th>\n",
       "      <th>city_code</th>\n",
       "      <th>age</th>\n",
       "    </tr>\n",
       "  </thead>\n",
       "  <tbody>\n",
       "    <tr>\n",
       "      <th>0</th>\n",
       "      <td>80712190438</td>\n",
       "      <td>270351</td>\n",
       "      <td>1</td>\n",
       "      <td>1</td>\n",
       "      <td>-5</td>\n",
       "      <td>-772</td>\n",
       "      <td>405.300</td>\n",
       "      <td>-4265.300</td>\n",
       "      <td>e-Shop</td>\n",
       "      <td>Clothing</td>\n",
       "      <td>Women</td>\n",
       "      <td>2014</td>\n",
       "      <td>2014-02-28</td>\n",
       "      <td>1981-09-26</td>\n",
       "      <td>M</td>\n",
       "      <td>5.0</td>\n",
       "      <td>32</td>\n",
       "    </tr>\n",
       "    <tr>\n",
       "      <th>1</th>\n",
       "      <td>80712190438</td>\n",
       "      <td>270351</td>\n",
       "      <td>1</td>\n",
       "      <td>1</td>\n",
       "      <td>5</td>\n",
       "      <td>772</td>\n",
       "      <td>405.300</td>\n",
       "      <td>4265.300</td>\n",
       "      <td>e-Shop</td>\n",
       "      <td>Clothing</td>\n",
       "      <td>Women</td>\n",
       "      <td>2014</td>\n",
       "      <td>2014-02-20</td>\n",
       "      <td>1981-09-26</td>\n",
       "      <td>M</td>\n",
       "      <td>5.0</td>\n",
       "      <td>32</td>\n",
       "    </tr>\n",
       "    <tr>\n",
       "      <th>2</th>\n",
       "      <td>73713102191</td>\n",
       "      <td>268867</td>\n",
       "      <td>1</td>\n",
       "      <td>1</td>\n",
       "      <td>1</td>\n",
       "      <td>714</td>\n",
       "      <td>74.970</td>\n",
       "      <td>788.970</td>\n",
       "      <td>MBR</td>\n",
       "      <td>Clothing</td>\n",
       "      <td>Women</td>\n",
       "      <td>2014</td>\n",
       "      <td>2014-02-15</td>\n",
       "      <td>1987-10-24</td>\n",
       "      <td>F</td>\n",
       "      <td>4.0</td>\n",
       "      <td>26</td>\n",
       "    </tr>\n",
       "    <tr>\n",
       "      <th>3</th>\n",
       "      <td>57134739558</td>\n",
       "      <td>270625</td>\n",
       "      <td>1</td>\n",
       "      <td>1</td>\n",
       "      <td>5</td>\n",
       "      <td>595</td>\n",
       "      <td>312.375</td>\n",
       "      <td>3287.375</td>\n",
       "      <td>TeleShop</td>\n",
       "      <td>Clothing</td>\n",
       "      <td>Women</td>\n",
       "      <td>2014</td>\n",
       "      <td>2014-02-14</td>\n",
       "      <td>1992-02-03</td>\n",
       "      <td>M</td>\n",
       "      <td>6.0</td>\n",
       "      <td>22</td>\n",
       "    </tr>\n",
       "    <tr>\n",
       "      <th>4</th>\n",
       "      <td>79536458466</td>\n",
       "      <td>271944</td>\n",
       "      <td>1</td>\n",
       "      <td>1</td>\n",
       "      <td>2</td>\n",
       "      <td>996</td>\n",
       "      <td>209.160</td>\n",
       "      <td>2201.160</td>\n",
       "      <td>e-Shop</td>\n",
       "      <td>Clothing</td>\n",
       "      <td>Women</td>\n",
       "      <td>2014</td>\n",
       "      <td>2014-02-12</td>\n",
       "      <td>1971-12-11</td>\n",
       "      <td>F</td>\n",
       "      <td>5.0</td>\n",
       "      <td>42</td>\n",
       "    </tr>\n",
       "  </tbody>\n",
       "</table>\n",
       "</div>"
      ],
      "text/plain": [
       "   transaction_id  cust_id  prod_subcat_code  prod_cat_code  Qty  Rate  \\\n",
       "0     80712190438   270351                 1              1   -5  -772   \n",
       "1     80712190438   270351                 1              1    5   772   \n",
       "2     73713102191   268867                 1              1    1   714   \n",
       "3     57134739558   270625                 1              1    5   595   \n",
       "4     79536458466   271944                 1              1    2   996   \n",
       "\n",
       "       Tax  total_amt Store_type  prod_cat prod_subcat  year tran_date_dt  \\\n",
       "0  405.300  -4265.300     e-Shop  Clothing       Women  2014   2014-02-28   \n",
       "1  405.300   4265.300     e-Shop  Clothing       Women  2014   2014-02-20   \n",
       "2   74.970    788.970        MBR  Clothing       Women  2014   2014-02-15   \n",
       "3  312.375   3287.375   TeleShop  Clothing       Women  2014   2014-02-14   \n",
       "4  209.160   2201.160     e-Shop  Clothing       Women  2014   2014-02-12   \n",
       "\n",
       "         DOB Gender city_code  age  \n",
       "0 1981-09-26      M       5.0   32  \n",
       "1 1981-09-26      M       5.0   32  \n",
       "2 1987-10-24      F       4.0   26  \n",
       "3 1992-02-03      M       6.0   22  \n",
       "4 1971-12-11      F       5.0   42  "
      ]
     },
     "execution_count": 45,
     "metadata": {},
     "output_type": "execute_result"
    }
   ],
   "source": [
    "df.head()"
   ]
  },
  {
   "cell_type": "markdown",
   "metadata": {
    "colab_type": "text",
    "id": "80DzSSZj70Jt"
   },
   "source": [
    "https://matplotlib.org/stable/users/explain/text/annotations.html"
   ]
  },
  {
   "cell_type": "code",
   "execution_count": 57,
   "metadata": {
    "execution": {
     "iopub.execute_input": "2025-02-18T20:10:24.998228Z",
     "iopub.status.busy": "2025-02-18T20:10:24.998228Z",
     "iopub.status.idle": "2025-02-18T20:10:25.011814Z",
     "shell.execute_reply": "2025-02-18T20:10:25.010745Z",
     "shell.execute_reply.started": "2025-02-18T20:10:24.998228Z"
    }
   },
   "outputs": [],
   "source": [
    "# df[df['Qty']<0].groupby(pd.Grouper(key='tran_date_dt', freq='1M'))['Qty'].sum()*-1"
   ]
  },
  {
   "cell_type": "code",
   "execution_count": 75,
   "metadata": {
    "colab": {},
    "colab_type": "code",
    "execution": {
     "iopub.execute_input": "2025-02-18T20:23:22.721765Z",
     "iopub.status.busy": "2025-02-18T20:23:22.720770Z",
     "iopub.status.idle": "2025-02-18T20:23:22.999417Z",
     "shell.execute_reply": "2025-02-18T20:23:22.998446Z",
     "shell.execute_reply.started": "2025-02-18T20:23:22.721765Z"
    },
    "id": "eM3jmmbY70Jy",
    "outputId": "0bbc9bbe-a359-4774-a974-f7a1a57796d3"
   },
   "outputs": [
    {
     "data": {
      "image/png": "[encoded data removed]",
      "text/plain": [
       "<Figure size 1500x800 with 1 Axes>"
      ]
     },
     "metadata": {},
     "output_type": "display_data"
    }
   ],
   "source": [
    "tmp = (df[df['Qty']<0].groupby(pd.Grouper(key='tran_date_dt', freq='1M'))['Qty'].sum()*-1)\n",
    "\n",
    "plt.figure(figsize=(15, 8))\n",
    "tmp.plot()\n",
    "plt.title('Quantidade de produtos devolvidos por mês', loc='left', fontdict=dict(fontweight='bold'))\n",
    "sns.despine(left=True)\n",
    "# plt.tick_params(axis='x', which='minor', bottom=False)\n",
    "plt.annotate(\"Mês incompleto\",\n",
    "             xy=(tmp.idxmin(), tmp.min()), # ponto a destacar\n",
    "             # xy=(pd.to_datetime('2011-01-31'), 18), # ponto a destacar\n",
    "             # xy=(0.5, 0.5), # ponto a destacar\n",
    "             # xycoords='axes fraction',\n",
    "             # xycoords='data', # porque o xy se refere aos dados\n",
    "             xytext=(35, 25), # posição do texto\n",
    "             textcoords='offset points', # a partir no ponto destacado\n",
    "             arrowprops=dict(color='#555555', arrowstyle='->'),\n",
    "             color='#555555'\n",
    "            )\n",
    "plt.xlabel('')\n",
    "plt.ylabel('n.º devoluções')\n",
    "plt.ylim(0)\n",
    "# plt.savefig('prod_dev_mes.png')\n",
    "plt.show()"
   ]
  },
  {
   "cell_type": "code",
   "execution_count": null,
   "metadata": {},
   "outputs": [],
   "source": [
    "tmp.idxmin(), tmp.min()"
   ]
  },
  {
   "cell_type": "code",
   "execution_count": 94,
   "metadata": {
    "execution": {
     "iopub.execute_input": "2025-02-18T20:42:39.722416Z",
     "iopub.status.busy": "2025-02-18T20:42:39.722416Z",
     "iopub.status.idle": "2025-02-18T20:42:39.738917Z",
     "shell.execute_reply": "2025-02-18T20:42:39.737915Z",
     "shell.execute_reply.started": "2025-02-18T20:42:39.722416Z"
    }
   },
   "outputs": [],
   "source": [
    "tmp = df['prod_cat'].value_counts()# normalize=True,"
   ]
  },
  {
   "cell_type": "code",
   "execution_count": 89,
   "metadata": {
    "execution": {
     "iopub.execute_input": "2025-02-18T20:38:59.711993Z",
     "iopub.status.busy": "2025-02-18T20:38:59.711993Z",
     "iopub.status.idle": "2025-02-18T20:38:59.732040Z",
     "shell.execute_reply": "2025-02-18T20:38:59.731041Z",
     "shell.execute_reply.started": "2025-02-18T20:38:59.711993Z"
    }
   },
   "outputs": [
    {
     "data": {
      "text/plain": [
       "prod_cat\n",
       "Books               0.263357\n",
       "Electronics         0.213144\n",
       "Home and kitchen    0.178919\n",
       "Footwear            0.129763\n",
       "Clothing            0.128529\n",
       "Bags                0.086288\n",
       "Name: proportion, dtype: float64"
      ]
     },
     "execution_count": 89,
     "metadata": {},
     "output_type": "execute_result"
    }
   ],
   "source": [
    "tmp"
   ]
  },
  {
   "cell_type": "code",
   "execution_count": 84,
   "metadata": {
    "execution": {
     "iopub.execute_input": "2025-02-18T20:34:39.030778Z",
     "iopub.status.busy": "2025-02-18T20:34:39.029778Z",
     "iopub.status.idle": "2025-02-18T20:34:39.040825Z",
     "shell.execute_reply": "2025-02-18T20:34:39.040825Z",
     "shell.execute_reply.started": "2025-02-18T20:34:39.030778Z"
    }
   },
   "outputs": [
    {
     "name": "stdout",
     "output_type": "stream",
     "text": [
      "('Books', 5979)\n",
      "('Electronics', 4839)\n",
      "('Home and kitchen', 4062)\n",
      "('Footwear', 2946)\n",
      "('Clothing', 2918)\n",
      "('Bags', 1959)\n"
     ]
    }
   ],
   "source": [
    "for i in tmp.items():\n",
    "    print(i)"
   ]
  },
  {
   "cell_type": "code",
   "execution_count": 95,
   "metadata": {
    "colab": {},
    "colab_type": "code",
    "execution": {
     "iopub.execute_input": "2025-02-18T20:42:42.981257Z",
     "iopub.status.busy": "2025-02-18T20:42:42.981257Z",
     "iopub.status.idle": "2025-02-18T20:42:43.222241Z",
     "shell.execute_reply": "2025-02-18T20:42:43.221245Z",
     "shell.execute_reply.started": "2025-02-18T20:42:42.981257Z"
    },
    "id": "rtnO3s_A70J2",
    "outputId": "a5723704-1624-49b4-db20-04601b830901"
   },
   "outputs": [
    {
     "data": {
      "image/png": "[encoded data removed]",
      "text/plain": [
       "<Figure size 2000x1000 with 1 Axes>"
      ]
     },
     "metadata": {},
     "output_type": "display_data"
    }
   ],
   "source": [
    "fig = plt.figure(figsize=(20, 10)) \n",
    "sns.barplot(x=tmp, y=tmp.index, color='dodgerblue')\n",
    "# labels - não vi melhor forma de fazer esta parte - adicionar para cada categoria num loop\n",
    "# plt.text(5979, 'Books', '5979', ha=\"right\")\n",
    "for i, v in tmp.items():\n",
    "    plt.text(v+20, i, v, color='black', ha=\"left\")\n",
    "    # plt.text(v, i, f'{v:.1%} ', color='white', ha=\"right\")\n",
    "plt.title('Número de transacções por categoria', loc='left', fontdict=dict(fontweight='bold'))\n",
    "plt.xlabel(None)\n",
    "plt.ylabel(None)\n",
    "plt.tick_params(axis='both', which='major', left=False, bottom=False, labelbottom=False)\n",
    "sns.despine(left=True, bottom=True)\n",
    "plt.show()"
   ]
  },
  {
   "cell_type": "markdown",
   "metadata": {},
   "source": [
    "---"
   ]
  }
 ],
 "metadata": {
  "colab": {
   "name": "0.graficos_aula.ipynb",
   "provenance": []
  },
  "kernelspec": {
   "display_name": "Python 3 (ipykernel)",
   "language": "python",
   "name": "python3"
  },
  "language_info": {
   "codemirror_mode": {
    "name": "ipython",
    "version": 3
   },
   "file_extension": ".py",
   "mimetype": "text/x-python",
   "name": "python",
   "nbconvert_exporter": "python",
   "pygments_lexer": "ipython3",
   "version": "3.8.20"
  }
 },
 "nbformat": 4,
 "nbformat_minor": 4
}
