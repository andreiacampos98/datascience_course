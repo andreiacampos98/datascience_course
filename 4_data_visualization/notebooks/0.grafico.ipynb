{
 "cells": [
  {
   "cell_type": "markdown",
   "metadata": {
    "colab_type": "text",
    "id": "TsUGQ8HJ70IO",
    "tags": []
   },
   "source": [
    "#  Visualização"
   ]
  },
  {
   "cell_type": "markdown",
   "metadata": {
    "colab_type": "text",
    "id": "z3eZU5gb70IQ"
   },
   "source": [
    "**Compondo gráficos, passo a passo**"
   ]
  },
  {
   "cell_type": "code",
   "execution_count": null,
   "metadata": {
    "colab": {},
    "colab_type": "code",
    "id": "U6vRIfPv70IR"
   },
   "outputs": [],
   "source": [
    "import os\n",
    "import pandas as pd\n",
    "from dateutil.relativedelta import relativedelta\n",
    "import matplotlib.pyplot as plt\n",
    "import seaborn as sns"
   ]
  },
  {
   "cell_type": "code",
   "execution_count": null,
   "metadata": {
    "colab": {},
    "colab_type": "code",
    "id": "XQQEDiS670IZ"
   },
   "outputs": [],
   "source": [
    "trans_df = pd.read_pickle(os.path.join('temp', 'df_eda.pkl'))"
   ]
  },
  {
   "cell_type": "code",
   "execution_count": null,
   "metadata": {
    "colab": {},
    "colab_type": "code",
    "id": "hxhJ2idj70Id"
   },
   "outputs": [],
   "source": [
    "cust_df = pd.read_pickle(os.path.join('temp', 'customer_eda.pkl'))"
   ]
  },
  {
   "cell_type": "code",
   "execution_count": null,
   "metadata": {
    "colab": {},
    "colab_type": "code",
    "id": "qC3mSFSe70Ii",
    "outputId": "c226afa3-3161-4071-ba5d-7fbb55e5e23b"
   },
   "outputs": [],
   "source": [
    "trans_df.info()"
   ]
  },
  {
   "cell_type": "code",
   "execution_count": null,
   "metadata": {
    "colab": {},
    "colab_type": "code",
    "id": "BCIMeqr670Ip",
    "outputId": "edeb77af-4385-4083-f87a-456031abc9ef"
   },
   "outputs": [],
   "source": [
    "cust_df.head(2)"
   ]
  },
  {
   "cell_type": "markdown",
   "metadata": {
    "colab_type": "text",
    "id": "7fePmq0A70Iv"
   },
   "source": [
    "Juntar informação de transações e cliente (recalcular idade à data da compra - **porquê**?)"
   ]
  },
  {
   "cell_type": "code",
   "execution_count": null,
   "metadata": {},
   "outputs": [],
   "source": [
    "cust_df.info()"
   ]
  },
  {
   "cell_type": "code",
   "execution_count": null,
   "metadata": {
    "colab": {},
    "colab_type": "code",
    "id": "CTYNjqNu70I0"
   },
   "outputs": [],
   "source": [
    "df = pd.merge(trans_df, cust_df, left_on='cust_id', right_on='customer_Id', how='left').drop(['customer_Id', 'tran_date'], axis=1)"
   ]
  },
  {
   "cell_type": "code",
   "execution_count": null,
   "metadata": {},
   "outputs": [],
   "source": [
    "df.shape"
   ]
  },
  {
   "cell_type": "markdown",
   "metadata": {},
   "source": [
    "---"
   ]
  },
  {
   "cell_type": "code",
   "execution_count": null,
   "metadata": {
    "colab": {},
    "colab_type": "code",
    "id": "x1r2CsTL70I7"
   },
   "outputs": [],
   "source": [
    "df['age'] = [relativedelta(tr, dob).years for tr, dob in zip(df.tran_date_dt, df.DOB)]"
   ]
  },
  {
   "cell_type": "markdown",
   "metadata": {
    "colab_type": "text",
    "id": "5s5P46A970JE"
   },
   "source": [
    "---"
   ]
  },
  {
   "cell_type": "markdown",
   "metadata": {},
   "source": [
    "## Visualização - variáveis categóricas"
   ]
  },
  {
   "cell_type": "markdown",
   "metadata": {},
   "source": [
    "Número de transações por Categoria de produto:"
   ]
  },
  {
   "cell_type": "code",
   "execution_count": null,
   "metadata": {},
   "outputs": [],
   "source": [
    "df['prod_cat'].value_counts()"
   ]
  },
  {
   "cell_type": "code",
   "execution_count": null,
   "metadata": {
    "colab": {},
    "colab_type": "code",
    "id": "-Ih_4dDK70JE",
    "outputId": "6a675045-ca08-40b3-ef90-3fcd26ecb571"
   },
   "outputs": [],
   "source": [
    "df['prod_cat'].value_counts().plot.pie()\n",
    "plt.show()"
   ]
  },
  {
   "cell_type": "markdown",
   "metadata": {},
   "source": [
    "Podemos fazer melhor?"
   ]
  },
  {
   "cell_type": "code",
   "execution_count": null,
   "metadata": {
    "colab": {},
    "colab_type": "code",
    "id": "cVyHGqVc70JK",
    "outputId": "9695d721-ccb1-4f5c-9ece-27cfda3acf1c"
   },
   "outputs": [],
   "source": [
    "df['prod_cat'].value_counts().sort_values().plot.pie(autopct='%.1f%%', startangle=90)\n",
    "plt.ylabel(None)\n",
    "plt.show()"
   ]
  },
  {
   "cell_type": "markdown",
   "metadata": {
    "colab_type": "text",
    "id": "yf5xqiFv70JP"
   },
   "source": [
    "Opções:\n",
    "- Colocar título, melhorar cores, cor, colocação e tamanho dos textos...\n",
    "- Fazer [ainda] melhor :)\n",
    "\n",
    "http://python-graph-gallery.com/pie-plot/\n",
    "\n",
    "https://en.wikipedia.org/wiki/Pie_chart#/media/File:Piecharts.svg"
   ]
  },
  {
   "cell_type": "code",
   "execution_count": null,
   "metadata": {
    "colab": {},
    "colab_type": "code",
    "id": "PjphHVyc70JP",
    "outputId": "66ab4a38-fde0-4e26-8336-3a4d2c24b861"
   },
   "outputs": [],
   "source": [
    "tmp = df['prod_cat'].value_counts()\n",
    "tmp#.index"
   ]
  },
  {
   "cell_type": "code",
   "execution_count": null,
   "metadata": {
    "colab": {},
    "colab_type": "code",
    "id": "kcovE2N-70JU",
    "outputId": "9949622e-c6d3-4efa-f9e0-d26993ef96d6"
   },
   "outputs": [],
   "source": [
    "sns.barplot(x=tmp, y=tmp.index, color='dodgerblue')\n",
    "plt.grid(axis='x', color='w', alpha=0.6)\n",
    "plt.title('Número de transacções por categoria', loc='left')\n",
    "plt.xlabel('N.º Transacções')\n",
    "plt.ylabel(None)\n",
    "plt.show()"
   ]
  },
  {
   "cell_type": "markdown",
   "metadata": {
    "colab_type": "text",
    "id": "UwWZCE2L70Jd"
   },
   "source": [
    "---"
   ]
  },
  {
   "cell_type": "markdown",
   "metadata": {
    "colab_type": "text",
    "id": "KJwgMzHT70Js"
   },
   "source": [
    "Quantidade de artigos devolvidos por mês"
   ]
  },
  {
   "cell_type": "markdown",
   "metadata": {
    "colab_type": "text",
    "id": "80DzSSZj70Jt"
   },
   "source": [
    "https://matplotlib.org/stable/users/explain/text/annotations.html"
   ]
  },
  {
   "cell_type": "code",
   "execution_count": null,
   "metadata": {
    "colab": {},
    "colab_type": "code",
    "id": "eM3jmmbY70Jy",
    "outputId": "0bbc9bbe-a359-4774-a974-f7a1a57796d3"
   },
   "outputs": [],
   "source": [
    "tmp = df[df['Qty']<0].groupby(pd.Grouper(key='tran_date_dt', freq='1ME'))['Qty'].sum()*-1\n",
    "\n",
    "plt.figure(figsize=(15, 8))\n",
    "tmp.plot()\n",
    "plt.title('Quantidade de produtos devolvidos por mês', loc='left', fontdict=dict(fontweight='bold'))\n",
    "sns.despine(left=True)\n",
    "plt.tick_params(axis='x', which='minor', bottom=False)\n",
    "plt.annotate(\"Mês incompleto\",\n",
    "             xy=(tmp.idxmin(), tmp.min()), # ponto a destacar\n",
    "             # xy=(pd.to_datetime('2011-01-31'), 18), # ponto a destacar\n",
    "             # xy=(0.5, 0.5), # ponto a destacar\n",
    "             # xycoords='axes fraction',\n",
    "             xycoords='data', # porque o xy se refere aos dados\n",
    "             xytext=(35, 25), # posição do texto\n",
    "             textcoords='offset points', # a partir no ponto destacado\n",
    "             arrowprops=dict(color='#555555', arrowstyle='->'),\n",
    "             color='#555555'\n",
    "            )\n",
    "plt.xlabel('')\n",
    "plt.ylabel('n.º devoluções')\n",
    "plt.ylim(0)\n",
    "# # plt.savefig('prod_dev_mes.png')\n",
    "plt.show()"
   ]
  },
  {
   "cell_type": "code",
   "execution_count": null,
   "metadata": {},
   "outputs": [],
   "source": [
    "(tmp.idxmin(), tmp.min())"
   ]
  },
  {
   "cell_type": "code",
   "execution_count": null,
   "metadata": {},
   "outputs": [],
   "source": [
    "df['prod_cat'].value_counts().reset_index()#.idxmax()"
   ]
  },
  {
   "cell_type": "code",
   "execution_count": null,
   "metadata": {},
   "outputs": [],
   "source": [
    "tmp = df['prod_cat'].value_counts()# normalize=True,"
   ]
  },
  {
   "cell_type": "code",
   "execution_count": null,
   "metadata": {
    "colab": {},
    "colab_type": "code",
    "id": "rtnO3s_A70J2",
    "outputId": "a5723704-1624-49b4-db20-04601b830901"
   },
   "outputs": [],
   "source": [
    "# fig = plt.figure(figsize=(20, 10)) \n",
    "sns.barplot(x=tmp, y=tmp.index, color='dodgerblue')\n",
    "# labels - não vi melhor forma de fazer esta parte - adicionar para cada categoria num loop\n",
    "# plt.text(5979, 'Books', '5979', ha=\"right\")\n",
    "for i, v in tmp.items():\n",
    "    plt.text(v+50, i, v, color='black', ha=\"left\")\n",
    "    # plt.text(v, i, f'{v:.1%} ', color='white', ha=\"right\")\n",
    "plt.title('Número de transacções por categoria', loc='left', fontdict=dict(fontweight='bold'))\n",
    "plt.xlabel(None)\n",
    "plt.ylabel(None)\n",
    "plt.tick_params(axis='both', which='major', left=False, bottom=False, labelbottom=False)\n",
    "sns.despine(left=True, bottom=True)\n",
    "plt.show()"
   ]
  },
  {
   "cell_type": "markdown",
   "metadata": {},
   "source": [
    "---"
   ]
  }
 ],
 "metadata": {
  "colab": {
   "name": "0.graficos_aula.ipynb",
   "provenance": []
  },
  "kernelspec": {
   "display_name": "Python 3 (ipykernel)",
   "language": "python",
   "name": "python3"
  },
  "language_info": {
   "codemirror_mode": {
    "name": "ipython",
    "version": 3
   },
   "file_extension": ".py",
   "mimetype": "text/x-python",
   "name": "python",
   "nbconvert_exporter": "python",
   "pygments_lexer": "ipython3",
   "version": "3.12.7"
  }
 },
 "nbformat": 4,
 "nbformat_minor": 4
}
