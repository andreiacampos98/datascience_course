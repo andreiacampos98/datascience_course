{
 "cells": [
  {
   "cell_type": "markdown",
   "metadata": {},
   "source": [
    "# Instruções"
   ]
  },
  {
   "cell_type": "markdown",
   "metadata": {},
   "source": [
    "<div class=\"alert alert-block alert-info\">\n",
    "ℹ️ Deve responder às questões no notebook entregue. O notebook deve correr até ao final sem erros dentro da pasta enviada, junto à pasta 'data' com os dados (podem testar com *Kernel->Restart Kernel and Run All Cells...*)\n",
    "\n",
    "Responda às questões e acrescente células com o código que for necessário.\n",
    "</div>"
   ]
  },
  {
   "cell_type": "markdown",
   "metadata": {},
   "source": [
    "<div class=\"alert alert-block alert-warning\">\n",
    "    ⚠️ <b>Data de entrega:</b> 02-03-2025 23:59<br>\n",
    "    Penalização de 0.5 valores por cada dia de atraso<br>\n",
    "    <b>Data final de aceitação:</b> 12-03-2025 23:59\n",
    "</div>"
   ]
  },
  {
   "cell_type": "markdown",
   "metadata": {},
   "source": [
    "# Visualização de dados - Avaliação"
   ]
  },
  {
   "cell_type": "markdown",
   "metadata": {},
   "source": [
    "# Q1\n",
    "A imagem abaixo, retirada da publicação, SEGURANÇA CONTRA INCÊNDIO EM EDIFÍCIOS - VÍTOR MARTINS PRIMO - Universidade Lusófona do Porto (\"**FIGURA 13** - Distribuição dos incêndios de acordo com a causa.\") deve ser melhorada. Critique-a e crie uma alternativa com os dados abaixo."
   ]
  },
  {
   "cell_type": "markdown",
   "metadata": {},
   "source": [
    "![incendios](img/incendios.png)"
   ]
  },
  {
   "cell_type": "code",
   "execution_count": 1,
   "metadata": {},
   "outputs": [
    {
     "data": {
      "text/html": [
       "<div>\n",
       "<style scoped>\n",
       "    .dataframe tbody tr th:only-of-type {\n",
       "        vertical-align: middle;\n",
       "    }\n",
       "\n",
       "    .dataframe tbody tr th {\n",
       "        vertical-align: top;\n",
       "    }\n",
       "\n",
       "    .dataframe thead th {\n",
       "        text-align: right;\n",
       "    }\n",
       "</style>\n",
       "<table border=\"1\" class=\"dataframe\">\n",
       "  <thead>\n",
       "    <tr style=\"text-align: right;\">\n",
       "      <th></th>\n",
       "      <th>causa</th>\n",
       "      <th>perc</th>\n",
       "    </tr>\n",
       "  </thead>\n",
       "  <tbody>\n",
       "    <tr>\n",
       "      <th>0</th>\n",
       "      <td>Acidental</td>\n",
       "      <td>0.09</td>\n",
       "    </tr>\n",
       "    <tr>\n",
       "      <th>1</th>\n",
       "      <td>Descuido</td>\n",
       "      <td>0.24</td>\n",
       "    </tr>\n",
       "    <tr>\n",
       "      <th>2</th>\n",
       "      <td>Intencional</td>\n",
       "      <td>0.01</td>\n",
       "    </tr>\n",
       "    <tr>\n",
       "      <th>3</th>\n",
       "      <td>Falso Alarme</td>\n",
       "      <td>0.08</td>\n",
       "    </tr>\n",
       "    <tr>\n",
       "      <th>4</th>\n",
       "      <td>Infundada</td>\n",
       "      <td>0.05</td>\n",
       "    </tr>\n",
       "    <tr>\n",
       "      <th>5</th>\n",
       "      <td>Indeterminada</td>\n",
       "      <td>0.34</td>\n",
       "    </tr>\n",
       "    <tr>\n",
       "      <th>6</th>\n",
       "      <td>Curto Circuito</td>\n",
       "      <td>0.19</td>\n",
       "    </tr>\n",
       "  </tbody>\n",
       "</table>\n",
       "</div>"
      ],
      "text/plain": [
       "            causa  perc\n",
       "0       Acidental  0.09\n",
       "1        Descuido  0.24\n",
       "2     Intencional  0.01\n",
       "3    Falso Alarme  0.08\n",
       "4       Infundada  0.05\n",
       "5   Indeterminada  0.34\n",
       "6  Curto Circuito  0.19"
      ]
     },
     "execution_count": 1,
     "metadata": {},
     "output_type": "execute_result"
    }
   ],
   "source": [
    "import pandas as pd\n",
    "\n",
    "df = pd.DataFrame([\n",
    "    ['Acidental', .09],\n",
    "    ['Descuido', .24],\n",
    "    ['Intencional', .01],\n",
    "    ['Falso Alarme', .08],\n",
    "    ['Infundada', .05],\n",
    "    ['Indeterminada', .34],\n",
    "    ['Curto Circuito', .19],\n",
    "], columns=['causa', 'perc'])\n",
    "\n",
    "df"
   ]
  },
  {
   "cell_type": "code",
   "execution_count": null,
   "metadata": {},
   "outputs": [],
   "source": []
  },
  {
   "cell_type": "markdown",
   "metadata": {},
   "source": [
    "**R:**\n"
   ]
  },
  {
   "cell_type": "markdown",
   "metadata": {},
   "source": [
    "---"
   ]
  },
  {
   "cell_type": "markdown",
   "metadata": {},
   "source": [
    "# Q2\n",
    "A imagem abaixo foi retirada da página de um município brasileiro, contendo dados acerca do combate à pandemia nesse local (fonte: https://www.cristais.mg.gov.br/portal/noticias/0/3/114/grafico-de-evolucao-do-covid-no-cenario-restritivo/).\n",
    "\n",
    "Comente o gráfico, a sua representação e dê sugestões de melhoria, se as tiver."
   ]
  },
  {
   "cell_type": "markdown",
   "metadata": {},
   "source": [
    "![cristais_mg](img/sms_cristais.jpg)"
   ]
  },
  {
   "cell_type": "markdown",
   "metadata": {},
   "source": [
    "**R:**\n"
   ]
  },
  {
   "cell_type": "markdown",
   "metadata": {},
   "source": [
    "---"
   ]
  },
  {
   "cell_type": "markdown",
   "metadata": {},
   "source": [
    "# Q3\n",
    "A imagem abaixo representa uma infografia publicada pelo ***Observatório das migrações***. Faça uma crítica construtiva à infografia, referindo tanto aspectos bem conseguidos como outros a melhorar, caso existam.\n",
    "Questões para ajudar a começar (mas não devem limitar-se às mesmas):\n",
    "- Qual o assunto da infografia? É facil perceber qual é?\n",
    "- A informação transmitida em cada 'parte' é clara?\n",
    "- O que funciona bem? O que mudariam?"
   ]
  },
  {
   "cell_type": "markdown",
   "metadata": {},
   "source": [
    "Original: [Infografia-OM-dez-2022](./Infografia-OM-dez-2022.pdf)"
   ]
  },
  {
   "cell_type": "markdown",
   "metadata": {},
   "source": [
    "![INS](img/infografia.jpg)"
   ]
  },
  {
   "cell_type": "markdown",
   "metadata": {},
   "source": [
    "**R:**\n"
   ]
  },
  {
   "cell_type": "markdown",
   "metadata": {},
   "source": [
    "---"
   ]
  },
  {
   "cell_type": "markdown",
   "metadata": {},
   "source": [
    "# Q4\n",
    "Partindo dos dados incluídos na pasta ```rain/rain_aus.zip```), crie um dashboard simples (min: 4 a 6 elementos) que transmita alguma informação seleccionada desse dataset.\n",
    "\n",
    "---\n",
    "Comece por definir o público-alvo, que informação e nível de detalhe faz sentido incluir, como é que vai apresentar a informação e avance para a criação do dashboard. Explique as decisões que levaram à criação desse dashboard em particular: qual o público-alvo, que decisões o dashboard deve ajudar a tomar, que horizonte temporal está a ser analisado, etc.\n",
    "\n",
    "---\n",
    "Pode optar por qualquer suporte, não sendo necessário utilizar qualquer software em particular. O dashboard poderá ser uma imagem com uma \"colagem\" de vários elementos. É, ainda assim, necessário enviar o código que utilizaram para obter esses elementos, para que seja possível reproduzir da minha parte. (Exemplo: Num dashboard que tenha um \"Número Total de Pacientes: XXXXX\" e algum gráfico, deverão enviar o código que usaram para saber o número XXXX e para criar o gráfico)\n",
    "\n",
    "---"
   ]
  },
  {
   "cell_type": "markdown",
   "metadata": {},
   "source": [
    "## Dataset\n",
    "O *dataset* contém cerca observações diárias da meteorologia de vários locais na Austrália. A variável que interessa prever é \"RainTomorrow\".\n",
    "Cada linha representa um dia, cada variável um atributo relativo ao clima ou localização.\n",
    "\n",
    "## Conteúdo\n",
    "Este conjunto de dados contém cerca de 10 anos de observações meteorológicas diárias de várias localidades da Austrália.\n",
    "*RainTomorrow* é a variável alvo a ser prevista. Significa -- choveu no dia seguinte, Sim ou Não? Esta coluna é *Yes* se a precipitação para aquele dia foi de 1mm ou mais.\n",
    "\n",
    "## Fonte\n",
    "Observações retiradas de variadas estações meteorológicas. As observações diárias estão disponíveis em http://www.bom.gov.au/climate/data.\n",
    "\n",
    "Definições das variáveis adaptadas de http://www.bom.gov.au/climate/dwo/IDCJDW0000.shtml"
   ]
  },
  {
   "cell_type": "markdown",
   "metadata": {},
   "source": [
    "---"
   ]
  },
  {
   "cell_type": "markdown",
   "metadata": {},
   "source": [
    "#### **Variáveis**:\n",
    "\n",
    "**Date:** Data de observação<br/>\n",
    "**Location:** Localidade da estação meteorológica<br/>\n",
    "**MinTemp:** Temperatura mínima (ºC)<br/>\n",
    "**MaxTemp:** Temperatura máxima (ºC)<br/>\n",
    "**Rainfall:** Precipitação em mm registada no dia<br/>\n",
    "**Evaporation:** Evaporação em tanque classe A (mm) em 24h, até às 9h<br/>\n",
    "**Sunshine:** Número de horas de sol durante o dia<br/>\n",
    "**WindGustDir:** Direção da maior rajada de vento<br/>\n",
    "**WindGustSpeed:** Velocidade da maior rajada de vento (Km/h)<br/>\n",
    "**WindDir9am:** Direção do vento às 9h<br/>\n",
    "**WindDir3pm:** Direção do vento às 15h<br/>\n",
    "**WindSpeed9am:** Velocidade do vento às 9h (média nos 10m anteriores)<br/>\n",
    "**WindSpeed3pm:** Velocidade do vento às 15h (média nos 10m anteriores)<br/>\n",
    "**Humidity9am:** Humidade às 9h (%)<br/>\n",
    "**Humidity3pm:** Humidade às 15h (%)<br/>\n",
    "**Pressure9am:** Pressão atmosférica comparável ao nível do mar às 9h (hpa)<br/>\n",
    "**Pressure3pm:** Pressão atmosférica comparável ao nível do mar às 15h (hpa)<br/>\n",
    "**Cloud9am:** Fração do céu coberta por nuvens às 9h (oktas\\*)<br/>\n",
    "**Cloud3pm:** Fração do céu coberta por nuvens às 15h (oktas\\*)<br/>\n",
    "**Temp9am:** Temperatura às 9h (ºC)<br/>\n",
    "**Temp3pm:** Temperatura às 15h (ºC)<br/>\n",
    "**RainToday:** \"Yes\" se a precipitação nas 24h anteriores às 9h exceder 1 mm. \"No\", caso contrário<br/>\n",
    "**RainTomorrow:** \"Yes\" se a precipitação no dia seguinte ao do registo for superior a 1mm. \"No\", caso contrário<br/>\n",
    "\n",
    "\\* Oktas: unidade de \"oitavos\". Mede quantos oitavos do céu estão cobertos por nuvens. 0 indica que o céu está completamente limpo e 8 que está completamente coberto."
   ]
  },
  {
   "cell_type": "markdown",
   "metadata": {},
   "source": [
    "**R:**\n"
   ]
  }
 ],
 "metadata": {
  "kernelspec": {
   "display_name": "Python 3 (ipykernel)",
   "language": "python",
   "name": "python3"
  },
  "language_info": {
   "codemirror_mode": {
    "name": "ipython",
    "version": 3
   },
   "file_extension": ".py",
   "mimetype": "text/x-python",
   "name": "python",
   "nbconvert_exporter": "python",
   "pygments_lexer": "ipython3",
   "version": "3.8.20"
  }
 },
 "nbformat": 4,
 "nbformat_minor": 4
}
