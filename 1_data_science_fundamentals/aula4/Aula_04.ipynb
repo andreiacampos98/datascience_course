{
  "nbformat": 4,
  "nbformat_minor": 0,
  "metadata": {
    "colab": {
      "provenance": [],
      "include_colab_link": true
    },
    "kernelspec": {
      "name": "python3",
      "display_name": "Python 3"
    },
    "language_info": {
      "name": "python"
    }
  },
  "cells": [
    {
      "cell_type": "markdown",
      "metadata": {
        "id": "view-in-github",
        "colab_type": "text"
      },
      "source": [
        "<a href=\"https://colab.research.google.com/github/andreiacampos98/datascience_course/blob/main/Aula_04.ipynb\" target=\"_parent\"><img src=\"https://colab.research.google.com/assets/colab-badge.svg\" alt=\"Open In Colab\"/></a>"
      ]
    },
    {
      "cell_type": "markdown",
      "source": [
        "# Introducao"
      ],
      "metadata": {
        "id": "wl8me1b8YdF8"
      }
    },
    {
      "cell_type": "code",
      "execution_count": null,
      "metadata": {
        "colab": {
          "base_uri": "https://localhost:8080/"
        },
        "id": "dIBklQjkSP7r",
        "outputId": "a6422ca7-a6da-4447-e817-a69b5c9ddc6f"
      },
      "outputs": [
        {
          "output_type": "stream",
          "name": "stdout",
          "text": [
            "Ola Rodrigo\n"
          ]
        }
      ],
      "source": [
        "nome = \"Rodrigo\"\n",
        "\n",
        "print('Ola', nome)"
      ]
    },
    {
      "cell_type": "code",
      "source": [
        "def hello(meu_nome):\n",
        "  print('Ola', meu_nome)\n"
      ],
      "metadata": {
        "id": "dF-bMAX7Sj7B"
      },
      "execution_count": null,
      "outputs": []
    },
    {
      "cell_type": "code",
      "source": [
        "hello(\"Paulo\")"
      ],
      "metadata": {
        "colab": {
          "base_uri": "https://localhost:8080/"
        },
        "id": "FOK0KA9DS43P",
        "outputId": "292b5767-c020-4ff6-af4c-db7ab42f00f4"
      },
      "execution_count": null,
      "outputs": [
        {
          "output_type": "stream",
          "name": "stdout",
          "text": [
            "Ola Paulo\n"
          ]
        }
      ]
    },
    {
      "cell_type": "code",
      "source": [
        "def hello(meu_nome, idade):\n",
        "  print('Ola',meu_nome,\" Sua idade é\", idade)"
      ],
      "metadata": {
        "id": "-wiQVH9kTZEi"
      },
      "execution_count": null,
      "outputs": []
    },
    {
      "cell_type": "code",
      "source": [
        "hello(\"Rodrigo\",31)"
      ],
      "metadata": {
        "colab": {
          "base_uri": "https://localhost:8080/"
        },
        "id": "o34aYsxUTlpo",
        "outputId": "e3074a89-c72a-4ec0-d47e-ba008c6e23b9"
      },
      "execution_count": null,
      "outputs": [
        {
          "output_type": "stream",
          "name": "stdout",
          "text": [
            "Ola Rodrigo  Sua idade é 31\n"
          ]
        }
      ]
    },
    {
      "cell_type": "code",
      "source": [
        "print()"
      ],
      "metadata": {
        "id": "E2iugK3GU0qr"
      },
      "execution_count": null,
      "outputs": []
    },
    {
      "cell_type": "markdown",
      "source": [
        "# Imposto\n",
        "\n",
        "![image.png](data:image/png;base64,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)"
      ],
      "metadata": {
        "id": "VbnZFkhjYffB"
      }
    },
    {
      "cell_type": "code",
      "source": [
        "salarios = [6000, 8000, 15000, 23000]\n",
        "\n",
        "impostos = []\n",
        "\n",
        "for salario in salarios:\n",
        "  if salario <=7112:\n",
        "    taxa = 0.145\n",
        "  elif salario <= 10732:\n",
        "    taxa = 0.23\n",
        "  elif salario <= 20322:\n",
        "    taxa = 0.285\n",
        "  elif salario <=25075:\n",
        "    taxa = 0.35\n",
        "  elif salario <= 36967:\n",
        "    taxa = 0.37\n",
        "  else:\n",
        "    taxa = 0.45\n",
        "\n",
        "  imposto = salario * taxa\n",
        "  impostos.append(imposto)\n",
        "\n",
        "for i in range(len(salarios)):\n",
        "  print(f\"Salário: {salarios[i]:.2f} - IRS: {impostos[i]:.2f}\")\n",
        "\n",
        "\n"
      ],
      "metadata": {
        "colab": {
          "base_uri": "https://localhost:8080/"
        },
        "id": "jTLK6ScyYknl",
        "outputId": "0b434f2b-2afc-4db4-ed94-89da5384230d"
      },
      "execution_count": null,
      "outputs": [
        {
          "output_type": "stream",
          "name": "stdout",
          "text": [
            "Salário: 6000.00 - IRS: 870.00\n",
            "Salário: 8000.00 - IRS: 1840.00\n",
            "Salário: 15000.00 - IRS: 4275.00\n",
            "Salário: 23000.00 - IRS: 8050.00\n"
          ]
        }
      ]
    },
    {
      "cell_type": "code",
      "source": [
        "def calcular_taxa(salario):\n",
        "  if salario <=7112:\n",
        "    return 0.145\n",
        "  elif salario <= 10732:\n",
        "    return 0.23\n",
        "  elif salario <= 20322:\n",
        "    return 0.285\n",
        "  elif salario <=25075:\n",
        "    return 0.35\n",
        "  elif salario <= 36967:\n",
        "    return 0.37\n",
        "  else:\n",
        "    return 0.45\n",
        "\n",
        "salarios = [6000, 8000, 15000, 23000]\n",
        "\n",
        "impostos = []\n",
        "\n",
        "for salario in salarios:\n",
        "  taxa = calcular_taxa(salario)\n",
        "  imposto = salario * taxa\n",
        "  impostos.append(imposto)\n",
        "\n",
        "for i in range(len(salarios)):\n",
        "  print(f\"Salário: {salarios[i]:.2f} - IRS: {impostos[i]:.2f}\")\n"
      ],
      "metadata": {
        "colab": {
          "base_uri": "https://localhost:8080/"
        },
        "id": "2U_qqXvndApV",
        "outputId": "52a97d3c-c29c-44cd-91d1-f81a8935a8c1"
      },
      "execution_count": null,
      "outputs": [
        {
          "output_type": "stream",
          "name": "stdout",
          "text": [
            "Salário: 6000.00 - IRS: 870.00\n",
            "Salário: 8000.00 - IRS: 1840.00\n",
            "Salário: 15000.00 - IRS: 4275.00\n",
            "Salário: 23000.00 - IRS: 8050.00\n"
          ]
        }
      ]
    },
    {
      "cell_type": "code",
      "source": [
        "def calcular_taxa(salario):\n",
        "  if salario <=7112:\n",
        "    return 0.145\n",
        "  elif salario <= 10732:\n",
        "    return 0.23\n",
        "  elif salario <= 20322:\n",
        "    return 0.285\n",
        "  elif salario <=25075:\n",
        "    return 0.35\n",
        "  elif salario <= 36967:\n",
        "    return 0.37\n",
        "  else:\n",
        "    return 0.45\n",
        "\n",
        "salarios = [6000, 8000, 15000, 23000]\n",
        "\n",
        "impostos = []\n",
        "\n",
        "impostos = [ salario * calcular_taxa(salario) for salario in salarios]\n",
        "\n",
        "for i in range(len(salarios)):\n",
        "  print(f\"Salário: {salarios[i]:.2f} - IRS: {impostos[i]:.2f}\")"
      ],
      "metadata": {
        "colab": {
          "base_uri": "https://localhost:8080/"
        },
        "id": "AAGuyJh7fvr_",
        "outputId": "6b824c23-62e8-49e7-f177-5deaafef7d3b"
      },
      "execution_count": null,
      "outputs": [
        {
          "output_type": "stream",
          "name": "stdout",
          "text": [
            "Salário: 6000.00 - IRS: 870.00\n",
            "Salário: 8000.00 - IRS: 1840.00\n",
            "Salário: 15000.00 - IRS: 4275.00\n",
            "Salário: 23000.00 - IRS: 8050.00\n"
          ]
        }
      ]
    },
    {
      "cell_type": "code",
      "source": [
        "def calcular_irs(salario):\n",
        "  if salario <=7112:\n",
        "    taxa = 0.145\n",
        "  elif salario <= 10732:\n",
        "    taxa = 0.23\n",
        "  elif salario <= 20322:\n",
        "    taxa = 0.285\n",
        "  elif salario <=25075:\n",
        "    taxa = 0.35\n",
        "  elif salario <= 36967:\n",
        "    taxa = 0.37\n",
        "  else:\n",
        "    taxa = 0.45\n",
        "  return salario * taxa\n",
        "\n",
        "salarios = [6000, 8000, 15000, 23000]\n",
        "\n",
        "impostos = []\n",
        "\n",
        "impostos = [calcular_irs(salario) for salario in salarios]\n",
        "\n",
        "for i in range(len(salarios)):\n",
        "  print(f\"Salário: {salarios[i]:.2f} - IRS: {impostos[i]:.2f}\")"
      ],
      "metadata": {
        "colab": {
          "base_uri": "https://localhost:8080/"
        },
        "id": "pBMIuZEDgUk1",
        "outputId": "08bc8bc0-4b06-472d-f71b-2a7417fcfa8f"
      },
      "execution_count": null,
      "outputs": [
        {
          "output_type": "stream",
          "name": "stdout",
          "text": [
            "Salário: 6000.00 - IRS: 870.00\n",
            "Salário: 8000.00 - IRS: 1840.00\n",
            "Salário: 15000.00 - IRS: 4275.00\n",
            "Salário: 23000.00 - IRS: 8050.00\n"
          ]
        }
      ]
    },
    {
      "cell_type": "code",
      "source": [
        "salarios = []\n",
        "while True:\n",
        "  entrada= input(\"Includa um salario (escreva sair para terminar): \")\n",
        "  if entrada.lower() == 'sair':\n",
        "    break\n",
        "  salario = float(entrada)\n",
        "  salarios.append(salario)\n",
        "\n",
        "resultado = [(salario, calcular_irs(salario)) for salario in salarios]\n",
        "\n",
        "for salario, irs in resultado:\n",
        "  print(f\"Salário: {salario:.2f} - IRS: {irs:.2f}\")"
      ],
      "metadata": {
        "colab": {
          "base_uri": "https://localhost:8080/"
        },
        "id": "NQcxELRdhwRM",
        "outputId": "b988bf60-49d7-49b2-d86a-7737b907e2bf"
      },
      "execution_count": null,
      "outputs": [
        {
          "output_type": "stream",
          "name": "stdout",
          "text": [
            "Includa um salario (escreva sair para terminar): 250000\n",
            "Includa um salario (escreva sair para terminar): sair\n",
            "Salário: 250000.00 - IRS: 112500.00\n"
          ]
        }
      ]
    },
    {
      "cell_type": "code",
      "source": [
        "def function (lista, target):\n",
        "  for i, value in enumerate(lista):\n",
        "    if value == target:\n",
        "      return i\n",
        "  return -1"
      ],
      "metadata": {
        "id": "OEKstfPhlfVm"
      },
      "execution_count": null,
      "outputs": []
    },
    {
      "cell_type": "code",
      "source": [
        "test_cases = [\n",
        "    ([1, 2, 3, 4, 5], 3),  # Elemento existe na lista\n",
        "    ([10, 20, 30, 40], 50),  # Elemento não existe na lista\n",
        "    ([7, 8, 9], 7),  # Elemento está no início da lista\n",
        "    ([100, 200, 300], 300),  # Elemento está no final da lista\n",
        "    ([], 5),  # Lista vazia\n",
        "]\n",
        "\n",
        "# Aplicando a função nos casos de teste\n",
        "results = {f\"lista: {lista}, target: {target}\": function(lista, target) for lista, target in test_cases}\n",
        "\n",
        "# Exibindo os resultados\n",
        "results"
      ],
      "metadata": {
        "colab": {
          "base_uri": "https://localhost:8080/"
        },
        "id": "6j-XLWp6llum",
        "outputId": "0e3c6b47-d588-464f-b4e0-266279874f23"
      },
      "execution_count": null,
      "outputs": [
        {
          "output_type": "execute_result",
          "data": {
            "text/plain": [
              "{'lista: [1, 2, 3, 4, 5], target: 3': 2,\n",
              " 'lista: [10, 20, 30, 40], target: 50': -1,\n",
              " 'lista: [7, 8, 9], target: 7': 0,\n",
              " 'lista: [100, 200, 300], target: 300': 2,\n",
              " 'lista: [], target: 5': -1}"
            ]
          },
          "metadata": {},
          "execution_count": 31
        }
      ]
    },
    {
      "cell_type": "markdown",
      "source": [
        "# Arg e Kwarg"
      ],
      "metadata": {
        "id": "EYbNH19jYldj"
      }
    },
    {
      "cell_type": "code",
      "source": [
        "def quadrado(numero):\n",
        "  return numero **2\n",
        "\n",
        "resultado = quadrado(4)\n",
        "print(resultado)"
      ],
      "metadata": {
        "colab": {
          "base_uri": "https://localhost:8080/"
        },
        "id": "TmoQxYhYYuhs",
        "outputId": "f38c9873-48e5-47e1-b8f8-5a40f8c4604f"
      },
      "execution_count": null,
      "outputs": [
        {
          "output_type": "stream",
          "name": "stdout",
          "text": [
            "16\n"
          ]
        }
      ]
    },
    {
      "cell_type": "code",
      "source": [
        "def mensagem_boas_vindas():\n",
        "  print(\"Bem-Vinda ao programa!\")\n",
        "\n",
        "mensagem_boas_vindas()"
      ],
      "metadata": {
        "colab": {
          "base_uri": "https://localhost:8080/"
        },
        "id": "8dLJrMBLnB32",
        "outputId": "69a4f42c-58a2-4958-ff3c-c140118b3606"
      },
      "execution_count": null,
      "outputs": [
        {
          "output_type": "stream",
          "name": "stdout",
          "text": [
            "Bem-Vinda ao programa!\n"
          ]
        }
      ]
    },
    {
      "cell_type": "code",
      "source": [
        "def soma_lista(lista):\n",
        "  return sum(lista)\n",
        "\n",
        "numero = [1,2,3,4]\n",
        "resultado = soma_lista(numero)\n",
        "\n",
        "print(resultado)"
      ],
      "metadata": {
        "colab": {
          "base_uri": "https://localhost:8080/"
        },
        "id": "0vQOyXc8nL0_",
        "outputId": "55ae6f0a-b070-4a60-f015-09144570bc8d"
      },
      "execution_count": null,
      "outputs": [
        {
          "output_type": "stream",
          "name": "stdout",
          "text": [
            "10\n"
          ]
        }
      ]
    },
    {
      "cell_type": "code",
      "source": [
        "def soma(a: int, b:int) -> int:\n",
        "  return a + b\n",
        "\n",
        "resultado = soma (3,4)\n",
        "print(resultado)"
      ],
      "metadata": {
        "colab": {
          "base_uri": "https://localhost:8080/"
        },
        "id": "wjRdZlvWnhUV",
        "outputId": "fcf04cc8-c6da-49c3-eb35-891e5a952b95"
      },
      "execution_count": null,
      "outputs": [
        {
          "output_type": "stream",
          "name": "stdout",
          "text": [
            "7\n"
          ]
        }
      ]
    },
    {
      "cell_type": "code",
      "source": [
        "def imprime_nome(nome1, nome2, *args):\n",
        "  return nome1, nome2, args\n",
        "\n",
        "objeto = imprime_nome(\"Rodrigo\", \"Paula\", \"Joana\", \"José\", \"Mariana\")\n",
        "\n",
        "print(objeto)"
      ],
      "metadata": {
        "colab": {
          "base_uri": "https://localhost:8080/"
        },
        "id": "4MdAjErDoE88",
        "outputId": "4f8a7747-1b23-4cb9-898c-2ed7c79d6c06"
      },
      "execution_count": null,
      "outputs": [
        {
          "output_type": "stream",
          "name": "stdout",
          "text": [
            "('Rodrigo', 'Paula', ('Joana', 'José', 'Mariana'))\n"
          ]
        }
      ]
    },
    {
      "cell_type": "markdown",
      "source": [
        "# Lambda"
      ],
      "metadata": {
        "id": "cxPjyljPYsuP"
      }
    },
    {
      "cell_type": "code",
      "source": [
        "preco = 500\n",
        "\n",
        "def calcular_imposto(preco):\n",
        "  return preco * 0.3\n",
        "\n",
        "print(calcular_imposto(preco))"
      ],
      "metadata": {
        "colab": {
          "base_uri": "https://localhost:8080/"
        },
        "id": "pqYcqu_vYu8k",
        "outputId": "c0ec24f2-dea2-468f-dd3f-f86e7958f446"
      },
      "execution_count": null,
      "outputs": [
        {
          "output_type": "stream",
          "name": "stdout",
          "text": [
            "150.0\n"
          ]
        }
      ]
    },
    {
      "cell_type": "code",
      "source": [
        "calcular_imposto2  = lambda preco : preco * 0.3\n",
        "\n",
        "print(calcular_imposto2(preco))"
      ],
      "metadata": {
        "colab": {
          "base_uri": "https://localhost:8080/"
        },
        "id": "kl3LYxbprBPa",
        "outputId": "fd5bf461-45e3-4104-e87e-87e38d4fa58a"
      },
      "execution_count": null,
      "outputs": [
        {
          "output_type": "stream",
          "name": "stdout",
          "text": [
            "150.0\n"
          ]
        }
      ]
    },
    {
      "cell_type": "code",
      "source": [
        "imposto = [100, 200, 300, 400]\n",
        "valor = map(lambda x: x*0.3, imposto)\n",
        "print(list(valor))"
      ],
      "metadata": {
        "colab": {
          "base_uri": "https://localhost:8080/"
        },
        "id": "ikzmF7LUr0yY",
        "outputId": "556fc11e-8c46-444e-debb-3f6f7f65556f"
      },
      "execution_count": null,
      "outputs": [
        {
          "output_type": "stream",
          "name": "stdout",
          "text": [
            "[30.0, 60.0, 90.0, 120.0]\n"
          ]
        }
      ]
    }
  ]
}