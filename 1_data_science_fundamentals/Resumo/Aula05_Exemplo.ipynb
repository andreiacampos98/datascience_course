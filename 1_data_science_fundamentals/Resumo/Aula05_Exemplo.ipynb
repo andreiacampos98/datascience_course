{
  "nbformat": 4,
  "nbformat_minor": 0,
  "metadata": {
    "colab": {
      "provenance": []
    },
    "kernelspec": {
      "name": "python3",
      "display_name": "Python 3"
    },
    "language_info": {
      "name": "python"
    }
  },
  "cells": [
    {
      "cell_type": "markdown",
      "source": [
        "# Pandas"
      ],
      "metadata": {
        "id": "HC9bqWc-FcMJ"
      }
    },
    {
      "cell_type": "markdown",
      "source": [],
      "metadata": {
        "id": "B3zyWBB6VrSp"
      }
    },
    {
      "cell_type": "markdown",
      "source": [
        "## Importando"
      ],
      "metadata": {
        "id": "HlEiQQ5tFhtq"
      }
    },
    {
      "cell_type": "code",
      "execution_count": null,
      "metadata": {
        "id": "xLdG7mKkFWP7"
      },
      "outputs": [],
      "source": [
        "# **Aula 1: Introdução ao Pandas**\n",
        "\n",
        "# **1. Introdução**\n",
        "# Pandas é uma biblioteca poderosa para manipulação e análise de dados em Python.\n",
        "# Vamos aprender a trabalhar com dados de forma eficiente.\n",
        "\n",
        "# Instalando Pandas (caso não esteja instalado):\n",
        "# !pip install pandas\n",
        "\n",
        "# Importando a biblioteca\n",
        "import pandas as pd\n",
        "\n",
        "\n"
      ]
    },
    {
      "cell_type": "markdown",
      "source": [
        "## Criando Series / Dataframe"
      ],
      "metadata": {
        "id": "EiyQIhGZFp9z"
      }
    },
    {
      "cell_type": "code",
      "source": [
        "# **2. Criação de Estruturas Básicas: Series e DataFrames**\n",
        "\n",
        "# Criando uma Series (estrutura unidimensional)\n",
        "print(\"Criando uma Series:\")\n",
        "series = pd.Series([10, 20, 30, 40, 50], name=\"Numeros\")\n",
        "print(series)\n",
        "\n",
        "# Criando um DataFrame (estrutura bidimensional)\n",
        "print(\"\\nCriando um DataFrame:\")\n",
        "df = pd.DataFrame({\n",
        "    \"Nomes\": [\"Ana\", \"Bruno\", \"Carla\", \"Diego\", \"Eva\"],\n",
        "    \"Idades\": [23, 35, 30, 40, 28],\n",
        "    \"Salarios\": [3000, 4500, 4000, 5000, 3500]\n",
        "})\n",
        "print(df)\n",
        "\n"
      ],
      "metadata": {
        "colab": {
          "base_uri": "https://localhost:8080/"
        },
        "id": "7TJ99YSzFoU2",
        "outputId": "d13a1271-2825-45ba-d3a1-81abadb08830"
      },
      "execution_count": null,
      "outputs": [
        {
          "output_type": "stream",
          "name": "stdout",
          "text": [
            "Criando uma Series:\n",
            "0    10\n",
            "1    20\n",
            "2    30\n",
            "3    40\n",
            "4    50\n",
            "Name: Numeros, dtype: int64\n",
            "\n",
            "Criando um DataFrame:\n",
            "   Nomes  Idades  Salarios\n",
            "0    Ana      23      3000\n",
            "1  Bruno      35      4500\n",
            "2  Carla      30      4000\n",
            "3  Diego      40      5000\n",
            "4    Eva      28      3500\n"
          ]
        }
      ]
    },
    {
      "cell_type": "markdown",
      "source": [
        "## Explorando os dados"
      ],
      "metadata": {
        "id": "SL5YTQa0Fwey"
      }
    },
    {
      "cell_type": "code",
      "source": [
        "# **3. Explorando Dados**\n",
        "\n",
        "# Visualizar os primeiros registros\n",
        "print(\"\\nVisualizar os primeiros registros do DataFrame:\")\n",
        "print(df.head())\n",
        "\n",
        "# Informações sobre o DataFrame\n",
        "print(\"\\nInformações sobre o DataFrame:\")\n",
        "print(df.info())\n",
        "\n",
        "# Estatísticas descritivas\n",
        "print(\"\\nEstatísticas descritivas:\")\n",
        "print(df.describe())\n",
        "\n",
        "# Ver os nomes das colunas\n",
        "print(\"\\nNomes das colunas:\")\n",
        "print(df.columns)\n",
        "\n",
        "# Ver o número de linhas e colunas\n",
        "print(\"\\nNúmero de linhas e colunas:\")\n",
        "print(df.shape)\n",
        "\n",
        "print(\"\\nNúmero de dados duplicados:\")\n",
        "print(df.duplicated().sum())\n",
        "\n",
        "print(\"\\nNúmero de valores vazios por coluna:\")\n",
        "print(df.isnull().sum())\n"
      ],
      "metadata": {
        "colab": {
          "base_uri": "https://localhost:8080/"
        },
        "id": "d5Ry0tnHFvi_",
        "outputId": "59bbd9a0-c998-45fc-ef86-650350082370"
      },
      "execution_count": null,
      "outputs": [
        {
          "output_type": "stream",
          "name": "stdout",
          "text": [
            "\n",
            "Visualizar os primeiros registros do DataFrame:\n",
            "   Nomes  Idades  Salarios\n",
            "0    Ana      23      3000\n",
            "1  Bruno      35      4500\n",
            "2  Carla      30      4000\n",
            "3  Diego      40      5000\n",
            "4    Eva      28      3500\n",
            "\n",
            "Informações sobre o DataFrame:\n",
            "<class 'pandas.core.frame.DataFrame'>\n",
            "RangeIndex: 5 entries, 0 to 4\n",
            "Data columns (total 3 columns):\n",
            " #   Column    Non-Null Count  Dtype \n",
            "---  ------    --------------  ----- \n",
            " 0   Nomes     5 non-null      object\n",
            " 1   Idades    5 non-null      int64 \n",
            " 2   Salarios  5 non-null      int64 \n",
            "dtypes: int64(2), object(1)\n",
            "memory usage: 248.0+ bytes\n",
            "None\n",
            "\n",
            "Estatísticas descritivas:\n",
            "          Idades     Salarios\n",
            "count   5.000000     5.000000\n",
            "mean   31.200000  4000.000000\n",
            "std     6.534524   790.569415\n",
            "min    23.000000  3000.000000\n",
            "25%    28.000000  3500.000000\n",
            "50%    30.000000  4000.000000\n",
            "75%    35.000000  4500.000000\n",
            "max    40.000000  5000.000000\n",
            "\n",
            "Nomes das colunas:\n",
            "Index(['Nomes', 'Idades', 'Salarios'], dtype='object')\n",
            "\n",
            "Número de linhas e colunas:\n",
            "(5, 3)\n",
            "\n",
            "Número de dados duplicados:\n",
            "0\n",
            "\n",
            "Número de valores vazios por coluna:\n",
            "Nomes       0\n",
            "Idades      0\n",
            "Salarios    0\n",
            "dtype: int64\n"
          ]
        }
      ]
    },
    {
      "cell_type": "markdown",
      "source": [
        "## Selecao e filtragem de dados"
      ],
      "metadata": {
        "id": "19NzX9PPF2_a"
      }
    },
    {
      "cell_type": "code",
      "source": [
        "# **4. Seleção e Filtragem de Dados**\n",
        "\n",
        "# Selecionando uma coluna\n",
        "print(\"\\nSelecionando a coluna 'Idades':\")\n",
        "print(df[\"Idades\"])\n",
        "\n",
        "# Selecionando múltiplas colunas\n",
        "print(\"\\nSelecionando as colunas 'Nomes' e 'Salarios':\")\n",
        "print(df[[\"Nomes\", \"Salarios\"]])\n",
        "\n",
        "# Selecionando linhas por índices\n",
        "print(\"\\nSelecionando a primeira linha (índice 0):\")\n",
        "print(df.loc[0])\n",
        "\n",
        "# Filtrando dados (idade maior que 30)\n",
        "print(\"\\nFiltrando pessoas com idade maior que 30:\")\n",
        "print(df[df[\"Idades\"] > 30])\n",
        "\n"
      ],
      "metadata": {
        "colab": {
          "base_uri": "https://localhost:8080/"
        },
        "id": "wGrqjnPsF2E7",
        "outputId": "32df9b5f-b47a-4ea2-fdfb-f79c65cbe8b0"
      },
      "execution_count": null,
      "outputs": [
        {
          "output_type": "stream",
          "name": "stdout",
          "text": [
            "\n",
            "Selecionando a coluna 'Idades':\n",
            "0    23\n",
            "1    35\n",
            "2    30\n",
            "3    40\n",
            "4    28\n",
            "Name: Idades, dtype: int64\n",
            "\n",
            "Selecionando as colunas 'Nomes' e 'Salarios':\n",
            "   Nomes  Salarios\n",
            "0    Ana      3000\n",
            "1  Bruno      4500\n",
            "2  Carla      4000\n",
            "3  Diego      5000\n",
            "4    Eva      3500\n",
            "\n",
            "Selecionando a primeira linha (índice 0):\n",
            "Nomes        Ana\n",
            "Idades        23\n",
            "Salarios    3000\n",
            "Name: 0, dtype: object\n",
            "\n",
            "Filtrando pessoas com idade maior que 30:\n",
            "   Nomes  Idades  Salarios\n",
            "1  Bruno      35      4500\n",
            "3  Diego      40      5000\n"
          ]
        }
      ]
    },
    {
      "cell_type": "markdown",
      "source": [
        "## Modificacao de dados"
      ],
      "metadata": {
        "id": "raQ6BTJ4F8TD"
      }
    },
    {
      "cell_type": "code",
      "source": [
        "# **5. Modificação de Dados**\n",
        "\n",
        "# Adicionando uma nova coluna\n",
        "df[\"Cidade\"] = [\"São Paulo\", \"Rio de Janeiro\", \"Belo Horizonte\", \"Curitiba\", \"Recife\"]\n",
        "print(\"\\nDataFrame após adicionar a coluna 'Cidade':\")\n",
        "print(df)\n",
        "\n",
        "# Alterando valores (atualizar salário de Ana)\n",
        "df.loc[0, \"Salarios\"] = 3200\n",
        "print(\"\\nDataFrame após alterar o salário de Ana:\")\n",
        "print(df)\n",
        "\n",
        "# Deletando uma coluna\n",
        "df.drop(\"Cidade\", axis=1, inplace=True)\n",
        "print(\"\\nDataFrame após remover a coluna 'Cidade':\")\n",
        "print(df)\n",
        "\n"
      ],
      "metadata": {
        "colab": {
          "base_uri": "https://localhost:8080/"
        },
        "id": "3v0SxpVdF7i9",
        "outputId": "95814f8e-ef43-4ddf-e3fe-4e8623b49bde"
      },
      "execution_count": null,
      "outputs": [
        {
          "output_type": "stream",
          "name": "stdout",
          "text": [
            "\n",
            "DataFrame após adicionar a coluna 'Cidade':\n",
            "   Nomes  Idades  Salarios          Cidade\n",
            "0    Ana      23      3000       São Paulo\n",
            "1  Bruno      35      4500  Rio de Janeiro\n",
            "2  Carla      30      4000  Belo Horizonte\n",
            "3  Diego      40      5000        Curitiba\n",
            "4    Eva      28      3500          Recife\n",
            "\n",
            "DataFrame após alterar o salário de Ana:\n",
            "   Nomes  Idades  Salarios          Cidade\n",
            "0    Ana      23      3200       São Paulo\n",
            "1  Bruno      35      4500  Rio de Janeiro\n",
            "2  Carla      30      4000  Belo Horizonte\n",
            "3  Diego      40      5000        Curitiba\n",
            "4    Eva      28      3500          Recife\n",
            "\n",
            "DataFrame após remover a coluna 'Cidade':\n",
            "   Nomes  Idades  Salarios\n",
            "0    Ana      23      3200\n",
            "1  Bruno      35      4500\n",
            "2  Carla      30      4000\n",
            "3  Diego      40      5000\n",
            "4    Eva      28      3500\n"
          ]
        }
      ]
    },
    {
      "cell_type": "code",
      "source": [],
      "metadata": {
        "id": "svwqLnLld_76"
      },
      "execution_count": null,
      "outputs": []
    },
    {
      "cell_type": "markdown",
      "source": [
        "## Exercicios"
      ],
      "metadata": {
        "id": "ywlgqjwyGB1d"
      }
    },
    {
      "cell_type": "code",
      "source": [
        "# **Aula 1: Introdução ao Pandas**\n",
        "\n",
        "# (O código acima permanece o mesmo até a seção de Exercício Prático)\n",
        "\n",
        "# **6. Exercício Prático**\n",
        "\n",
        "# Pergunta 1: Qual é a média dos salários?\n",
        "media_salarios = df[\"Salarios\"].mean()\n",
        "print(\"\\nMédia dos salários:\", media_salarios)\n",
        "\n",
        "# Pergunta 2: Quem tem o maior salário?\n",
        "maior_salario = df[df[\"Salarios\"] == df[\"Salarios\"].max()]\n",
        "print(\"\\nPessoa com o maior salário:\")\n",
        "print(maior_salario)\n",
        "\n",
        "# Pergunta 3: Quantas pessoas têm idade maior que 30 anos?\n",
        "qtd_maior_30 = len(df[df[\"Idades\"] > 30])\n",
        "print(\"\\nNúmero de pessoas com idade maior que 30 anos:\", qtd_maior_30)\n",
        "\n",
        "# Pergunta 4: Qual é a soma total dos salários?\n",
        "soma_salarios = df[\"Salarios\"].sum()\n",
        "print(\"\\nSoma total dos salários:\", soma_salarios)\n",
        "\n",
        "# Pergunta 5: Liste as pessoas que têm salário acima de 4000.\n",
        "salario_acima_4000 = df[df[\"Salarios\"] > 4000]\n",
        "print(\"\\nPessoas com salário acima de 4000:\")\n",
        "print(salario_acima_4000)\n",
        "\n",
        "# Pergunta 6: Qual é a idade média das pessoas no DataFrame?\n",
        "media_idades = df[\"Idades\"].mean()\n",
        "print(\"\\nIdade média das pessoas:\", media_idades)\n",
        "\n",
        "# Pergunta 7: Qual é o nome da pessoa mais jovem?\n",
        "pessoa_mais_jovem = df[df[\"Idades\"] == df[\"Idades\"].min()]\n",
        "print(\"\\nPessoa mais jovem:\")\n",
        "print(pessoa_mais_jovem)\n",
        "\n",
        "# Pergunta 8: Ordene as pessoas por idade em ordem decrescente.\n",
        "ordenado_por_idade = df.sort_values(\"Idades\", ascending=False)\n",
        "print(\"\\nDataFrame ordenado por idade (decrescente):\")\n",
        "print(ordenado_por_idade)\n",
        "\n",
        "# Pergunta 9: Crie um DataFrame com pessoas que têm salário entre 3000 e 4000.\n",
        "salario_entre = df[(df[\"Salarios\"] >= 3000) & (df[\"Salarios\"] <= 4000)]\n",
        "print(\"\\nPessoas com salário entre 3000 e 4000:\")\n",
        "print(salario_entre)\n",
        "\n",
        "# Pergunta 10: Quantas pessoas têm o nome começando com a letra \"A\"?\n",
        "qtd_nome_com_a = len(df[df[\"Nomes\"].str.startswith(\"A\")])\n",
        "print(\"\\nNúmero de pessoas com nomes começando com a letra 'A':\", qtd_nome_com_a)\n",
        "\n",
        "# Pergunta 11: Qual é a mediana dos salários?\n",
        "mediana_salarios = df[\"Salarios\"].median()\n",
        "print(\"\\nMediana dos salários:\", mediana_salarios)\n",
        "\n",
        "# Pergunta 12: Qual é o desvio padrão dos salários?\n",
        "desvio_padrao_salarios = df[\"Salarios\"].std()\n",
        "print(\"\\nDesvio padrão dos salários:\", desvio_padrao_salarios)\n",
        "\n",
        "# Pergunta 13: Adicione 10% ao salário de todas as pessoas e crie uma nova coluna chamada 'Salarios_Ajustados'.\n",
        "df[\"Salarios_Ajustados\"] = df[\"Salarios\"] * 1.1\n",
        "print(\"\\nDataFrame com a coluna 'Salarios_Ajustados':\")\n",
        "print(df)\n",
        "\n",
        "# Pergunta 14: Liste os nomes e as idades das pessoas que têm salário ajustado acima de 4500.\n",
        "salario_ajustado_acima_4500 = df[df[\"Salarios_Ajustados\"] > 4500][[\"Nomes\", \"Idades\"]]\n",
        "print(\"\\nNomes e idades das pessoas com salário ajustado acima de 4500:\")\n",
        "print(salario_ajustado_acima_4500)\n",
        "\n",
        "# Pergunta 15: Remova a coluna 'Salarios_Ajustados' do DataFrame.\n",
        "df.drop(\"Salarios_Ajustados\", axis=1, inplace=True)\n",
        "print(\"\\nDataFrame após remover a coluna 'Salarios_Ajustados':\")\n",
        "print(df)\n",
        "\n",
        "# **Conclusão**\n",
        "# Nesta aula, aprendemos os fundamentos do Pandas:\n",
        "# - Criar e explorar DataFrames e Series\n",
        "# - Selecionar e filtrar dados\n",
        "# - Modificar valores no DataFrame\n",
        "# - Responder perguntas simples com os dados.\n",
        "\n",
        "print(\"\\nParabéns por concluir sua primeira aula de Pandas!\")\n"
      ],
      "metadata": {
        "colab": {
          "base_uri": "https://localhost:8080/"
        },
        "id": "4iF0IhsQGA8M",
        "outputId": "2c32b2fd-a3d1-4de3-c033-12cf8eacc21c"
      },
      "execution_count": null,
      "outputs": [
        {
          "output_type": "stream",
          "name": "stdout",
          "text": [
            "\n",
            "Média dos salários: 4040.0\n",
            "\n",
            "Pessoa com o maior salário:\n",
            "   Nomes  Idades  Salarios\n",
            "3  Diego      40      5000\n",
            "\n",
            "Número de pessoas com idade maior que 30 anos: 2\n",
            "\n",
            "Soma total dos salários: 20200\n",
            "\n",
            "Pessoas com salário acima de 4000:\n",
            "   Nomes  Idades  Salarios\n",
            "1  Bruno      35      4500\n",
            "3  Diego      40      5000\n",
            "\n",
            "Idade média das pessoas: 31.2\n",
            "\n",
            "Pessoa mais jovem:\n",
            "  Nomes  Idades  Salarios\n",
            "0   Ana      23      3200\n",
            "\n",
            "DataFrame ordenado por idade (decrescente):\n",
            "   Nomes  Idades  Salarios\n",
            "3  Diego      40      5000\n",
            "1  Bruno      35      4500\n",
            "2  Carla      30      4000\n",
            "4    Eva      28      3500\n",
            "0    Ana      23      3200\n",
            "\n",
            "Pessoas com salário entre 3000 e 4000:\n",
            "   Nomes  Idades  Salarios\n",
            "0    Ana      23      3200\n",
            "2  Carla      30      4000\n",
            "4    Eva      28      3500\n",
            "\n",
            "Número de pessoas com nomes começando com a letra 'A': 1\n",
            "\n",
            "Mediana dos salários: 4000.0\n",
            "\n",
            "Desvio padrão dos salários: 730.0684899377592\n",
            "\n",
            "DataFrame com a coluna 'Salarios_Ajustados':\n",
            "   Nomes  Idades  Salarios  Salarios_Ajustados\n",
            "0    Ana      23      3200              3520.0\n",
            "1  Bruno      35      4500              4950.0\n",
            "2  Carla      30      4000              4400.0\n",
            "3  Diego      40      5000              5500.0\n",
            "4    Eva      28      3500              3850.0\n",
            "\n",
            "Nomes e idades das pessoas com salário ajustado acima de 4500:\n",
            "   Nomes  Idades\n",
            "1  Bruno      35\n",
            "3  Diego      40\n",
            "\n",
            "DataFrame após remover a coluna 'Salarios_Ajustados':\n",
            "   Nomes  Idades  Salarios\n",
            "0    Ana      23      3200\n",
            "1  Bruno      35      4500\n",
            "2  Carla      30      4000\n",
            "3  Diego      40      5000\n",
            "4    Eva      28      3500\n",
            "\n",
            "Parabéns por concluir sua primeira aula de Pandas!\n"
          ]
        }
      ]
    }
  ]
}