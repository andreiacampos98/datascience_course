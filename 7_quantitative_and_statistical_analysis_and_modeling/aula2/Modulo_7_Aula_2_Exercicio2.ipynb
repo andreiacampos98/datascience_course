{
  "nbformat": 4,
  "nbformat_minor": 0,
  "metadata": {
    "colab": {
      "provenance": [],
      "authorship_tag": "ABX9TyOp6EjLeVEU7VI/L5oCdbwl",
      "include_colab_link": true
    },
    "kernelspec": {
      "name": "python3",
      "display_name": "Python 3"
    },
    "language_info": {
      "name": "python"
    }
  },
  "cells": [
    {
      "cell_type": "markdown",
      "metadata": {
        "id": "view-in-github",
        "colab_type": "text"
      },
      "source": [
        "<a href=\"https://colab.research.google.com/github/andreiacampos98/datascience_course/blob/main/Modulo_7_Aula_2_Exercicio2.ipynb\" target=\"_parent\"><img src=\"https://colab.research.google.com/assets/colab-badge.svg\" alt=\"Open In Colab\"/></a>"
      ]
    },
    {
      "cell_type": "markdown",
      "source": [
        "# Exercicio 2\n",
        "\n",
        "X='O computador ter uma RAM igual a 8'\n",
        "\n"
      ],
      "metadata": {
        "id": "GPRooci3kjs-"
      }
    },
    {
      "cell_type": "code",
      "source": [
        "import pandas as pd\n",
        "from scipy.stats import binom\n",
        "\n",
        "df=pd.read_csv('/content/laptop_pricing2.csv')\n",
        "\n",
        "# Parâmetros\n",
        "n = len(df)   # Número de tentativas\n",
        "k = (df[\"RAM_GB\"] == 8).sum()     # Número de sucessos desejados\n",
        "p = k / n  # Probabilidade de sucesso\n",
        "\n",
        "\n",
        "prob = binom.pmf(k, n, p)\n",
        "print(f\"A probabilidade de exatamente {k} laptops terem 8GB de RAM é {prob:.6f}\")\n",
        "\n",
        "probabilidade_acumulada = binom.cdf(k, n, p)\n",
        "print(f\"A probabilidade de até {k} laptops terem 8GB de RAM é {probabilidade_acumulada:.6f}\")\n",
        "\n",
        "# Calcular Valor Esperado E(X)\n",
        "E_X = n * p\n",
        "print(f\"O valor esperado é {E_X}\")\n",
        "\n",
        "# Variância Var(X)\n",
        "Var_X = n * p * (1 - p)\n",
        "print(f\"A variância é {Var_X:.4f}\")\n",
        "\n",
        "# Calcular P(X = 20) na distribuição Binomial\n",
        "P_X_20 = binom.pmf(20, n, p)\n",
        "probabilidade_acumulada = binom.cdf(20, n, p)\n",
        "\n",
        "print(f\"A probabilidade de obter 20 sucessos em {n} tentativas é {P_X_20}\")\n",
        "print(f\"A probabilidade de obter 20 sucessos em {n} tentativas é {probabilidade_acumulada}\")"
      ],
      "metadata": {
        "id": "_CCiQvEGlMpz",
        "colab": {
          "base_uri": "https://localhost:8080/"
        },
        "outputId": "8c698916-ba03-480e-a930-6e2500a0719a"
      },
      "execution_count": 18,
      "outputs": [
        {
          "output_type": "stream",
          "name": "stdout",
          "text": [
            "A probabilidade de exatamente 35 laptops terem 8GB de RAM é 0.122347\n",
            "A probabilidade de até 35 laptops terem 8GB de RAM é 0.553168\n",
            "O valor esperado é 35.0\n",
            "A variância é 10.5000\n",
            "A probabilidade de obter 20 sucessos em 50 tentativas é 7.742632078387753e-06\n",
            "A probabilidade de obter 20 sucessos em 50 tentativas é 1.0589331832354873e-05\n"
          ]
        }
      ]
    }
  ]
}