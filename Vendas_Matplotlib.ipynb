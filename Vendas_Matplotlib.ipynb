{
  "nbformat": 4,
  "nbformat_minor": 0,
  "metadata": {
    "colab": {
      "provenance": [],
      "include_colab_link": true
    },
    "kernelspec": {
      "name": "python3",
      "display_name": "Python 3"
    },
    "language_info": {
      "name": "python"
    }
  },
  "cells": [
    {
      "cell_type": "markdown",
      "metadata": {
        "id": "view-in-github",
        "colab_type": "text"
      },
      "source": [
        "<a href=\"https://colab.research.google.com/github/andreiacampos98/datascience_course/blob/main/Vendas_Matplotlib.ipynb\" target=\"_parent\"><img src=\"https://colab.research.google.com/assets/colab-badge.svg\" alt=\"Open In Colab\"/></a>"
      ]
    },
    {
      "cell_type": "code",
      "execution_count": null,
      "metadata": {
        "id": "uOJdRpZQLHgt"
      },
      "outputs": [],
      "source": [
        "import pandas as pd\n",
        "import matplotlib.pyplot as plt"
      ]
    },
    {
      "cell_type": "code",
      "source": [
        "df = pd.read_csv(\"/content/store_sales.csv\")"
      ],
      "metadata": {
        "id": "ke8sXnsKLbhD"
      },
      "execution_count": null,
      "outputs": []
    },
    {
      "cell_type": "code",
      "source": [
        "df.head()"
      ],
      "metadata": {
        "colab": {
          "base_uri": "https://localhost:8080/",
          "height": 206
        },
        "id": "w9o0fv66LjD4",
        "outputId": "a38ed277-8d5e-4e09-b354-01cddfd33b9b"
      },
      "execution_count": null,
      "outputs": [
        {
          "output_type": "execute_result",
          "data": {
            "text/plain": [
              "         Date     Product     Category    Price  Quantity Salesperson  \\\n",
              "0  2023-01-01  Smartwatch  Electronics  1426.34        10       Alice   \n",
              "1  2023-01-02      Laptop  Electronics   940.00         8         Bob   \n",
              "2  2023-01-03  Smartphone  Accessories  1222.58         8       Diana   \n",
              "3  2023-01-04  Smartphone  Electronics   734.20         6       Alice   \n",
              "4  2023-01-05  Headphones  Electronics   745.31         1       Diana   \n",
              "\n",
              "   Total Sales  \n",
              "0     14263.40  \n",
              "1      7520.00  \n",
              "2      9780.64  \n",
              "3      4405.20  \n",
              "4       745.31  "
            ],
            "text/html": [
              "\n",
              "  <div id=\"df-c01e397b-e6c9-4693-b7db-61270407d370\" class=\"colab-df-container\">\n",
              "    <div>\n",
              "<style scoped>\n",
              "    .dataframe tbody tr th:only-of-type {\n",
              "        vertical-align: middle;\n",
              "    }\n",
              "\n",
              "    .dataframe tbody tr th {\n",
              "        vertical-align: top;\n",
              "    }\n",
              "\n",
              "    .dataframe thead th {\n",
              "        text-align: right;\n",
              "    }\n",
              "</style>\n",
              "<table border=\"1\" class=\"dataframe\">\n",
              "  <thead>\n",
              "    <tr style=\"text-align: right;\">\n",
              "      <th></th>\n",
              "      <th>Date</th>\n",
              "      <th>Product</th>\n",
              "      <th>Category</th>\n",
              "      <th>Price</th>\n",
              "      <th>Quantity</th>\n",
              "      <th>Salesperson</th>\n",
              "      <th>Total Sales</th>\n",
              "    </tr>\n",
              "  </thead>\n",
              "  <tbody>\n",
              "    <tr>\n",
              "      <th>0</th>\n",
              "      <td>2023-01-01</td>\n",
              "      <td>Smartwatch</td>\n",
              "      <td>Electronics</td>\n",
              "      <td>1426.34</td>\n",
              "      <td>10</td>\n",
              "      <td>Alice</td>\n",
              "      <td>14263.40</td>\n",
              "    </tr>\n",
              "    <tr>\n",
              "      <th>1</th>\n",
              "      <td>2023-01-02</td>\n",
              "      <td>Laptop</td>\n",
              "      <td>Electronics</td>\n",
              "      <td>940.00</td>\n",
              "      <td>8</td>\n",
              "      <td>Bob</td>\n",
              "      <td>7520.00</td>\n",
              "    </tr>\n",
              "    <tr>\n",
              "      <th>2</th>\n",
              "      <td>2023-01-03</td>\n",
              "      <td>Smartphone</td>\n",
              "      <td>Accessories</td>\n",
              "      <td>1222.58</td>\n",
              "      <td>8</td>\n",
              "      <td>Diana</td>\n",
              "      <td>9780.64</td>\n",
              "    </tr>\n",
              "    <tr>\n",
              "      <th>3</th>\n",
              "      <td>2023-01-04</td>\n",
              "      <td>Smartphone</td>\n",
              "      <td>Electronics</td>\n",
              "      <td>734.20</td>\n",
              "      <td>6</td>\n",
              "      <td>Alice</td>\n",
              "      <td>4405.20</td>\n",
              "    </tr>\n",
              "    <tr>\n",
              "      <th>4</th>\n",
              "      <td>2023-01-05</td>\n",
              "      <td>Headphones</td>\n",
              "      <td>Electronics</td>\n",
              "      <td>745.31</td>\n",
              "      <td>1</td>\n",
              "      <td>Diana</td>\n",
              "      <td>745.31</td>\n",
              "    </tr>\n",
              "  </tbody>\n",
              "</table>\n",
              "</div>\n",
              "    <div class=\"colab-df-buttons\">\n",
              "\n",
              "  <div class=\"colab-df-container\">\n",
              "    <button class=\"colab-df-convert\" onclick=\"convertToInteractive('df-c01e397b-e6c9-4693-b7db-61270407d370')\"\n",
              "            title=\"Convert this dataframe to an interactive table.\"\n",
              "            style=\"display:none;\">\n",
              "\n",
              "  <svg xmlns=\"http://www.w3.org/2000/svg\" height=\"24px\" viewBox=\"0 -960 960 960\">\n",
              "    <path d=\"M120-120v-720h720v720H120Zm60-500h600v-160H180v160Zm220 220h160v-160H400v160Zm0 220h160v-160H400v160ZM180-400h160v-160H180v160Zm440 0h160v-160H620v160ZM180-180h160v-160H180v160Zm440 0h160v-160H620v160Z\"/>\n",
              "  </svg>\n",
              "    </button>\n",
              "\n",
              "  <style>\n",
              "    .colab-df-container {\n",
              "      display:flex;\n",
              "      gap: 12px;\n",
              "    }\n",
              "\n",
              "    .colab-df-convert {\n",
              "      background-color: #E8F0FE;\n",
              "      border: none;\n",
              "      border-radius: 50%;\n",
              "      cursor: pointer;\n",
              "      display: none;\n",
              "      fill: #1967D2;\n",
              "      height: 32px;\n",
              "      padding: 0 0 0 0;\n",
              "      width: 32px;\n",
              "    }\n",
              "\n",
              "    .colab-df-convert:hover {\n",
              "      background-color: #E2EBFA;\n",
              "      box-shadow: 0px 1px 2px rgba(60, 64, 67, 0.3), 0px 1px 3px 1px rgba(60, 64, 67, 0.15);\n",
              "      fill: #174EA6;\n",
              "    }\n",
              "\n",
              "    .colab-df-buttons div {\n",
              "      margin-bottom: 4px;\n",
              "    }\n",
              "\n",
              "    [theme=dark] .colab-df-convert {\n",
              "      background-color: #3B4455;\n",
              "      fill: #D2E3FC;\n",
              "    }\n",
              "\n",
              "    [theme=dark] .colab-df-convert:hover {\n",
              "      background-color: #434B5C;\n",
              "      box-shadow: 0px 1px 3px 1px rgba(0, 0, 0, 0.15);\n",
              "      filter: drop-shadow(0px 1px 2px rgba(0, 0, 0, 0.3));\n",
              "      fill: #FFFFFF;\n",
              "    }\n",
              "  </style>\n",
              "\n",
              "    <script>\n",
              "      const buttonEl =\n",
              "        document.querySelector('#df-c01e397b-e6c9-4693-b7db-61270407d370 button.colab-df-convert');\n",
              "      buttonEl.style.display =\n",
              "        google.colab.kernel.accessAllowed ? 'block' : 'none';\n",
              "\n",
              "      async function convertToInteractive(key) {\n",
              "        const element = document.querySelector('#df-c01e397b-e6c9-4693-b7db-61270407d370');\n",
              "        const dataTable =\n",
              "          await google.colab.kernel.invokeFunction('convertToInteractive',\n",
              "                                                    [key], {});\n",
              "        if (!dataTable) return;\n",
              "\n",
              "        const docLinkHtml = 'Like what you see? Visit the ' +\n",
              "          '<a target=\"_blank\" href=https://colab.research.google.com/notebooks/data_table.ipynb>data table notebook</a>'\n",
              "          + ' to learn more about interactive tables.';\n",
              "        element.innerHTML = '';\n",
              "        dataTable['output_type'] = 'display_data';\n",
              "        await google.colab.output.renderOutput(dataTable, element);\n",
              "        const docLink = document.createElement('div');\n",
              "        docLink.innerHTML = docLinkHtml;\n",
              "        element.appendChild(docLink);\n",
              "      }\n",
              "    </script>\n",
              "  </div>\n",
              "\n",
              "\n",
              "<div id=\"df-b70c282e-342a-480a-9a91-2303aa927371\">\n",
              "  <button class=\"colab-df-quickchart\" onclick=\"quickchart('df-b70c282e-342a-480a-9a91-2303aa927371')\"\n",
              "            title=\"Suggest charts\"\n",
              "            style=\"display:none;\">\n",
              "\n",
              "<svg xmlns=\"http://www.w3.org/2000/svg\" height=\"24px\"viewBox=\"0 0 24 24\"\n",
              "     width=\"24px\">\n",
              "    <g>\n",
              "        <path d=\"M19 3H5c-1.1 0-2 .9-2 2v14c0 1.1.9 2 2 2h14c1.1 0 2-.9 2-2V5c0-1.1-.9-2-2-2zM9 17H7v-7h2v7zm4 0h-2V7h2v10zm4 0h-2v-4h2v4z\"/>\n",
              "    </g>\n",
              "</svg>\n",
              "  </button>\n",
              "\n",
              "<style>\n",
              "  .colab-df-quickchart {\n",
              "      --bg-color: #E8F0FE;\n",
              "      --fill-color: #1967D2;\n",
              "      --hover-bg-color: #E2EBFA;\n",
              "      --hover-fill-color: #174EA6;\n",
              "      --disabled-fill-color: #AAA;\n",
              "      --disabled-bg-color: #DDD;\n",
              "  }\n",
              "\n",
              "  [theme=dark] .colab-df-quickchart {\n",
              "      --bg-color: #3B4455;\n",
              "      --fill-color: #D2E3FC;\n",
              "      --hover-bg-color: #434B5C;\n",
              "      --hover-fill-color: #FFFFFF;\n",
              "      --disabled-bg-color: #3B4455;\n",
              "      --disabled-fill-color: #666;\n",
              "  }\n",
              "\n",
              "  .colab-df-quickchart {\n",
              "    background-color: var(--bg-color);\n",
              "    border: none;\n",
              "    border-radius: 50%;\n",
              "    cursor: pointer;\n",
              "    display: none;\n",
              "    fill: var(--fill-color);\n",
              "    height: 32px;\n",
              "    padding: 0;\n",
              "    width: 32px;\n",
              "  }\n",
              "\n",
              "  .colab-df-quickchart:hover {\n",
              "    background-color: var(--hover-bg-color);\n",
              "    box-shadow: 0 1px 2px rgba(60, 64, 67, 0.3), 0 1px 3px 1px rgba(60, 64, 67, 0.15);\n",
              "    fill: var(--button-hover-fill-color);\n",
              "  }\n",
              "\n",
              "  .colab-df-quickchart-complete:disabled,\n",
              "  .colab-df-quickchart-complete:disabled:hover {\n",
              "    background-color: var(--disabled-bg-color);\n",
              "    fill: var(--disabled-fill-color);\n",
              "    box-shadow: none;\n",
              "  }\n",
              "\n",
              "  .colab-df-spinner {\n",
              "    border: 2px solid var(--fill-color);\n",
              "    border-color: transparent;\n",
              "    border-bottom-color: var(--fill-color);\n",
              "    animation:\n",
              "      spin 1s steps(1) infinite;\n",
              "  }\n",
              "\n",
              "  @keyframes spin {\n",
              "    0% {\n",
              "      border-color: transparent;\n",
              "      border-bottom-color: var(--fill-color);\n",
              "      border-left-color: var(--fill-color);\n",
              "    }\n",
              "    20% {\n",
              "      border-color: transparent;\n",
              "      border-left-color: var(--fill-color);\n",
              "      border-top-color: var(--fill-color);\n",
              "    }\n",
              "    30% {\n",
              "      border-color: transparent;\n",
              "      border-left-color: var(--fill-color);\n",
              "      border-top-color: var(--fill-color);\n",
              "      border-right-color: var(--fill-color);\n",
              "    }\n",
              "    40% {\n",
              "      border-color: transparent;\n",
              "      border-right-color: var(--fill-color);\n",
              "      border-top-color: var(--fill-color);\n",
              "    }\n",
              "    60% {\n",
              "      border-color: transparent;\n",
              "      border-right-color: var(--fill-color);\n",
              "    }\n",
              "    80% {\n",
              "      border-color: transparent;\n",
              "      border-right-color: var(--fill-color);\n",
              "      border-bottom-color: var(--fill-color);\n",
              "    }\n",
              "    90% {\n",
              "      border-color: transparent;\n",
              "      border-bottom-color: var(--fill-color);\n",
              "    }\n",
              "  }\n",
              "</style>\n",
              "\n",
              "  <script>\n",
              "    async function quickchart(key) {\n",
              "      const quickchartButtonEl =\n",
              "        document.querySelector('#' + key + ' button');\n",
              "      quickchartButtonEl.disabled = true;  // To prevent multiple clicks.\n",
              "      quickchartButtonEl.classList.add('colab-df-spinner');\n",
              "      try {\n",
              "        const charts = await google.colab.kernel.invokeFunction(\n",
              "            'suggestCharts', [key], {});\n",
              "      } catch (error) {\n",
              "        console.error('Error during call to suggestCharts:', error);\n",
              "      }\n",
              "      quickchartButtonEl.classList.remove('colab-df-spinner');\n",
              "      quickchartButtonEl.classList.add('colab-df-quickchart-complete');\n",
              "    }\n",
              "    (() => {\n",
              "      let quickchartButtonEl =\n",
              "        document.querySelector('#df-b70c282e-342a-480a-9a91-2303aa927371 button');\n",
              "      quickchartButtonEl.style.display =\n",
              "        google.colab.kernel.accessAllowed ? 'block' : 'none';\n",
              "    })();\n",
              "  </script>\n",
              "</div>\n",
              "\n",
              "    </div>\n",
              "  </div>\n"
            ],
            "application/vnd.google.colaboratory.intrinsic+json": {
              "type": "dataframe",
              "variable_name": "df",
              "summary": "{\n  \"name\": \"df\",\n  \"rows\": 50,\n  \"fields\": [\n    {\n      \"column\": \"Date\",\n      \"properties\": {\n        \"dtype\": \"object\",\n        \"num_unique_values\": 50,\n        \"samples\": [\n          \"2023-01-14\",\n          \"2023-02-09\",\n          \"2023-01-31\"\n        ],\n        \"semantic_type\": \"\",\n        \"description\": \"\"\n      }\n    },\n    {\n      \"column\": \"Product\",\n      \"properties\": {\n        \"dtype\": \"category\",\n        \"num_unique_values\": 5,\n        \"samples\": [\n          \"Laptop\",\n          \"Tablet\",\n          \"Smartphone\"\n        ],\n        \"semantic_type\": \"\",\n        \"description\": \"\"\n      }\n    },\n    {\n      \"column\": \"Category\",\n      \"properties\": {\n        \"dtype\": \"category\",\n        \"num_unique_values\": 2,\n        \"samples\": [\n          \"Accessories\",\n          \"Electronics\"\n        ],\n        \"semantic_type\": \"\",\n        \"description\": \"\"\n      }\n    },\n    {\n      \"column\": \"Price\",\n      \"properties\": {\n        \"dtype\": \"number\",\n        \"std\": 430.53875116255483,\n        \"min\": 58.1,\n        \"max\": 1484.22,\n        \"num_unique_values\": 50,\n        \"samples\": [\n          105.08,\n          329.04\n        ],\n        \"semantic_type\": \"\",\n        \"description\": \"\"\n      }\n    },\n    {\n      \"column\": \"Quantity\",\n      \"properties\": {\n        \"dtype\": \"number\",\n        \"std\": 2,\n        \"min\": 1,\n        \"max\": 10,\n        \"num_unique_values\": 10,\n        \"samples\": [\n          7,\n          8\n        ],\n        \"semantic_type\": \"\",\n        \"description\": \"\"\n      }\n    },\n    {\n      \"column\": \"Salesperson\",\n      \"properties\": {\n        \"dtype\": \"category\",\n        \"num_unique_values\": 4,\n        \"samples\": [\n          \"Bob\",\n          \"Charlie\"\n        ],\n        \"semantic_type\": \"\",\n        \"description\": \"\"\n      }\n    },\n    {\n      \"column\": \"Total Sales\",\n      \"properties\": {\n        \"dtype\": \"number\",\n        \"std\": 3506.1605582450884,\n        \"min\": 406.7,\n        \"max\": 14263.4,\n        \"num_unique_values\": 50,\n        \"samples\": [\n          1050.8,\n          1645.2\n        ],\n        \"semantic_type\": \"\",\n        \"description\": \"\"\n      }\n    }\n  ]\n}"
            }
          },
          "metadata": {},
          "execution_count": 3
        }
      ]
    },
    {
      "cell_type": "code",
      "source": [
        "df.dtypes"
      ],
      "metadata": {
        "colab": {
          "base_uri": "https://localhost:8080/",
          "height": 304
        },
        "id": "tWyfaPkiLmeI",
        "outputId": "3f646bad-8add-4c5f-82b7-0fb228e165e1"
      },
      "execution_count": null,
      "outputs": [
        {
          "output_type": "execute_result",
          "data": {
            "text/plain": [
              "Date            object\n",
              "Product         object\n",
              "Category        object\n",
              "Price          float64\n",
              "Quantity         int64\n",
              "Salesperson     object\n",
              "Total Sales    float64\n",
              "dtype: object"
            ],
            "text/html": [
              "<div>\n",
              "<style scoped>\n",
              "    .dataframe tbody tr th:only-of-type {\n",
              "        vertical-align: middle;\n",
              "    }\n",
              "\n",
              "    .dataframe tbody tr th {\n",
              "        vertical-align: top;\n",
              "    }\n",
              "\n",
              "    .dataframe thead th {\n",
              "        text-align: right;\n",
              "    }\n",
              "</style>\n",
              "<table border=\"1\" class=\"dataframe\">\n",
              "  <thead>\n",
              "    <tr style=\"text-align: right;\">\n",
              "      <th></th>\n",
              "      <th>0</th>\n",
              "    </tr>\n",
              "  </thead>\n",
              "  <tbody>\n",
              "    <tr>\n",
              "      <th>Date</th>\n",
              "      <td>object</td>\n",
              "    </tr>\n",
              "    <tr>\n",
              "      <th>Product</th>\n",
              "      <td>object</td>\n",
              "    </tr>\n",
              "    <tr>\n",
              "      <th>Category</th>\n",
              "      <td>object</td>\n",
              "    </tr>\n",
              "    <tr>\n",
              "      <th>Price</th>\n",
              "      <td>float64</td>\n",
              "    </tr>\n",
              "    <tr>\n",
              "      <th>Quantity</th>\n",
              "      <td>int64</td>\n",
              "    </tr>\n",
              "    <tr>\n",
              "      <th>Salesperson</th>\n",
              "      <td>object</td>\n",
              "    </tr>\n",
              "    <tr>\n",
              "      <th>Total Sales</th>\n",
              "      <td>float64</td>\n",
              "    </tr>\n",
              "  </tbody>\n",
              "</table>\n",
              "</div><br><label><b>dtype:</b> object</label>"
            ]
          },
          "metadata": {},
          "execution_count": 4
        }
      ]
    },
    {
      "cell_type": "code",
      "source": [
        "df[\"Date\"] = pd.to_datetime(df[\"Date\"])\n",
        "\n",
        "print(df)"
      ],
      "metadata": {
        "colab": {
          "base_uri": "https://localhost:8080/"
        },
        "id": "c9Z5rz8KLt_7",
        "outputId": "443194c0-abb5-4046-9d4b-48cebfd8429c"
      },
      "execution_count": null,
      "outputs": [
        {
          "output_type": "stream",
          "name": "stdout",
          "text": [
            "         Date     Product     Category    Price  Quantity Salesperson  \\\n",
            "0  2023-01-01  Smartwatch  Electronics  1426.34        10       Alice   \n",
            "1  2023-01-02      Laptop  Electronics   940.00         8         Bob   \n",
            "2  2023-01-03  Smartphone  Accessories  1222.58         8       Diana   \n",
            "3  2023-01-04  Smartphone  Electronics   734.20         6       Alice   \n",
            "4  2023-01-05  Headphones  Electronics   745.31         1       Diana   \n",
            "5  2023-01-06  Smartwatch  Accessories   732.03         5     Charlie   \n",
            "6  2023-01-07      Laptop  Accessories   527.77         3       Diana   \n",
            "7  2023-01-08  Smartphone  Electronics  1166.67         3     Charlie   \n",
            "8  2023-01-09      Laptop  Electronics   658.64         6     Charlie   \n",
            "9  2023-01-10  Smartwatch  Accessories   314.71         6       Alice   \n",
            "10 2023-01-11      Tablet  Accessories  1032.23         8       Alice   \n",
            "11 2023-01-12      Laptop  Electronics   155.56         9       Alice   \n",
            "12 2023-01-13      Tablet  Accessories   711.63         4     Charlie   \n",
            "13 2023-01-14  Smartphone  Electronics   105.08        10       Alice   \n",
            "14 2023-01-15      Laptop  Accessories   598.15         6       Diana   \n",
            "15 2023-01-16  Smartwatch  Accessories  1402.52         3       Alice   \n",
            "16 2023-01-17  Smartwatch  Electronics   207.02         7     Charlie   \n",
            "17 2023-01-18      Tablet  Electronics   884.53         4     Charlie   \n",
            "18 2023-01-19      Tablet  Accessories   147.76         6       Alice   \n",
            "19 2023-01-20      Laptop  Electronics  1349.64         5         Bob   \n",
            "20 2023-01-21  Smartphone  Accessories   427.99         5         Bob   \n",
            "21 2023-01-22  Headphones  Accessories  1094.77         3       Alice   \n",
            "22 2023-01-23  Smartwatch  Electronics  1369.06         7         Bob   \n",
            "23 2023-01-24      Tablet  Accessories   374.16         2       Diana   \n",
            "24 2023-01-25  Headphones  Electronics   659.20         8       Diana   \n",
            "25 2023-01-26  Smartwatch  Accessories   743.15         4       Alice   \n",
            "26 2023-01-27      Laptop  Accessories   787.75         4         Bob   \n",
            "27 2023-01-28  Smartwatch  Electronics    58.10         7     Charlie   \n",
            "28 2023-01-29      Laptop  Accessories   172.58         5       Diana   \n",
            "29 2023-01-30  Smartphone  Accessories   244.31         8       Alice   \n",
            "30 2023-01-31      Laptop  Accessories  1103.65         6       Alice   \n",
            "31 2023-02-01  Smartphone  Accessories  1218.51        10     Charlie   \n",
            "32 2023-02-02      Tablet  Electronics  1052.61         4       Diana   \n",
            "33 2023-02-03      Tablet  Accessories  1287.60         9     Charlie   \n",
            "34 2023-02-04  Headphones  Electronics  1229.80         5     Charlie   \n",
            "35 2023-02-05      Tablet  Electronics  1346.33         2         Bob   \n",
            "36 2023-02-06  Smartphone  Electronics  1013.19        10     Charlie   \n",
            "37 2023-02-07  Smartphone  Accessories  1302.69         3       Diana   \n",
            "38 2023-02-08  Headphones  Electronics   965.49         6         Bob   \n",
            "39 2023-02-09      Laptop  Accessories   329.04         5       Alice   \n",
            "40 2023-02-10  Smartwatch  Electronics  1262.18         9     Charlie   \n",
            "41 2023-02-11      Tablet  Electronics   598.36         7     Charlie   \n",
            "42 2023-02-12  Headphones  Electronics   248.13         6       Diana   \n",
            "43 2023-02-13      Laptop  Accessories   138.80         8         Bob   \n",
            "44 2023-02-14      Tablet  Accessories  1484.22         3     Charlie   \n",
            "45 2023-02-15  Headphones  Electronics   284.56         3       Alice   \n",
            "46 2023-02-16  Headphones  Accessories   894.58         9       Diana   \n",
            "47 2023-02-17  Headphones  Accessories   977.69        10       Diana   \n",
            "48 2023-02-18      Tablet  Electronics   586.76         7       Alice   \n",
            "49 2023-02-19  Smartwatch  Electronics  1186.56         4     Charlie   \n",
            "\n",
            "    Total Sales  \n",
            "0      14263.40  \n",
            "1       7520.00  \n",
            "2       9780.64  \n",
            "3       4405.20  \n",
            "4        745.31  \n",
            "5       3660.15  \n",
            "6       1583.31  \n",
            "7       3500.01  \n",
            "8       3951.84  \n",
            "9       1888.26  \n",
            "10      8257.84  \n",
            "11      1400.04  \n",
            "12      2846.52  \n",
            "13      1050.80  \n",
            "14      3588.90  \n",
            "15      4207.56  \n",
            "16      1449.14  \n",
            "17      3538.12  \n",
            "18       886.56  \n",
            "19      6748.20  \n",
            "20      2139.95  \n",
            "21      3284.31  \n",
            "22      9583.42  \n",
            "23       748.32  \n",
            "24      5273.60  \n",
            "25      2972.60  \n",
            "26      3151.00  \n",
            "27       406.70  \n",
            "28       862.90  \n",
            "29      1954.48  \n",
            "30      6621.90  \n",
            "31     12185.10  \n",
            "32      4210.44  \n",
            "33     11588.40  \n",
            "34      6149.00  \n",
            "35      2692.66  \n",
            "36     10131.90  \n",
            "37      3908.07  \n",
            "38      5792.94  \n",
            "39      1645.20  \n",
            "40     11359.62  \n",
            "41      4188.52  \n",
            "42      1488.78  \n",
            "43      1110.40  \n",
            "44      4452.66  \n",
            "45       853.68  \n",
            "46      8051.22  \n",
            "47      9776.90  \n",
            "48      4107.32  \n",
            "49      4746.24  \n"
          ]
        }
      ]
    },
    {
      "cell_type": "code",
      "source": [
        "df.dtypes"
      ],
      "metadata": {
        "colab": {
          "base_uri": "https://localhost:8080/",
          "height": 304
        },
        "id": "zwEc7SlfMNjf",
        "outputId": "9da25bf3-4a15-465f-d373-4b31743491c5"
      },
      "execution_count": null,
      "outputs": [
        {
          "output_type": "execute_result",
          "data": {
            "text/plain": [
              "Date           datetime64[ns]\n",
              "Product                object\n",
              "Category               object\n",
              "Price                 float64\n",
              "Quantity                int64\n",
              "Salesperson            object\n",
              "Total Sales           float64\n",
              "dtype: object"
            ],
            "text/html": [
              "<div>\n",
              "<style scoped>\n",
              "    .dataframe tbody tr th:only-of-type {\n",
              "        vertical-align: middle;\n",
              "    }\n",
              "\n",
              "    .dataframe tbody tr th {\n",
              "        vertical-align: top;\n",
              "    }\n",
              "\n",
              "    .dataframe thead th {\n",
              "        text-align: right;\n",
              "    }\n",
              "</style>\n",
              "<table border=\"1\" class=\"dataframe\">\n",
              "  <thead>\n",
              "    <tr style=\"text-align: right;\">\n",
              "      <th></th>\n",
              "      <th>0</th>\n",
              "    </tr>\n",
              "  </thead>\n",
              "  <tbody>\n",
              "    <tr>\n",
              "      <th>Date</th>\n",
              "      <td>datetime64[ns]</td>\n",
              "    </tr>\n",
              "    <tr>\n",
              "      <th>Product</th>\n",
              "      <td>object</td>\n",
              "    </tr>\n",
              "    <tr>\n",
              "      <th>Category</th>\n",
              "      <td>object</td>\n",
              "    </tr>\n",
              "    <tr>\n",
              "      <th>Price</th>\n",
              "      <td>float64</td>\n",
              "    </tr>\n",
              "    <tr>\n",
              "      <th>Quantity</th>\n",
              "      <td>int64</td>\n",
              "    </tr>\n",
              "    <tr>\n",
              "      <th>Salesperson</th>\n",
              "      <td>object</td>\n",
              "    </tr>\n",
              "    <tr>\n",
              "      <th>Total Sales</th>\n",
              "      <td>float64</td>\n",
              "    </tr>\n",
              "  </tbody>\n",
              "</table>\n",
              "</div><br><label><b>dtype:</b> object</label>"
            ]
          },
          "metadata": {},
          "execution_count": 8
        }
      ]
    },
    {
      "cell_type": "markdown",
      "source": [
        "# 1. Operação de vendas por categoria e produto"
      ],
      "metadata": {
        "id": "qlaDjXx1MU8j"
      }
    },
    {
      "cell_type": "code",
      "source": [
        "category_sales= df.groupby(\"Category\")[\"Total Sales\"].sum()\n",
        "\n",
        "print(category_sales)"
      ],
      "metadata": {
        "colab": {
          "base_uri": "https://localhost:8080/"
        },
        "id": "tz_u5KnMMdQE",
        "outputId": "28dfe446-d89f-4c65-f1e8-8e9c31bfff4d"
      },
      "execution_count": null,
      "outputs": [
        {
          "output_type": "stream",
          "name": "stdout",
          "text": [
            "Category\n",
            "Accessories    111153.15\n",
            "Electronics    119556.88\n",
            "Name: Total Sales, dtype: float64\n"
          ]
        }
      ]
    },
    {
      "cell_type": "code",
      "source": [
        "plt.figure(figsize = (12,6))\n",
        "plt.bar(category_sales.index, category_sales.values, label =\"Categoria\", color = \"Green\")\n",
        "plt.title(\"Operação de Vebdas por Categoria\")\n",
        "plt.xlabel(\"Categoria\")\n",
        "plt.ylabel(\"Total de vendas\")\n",
        "plt.legend()\n",
        "plt.tight_layout()\n",
        "plt.show()"
      ],
      "metadata": {
        "colab": {
          "base_uri": "https://localhost:8080/",
          "height": 607
        },
        "id": "xkp_eUCrMys-",
        "outputId": "7a5f4061-8027-480a-8e48-c9b5d87bd8db"
      },
      "execution_count": null,
      "outputs": [
        {
          "output_type": "display_data",
          "data": {
            "text/plain": [
              "<Figure size 1200x600 with 1 Axes>"
            ],
            "image/png": "[encoded data removed]"
          },
          "metadata": {}
        }
      ]
    },
    {
      "cell_type": "code",
      "source": [
        "sales_person= df.groupby(\"Salesperson\")[\"Total Sales\"].sum()\n",
        "\n",
        "print(sales_person)"
      ],
      "metadata": {
        "colab": {
          "base_uri": "https://localhost:8080/"
        },
        "id": "Ay59geSgNjXc",
        "outputId": "78d3eebe-930f-4d0d-8a57-634f5603921b"
      },
      "execution_count": null,
      "outputs": [
        {
          "output_type": "stream",
          "name": "stdout",
          "text": [
            "Salesperson\n",
            "Alice      57799.15\n",
            "Bob        38738.57\n",
            "Charlie    84153.92\n",
            "Diana      50018.39\n",
            "Name: Total Sales, dtype: float64\n"
          ]
        }
      ]
    },
    {
      "cell_type": "code",
      "source": [
        "sales_person_sorted = sales_person.sort_values(ascending=False)\n",
        "\n",
        "plt.figure(figsize = (12,6))\n",
        "plt.bar(sales_person_sorted.index, sales_person_sorted.values, label =\"Categoria\", color = \"Blue\")\n",
        "plt.title(\"Operação de Vendas por Vendedor\")\n",
        "plt.xlabel(\"Vendedor\")\n",
        "plt.ylabel(\"Total de vendas\")\n",
        "plt.legend()\n",
        "plt.tight_layout()\n",
        "for i, value in enumerate(sales_person_sorted.values):\n",
        "    plt.text(i, value + 500, f\"{value:.2f}\", ha=\"center\", fontsize=10, color=\"black\")\n",
        "plt.show()"
      ],
      "metadata": {
        "colab": {
          "base_uri": "https://localhost:8080/",
          "height": 607
        },
        "id": "2LC7kBmlNyJZ",
        "outputId": "48041f1e-5af9-4db2-d485-19d60d0f3b19"
      },
      "execution_count": null,
      "outputs": [
        {
          "output_type": "display_data",
          "data": {
            "text/plain": [
              "<Figure size 1200x600 with 1 Axes>"
            ],
            "image/png": "[encoded data removed]"
          },
          "metadata": {}
        }
      ]
    }
  ]
}