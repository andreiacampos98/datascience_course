{
  "nbformat": 4,
  "nbformat_minor": 0,
  "metadata": {
    "colab": {
      "provenance": [],
      "authorship_tag": "ABX9TyPCfwXlbpJkG17oM5rASyq7",
      "include_colab_link": true
    },
    "kernelspec": {
      "name": "python3",
      "display_name": "Python 3"
    },
    "language_info": {
      "name": "python"
    }
  },
  "cells": [
    {
      "cell_type": "markdown",
      "metadata": {
        "id": "view-in-github",
        "colab_type": "text"
      },
      "source": [
        "<a href=\"https://colab.research.google.com/github/andreiacampos98/datascience_course/blob/main/Exercicio_aula_04.ipynb\" target=\"_parent\"><img src=\"https://colab.research.google.com/assets/colab-badge.svg\" alt=\"Open In Colab\"/></a>"
      ]
    },
    {
      "cell_type": "markdown",
      "source": [
        "Escreva um programa Python para quadrar e cubar cada número em uma determinada lista de inteiros usando uma função lambda (ex:[1, 2, 3, 5, 7,8, 9, 10])"
      ],
      "metadata": {
        "id": "9v_FjyHgtukJ"
      }
    },
    {
      "cell_type": "code",
      "source": [
        "lista=[1, 2, 3, 5, 7,8, 9, 10]\n",
        "quadrar= map(lambda x: x**2, lista)\n",
        "print(list(quadrar))\n"
      ],
      "metadata": {
        "colab": {
          "base_uri": "https://localhost:8080/"
        },
        "id": "zumJDAwCuDJQ",
        "outputId": "68ab4898-2029-46ef-a8b2-8cf154dcee1b"
      },
      "execution_count": 5,
      "outputs": [
        {
          "output_type": "stream",
          "name": "stdout",
          "text": [
            "[1, 4, 9, 25, 49, 64, 81, 100]\n"
          ]
        }
      ]
    },
    {
      "cell_type": "code",
      "source": [
        "lista=[1, 2, 3, 5, 7,8, 9, 10]\n",
        "cubar= map(lambda x: x**3, lista)\n",
        "print(list(cubar))"
      ],
      "metadata": {
        "colab": {
          "base_uri": "https://localhost:8080/"
        },
        "id": "wJs4D46QtwFp",
        "outputId": "6e9a67a5-17f4-441e-f685-be227286c444"
      },
      "execution_count": 6,
      "outputs": [
        {
          "output_type": "stream",
          "name": "stdout",
          "text": [
            "[1, 8, 27, 125, 343, 512, 729, 1000]\n"
          ]
        }
      ]
    },
    {
      "cell_type": "code",
      "source": [
        "lista=[1, 2, 3, 5, 7,8, 9, 10]\n",
        "cubar=[]\n",
        "for i in range(len(lista)):\n",
        "  print(lista[i])\n",
        "  x=lista[i]\n",
        "  print(i)\n",
        "  #print(lambda x: x**3)\n",
        "  cubar.append(lambda i: i**3)\n",
        "print(cubar)"
      ],
      "metadata": {
        "colab": {
          "base_uri": "https://localhost:8080/"
        },
        "id": "bn7wb93IxKUS",
        "outputId": "6bd011ba-2cf8-4b6a-8d58-f29af2ae1da4"
      },
      "execution_count": 19,
      "outputs": [
        {
          "output_type": "stream",
          "name": "stdout",
          "text": [
            "1\n",
            "0\n",
            "2\n",
            "1\n",
            "3\n",
            "2\n",
            "5\n",
            "3\n",
            "7\n",
            "4\n",
            "8\n",
            "5\n",
            "9\n",
            "6\n",
            "10\n",
            "7\n",
            "[<function <lambda> at 0x7ff168cd3400>, <function <lambda> at 0x7ff189441360>, <function <lambda> at 0x7ff168d48820>, <function <lambda> at 0x7ff168d496c0>, <function <lambda> at 0x7ff168d49ab0>, <function <lambda> at 0x7ff168d49e10>, <function <lambda> at 0x7ff168d4a0e0>, <function <lambda> at 0x7ff168d4a440>]\n"
          ]
        }
      ]
    },
    {
      "cell_type": "markdown",
      "source": [
        "Escreva um programa Python para contar os números pares e ímpares em uma determinada lista de inteiros usando uma função Lambda."
      ],
      "metadata": {
        "id": "z25AbRHlvkiS"
      }
    },
    {
      "cell_type": "code",
      "source": [
        "lista = [1, 8, 27, 125, 343, 512, 729, 1000]\n",
        "pares = filter(lambda x: x % 2 == 0, lista)\n",
        "impares = filter(lambda x: x % 2 != 0, lista)\n",
        "print(list(pares))\n",
        "print(list(impares))"
      ],
      "metadata": {
        "colab": {
          "base_uri": "https://localhost:8080/"
        },
        "id": "_RQLfz6HvnBZ",
        "outputId": "b07efb99-7ccd-4a6a-ac8d-44e26d2f10ec"
      },
      "execution_count": 22,
      "outputs": [
        {
          "output_type": "stream",
          "name": "stdout",
          "text": [
            "[8, 512, 1000]\n",
            "[1, 27, 125, 343, 729]\n"
          ]
        }
      ]
    },
    {
      "cell_type": "markdown",
      "source": [
        "Escreva uma função que encontrará todos os números entre X e Y (incluídos) tais que cada dígitos desses número é um nº par. Os números obtidos deve ser impresso numa sequência separada por vírgulas numa única linha."
      ],
      "metadata": {
        "id": "u-fhe2G_wbbq"
      }
    },
    {
      "cell_type": "code",
      "source": [],
      "metadata": {
        "id": "FmFF0P89wcD6"
      },
      "execution_count": null,
      "outputs": []
    }
  ]
}