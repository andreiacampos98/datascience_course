{
  "nbformat": 4,
  "nbformat_minor": 0,
  "metadata": {
    "colab": {
      "provenance": [],
      "include_colab_link": true
    },
    "kernelspec": {
      "name": "python3",
      "display_name": "Python 3"
    },
    "language_info": {
      "name": "python"
    }
  },
  "cells": [
    {
      "cell_type": "markdown",
      "metadata": {
        "id": "view-in-github",
        "colab_type": "text"
      },
      "source": [
        "<a href=\"https://colab.research.google.com/github/andreiacampos98/datascience_course/blob/main/Aula02.ipynb\" target=\"_parent\"><img src=\"https://colab.research.google.com/assets/colab-badge.svg\" alt=\"Open In Colab\"/></a>"
      ]
    },
    {
      "cell_type": "markdown",
      "source": [
        "#Cap 1"
      ],
      "metadata": {
        "id": "bX2hwvYtNccX"
      }
    },
    {
      "cell_type": "markdown",
      "source": [
        "## SubCap"
      ],
      "metadata": {
        "id": "LGwTT76rNgfx"
      }
    },
    {
      "cell_type": "code",
      "execution_count": null,
      "metadata": {
        "colab": {
          "base_uri": "https://localhost:8080/"
        },
        "id": "RtqZ-7RkNYLy",
        "outputId": "b67450e5-732f-441e-85bc-fca20767209c"
      },
      "outputs": [
        {
          "output_type": "stream",
          "name": "stdout",
          "text": [
            "30\n"
          ]
        }
      ],
      "source": [
        "a = 10\n",
        "b = 20\n",
        "c = a + b\n",
        "\n",
        "print(c)"
      ]
    },
    {
      "cell_type": "code",
      "source": [
        "a = True\n",
        "a = 2\n",
        "print (a)"
      ],
      "metadata": {
        "colab": {
          "base_uri": "https://localhost:8080/"
        },
        "id": "fYLChZptTVr9",
        "outputId": "aad459e2-8e75-4f44-fe17-2e73ebee66a6"
      },
      "execution_count": null,
      "outputs": [
        {
          "output_type": "stream",
          "name": "stdout",
          "text": [
            "2\n"
          ]
        }
      ]
    },
    {
      "cell_type": "code",
      "source": [
        "b = float(a)"
      ],
      "metadata": {
        "id": "ahIEvzwgUljN"
      },
      "execution_count": null,
      "outputs": []
    },
    {
      "cell_type": "code",
      "source": [
        "type(a)"
      ],
      "metadata": {
        "colab": {
          "base_uri": "https://localhost:8080/"
        },
        "id": "KWWVhtQiTztl",
        "outputId": "0b4837d1-ac03-423f-d2fe-1fc638195cd0"
      },
      "execution_count": null,
      "outputs": [
        {
          "output_type": "execute_result",
          "data": {
            "text/plain": [
              "bool"
            ]
          },
          "metadata": {},
          "execution_count": 8
        }
      ]
    },
    {
      "cell_type": "markdown",
      "source": [
        "# String"
      ],
      "metadata": {
        "id": "rpdY-_MrV17J"
      }
    },
    {
      "cell_type": "code",
      "source": [
        "faturamento = 1200\n",
        "custo = 700\n",
        "lucro = faturamento - custo\n",
        "margem_lucro = lucro/faturamento"
      ],
      "metadata": {
        "id": "CCM3zyu-V9Db"
      },
      "execution_count": null,
      "outputs": []
    },
    {
      "cell_type": "code",
      "source": [
        "print(\"Faturamento da empresa\", faturamento)"
      ],
      "metadata": {
        "colab": {
          "base_uri": "https://localhost:8080/"
        },
        "id": "r5cLOAYeWMYA",
        "outputId": "e66b16b8-7050-4d05-aa88-a94e2eae56a4"
      },
      "execution_count": null,
      "outputs": [
        {
          "output_type": "stream",
          "name": "stdout",
          "text": [
            "Faturamento da empresa 1200\n"
          ]
        }
      ]
    },
    {
      "cell_type": "code",
      "source": [
        "print(f\"Faturamento da empresa: R${faturamento:.2f}, custo: {custo}, lucro: {lucro:.2f}, Margem: {margem_lucro:.2%}\")"
      ],
      "metadata": {
        "colab": {
          "base_uri": "https://localhost:8080/"
        },
        "id": "gAxQv5LYWYVA",
        "outputId": "bae5d5af-3870-45fd-b16e-cb2753e97c41"
      },
      "execution_count": null,
      "outputs": [
        {
          "output_type": "stream",
          "name": "stdout",
          "text": [
            "Faturamento da empresa: R$1200.00, custo: 700, lucro: 500.00, Margem: 41.67%\n"
          ]
        }
      ]
    },
    {
      "cell_type": "code",
      "source": [
        "email = \"edit@gmail.com\""
      ],
      "metadata": {
        "id": "8gPTPJOxX_pO"
      },
      "execution_count": null,
      "outputs": []
    },
    {
      "cell_type": "code",
      "source": [
        "# Maiscula\n",
        "email_cliente = email.upper()\n",
        "print(email_cliente)\n",
        "\n",
        "#Minuscula\n",
        "\n",
        "email_cliente = email.lower()\n",
        "print(email_cliente)\n"
      ],
      "metadata": {
        "colab": {
          "base_uri": "https://localhost:8080/"
        },
        "id": "OjHqcsrAYL7I",
        "outputId": "aae843a9-bd44-4ee3-d976-4fe7816e278b"
      },
      "execution_count": null,
      "outputs": [
        {
          "output_type": "stream",
          "name": "stdout",
          "text": [
            "EDIT@GMAIL.COM\n",
            "edit@gmail.com\n"
          ]
        }
      ]
    },
    {
      "cell_type": "code",
      "source": [
        "print(email.find(\"@\")) # - 1 quando não encontrar"
      ],
      "metadata": {
        "colab": {
          "base_uri": "https://localhost:8080/"
        },
        "id": "_vYmxNjfYkFG",
        "outputId": "f23f8ed9-1259-47ff-e248-08e328e98e13"
      },
      "execution_count": null,
      "outputs": [
        {
          "output_type": "stream",
          "name": "stdout",
          "text": [
            "4\n"
          ]
        }
      ]
    },
    {
      "cell_type": "code",
      "source": [
        "print(len(email))"
      ],
      "metadata": {
        "colab": {
          "base_uri": "https://localhost:8080/"
        },
        "id": "dOufKrHzZdsG",
        "outputId": "41c6082c-05dd-4fd2-fc28-fd8106f0b6fd"
      },
      "execution_count": null,
      "outputs": [
        {
          "output_type": "stream",
          "name": "stdout",
          "text": [
            "14\n"
          ]
        }
      ]
    },
    {
      "cell_type": "code",
      "source": [
        "print(email_cliente[4])"
      ],
      "metadata": {
        "colab": {
          "base_uri": "https://localhost:8080/"
        },
        "id": "8gt6Y9K1aF8f",
        "outputId": "1d6e232b-dea6-4bb6-ae9f-d97b12cb3f67"
      },
      "execution_count": null,
      "outputs": [
        {
          "output_type": "stream",
          "name": "stdout",
          "text": [
            "@\n"
          ]
        }
      ]
    },
    {
      "cell_type": "code",
      "source": [
        "print(email_cliente[-4])"
      ],
      "metadata": {
        "colab": {
          "base_uri": "https://localhost:8080/"
        },
        "id": "nesDGor5aXfb",
        "outputId": "13491d79-0fef-4f6f-d1d6-303e567336a3"
      },
      "execution_count": null,
      "outputs": [
        {
          "output_type": "stream",
          "name": "stdout",
          "text": [
            ".\n"
          ]
        }
      ]
    },
    {
      "cell_type": "code",
      "source": [
        "print(email_cliente[5:])"
      ],
      "metadata": {
        "colab": {
          "base_uri": "https://localhost:8080/"
        },
        "id": "pMW1NM5xahVC",
        "outputId": "50763b9b-63e7-4e23-be83-86b14920ef5a"
      },
      "execution_count": null,
      "outputs": [
        {
          "output_type": "stream",
          "name": "stdout",
          "text": [
            "gmail.com\n"
          ]
        }
      ]
    },
    {
      "cell_type": "code",
      "source": [
        "# trocar pedaço do texto\n",
        "\n",
        "novo_email = email.replace(\"gmail.com\",\"hotmail.com\")\n",
        "print(novo_email)"
      ],
      "metadata": {
        "colab": {
          "base_uri": "https://localhost:8080/"
        },
        "id": "ee3FzNC7aqm-",
        "outputId": "d074a234-0c8f-4e18-ce99-fb06294bca24"
      },
      "execution_count": null,
      "outputs": [
        {
          "output_type": "stream",
          "name": "stdout",
          "text": [
            "edit@hotmail.com\n"
          ]
        }
      ]
    },
    {
      "cell_type": "code",
      "source": [
        "nome = \"rodrigo moutinho\"\n",
        "\n",
        "print(nome.capitalize())\n",
        "print(nome.title())\n"
      ],
      "metadata": {
        "colab": {
          "base_uri": "https://localhost:8080/"
        },
        "id": "WulEV2zda6Ip",
        "outputId": "80f0203e-8152-47b7-af47-9de59d5aff2a"
      },
      "execution_count": null,
      "outputs": [
        {
          "output_type": "stream",
          "name": "stdout",
          "text": [
            "Rodrigo moutinho\n",
            "Rodrigo Moutinho\n"
          ]
        }
      ]
    },
    {
      "cell_type": "code",
      "source": [
        "# pegar o servidor do email\n",
        "posicao_arroba = email.find(\"@\") + 1\n",
        "\n",
        "servidor = email[posicao_arroba:]\n",
        "\n",
        "print(servidor)\n"
      ],
      "metadata": {
        "colab": {
          "base_uri": "https://localhost:8080/"
        },
        "id": "uQ0mxgb8b507",
        "outputId": "d053278f-83c2-4ccb-fba7-b4f2c05713ca"
      },
      "execution_count": null,
      "outputs": [
        {
          "output_type": "stream",
          "name": "stdout",
          "text": [
            "gmail.com\n"
          ]
        }
      ]
    },
    {
      "cell_type": "code",
      "source": [
        "posicao_espaco = nome.find(\" \")\n",
        "primeiro_nome = nome[:posicao_espaco]\n",
        "\n",
        "print(primeiro_nome)"
      ],
      "metadata": {
        "colab": {
          "base_uri": "https://localhost:8080/"
        },
        "id": "i0jSruNEcsE9",
        "outputId": "f508dd5e-2a06-458a-ff11-a793d0c475c8"
      },
      "execution_count": null,
      "outputs": [
        {
          "output_type": "stream",
          "name": "stdout",
          "text": [
            "rodrigo\n"
          ]
        }
      ]
    },
    {
      "cell_type": "code",
      "source": [
        "sobrenome = nome[posicao_espaco+1:]\n",
        "print(primeiro_nome)\n",
        "print(sobrenome)"
      ],
      "metadata": {
        "colab": {
          "base_uri": "https://localhost:8080/"
        },
        "id": "X28DWyiGc-3M",
        "outputId": "e6bb163a-5816-4de0-94d7-b391f528c036"
      },
      "execution_count": null,
      "outputs": [
        {
          "output_type": "stream",
          "name": "stdout",
          "text": [
            "rodrigo\n",
            "moutinho\n"
          ]
        }
      ]
    },
    {
      "cell_type": "markdown",
      "source": [
        "# List"
      ],
      "metadata": {
        "id": "TKKZE-ZkoJBu"
      }
    },
    {
      "cell_type": "code",
      "source": [
        "#listas\n",
        "\n",
        "vendas = [100, 50, 14, 20, 30, 700]\n",
        "\n",
        "print(vendas)"
      ],
      "metadata": {
        "colab": {
          "base_uri": "https://localhost:8080/"
        },
        "id": "6--25UuEoK89",
        "outputId": "558157be-e92e-40de-da6a-f0fe7c7f3638"
      },
      "execution_count": null,
      "outputs": [
        {
          "output_type": "stream",
          "name": "stdout",
          "text": [
            "[100, 50, 14, 20, 30, 700]\n"
          ]
        }
      ]
    },
    {
      "cell_type": "code",
      "source": [
        "#some dos elementos\n",
        "\n",
        "total_vendas = sum(vendas)\n",
        "\n",
        "print(total_vendas)"
      ],
      "metadata": {
        "colab": {
          "base_uri": "https://localhost:8080/"
        },
        "id": "szVZ503foqgv",
        "outputId": "842e99e8-1844-45e3-98b1-6d69aea557a8"
      },
      "execution_count": null,
      "outputs": [
        {
          "output_type": "stream",
          "name": "stdout",
          "text": [
            "914\n"
          ]
        }
      ]
    },
    {
      "cell_type": "code",
      "source": [
        "# tamanho da lista\n",
        "\n",
        "quantidade_vendas = len(vendas)\n",
        "\n",
        "print(quantidade_vendas)"
      ],
      "metadata": {
        "colab": {
          "base_uri": "https://localhost:8080/"
        },
        "id": "BY4xhMEbo5lv",
        "outputId": "4679cb67-6707-4bcd-c983-b452b5773090"
      },
      "execution_count": null,
      "outputs": [
        {
          "output_type": "stream",
          "name": "stdout",
          "text": [
            "6\n"
          ]
        }
      ]
    },
    {
      "cell_type": "code",
      "source": [
        "vendas_media = total_vendas/quantidade_vendas\n",
        "\n",
        "print(vendas_media)"
      ],
      "metadata": {
        "colab": {
          "base_uri": "https://localhost:8080/"
        },
        "id": "MQcVnCQHpGhp",
        "outputId": "27591cf6-42af-4eea-a258-cf151a637599"
      },
      "execution_count": null,
      "outputs": [
        {
          "output_type": "stream",
          "name": "stdout",
          "text": [
            "152.33333333333334\n"
          ]
        }
      ]
    },
    {
      "cell_type": "code",
      "source": [
        "# max e min\n",
        "\n",
        "print(max(vendas))\n",
        "\n",
        "print(min(vendas))"
      ],
      "metadata": {
        "colab": {
          "base_uri": "https://localhost:8080/"
        },
        "id": "4rOnAu8KpQ2w",
        "outputId": "29abdf40-969c-46d6-9721-c05c0b99045c"
      },
      "execution_count": null,
      "outputs": [
        {
          "output_type": "stream",
          "name": "stdout",
          "text": [
            "700\n",
            "14\n"
          ]
        }
      ]
    },
    {
      "cell_type": "code",
      "source": [
        "print(vendas[5])"
      ],
      "metadata": {
        "colab": {
          "base_uri": "https://localhost:8080/"
        },
        "id": "sFe-7SUapahV",
        "outputId": "8b81b89a-dae4-448b-e191-4b2cb6f06f45"
      },
      "execution_count": null,
      "outputs": [
        {
          "output_type": "stream",
          "name": "stdout",
          "text": [
            "700\n"
          ]
        }
      ]
    },
    {
      "cell_type": "code",
      "source": [
        "lista_produtos = [\"iphone\", \"airpod\", \"ipad\", \"macbook\"]"
      ],
      "metadata": {
        "id": "OBPy5N9QqLnq"
      },
      "execution_count": null,
      "outputs": []
    },
    {
      "cell_type": "code",
      "source": [
        "produto_procurado = input(\"Pesquise pelo nome do produto: \")\n",
        "\n",
        "produto_procurado = produto_procurado.lower()\n",
        "\n",
        "print(produto_procurado)"
      ],
      "metadata": {
        "colab": {
          "base_uri": "https://localhost:8080/"
        },
        "id": "n0dxrBcQpnbl",
        "outputId": "a4c0a308-67c7-4e94-b5a9-3128f4306381"
      },
      "execution_count": null,
      "outputs": [
        {
          "output_type": "stream",
          "name": "stdout",
          "text": [
            "Pesquise pelo nome do produto: Apple Watch\n",
            "apple watch\n"
          ]
        }
      ]
    },
    {
      "cell_type": "code",
      "source": [
        "lista_produtos.append(produto_procurado)"
      ],
      "metadata": {
        "id": "bIbrbyAPqGw_"
      },
      "execution_count": null,
      "outputs": []
    },
    {
      "cell_type": "code",
      "source": [
        "print(lista_produtos)"
      ],
      "metadata": {
        "colab": {
          "base_uri": "https://localhost:8080/"
        },
        "id": "F7sso99eqZ3_",
        "outputId": "7d77c0c6-78c1-4926-c135-aa64709fdbeb"
      },
      "execution_count": null,
      "outputs": [
        {
          "output_type": "stream",
          "name": "stdout",
          "text": [
            "['iphone', 'airpod', 'ipad', 'macbook', 'apple watch']\n"
          ]
        }
      ]
    },
    {
      "cell_type": "code",
      "source": [
        "lista_produtos.remove(produto_procurado)"
      ],
      "metadata": {
        "id": "EqKOJOgaqdUA"
      },
      "execution_count": null,
      "outputs": []
    },
    {
      "cell_type": "code",
      "source": [
        "print(lista_produtos)"
      ],
      "metadata": {
        "colab": {
          "base_uri": "https://localhost:8080/"
        },
        "id": "K4nk8rCiqicp",
        "outputId": "df502636-1e6c-4eaf-bd6f-065dd697518e"
      },
      "execution_count": null,
      "outputs": [
        {
          "output_type": "stream",
          "name": "stdout",
          "text": [
            "['iphone', 'airpod', 'ipad', 'macbook']\n"
          ]
        }
      ]
    },
    {
      "cell_type": "code",
      "source": [
        "print(vendas)"
      ],
      "metadata": {
        "colab": {
          "base_uri": "https://localhost:8080/"
        },
        "id": "dKZz8in9qqtC",
        "outputId": "03dce1ca-2540-46c3-f54c-3c546a8b0e60"
      },
      "execution_count": null,
      "outputs": [
        {
          "output_type": "stream",
          "name": "stdout",
          "text": [
            "[100, 50, 14, 20, 30, 700]\n"
          ]
        }
      ]
    },
    {
      "cell_type": "code",
      "source": [
        "vendas[1] = vendas[1] *1.5\n",
        "\n",
        "print(vendas)"
      ],
      "metadata": {
        "colab": {
          "base_uri": "https://localhost:8080/"
        },
        "id": "Kknoph8QqucO",
        "outputId": "f944edba-a686-40cd-f818-05ab3875739a"
      },
      "execution_count": null,
      "outputs": [
        {
          "output_type": "stream",
          "name": "stdout",
          "text": [
            "[100, 75.0, 14, 20, 30, 700]\n"
          ]
        }
      ]
    },
    {
      "cell_type": "code",
      "source": [
        "print(lista_produtos)"
      ],
      "metadata": {
        "colab": {
          "base_uri": "https://localhost:8080/"
        },
        "id": "D64LGclyrOuZ",
        "outputId": "11ddc616-b480-4dd1-de84-eefbef31f09c"
      },
      "execution_count": null,
      "outputs": [
        {
          "output_type": "stream",
          "name": "stdout",
          "text": [
            "['iphone', 'airpod', 'ipad', 'macbook']\n"
          ]
        }
      ]
    },
    {
      "cell_type": "code",
      "source": [
        "lista_produtos.append(\"iphone\")\n",
        "\n",
        "print(lista_produtos)"
      ],
      "metadata": {
        "colab": {
          "base_uri": "https://localhost:8080/"
        },
        "id": "xphw3AGrrXEV",
        "outputId": "542c59a8-5644-4e9c-e87f-50d3cf198960"
      },
      "execution_count": null,
      "outputs": [
        {
          "output_type": "stream",
          "name": "stdout",
          "text": [
            "['iphone', 'airpod', 'ipad', 'macbook', 'iphone']\n"
          ]
        }
      ]
    },
    {
      "cell_type": "code",
      "source": [
        "print(lista_produtos.count(\"iphone\"))"
      ],
      "metadata": {
        "colab": {
          "base_uri": "https://localhost:8080/"
        },
        "id": "9_rm5uxCrdJk",
        "outputId": "f5475703-b852-4e52-b6d7-b33a303728f5"
      },
      "execution_count": null,
      "outputs": [
        {
          "output_type": "stream",
          "name": "stdout",
          "text": [
            "2\n"
          ]
        }
      ]
    },
    {
      "cell_type": "code",
      "source": [
        "#ordenar\n",
        "vendas.sort(reverse = True)\n",
        "\n",
        "print(vendas)\n"
      ],
      "metadata": {
        "colab": {
          "base_uri": "https://localhost:8080/"
        },
        "id": "UeLiKhKfrr1Y",
        "outputId": "82365890-7179-4e08-e070-6502ba72cf98"
      },
      "execution_count": null,
      "outputs": [
        {
          "output_type": "stream",
          "name": "stdout",
          "text": [
            "[700, 100, 75.0, 30, 20, 14]\n"
          ]
        }
      ]
    },
    {
      "cell_type": "markdown",
      "source": [
        "## Dict"
      ],
      "metadata": {
        "id": "VgVWnrlVtnXn"
      }
    },
    {
      "cell_type": "code",
      "source": [
        "dic_produtos = {\"airpod\": 2000, \"ipad\": 9000, \"iphone\": 9000, \"macbook\": 11000}\n",
        "\n",
        "print(dic_produtos)"
      ],
      "metadata": {
        "colab": {
          "base_uri": "https://localhost:8080/"
        },
        "id": "WAF3l_O0tqC2",
        "outputId": "cfa12437-cf20-4bdb-b2fb-e1e65838e6bf"
      },
      "execution_count": null,
      "outputs": [
        {
          "output_type": "stream",
          "name": "stdout",
          "text": [
            "{'airpod': 2000, 'ipad': 9000, 'iphone': 9000, 'macbook': 11000}\n"
          ]
        }
      ]
    },
    {
      "cell_type": "code",
      "source": [
        "# pegar um elementa\n",
        "\n",
        "print(dic_produtos[\"ipad\"])"
      ],
      "metadata": {
        "colab": {
          "base_uri": "https://localhost:8080/"
        },
        "id": "3TnaaOP4t55p",
        "outputId": "99d03adb-2cd5-4a2a-8164-298e68196fd2"
      },
      "execution_count": null,
      "outputs": [
        {
          "output_type": "stream",
          "name": "stdout",
          "text": [
            "9000\n"
          ]
        }
      ]
    },
    {
      "cell_type": "code",
      "source": [
        "#editor um elemnto\n",
        "\n",
        "dic_produtos[\"iphone\"] = dic_produtos[\"iphone\"] * 1.3\n",
        "\n",
        "print(dic_produtos)"
      ],
      "metadata": {
        "colab": {
          "base_uri": "https://localhost:8080/"
        },
        "id": "2YEppwHouId2",
        "outputId": "9f567630-891f-4b2a-cafa-ffc72e55d975"
      },
      "execution_count": null,
      "outputs": [
        {
          "output_type": "stream",
          "name": "stdout",
          "text": [
            "{'airpod': 2000, 'ipad': 9000, 'iphone': 7800.0, 'macbook': 11000}\n"
          ]
        }
      ]
    },
    {
      "cell_type": "code",
      "source": [
        "print(len(dic_produtos))"
      ],
      "metadata": {
        "colab": {
          "base_uri": "https://localhost:8080/"
        },
        "id": "oFtDH2ChwI3e",
        "outputId": "afe96eed-b4c2-42c2-ba64-69bd54887de6"
      },
      "execution_count": null,
      "outputs": [
        {
          "output_type": "stream",
          "name": "stdout",
          "text": [
            "4\n"
          ]
        }
      ]
    },
    {
      "cell_type": "code",
      "source": [
        "# verificar se um valor existe\n",
        "if 9000 in dic_produtos.values():\n",
        "   print(\"Existe Produto\")\n",
        "else:\n",
        "  print(\"Não Existe\")\n"
      ],
      "metadata": {
        "colab": {
          "base_uri": "https://localhost:8080/"
        },
        "id": "MxeZt1gGuaXR",
        "outputId": "771eb8e3-fd0c-4c74-e6c8-841a4a893870"
      },
      "execution_count": null,
      "outputs": [
        {
          "output_type": "stream",
          "name": "stdout",
          "text": [
            "Existe Produto\n"
          ]
        }
      ]
    },
    {
      "cell_type": "code",
      "source": [
        "produtos_encontrados = [produto for produto, preco in dic_produtos.items() if preco == 9000]\n",
        "\n",
        "print(produtos_encontrados)"
      ],
      "metadata": {
        "colab": {
          "base_uri": "https://localhost:8080/"
        },
        "id": "aFDQN9osvJgH",
        "outputId": "920557b0-ab7e-4741-821d-3834537e5cdc"
      },
      "execution_count": null,
      "outputs": [
        {
          "output_type": "stream",
          "name": "stdout",
          "text": [
            "['ipad', 'iphone']\n"
          ]
        }
      ]
    },
    {
      "cell_type": "code",
      "source": [
        "# retirar um item no dicionario\n",
        "\n",
        "dic_produtos.pop(\"airpod\")\n",
        "\n",
        "print(dic_produtos)"
      ],
      "metadata": {
        "colab": {
          "base_uri": "https://localhost:8080/"
        },
        "id": "ywSHhjWXwP_d",
        "outputId": "c24e34ce-e8ae-44ae-8e65-37a7d79a5029"
      },
      "execution_count": null,
      "outputs": [
        {
          "output_type": "stream",
          "name": "stdout",
          "text": [
            "{'ipad': 9000, 'iphone': 9000, 'macbook': 11000}\n"
          ]
        }
      ]
    },
    {
      "cell_type": "code",
      "source": [
        "# adicionar um item no dicionario\n",
        "\n",
        "dic_produtos[\"airpod\"] = 2000"
      ],
      "metadata": {
        "id": "kT65Sm6HweMC"
      },
      "execution_count": null,
      "outputs": []
    },
    {
      "cell_type": "code",
      "source": [
        "print(dic_produtos)"
      ],
      "metadata": {
        "colab": {
          "base_uri": "https://localhost:8080/"
        },
        "id": "1f1_EpJgwpAq",
        "outputId": "f171907a-6728-4f53-b5c1-472a92267248"
      },
      "execution_count": null,
      "outputs": [
        {
          "output_type": "stream",
          "name": "stdout",
          "text": [
            "{'ipad': 9000, 'iphone': 9000, 'macbook': 11000, 'airpod': 2000}\n"
          ]
        }
      ]
    },
    {
      "cell_type": "code",
      "source": [
        "# aumentor em 10% o valor de todos os produtos\n",
        "\n",
        "for produto in dic_produtos:\n",
        "  novo_preco = dic_produtos[produto] * 1.1\n",
        "  dic_produtos[produto] = novo_preco\n",
        "\n",
        "print(dic_produtos)"
      ],
      "metadata": {
        "colab": {
          "base_uri": "https://localhost:8080/"
        },
        "id": "bZGojHX0w2y9",
        "outputId": "71977cbb-2b6e-45a6-e6aa-2f1f51e24a6c"
      },
      "execution_count": null,
      "outputs": [
        {
          "output_type": "stream",
          "name": "stdout",
          "text": [
            "{'ipad': 9900.0, 'iphone': 9900.0, 'macbook': 12100.000000000002, 'airpod': 2200.0}\n"
          ]
        }
      ]
    },
    {
      "cell_type": "markdown",
      "source": [
        "## If / Operator"
      ],
      "metadata": {
        "id": "qkB9EXacyoZh"
      }
    },
    {
      "cell_type": "code",
      "source": [
        "# > maior que\n",
        "# < menor que\n",
        "# >= maior ou igual\n",
        "# <= menor ou igual\n",
        "# == igual\n",
        "# != diferente"
      ],
      "metadata": {
        "id": "ViJOt19fyv2s"
      },
      "execution_count": null,
      "outputs": []
    },
    {
      "cell_type": "code",
      "source": [
        "vendas = 1500\n",
        "meta = 1300"
      ],
      "metadata": {
        "id": "Nxlf5bk9y7W3"
      },
      "execution_count": null,
      "outputs": []
    },
    {
      "cell_type": "code",
      "source": [
        "if vendas >= meta:\n",
        "  print(\"Vendedor ganha bonus\")\n",
        "else:\n",
        "  print(\"Vendedor nao ganhou bonus\")"
      ],
      "metadata": {
        "colab": {
          "base_uri": "https://localhost:8080/"
        },
        "id": "rYKZT36TzFEy",
        "outputId": "783643cd-5789-473d-93b2-a3dc598bc02d"
      },
      "execution_count": null,
      "outputs": [
        {
          "output_type": "stream",
          "name": "stdout",
          "text": [
            "Vendedor ganha bonus\n"
          ]
        }
      ]
    },
    {
      "cell_type": "code",
      "source": [
        "if vendas >= meta:\n",
        "  print(\"Vendedor ganha bonus\")\n",
        "  bonus = 0.1*vendas\n",
        "  print(f\"Bonus do vendedor: {bonus}\")\n",
        "else:\n",
        "  print(\"Vendedor nao ganhou bonus\")"
      ],
      "metadata": {
        "colab": {
          "base_uri": "https://localhost:8080/"
        },
        "id": "St-yjMw00Mtp",
        "outputId": "42844fe8-20de-47bb-eb6f-a3f8d6595f6e"
      },
      "execution_count": null,
      "outputs": [
        {
          "output_type": "stream",
          "name": "stdout",
          "text": [
            "Vendedor ganha bonus\n",
            "Bonus do vendedor: 150.0\n"
          ]
        }
      ]
    },
    {
      "cell_type": "code",
      "source": [
        "# 2 cenario\n",
        "\n",
        "vendas = 1900\n",
        "vendas_empresa = 1800\n",
        "meta_empresa = 2000\n",
        "meta1 = 1300 # ganhar 10%\n",
        "meta2 = 2000 # ganhar 13%\n",
        "\n",
        "if vendas >=2000 and vendas_empresa >= meta_empresa:\n",
        "   bonus = 0.13 * vendas\n",
        "elif vendas >= 1300 and vendas_empresa >= meta_empresa:\n",
        "   bonus = 0.1 * vendas\n",
        "else:\n",
        "   bonus = 0\n",
        "print(\"bonus: \", bonus)\n"
      ],
      "metadata": {
        "colab": {
          "base_uri": "https://localhost:8080/"
        },
        "id": "1mzWnjMx0cn5",
        "outputId": "60f4f08d-ce31-4ee5-e523-19f1108321dc"
      },
      "execution_count": null,
      "outputs": [
        {
          "output_type": "stream",
          "name": "stdout",
          "text": [
            "bonus:  0\n"
          ]
        }
      ]
    }
  ]
}