{
  "nbformat": 4,
  "nbformat_minor": 0,
  "metadata": {
    "colab": {
      "provenance": [],
      "authorship_tag": "ABX9TyMQwGIW1fBHwQOyoH2UBDOX",
      "include_colab_link": true
    },
    "kernelspec": {
      "name": "python3",
      "display_name": "Python 3"
    },
    "language_info": {
      "name": "python"
    }
  },
  "cells": [
    {
      "cell_type": "markdown",
      "metadata": {
        "id": "view-in-github",
        "colab_type": "text"
      },
      "source": [
        "<a href=\"https://colab.research.google.com/github/andreiacampos98/datascience_course/blob/main/Exercicios_aula7.ipynb\" target=\"_parent\"><img src=\"https://colab.research.google.com/assets/colab-badge.svg\" alt=\"Open In Colab\"/></a>"
      ]
    },
    {
      "cell_type": "code",
      "execution_count": 2,
      "metadata": {
        "id": "gb5BsvY4P7s-"
      },
      "outputs": [],
      "source": [
        "import pandas as pd\n",
        "import matplotlib.pyplot as plt\n",
        "\n",
        "df=pd.read_excel(\"/content/Gerentes.xlsx\")\n",
        "df=pd.read_excel(\"/content/Vendas.xlsx\")\n"
      ]
    },
    {
      "cell_type": "markdown",
      "source": [
        "1. Relacionar Vendas com Gerentes\n",
        "\n",
        "Combine as informações das duas planilhas para identificar qual gerente está associado a cada venda. Quantas vendas cada gerente realizou no total?\n"
      ],
      "metadata": {
        "id": "qw2RnCyqQQck"
      }
    },
    {
      "cell_type": "code",
      "source": [],
      "metadata": {
        "id": "mQiLtynrQSxH"
      },
      "execution_count": null,
      "outputs": []
    },
    {
      "cell_type": "markdown",
      "source": [
        "2. Desempenho por Loja\n",
        "\n",
        "Qual foi o total de vendas (em valor final) realizado por cada loja? Apresente as lojas em ordem decrescente de faturamento.\n"
      ],
      "metadata": {
        "id": "pXc3nSrpQS7h"
      }
    },
    {
      "cell_type": "code",
      "source": [],
      "metadata": {
        "id": "rNeT2wrWQVWI"
      },
      "execution_count": null,
      "outputs": []
    },
    {
      "cell_type": "markdown",
      "source": [
        "3. Produto Mais Vendido\n",
        "\n",
        "Qual produto foi o mais vendido (em quantidade) em todo o período? Liste também o produto com o maior faturamento.\n"
      ],
      "metadata": {
        "id": "3aiK4JgeQVqX"
      }
    },
    {
      "cell_type": "markdown",
      "source": [],
      "metadata": {
        "id": "lFkabABcQZs_"
      }
    },
    {
      "cell_type": "code",
      "source": [],
      "metadata": {
        "id": "UqRSjK6NQaFv"
      },
      "execution_count": null,
      "outputs": []
    },
    {
      "cell_type": "markdown",
      "source": [
        "4. Venda Média por Loja\n",
        "\n",
        "Calcule a média do valor final das vendas para cada loja. Qual loja teve a maior média?\n"
      ],
      "metadata": {
        "id": "dnpVwdTHQawn"
      }
    },
    {
      "cell_type": "code",
      "source": [],
      "metadata": {
        "id": "wrBnlqKXQd_X"
      },
      "execution_count": null,
      "outputs": []
    },
    {
      "cell_type": "markdown",
      "source": [
        "5. Análise Temporal\n",
        "\n",
        "Analise o desempenho de vendas ao longo do tempo (ex.: por mês ou trimestre). Algum padrão ou tendência sazonal foi identificado?\n"
      ],
      "metadata": {
        "id": "YSSGQAplQgbX"
      }
    }
  ]
}