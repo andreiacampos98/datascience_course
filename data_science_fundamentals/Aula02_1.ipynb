{
  "cells": [
    {
      "cell_type": "markdown",
      "metadata": {
        "colab_type": "text",
        "id": "view-in-github"
      },
      "source": [
        "<a href=\"https://colab.research.google.com/github/andreiacampos98/datascience_course/blob/main/Aula02_1.ipynb\" target=\"_parent\"><img src=\"https://colab.research.google.com/assets/colab-badge.svg\" alt=\"Open In Colab\"/></a>"
      ]
    },
    {
      "cell_type": "markdown",
      "metadata": {
        "id": "bX2hwvYtNccX"
      },
      "source": [
        "#Cap 1"
      ]
    },
    {
      "cell_type": "markdown",
      "metadata": {
        "id": "LGwTT76rNgfx"
      },
      "source": [
        "## SubCap"
      ]
    },
    {
      "cell_type": "code",
      "execution_count": null,
      "metadata": {
        "colab": {
          "base_uri": "https://localhost:8080/"
        },
        "id": "RtqZ-7RkNYLy",
        "outputId": "b67450e5-732f-441e-85bc-fca20767209c"
      },
      "outputs": [
        {
          "name": "stdout",
          "output_type": "stream",
          "text": [
            "30\n"
          ]
        }
      ],
      "source": [
        "a = 10\n",
        "b = 20\n",
        "c = a + b\n",
        "\n",
        "print(c)"
      ]
    },
    {
      "cell_type": "code",
      "execution_count": null,
      "metadata": {
        "colab": {
          "base_uri": "https://localhost:8080/"
        },
        "id": "fYLChZptTVr9",
        "outputId": "aad459e2-8e75-4f44-fe17-2e73ebee66a6"
      },
      "outputs": [
        {
          "name": "stdout",
          "output_type": "stream",
          "text": [
            "2\n"
          ]
        }
      ],
      "source": [
        "a = True\n",
        "a = 2\n",
        "print (a)"
      ]
    },
    {
      "cell_type": "code",
      "execution_count": null,
      "metadata": {
        "id": "ahIEvzwgUljN"
      },
      "outputs": [],
      "source": [
        "b = float(a)"
      ]
    },
    {
      "cell_type": "code",
      "execution_count": null,
      "metadata": {
        "colab": {
          "base_uri": "https://localhost:8080/"
        },
        "id": "KWWVhtQiTztl",
        "outputId": "0b4837d1-ac03-423f-d2fe-1fc638195cd0"
      },
      "outputs": [
        {
          "data": {
            "text/plain": [
              "bool"
            ]
          },
          "execution_count": 8,
          "metadata": {},
          "output_type": "execute_result"
        }
      ],
      "source": [
        "type(a)"
      ]
    },
    {
      "cell_type": "markdown",
      "metadata": {
        "id": "rpdY-_MrV17J"
      },
      "source": [
        "# String"
      ]
    },
    {
      "cell_type": "code",
      "execution_count": null,
      "metadata": {
        "id": "CCM3zyu-V9Db"
      },
      "outputs": [],
      "source": [
        "faturamento = 1200\n",
        "custo = 700\n",
        "lucro = faturamento - custo\n",
        "margem_lucro = lucro/faturamento"
      ]
    },
    {
      "cell_type": "code",
      "execution_count": null,
      "metadata": {
        "colab": {
          "base_uri": "https://localhost:8080/"
        },
        "id": "r5cLOAYeWMYA",
        "outputId": "e66b16b8-7050-4d05-aa88-a94e2eae56a4"
      },
      "outputs": [
        {
          "name": "stdout",
          "output_type": "stream",
          "text": [
            "Faturamento da empresa 1200\n"
          ]
        }
      ],
      "source": [
        "print(\"Faturamento da empresa\", faturamento)"
      ]
    },
    {
      "cell_type": "code",
      "execution_count": null,
      "metadata": {
        "colab": {
          "base_uri": "https://localhost:8080/"
        },
        "id": "gAxQv5LYWYVA",
        "outputId": "bae5d5af-3870-45fd-b16e-cb2753e97c41"
      },
      "outputs": [
        {
          "name": "stdout",
          "output_type": "stream",
          "text": [
            "Faturamento da empresa: R$1200.00, custo: 700, lucro: 500.00, Margem: 41.67%\n"
          ]
        }
      ],
      "source": [
        "print(f\"Faturamento da empresa: R${faturamento:.2f}, custo: {custo}, lucro: {lucro:.2f}, Margem: {margem_lucro:.2%}\")"
      ]
    },
    {
      "cell_type": "code",
      "execution_count": null,
      "metadata": {
        "id": "8gPTPJOxX_pO"
      },
      "outputs": [],
      "source": [
        "email = \"edit@gmail.com\""
      ]
    },
    {
      "cell_type": "code",
      "execution_count": null,
      "metadata": {
        "colab": {
          "base_uri": "https://localhost:8080/"
        },
        "id": "OjHqcsrAYL7I",
        "outputId": "aae843a9-bd44-4ee3-d976-4fe7816e278b"
      },
      "outputs": [
        {
          "name": "stdout",
          "output_type": "stream",
          "text": [
            "EDIT@GMAIL.COM\n",
            "edit@gmail.com\n"
          ]
        }
      ],
      "source": [
        "# Maiscula\n",
        "email_cliente = email.upper()\n",
        "print(email_cliente)\n",
        "\n",
        "#Minuscula\n",
        "\n",
        "email_cliente = email.lower()\n",
        "print(email_cliente)\n"
      ]
    },
    {
      "cell_type": "code",
      "execution_count": null,
      "metadata": {
        "colab": {
          "base_uri": "https://localhost:8080/"
        },
        "id": "_vYmxNjfYkFG",
        "outputId": "f23f8ed9-1259-47ff-e248-08e328e98e13"
      },
      "outputs": [
        {
          "name": "stdout",
          "output_type": "stream",
          "text": [
            "4\n"
          ]
        }
      ],
      "source": [
        "print(email.find(\"@\")) # - 1 quando não encontrar"
      ]
    },
    {
      "cell_type": "code",
      "execution_count": null,
      "metadata": {
        "colab": {
          "base_uri": "https://localhost:8080/"
        },
        "id": "dOufKrHzZdsG",
        "outputId": "41c6082c-05dd-4fd2-fc28-fd8106f0b6fd"
      },
      "outputs": [
        {
          "name": "stdout",
          "output_type": "stream",
          "text": [
            "14\n"
          ]
        }
      ],
      "source": [
        "print(len(email))"
      ]
    },
    {
      "cell_type": "code",
      "execution_count": null,
      "metadata": {
        "colab": {
          "base_uri": "https://localhost:8080/"
        },
        "id": "8gt6Y9K1aF8f",
        "outputId": "1d6e232b-dea6-4bb6-ae9f-d97b12cb3f67"
      },
      "outputs": [
        {
          "name": "stdout",
          "output_type": "stream",
          "text": [
            "@\n"
          ]
        }
      ],
      "source": [
        "print(email_cliente[4])"
      ]
    },
    {
      "cell_type": "code",
      "execution_count": null,
      "metadata": {
        "colab": {
          "base_uri": "https://localhost:8080/"
        },
        "id": "nesDGor5aXfb",
        "outputId": "13491d79-0fef-4f6f-d1d6-303e567336a3"
      },
      "outputs": [
        {
          "name": "stdout",
          "output_type": "stream",
          "text": [
            ".\n"
          ]
        }
      ],
      "source": [
        "print(email_cliente[-4])"
      ]
    },
    {
      "cell_type": "code",
      "execution_count": null,
      "metadata": {
        "colab": {
          "base_uri": "https://localhost:8080/"
        },
        "id": "pMW1NM5xahVC",
        "outputId": "50763b9b-63e7-4e23-be83-86b14920ef5a"
      },
      "outputs": [
        {
          "name": "stdout",
          "output_type": "stream",
          "text": [
            "gmail.com\n"
          ]
        }
      ],
      "source": [
        "print(email_cliente[5:])"
      ]
    },
    {
      "cell_type": "code",
      "execution_count": null,
      "metadata": {
        "colab": {
          "base_uri": "https://localhost:8080/"
        },
        "id": "ee3FzNC7aqm-",
        "outputId": "d074a234-0c8f-4e18-ce99-fb06294bca24"
      },
      "outputs": [
        {
          "name": "stdout",
          "output_type": "stream",
          "text": [
            "edit@hotmail.com\n"
          ]
        }
      ],
      "source": [
        "# trocar pedaço do texto\n",
        "\n",
        "novo_email = email.replace(\"gmail.com\",\"hotmail.com\")\n",
        "print(novo_email)"
      ]
    },
    {
      "cell_type": "code",
      "execution_count": null,
      "metadata": {
        "colab": {
          "base_uri": "https://localhost:8080/"
        },
        "id": "WulEV2zda6Ip",
        "outputId": "80f0203e-8152-47b7-af47-9de59d5aff2a"
      },
      "outputs": [
        {
          "name": "stdout",
          "output_type": "stream",
          "text": [
            "Rodrigo moutinho\n",
            "Rodrigo Moutinho\n"
          ]
        }
      ],
      "source": [
        "nome = \"rodrigo moutinho\"\n",
        "\n",
        "print(nome.capitalize())\n",
        "print(nome.title())\n"
      ]
    },
    {
      "cell_type": "code",
      "execution_count": null,
      "metadata": {
        "colab": {
          "base_uri": "https://localhost:8080/"
        },
        "id": "uQ0mxgb8b507",
        "outputId": "d053278f-83c2-4ccb-fba7-b4f2c05713ca"
      },
      "outputs": [
        {
          "name": "stdout",
          "output_type": "stream",
          "text": [
            "gmail.com\n"
          ]
        }
      ],
      "source": [
        "# pegar o servidor do email\n",
        "posicao_arroba = email.find(\"@\") + 1\n",
        "\n",
        "servidor = email[posicao_arroba:]\n",
        "\n",
        "print(servidor)\n"
      ]
    },
    {
      "cell_type": "code",
      "execution_count": null,
      "metadata": {
        "colab": {
          "base_uri": "https://localhost:8080/"
        },
        "id": "i0jSruNEcsE9",
        "outputId": "f508dd5e-2a06-458a-ff11-a793d0c475c8"
      },
      "outputs": [
        {
          "name": "stdout",
          "output_type": "stream",
          "text": [
            "rodrigo\n"
          ]
        }
      ],
      "source": [
        "posicao_espaco = nome.find(\" \")\n",
        "primeiro_nome = nome[:posicao_espaco]\n",
        "\n",
        "print(primeiro_nome)"
      ]
    },
    {
      "cell_type": "code",
      "execution_count": null,
      "metadata": {
        "colab": {
          "base_uri": "https://localhost:8080/"
        },
        "id": "X28DWyiGc-3M",
        "outputId": "e6bb163a-5816-4de0-94d7-b391f528c036"
      },
      "outputs": [
        {
          "name": "stdout",
          "output_type": "stream",
          "text": [
            "rodrigo\n",
            "moutinho\n"
          ]
        }
      ],
      "source": [
        "sobrenome = nome[posicao_espaco+1:]\n",
        "print(primeiro_nome)\n",
        "print(sobrenome)"
      ]
    },
    {
      "cell_type": "markdown",
      "metadata": {
        "id": "TKKZE-ZkoJBu"
      },
      "source": [
        "# List"
      ]
    },
    {
      "cell_type": "code",
      "execution_count": null,
      "metadata": {
        "colab": {
          "base_uri": "https://localhost:8080/"
        },
        "id": "6--25UuEoK89",
        "outputId": "558157be-e92e-40de-da6a-f0fe7c7f3638"
      },
      "outputs": [
        {
          "name": "stdout",
          "output_type": "stream",
          "text": [
            "[100, 50, 14, 20, 30, 700]\n"
          ]
        }
      ],
      "source": [
        "#listas\n",
        "\n",
        "vendas = [100, 50, 14, 20, 30, 700]\n",
        "\n",
        "print(vendas)"
      ]
    },
    {
      "cell_type": "code",
      "execution_count": null,
      "metadata": {
        "colab": {
          "base_uri": "https://localhost:8080/"
        },
        "id": "szVZ503foqgv",
        "outputId": "842e99e8-1844-45e3-98b1-6d69aea557a8"
      },
      "outputs": [
        {
          "name": "stdout",
          "output_type": "stream",
          "text": [
            "914\n"
          ]
        }
      ],
      "source": [
        "#some dos elementos\n",
        "\n",
        "total_vendas = sum(vendas)\n",
        "\n",
        "print(total_vendas)"
      ]
    },
    {
      "cell_type": "code",
      "execution_count": null,
      "metadata": {
        "colab": {
          "base_uri": "https://localhost:8080/"
        },
        "id": "BY4xhMEbo5lv",
        "outputId": "4679cb67-6707-4bcd-c983-b452b5773090"
      },
      "outputs": [
        {
          "name": "stdout",
          "output_type": "stream",
          "text": [
            "6\n"
          ]
        }
      ],
      "source": [
        "# tamanho da lista\n",
        "\n",
        "quantidade_vendas = len(vendas)\n",
        "\n",
        "print(quantidade_vendas)"
      ]
    },
    {
      "cell_type": "code",
      "execution_count": null,
      "metadata": {
        "colab": {
          "base_uri": "https://localhost:8080/"
        },
        "id": "MQcVnCQHpGhp",
        "outputId": "27591cf6-42af-4eea-a258-cf151a637599"
      },
      "outputs": [
        {
          "name": "stdout",
          "output_type": "stream",
          "text": [
            "152.33333333333334\n"
          ]
        }
      ],
      "source": [
        "vendas_media = total_vendas/quantidade_vendas\n",
        "\n",
        "print(vendas_media)"
      ]
    },
    {
      "cell_type": "code",
      "execution_count": null,
      "metadata": {
        "colab": {
          "base_uri": "https://localhost:8080/"
        },
        "id": "4rOnAu8KpQ2w",
        "outputId": "29abdf40-969c-46d6-9721-c05c0b99045c"
      },
      "outputs": [
        {
          "name": "stdout",
          "output_type": "stream",
          "text": [
            "700\n",
            "14\n"
          ]
        }
      ],
      "source": [
        "# max e min\n",
        "\n",
        "print(max(vendas))\n",
        "\n",
        "print(min(vendas))"
      ]
    },
    {
      "cell_type": "code",
      "execution_count": null,
      "metadata": {
        "colab": {
          "base_uri": "https://localhost:8080/"
        },
        "id": "sFe-7SUapahV",
        "outputId": "8b81b89a-dae4-448b-e191-4b2cb6f06f45"
      },
      "outputs": [
        {
          "name": "stdout",
          "output_type": "stream",
          "text": [
            "700\n"
          ]
        }
      ],
      "source": [
        "print(vendas[5])"
      ]
    },
    {
      "cell_type": "code",
      "execution_count": null,
      "metadata": {
        "id": "OBPy5N9QqLnq"
      },
      "outputs": [],
      "source": [
        "lista_produtos = [\"iphone\", \"airpod\", \"ipad\", \"macbook\"]"
      ]
    },
    {
      "cell_type": "code",
      "execution_count": null,
      "metadata": {
        "colab": {
          "base_uri": "https://localhost:8080/"
        },
        "id": "n0dxrBcQpnbl",
        "outputId": "a4c0a308-67c7-4e94-b5a9-3128f4306381"
      },
      "outputs": [
        {
          "name": "stdout",
          "output_type": "stream",
          "text": [
            "Pesquise pelo nome do produto: Apple Watch\n",
            "apple watch\n"
          ]
        }
      ],
      "source": [
        "produto_procurado = input(\"Pesquise pelo nome do produto: \")\n",
        "\n",
        "produto_procurado = produto_procurado.lower()\n",
        "\n",
        "print(produto_procurado)"
      ]
    },
    {
      "cell_type": "code",
      "execution_count": null,
      "metadata": {
        "id": "bIbrbyAPqGw_"
      },
      "outputs": [],
      "source": [
        "lista_produtos.append(produto_procurado)"
      ]
    },
    {
      "cell_type": "code",
      "execution_count": null,
      "metadata": {
        "colab": {
          "base_uri": "https://localhost:8080/"
        },
        "id": "F7sso99eqZ3_",
        "outputId": "7d77c0c6-78c1-4926-c135-aa64709fdbeb"
      },
      "outputs": [
        {
          "name": "stdout",
          "output_type": "stream",
          "text": [
            "['iphone', 'airpod', 'ipad', 'macbook', 'apple watch']\n"
          ]
        }
      ],
      "source": [
        "print(lista_produtos)"
      ]
    },
    {
      "cell_type": "code",
      "execution_count": null,
      "metadata": {
        "id": "EqKOJOgaqdUA"
      },
      "outputs": [],
      "source": [
        "lista_produtos.remove(produto_procurado)"
      ]
    },
    {
      "cell_type": "code",
      "execution_count": null,
      "metadata": {
        "colab": {
          "base_uri": "https://localhost:8080/"
        },
        "id": "K4nk8rCiqicp",
        "outputId": "df502636-1e6c-4eaf-bd6f-065dd697518e"
      },
      "outputs": [
        {
          "name": "stdout",
          "output_type": "stream",
          "text": [
            "['iphone', 'airpod', 'ipad', 'macbook']\n"
          ]
        }
      ],
      "source": [
        "print(lista_produtos)"
      ]
    },
    {
      "cell_type": "code",
      "execution_count": null,
      "metadata": {
        "colab": {
          "base_uri": "https://localhost:8080/"
        },
        "id": "dKZz8in9qqtC",
        "outputId": "03dce1ca-2540-46c3-f54c-3c546a8b0e60"
      },
      "outputs": [
        {
          "name": "stdout",
          "output_type": "stream",
          "text": [
            "[100, 50, 14, 20, 30, 700]\n"
          ]
        }
      ],
      "source": [
        "print(vendas)"
      ]
    },
    {
      "cell_type": "code",
      "execution_count": null,
      "metadata": {
        "colab": {
          "base_uri": "https://localhost:8080/"
        },
        "id": "Kknoph8QqucO",
        "outputId": "f944edba-a686-40cd-f818-05ab3875739a"
      },
      "outputs": [
        {
          "name": "stdout",
          "output_type": "stream",
          "text": [
            "[100, 75.0, 14, 20, 30, 700]\n"
          ]
        }
      ],
      "source": [
        "vendas[1] = vendas[1] *1.5\n",
        "\n",
        "print(vendas)"
      ]
    },
    {
      "cell_type": "code",
      "execution_count": null,
      "metadata": {
        "colab": {
          "base_uri": "https://localhost:8080/"
        },
        "id": "D64LGclyrOuZ",
        "outputId": "11ddc616-b480-4dd1-de84-eefbef31f09c"
      },
      "outputs": [
        {
          "name": "stdout",
          "output_type": "stream",
          "text": [
            "['iphone', 'airpod', 'ipad', 'macbook']\n"
          ]
        }
      ],
      "source": [
        "print(lista_produtos)"
      ]
    },
    {
      "cell_type": "code",
      "execution_count": null,
      "metadata": {
        "colab": {
          "base_uri": "https://localhost:8080/"
        },
        "id": "xphw3AGrrXEV",
        "outputId": "542c59a8-5644-4e9c-e87f-50d3cf198960"
      },
      "outputs": [
        {
          "name": "stdout",
          "output_type": "stream",
          "text": [
            "['iphone', 'airpod', 'ipad', 'macbook', 'iphone']\n"
          ]
        }
      ],
      "source": [
        "lista_produtos.append(\"iphone\")\n",
        "\n",
        "print(lista_produtos)"
      ]
    },
    {
      "cell_type": "code",
      "execution_count": null,
      "metadata": {
        "colab": {
          "base_uri": "https://localhost:8080/"
        },
        "id": "9_rm5uxCrdJk",
        "outputId": "f5475703-b852-4e52-b6d7-b33a303728f5"
      },
      "outputs": [
        {
          "name": "stdout",
          "output_type": "stream",
          "text": [
            "2\n"
          ]
        }
      ],
      "source": [
        "print(lista_produtos.count(\"iphone\"))"
      ]
    },
    {
      "cell_type": "code",
      "execution_count": null,
      "metadata": {
        "colab": {
          "base_uri": "https://localhost:8080/"
        },
        "id": "UeLiKhKfrr1Y",
        "outputId": "82365890-7179-4e08-e070-6502ba72cf98"
      },
      "outputs": [
        {
          "name": "stdout",
          "output_type": "stream",
          "text": [
            "[700, 100, 75.0, 30, 20, 14]\n"
          ]
        }
      ],
      "source": [
        "#ordenar\n",
        "vendas.sort(reverse = True)\n",
        "\n",
        "print(vendas)\n"
      ]
    },
    {
      "cell_type": "markdown",
      "metadata": {
        "id": "VgVWnrlVtnXn"
      },
      "source": [
        "## Dict"
      ]
    },
    {
      "cell_type": "code",
      "execution_count": null,
      "metadata": {
        "colab": {
          "base_uri": "https://localhost:8080/"
        },
        "id": "WAF3l_O0tqC2",
        "outputId": "cfa12437-cf20-4bdb-b2fb-e1e65838e6bf"
      },
      "outputs": [
        {
          "name": "stdout",
          "output_type": "stream",
          "text": [
            "{'airpod': 2000, 'ipad': 9000, 'iphone': 9000, 'macbook': 11000}\n"
          ]
        }
      ],
      "source": [
        "dic_produtos = {\"airpod\": 2000, \"ipad\": 9000, \"iphone\": 9000, \"macbook\": 11000}\n",
        "\n",
        "print(dic_produtos)"
      ]
    },
    {
      "cell_type": "code",
      "execution_count": null,
      "metadata": {
        "colab": {
          "base_uri": "https://localhost:8080/"
        },
        "id": "3TnaaOP4t55p",
        "outputId": "99d03adb-2cd5-4a2a-8164-298e68196fd2"
      },
      "outputs": [
        {
          "name": "stdout",
          "output_type": "stream",
          "text": [
            "9000\n"
          ]
        }
      ],
      "source": [
        "# pegar um elementa\n",
        "\n",
        "print(dic_produtos[\"ipad\"])"
      ]
    },
    {
      "cell_type": "code",
      "execution_count": null,
      "metadata": {
        "colab": {
          "base_uri": "https://localhost:8080/"
        },
        "id": "2YEppwHouId2",
        "outputId": "9f567630-891f-4b2a-cafa-ffc72e55d975"
      },
      "outputs": [
        {
          "name": "stdout",
          "output_type": "stream",
          "text": [
            "{'airpod': 2000, 'ipad': 9000, 'iphone': 7800.0, 'macbook': 11000}\n"
          ]
        }
      ],
      "source": [
        "#editor um elemnto\n",
        "\n",
        "dic_produtos[\"iphone\"] = dic_produtos[\"iphone\"] * 1.3\n",
        "\n",
        "print(dic_produtos)"
      ]
    },
    {
      "cell_type": "code",
      "execution_count": null,
      "metadata": {
        "colab": {
          "base_uri": "https://localhost:8080/"
        },
        "id": "oFtDH2ChwI3e",
        "outputId": "afe96eed-b4c2-42c2-ba64-69bd54887de6"
      },
      "outputs": [
        {
          "name": "stdout",
          "output_type": "stream",
          "text": [
            "4\n"
          ]
        }
      ],
      "source": [
        "print(len(dic_produtos))"
      ]
    },
    {
      "cell_type": "code",
      "execution_count": null,
      "metadata": {
        "colab": {
          "base_uri": "https://localhost:8080/"
        },
        "id": "MxeZt1gGuaXR",
        "outputId": "771eb8e3-fd0c-4c74-e6c8-841a4a893870"
      },
      "outputs": [
        {
          "name": "stdout",
          "output_type": "stream",
          "text": [
            "Existe Produto\n"
          ]
        }
      ],
      "source": [
        "# verificar se um valor existe\n",
        "if 9000 in dic_produtos.values():\n",
        "   print(\"Existe Produto\")\n",
        "else:\n",
        "  print(\"Não Existe\")\n"
      ]
    },
    {
      "cell_type": "code",
      "execution_count": null,
      "metadata": {
        "colab": {
          "base_uri": "https://localhost:8080/"
        },
        "id": "aFDQN9osvJgH",
        "outputId": "920557b0-ab7e-4741-821d-3834537e5cdc"
      },
      "outputs": [
        {
          "name": "stdout",
          "output_type": "stream",
          "text": [
            "['ipad', 'iphone']\n"
          ]
        }
      ],
      "source": [
        "#https://www.geeksforgeeks.org/python-get-key-from-value-in-dictionary/\n",
        "\n",
        "produtos_encontrados = [produto for produto, preco in dic_produtos.items() if preco == 9000]\n",
        "\n",
        "print(produtos_encontrados)"
      ]
    },
    {
      "cell_type": "code",
      "execution_count": null,
      "metadata": {
        "colab": {
          "base_uri": "https://localhost:8080/"
        },
        "id": "ywSHhjWXwP_d",
        "outputId": "c24e34ce-e8ae-44ae-8e65-37a7d79a5029"
      },
      "outputs": [
        {
          "name": "stdout",
          "output_type": "stream",
          "text": [
            "{'ipad': 9000, 'iphone': 9000, 'macbook': 11000}\n"
          ]
        }
      ],
      "source": [
        "# retirar um item no dicionario\n",
        "\n",
        "dic_produtos.pop(\"airpod\")\n",
        "\n",
        "print(dic_produtos)"
      ]
    },
    {
      "cell_type": "code",
      "execution_count": null,
      "metadata": {
        "id": "kT65Sm6HweMC"
      },
      "outputs": [],
      "source": [
        "# adicionar um item no dicionario\n",
        "\n",
        "dic_produtos[\"airpod\"] = 2000"
      ]
    },
    {
      "cell_type": "code",
      "execution_count": null,
      "metadata": {
        "colab": {
          "base_uri": "https://localhost:8080/"
        },
        "id": "1f1_EpJgwpAq",
        "outputId": "f171907a-6728-4f53-b5c1-472a92267248"
      },
      "outputs": [
        {
          "name": "stdout",
          "output_type": "stream",
          "text": [
            "{'ipad': 9000, 'iphone': 9000, 'macbook': 11000, 'airpod': 2000}\n"
          ]
        }
      ],
      "source": [
        "print(dic_produtos)"
      ]
    },
    {
      "cell_type": "code",
      "execution_count": null,
      "metadata": {
        "colab": {
          "base_uri": "https://localhost:8080/"
        },
        "id": "bZGojHX0w2y9",
        "outputId": "71977cbb-2b6e-45a6-e6aa-2f1f51e24a6c"
      },
      "outputs": [
        {
          "name": "stdout",
          "output_type": "stream",
          "text": [
            "{'ipad': 9900.0, 'iphone': 9900.0, 'macbook': 12100.000000000002, 'airpod': 2200.0}\n"
          ]
        }
      ],
      "source": [
        "# aumentor em 10% o valor de todos os produtos\n",
        "\n",
        "for produto in dic_produtos:\n",
        "  novo_preco = dic_produtos[produto] * 1.1\n",
        "  dic_produtos[produto] = novo_preco\n",
        "\n",
        "print(dic_produtos)"
      ]
    },
    {
      "cell_type": "markdown",
      "metadata": {
        "id": "qkB9EXacyoZh"
      },
      "source": [
        "## If / Operator"
      ]
    },
    {
      "cell_type": "code",
      "execution_count": null,
      "metadata": {
        "id": "ViJOt19fyv2s"
      },
      "outputs": [],
      "source": [
        "# > maior que\n",
        "# < menor que\n",
        "# >= maior ou igual\n",
        "# <= menor ou igual\n",
        "# == igual\n",
        "# != diferente"
      ]
    },
    {
      "cell_type": "code",
      "execution_count": null,
      "metadata": {
        "id": "Nxlf5bk9y7W3"
      },
      "outputs": [],
      "source": [
        "vendas = 1500\n",
        "meta = 1300"
      ]
    },
    {
      "cell_type": "code",
      "execution_count": null,
      "metadata": {
        "colab": {
          "base_uri": "https://localhost:8080/"
        },
        "id": "rYKZT36TzFEy",
        "outputId": "783643cd-5789-473d-93b2-a3dc598bc02d"
      },
      "outputs": [
        {
          "name": "stdout",
          "output_type": "stream",
          "text": [
            "Vendedor ganha bonus\n"
          ]
        }
      ],
      "source": [
        "if vendas >= meta:\n",
        "  print(\"Vendedor ganha bonus\")\n",
        "else:\n",
        "  print(\"Vendedor nao ganhou bonus\")"
      ]
    },
    {
      "cell_type": "code",
      "execution_count": null,
      "metadata": {
        "colab": {
          "base_uri": "https://localhost:8080/"
        },
        "id": "St-yjMw00Mtp",
        "outputId": "42844fe8-20de-47bb-eb6f-a3f8d6595f6e"
      },
      "outputs": [
        {
          "name": "stdout",
          "output_type": "stream",
          "text": [
            "Vendedor ganha bonus\n",
            "Bonus do vendedor: 150.0\n"
          ]
        }
      ],
      "source": [
        "if vendas >= meta:\n",
        "  print(\"Vendedor ganha bonus\")\n",
        "  bonus = 0.1*vendas\n",
        "  print(f\"Bonus do vendedor: {bonus}\")\n",
        "else:\n",
        "  print(\"Vendedor nao ganhou bonus\")"
      ]
    },
    {
      "cell_type": "code",
      "execution_count": null,
      "metadata": {
        "colab": {
          "base_uri": "https://localhost:8080/"
        },
        "id": "1mzWnjMx0cn5",
        "outputId": "60f4f08d-ce31-4ee5-e523-19f1108321dc"
      },
      "outputs": [
        {
          "name": "stdout",
          "output_type": "stream",
          "text": [
            "bonus:  0\n"
          ]
        }
      ],
      "source": [
        "# 2 cenario\n",
        "\n",
        "vendas = 1900\n",
        "vendas_empresa = 1800\n",
        "meta_empresa = 2000\n",
        "meta1 = 1300 # ganhar 10%\n",
        "meta2 = 2000 # ganhar 13%\n",
        "\n",
        "if vendas >=2000 and vendas_empresa >= meta_empresa:\n",
        "   bonus = 0.13 * vendas\n",
        "elif vendas >= 1300 and vendas_empresa >= meta_empresa:\n",
        "   bonus = 0.1 * vendas\n",
        "else:\n",
        "   bonus = 0\n",
        "print(\"bonus: \", bonus)\n"
      ]
    }
  ],
  "metadata": {
    "colab": {
      "include_colab_link": true,
      "provenance": []
    },
    "kernelspec": {
      "display_name": "Python 3",
      "name": "python3"
    },
    "language_info": {
      "name": "python"
    }
  },
  "nbformat": 4,
  "nbformat_minor": 0
}
